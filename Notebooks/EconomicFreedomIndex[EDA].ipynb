{
 "cells": [
  {
   "attachments": {},
   "cell_type": "markdown",
   "metadata": {},
   "source": [
    "<p style=\"text-align: center; font-size: 100px; color: white; font-weight: bold;\">INDEX OF ECONOMIC FREEDOM</p>\n",
    "<center><img src=\"heritage.png\"></center>\n",
    "<center>[En línea: www.northafricapost.com]</center>\n",
    "<p style=\"text-align: center; color:white; font-size:50px;\">COMPLETE EDA AND MACHINE LEARNING MODEL</p>\n"
   ]
  },
  {
   "cell_type": "code",
   "execution_count": 18,
   "metadata": {},
   "outputs": [],
   "source": [
    "# librerias básicas\n",
    "import numpy as np \n",
    "import pandas as pd\n",
    "from math import sqrt\n",
    "\n",
    "# ML\n",
    "import sklearn as sklearn\n",
    "from sklearn.impute import KNNImputer\n",
    "from sklearn.preprocessing import StandardScaler\n",
    "from sklearn.linear_model import LinearRegression\n",
    "from sklearn.linear_model import Ridge\n",
    "from sklearn.linear_model import Lasso\n",
    "from sklearn.model_selection import train_test_split\n",
    "from sklearn.metrics import mean_absolute_error, mean_squared_error, mean_squared_log_error, r2_score, explained_variance_score, mean_absolute_percentage_error\n",
    "\n",
    "# importamos librerias graficación \n",
    "import plotly.express as px\n",
    "import plotly.graph_objects as go\n",
    "import plotly.io as pio\n",
    "from plotly.subplots import make_subplots\n",
    "pio.templates.default = 'plotly_dark'\n",
    "import folium\n",
    "\n",
    "# quitamos warnings que nos puedan aparecer en las celdas\n",
    "import warnings\n",
    "warnings.filterwarnings('ignore')\n",
    "\n",
    "# importamos librerias streamlit\n",
    "import streamlit as st\n",
    "import streamlit.components.v1 as components\n",
    "from PIL import Image\n",
    "import base64\n",
    "from streamlit.elements.utils import (check_callback_rules, check_session_state_rules, get_label_visibility_proto_value)\n",
    "from geopy.geocoders import Nominatim\n",
    "\n",
    "# translate \n",
    "from googletrans import Translator"
   ]
  },
  {
   "attachments": {},
   "cell_type": "markdown",
   "metadata": {},
   "source": [
    "<p style=\"color:white; font-size:40px;\">EDA</p>"
   ]
  },
  {
   "cell_type": "code",
   "execution_count": 19,
   "metadata": {},
   "outputs": [],
   "source": [
    "df = pd.read_csv('freedomeconomicindex.csv')"
   ]
  },
  {
   "attachments": {},
   "cell_type": "markdown",
   "metadata": {},
   "source": [
    "<p style=\"color:white; font-size:20px;\">Contexto y escenario del estudio </p>"
   ]
  },
  {
   "cell_type": "code",
   "execution_count": 20,
   "metadata": {},
   "outputs": [
    {
     "data": {
      "text/html": [
       "<div style=\"width:100%;\"><div style=\"position:relative;width:100%;height:0;padding-bottom:60%;\"><span style=\"color:#565656\">Make this Notebook Trusted to load map: File -> Trust Notebook</span><iframe srcdoc=\"&lt;!DOCTYPE html&gt;\n",
       "&lt;html&gt;\n",
       "&lt;head&gt;\n",
       "    \n",
       "    &lt;meta http-equiv=&quot;content-type&quot; content=&quot;text/html; charset=UTF-8&quot; /&gt;\n",
       "    \n",
       "        &lt;script&gt;\n",
       "            L_NO_TOUCH = false;\n",
       "            L_DISABLE_3D = false;\n",
       "        &lt;/script&gt;\n",
       "    \n",
       "    &lt;style&gt;html, body {width: 100%;height: 100%;margin: 0;padding: 0;}&lt;/style&gt;\n",
       "    &lt;style&gt;#map {position:absolute;top:0;bottom:0;right:0;left:0;}&lt;/style&gt;\n",
       "    &lt;script src=&quot;https://cdn.jsdelivr.net/npm/leaflet@1.9.3/dist/leaflet.js&quot;&gt;&lt;/script&gt;\n",
       "    &lt;script src=&quot;https://code.jquery.com/jquery-1.12.4.min.js&quot;&gt;&lt;/script&gt;\n",
       "    &lt;script src=&quot;https://cdn.jsdelivr.net/npm/bootstrap@5.2.2/dist/js/bootstrap.bundle.min.js&quot;&gt;&lt;/script&gt;\n",
       "    &lt;script src=&quot;https://cdnjs.cloudflare.com/ajax/libs/Leaflet.awesome-markers/2.0.2/leaflet.awesome-markers.js&quot;&gt;&lt;/script&gt;\n",
       "    &lt;link rel=&quot;stylesheet&quot; href=&quot;https://cdn.jsdelivr.net/npm/leaflet@1.9.3/dist/leaflet.css&quot;/&gt;\n",
       "    &lt;link rel=&quot;stylesheet&quot; href=&quot;https://cdn.jsdelivr.net/npm/bootstrap@5.2.2/dist/css/bootstrap.min.css&quot;/&gt;\n",
       "    &lt;link rel=&quot;stylesheet&quot; href=&quot;https://netdna.bootstrapcdn.com/bootstrap/3.0.0/css/bootstrap.min.css&quot;/&gt;\n",
       "    &lt;link rel=&quot;stylesheet&quot; href=&quot;https://cdn.jsdelivr.net/npm/@fortawesome/fontawesome-free@6.2.0/css/all.min.css&quot;/&gt;\n",
       "    &lt;link rel=&quot;stylesheet&quot; href=&quot;https://cdnjs.cloudflare.com/ajax/libs/Leaflet.awesome-markers/2.0.2/leaflet.awesome-markers.css&quot;/&gt;\n",
       "    &lt;link rel=&quot;stylesheet&quot; href=&quot;https://cdn.jsdelivr.net/gh/python-visualization/folium/folium/templates/leaflet.awesome.rotate.min.css&quot;/&gt;\n",
       "    \n",
       "            &lt;meta name=&quot;viewport&quot; content=&quot;width=device-width,\n",
       "                initial-scale=1.0, maximum-scale=1.0, user-scalable=no&quot; /&gt;\n",
       "            &lt;style&gt;\n",
       "                #map_edb454250d257444ca1ad9e2358c42b7 {\n",
       "                    position: relative;\n",
       "                    width: 100.0%;\n",
       "                    height: 100.0%;\n",
       "                    left: 0.0%;\n",
       "                    top: 0.0%;\n",
       "                }\n",
       "                .leaflet-container { font-size: 1rem; }\n",
       "            &lt;/style&gt;\n",
       "        \n",
       "&lt;/head&gt;\n",
       "&lt;body&gt;\n",
       "    \n",
       "    \n",
       "            &lt;div class=&quot;folium-map&quot; id=&quot;map_edb454250d257444ca1ad9e2358c42b7&quot; &gt;&lt;/div&gt;\n",
       "        \n",
       "&lt;/body&gt;\n",
       "&lt;script&gt;\n",
       "    \n",
       "    \n",
       "            var map_edb454250d257444ca1ad9e2358c42b7 = L.map(\n",
       "                &quot;map_edb454250d257444ca1ad9e2358c42b7&quot;,\n",
       "                {\n",
       "                    center: [33.93911, 67.709953],\n",
       "                    crs: L.CRS.EPSG3857,\n",
       "                    zoom: 4,\n",
       "                    zoomControl: true,\n",
       "                    preferCanvas: false,\n",
       "                }\n",
       "            );\n",
       "\n",
       "            \n",
       "\n",
       "        \n",
       "    \n",
       "            var tile_layer_7d3f09020a6b33655f51fddcbeafe4cd = L.tileLayer(\n",
       "                &quot;https://stamen-tiles-{s}.a.ssl.fastly.net/terrain/{z}/{x}/{y}.jpg&quot;,\n",
       "                {&quot;attribution&quot;: &quot;Map tiles by \\u003ca target=\\&quot;_blank\\&quot; href=\\&quot;http://stamen.com\\&quot;\\u003eStamen Design\\u003c/a\\u003e, under \\u003ca target=\\&quot;_blank\\&quot; href=\\&quot;http://creativecommons.org/licenses/by/3.0\\&quot;\\u003eCC BY 3.0\\u003c/a\\u003e. Data by \\u0026copy; \\u003ca target=\\&quot;_blank\\&quot; href=\\&quot;http://openstreetmap.org\\&quot;\\u003eOpenStreetMap\\u003c/a\\u003e, under \\u003ca target=\\&quot;_blank\\&quot; href=\\&quot;http://creativecommons.org/licenses/by-sa/3.0\\&quot;\\u003eCC BY SA\\u003c/a\\u003e.&quot;, &quot;detectRetina&quot;: false, &quot;maxNativeZoom&quot;: 18, &quot;maxZoom&quot;: 18, &quot;minZoom&quot;: 0, &quot;noWrap&quot;: false, &quot;opacity&quot;: 1, &quot;subdomains&quot;: &quot;abc&quot;, &quot;tms&quot;: false}\n",
       "            ).addTo(map_edb454250d257444ca1ad9e2358c42b7);\n",
       "        \n",
       "    \n",
       "            var marker_78fb7371db20f5032d0e49692928e95f = L.marker(\n",
       "                [33.93911, 67.709953],\n",
       "                {}\n",
       "            ).addTo(map_edb454250d257444ca1ad9e2358c42b7);\n",
       "        \n",
       "    \n",
       "            var marker_8383ab1456a3af08fe8f61fe2a9375e1 = L.marker(\n",
       "                [41.153332, 20.168331],\n",
       "                {}\n",
       "            ).addTo(map_edb454250d257444ca1ad9e2358c42b7);\n",
       "        \n",
       "    \n",
       "            var marker_c208737e1de224663530ffe45c5a773d = L.marker(\n",
       "                [28.033886, 1.659626],\n",
       "                {}\n",
       "            ).addTo(map_edb454250d257444ca1ad9e2358c42b7);\n",
       "        \n",
       "    \n",
       "            var marker_75e19c60bd5bcc466aaa961f2e4cb94b = L.marker(\n",
       "                [-11.202692, 17.873887],\n",
       "                {}\n",
       "            ).addTo(map_edb454250d257444ca1ad9e2358c42b7);\n",
       "        \n",
       "    \n",
       "            var marker_1121f9067dac158296064645d7a5f536 = L.marker(\n",
       "                [-38.416097, -63.616672],\n",
       "                {}\n",
       "            ).addTo(map_edb454250d257444ca1ad9e2358c42b7);\n",
       "        \n",
       "    \n",
       "            var marker_5fbb415823e35e80eedeae0eedf0763a = L.marker(\n",
       "                [40.069099, 45.038189],\n",
       "                {}\n",
       "            ).addTo(map_edb454250d257444ca1ad9e2358c42b7);\n",
       "        \n",
       "    \n",
       "            var marker_aa65220bc40ce0b7c9b82b146323d54c = L.marker(\n",
       "                [-25.274398, 133.775136],\n",
       "                {}\n",
       "            ).addTo(map_edb454250d257444ca1ad9e2358c42b7);\n",
       "        \n",
       "    \n",
       "            var marker_845d3795da40bc06ecb5a3ef74dc1528 = L.marker(\n",
       "                [47.516231, 14.550072],\n",
       "                {}\n",
       "            ).addTo(map_edb454250d257444ca1ad9e2358c42b7);\n",
       "        \n",
       "    \n",
       "            var marker_81c67c0eefd3f82679139a7044b073db = L.marker(\n",
       "                [40.143105, 47.576927],\n",
       "                {}\n",
       "            ).addTo(map_edb454250d257444ca1ad9e2358c42b7);\n",
       "        \n",
       "    \n",
       "            var marker_364f28d01ce8e8c5a4a8ab4098286ef2 = L.marker(\n",
       "                [25.03428, -77.39628],\n",
       "                {}\n",
       "            ).addTo(map_edb454250d257444ca1ad9e2358c42b7);\n",
       "        \n",
       "    \n",
       "            var marker_189ed23e4e693a45433acdb539752718 = L.marker(\n",
       "                [25.930414, 50.637772],\n",
       "                {}\n",
       "            ).addTo(map_edb454250d257444ca1ad9e2358c42b7);\n",
       "        \n",
       "    \n",
       "            var marker_196957de8667b0e05a32c15c16d92fdd = L.marker(\n",
       "                [23.684994, 90.356331],\n",
       "                {}\n",
       "            ).addTo(map_edb454250d257444ca1ad9e2358c42b7);\n",
       "        \n",
       "    \n",
       "            var marker_b6332a2ca272be4f212881cbed7b6408 = L.marker(\n",
       "                [13.193887, -59.543198],\n",
       "                {}\n",
       "            ).addTo(map_edb454250d257444ca1ad9e2358c42b7);\n",
       "        \n",
       "    \n",
       "            var marker_f0bf43513a32e007c8faa29b9c5adc99 = L.marker(\n",
       "                [53.709807, 27.953389],\n",
       "                {}\n",
       "            ).addTo(map_edb454250d257444ca1ad9e2358c42b7);\n",
       "        \n",
       "    \n",
       "            var marker_55941cf7047c1ee56eef408bca7c9a22 = L.marker(\n",
       "                [50.503887, 4.469936],\n",
       "                {}\n",
       "            ).addTo(map_edb454250d257444ca1ad9e2358c42b7);\n",
       "        \n",
       "    \n",
       "            var marker_42c1122c69364efe6dcfbbcf40564966 = L.marker(\n",
       "                [17.189877, -88.49765],\n",
       "                {}\n",
       "            ).addTo(map_edb454250d257444ca1ad9e2358c42b7);\n",
       "        \n",
       "    \n",
       "            var marker_2a9049a8129f74d5b021b713b20699ab = L.marker(\n",
       "                [9.30769, 2.315834],\n",
       "                {}\n",
       "            ).addTo(map_edb454250d257444ca1ad9e2358c42b7);\n",
       "        \n",
       "    \n",
       "            var marker_e3532b4a50eebeb927ec16e5dbb77f50 = L.marker(\n",
       "                [27.514162, 90.433601],\n",
       "                {}\n",
       "            ).addTo(map_edb454250d257444ca1ad9e2358c42b7);\n",
       "        \n",
       "    \n",
       "            var marker_1cf8e95812389d2d302d295f91e46931 = L.marker(\n",
       "                [-16.290154, -63.588653],\n",
       "                {}\n",
       "            ).addTo(map_edb454250d257444ca1ad9e2358c42b7);\n",
       "        \n",
       "    \n",
       "            var marker_07791e2b1f36c75e7ff3f3d2740731cd = L.marker(\n",
       "                [43.915886, 17.679076],\n",
       "                {}\n",
       "            ).addTo(map_edb454250d257444ca1ad9e2358c42b7);\n",
       "        \n",
       "    \n",
       "            var marker_1468855fc797e80dd06476a73457e87c = L.marker(\n",
       "                [-22.328474, 24.684866],\n",
       "                {}\n",
       "            ).addTo(map_edb454250d257444ca1ad9e2358c42b7);\n",
       "        \n",
       "    \n",
       "            var marker_473e1430ccd94e81768cf8508570ed32 = L.marker(\n",
       "                [-14.235004, -51.92528],\n",
       "                {}\n",
       "            ).addTo(map_edb454250d257444ca1ad9e2358c42b7);\n",
       "        \n",
       "    \n",
       "            var marker_ea6c1ac78412baa74b9cb18f5c645a9f = L.marker(\n",
       "                [4.535277, 114.727669],\n",
       "                {}\n",
       "            ).addTo(map_edb454250d257444ca1ad9e2358c42b7);\n",
       "        \n",
       "    \n",
       "            var marker_a11459d0bac96df65aada10098794b2e = L.marker(\n",
       "                [42.733883, 25.48583],\n",
       "                {}\n",
       "            ).addTo(map_edb454250d257444ca1ad9e2358c42b7);\n",
       "        \n",
       "    \n",
       "            var marker_d3201d3bb1345882cacfa76da18414f1 = L.marker(\n",
       "                [12.238333, -1.561593],\n",
       "                {}\n",
       "            ).addTo(map_edb454250d257444ca1ad9e2358c42b7);\n",
       "        \n",
       "    \n",
       "            var marker_34ae6731014cc5528e51ce4758da779d = L.marker(\n",
       "                [21.913965, 95.956223],\n",
       "                {}\n",
       "            ).addTo(map_edb454250d257444ca1ad9e2358c42b7);\n",
       "        \n",
       "    \n",
       "            var marker_1c06a154770df64ea69012e42684d953 = L.marker(\n",
       "                [-3.373056, 29.918886],\n",
       "                {}\n",
       "            ).addTo(map_edb454250d257444ca1ad9e2358c42b7);\n",
       "        \n",
       "    \n",
       "            var marker_353e12b435787245b61b4237b47be094 = L.marker(\n",
       "                [12.565679, 104.990963],\n",
       "                {}\n",
       "            ).addTo(map_edb454250d257444ca1ad9e2358c42b7);\n",
       "        \n",
       "    \n",
       "            var marker_bee4f380ca3a37e18a2a33ae396171ca = L.marker(\n",
       "                [7.369722, 12.354722],\n",
       "                {}\n",
       "            ).addTo(map_edb454250d257444ca1ad9e2358c42b7);\n",
       "        \n",
       "    \n",
       "            var marker_e8991f17f0385e89e90b304838cc914b = L.marker(\n",
       "                [56.130366, -106.346771],\n",
       "                {}\n",
       "            ).addTo(map_edb454250d257444ca1ad9e2358c42b7);\n",
       "        \n",
       "    \n",
       "            var marker_8b679a69345ca543d561c3fa9ea99544 = L.marker(\n",
       "                [16.002082, -24.013197],\n",
       "                {}\n",
       "            ).addTo(map_edb454250d257444ca1ad9e2358c42b7);\n",
       "        \n",
       "    \n",
       "            var marker_e17606131316f9739841c4d6a0ef6596 = L.marker(\n",
       "                [6.611111, 20.939444],\n",
       "                {}\n",
       "            ).addTo(map_edb454250d257444ca1ad9e2358c42b7);\n",
       "        \n",
       "    \n",
       "            var marker_c962d8e704c1f788f32a8ba21482531e = L.marker(\n",
       "                [15.454166, 18.732207],\n",
       "                {}\n",
       "            ).addTo(map_edb454250d257444ca1ad9e2358c42b7);\n",
       "        \n",
       "    \n",
       "            var marker_96e1850712c37ac31bdc1c72189dc5cd = L.marker(\n",
       "                [-35.675147, -71.542969],\n",
       "                {}\n",
       "            ).addTo(map_edb454250d257444ca1ad9e2358c42b7);\n",
       "        \n",
       "    \n",
       "            var marker_71ec8b73cfd1b5b39f20b9f6edeae47f = L.marker(\n",
       "                [35.86166, 104.195397],\n",
       "                {}\n",
       "            ).addTo(map_edb454250d257444ca1ad9e2358c42b7);\n",
       "        \n",
       "    \n",
       "            var marker_0ae2d225dc734f7ffcd4ebc122b47133 = L.marker(\n",
       "                [4.570868, -74.297333],\n",
       "                {}\n",
       "            ).addTo(map_edb454250d257444ca1ad9e2358c42b7);\n",
       "        \n",
       "    \n",
       "            var marker_e4224463eac611da10144b8356fe01ee = L.marker(\n",
       "                [-11.875001, 43.872219],\n",
       "                {}\n",
       "            ).addTo(map_edb454250d257444ca1ad9e2358c42b7);\n",
       "        \n",
       "    \n",
       "            var marker_588c181cc4509cdc78c3c75eb2ecda57 = L.marker(\n",
       "                [-0.228021, 15.827659],\n",
       "                {}\n",
       "            ).addTo(map_edb454250d257444ca1ad9e2358c42b7);\n",
       "        \n",
       "    \n",
       "            var marker_26f8443df5d2e29138a5a75286f247ae = L.marker(\n",
       "                [-4.038333, 21.758664],\n",
       "                {}\n",
       "            ).addTo(map_edb454250d257444ca1ad9e2358c42b7);\n",
       "        \n",
       "    \n",
       "            var marker_18b51c720550449649675820864d7400 = L.marker(\n",
       "                [9.748917, -83.753428],\n",
       "                {}\n",
       "            ).addTo(map_edb454250d257444ca1ad9e2358c42b7);\n",
       "        \n",
       "    \n",
       "            var marker_a4b9e1899a02d09daacbaf5e2e529850 = L.marker(\n",
       "                [7.539989, -5.54708],\n",
       "                {}\n",
       "            ).addTo(map_edb454250d257444ca1ad9e2358c42b7);\n",
       "        \n",
       "    \n",
       "            var marker_ff3323990c1256762bb1af458bab829c = L.marker(\n",
       "                [45.1667, 15.5],\n",
       "                {}\n",
       "            ).addTo(map_edb454250d257444ca1ad9e2358c42b7);\n",
       "        \n",
       "    \n",
       "            var marker_33519fdf2c05cc816bcde1a6e6d59858 = L.marker(\n",
       "                [21.521757, -77.781167],\n",
       "                {}\n",
       "            ).addTo(map_edb454250d257444ca1ad9e2358c42b7);\n",
       "        \n",
       "    \n",
       "            var marker_005db16897422d3b0315297a1fe67a3d = L.marker(\n",
       "                [35.126413, 33.429859],\n",
       "                {}\n",
       "            ).addTo(map_edb454250d257444ca1ad9e2358c42b7);\n",
       "        \n",
       "    \n",
       "            var marker_9222f414b906782e3fef36f46a27daa3 = L.marker(\n",
       "                [49.817492, 15.472962],\n",
       "                {}\n",
       "            ).addTo(map_edb454250d257444ca1ad9e2358c42b7);\n",
       "        \n",
       "    \n",
       "            var marker_760b51ded36be93a81cacad1f2dcd4cd = L.marker(\n",
       "                [56.26392, 9.501785],\n",
       "                {}\n",
       "            ).addTo(map_edb454250d257444ca1ad9e2358c42b7);\n",
       "        \n",
       "    \n",
       "            var marker_ad8a18e8f325e460cb9ce26faf72166a = L.marker(\n",
       "                [11.825138, 42.590275],\n",
       "                {}\n",
       "            ).addTo(map_edb454250d257444ca1ad9e2358c42b7);\n",
       "        \n",
       "    \n",
       "            var marker_cbaf9e2d34256b85f27b86877ce2fefb = L.marker(\n",
       "                [15.414999, -61.370976],\n",
       "                {}\n",
       "            ).addTo(map_edb454250d257444ca1ad9e2358c42b7);\n",
       "        \n",
       "    \n",
       "            var marker_c104364c8dd7d7d2c14ccb4a734fdebc = L.marker(\n",
       "                [18.735693, -70.162651],\n",
       "                {}\n",
       "            ).addTo(map_edb454250d257444ca1ad9e2358c42b7);\n",
       "        \n",
       "    \n",
       "            var marker_f5ca5980c59bbc78f267e064c126fa73 = L.marker(\n",
       "                [-1.831239, -78.183406],\n",
       "                {}\n",
       "            ).addTo(map_edb454250d257444ca1ad9e2358c42b7);\n",
       "        \n",
       "    \n",
       "            var marker_ee94d0481dc6344ad06c59c03bae1f0f = L.marker(\n",
       "                [26.820553, 30.802498],\n",
       "                {}\n",
       "            ).addTo(map_edb454250d257444ca1ad9e2358c42b7);\n",
       "        \n",
       "    \n",
       "            var marker_95c4a01484c26c77645dfbc350b6a693 = L.marker(\n",
       "                [13.794185, -88.89653],\n",
       "                {}\n",
       "            ).addTo(map_edb454250d257444ca1ad9e2358c42b7);\n",
       "        \n",
       "    \n",
       "            var marker_4d12dcd4c8e0552766cbcf0f54213cf2 = L.marker(\n",
       "                [1.650801, 10.267895],\n",
       "                {}\n",
       "            ).addTo(map_edb454250d257444ca1ad9e2358c42b7);\n",
       "        \n",
       "    \n",
       "            var marker_2d24ed7047d198d3bc7af97f84ae123a = L.marker(\n",
       "                [15.179384, 39.782334],\n",
       "                {}\n",
       "            ).addTo(map_edb454250d257444ca1ad9e2358c42b7);\n",
       "        \n",
       "    \n",
       "            var marker_b33e23b162a0f5c5eed57e0af9ef0480 = L.marker(\n",
       "                [58.595272, 25.013607],\n",
       "                {}\n",
       "            ).addTo(map_edb454250d257444ca1ad9e2358c42b7);\n",
       "        \n",
       "    \n",
       "            var marker_357ebd646e2c1c699b43476b5f76a70b = L.marker(\n",
       "                [-26.522503, 31.465866],\n",
       "                {}\n",
       "            ).addTo(map_edb454250d257444ca1ad9e2358c42b7);\n",
       "        \n",
       "    \n",
       "            var marker_128123877272d7581d2ca2ad700daae2 = L.marker(\n",
       "                [9.145, 40.489673],\n",
       "                {}\n",
       "            ).addTo(map_edb454250d257444ca1ad9e2358c42b7);\n",
       "        \n",
       "    \n",
       "            var marker_0b30e77be4c6f78a64ad3ffdb0226c91 = L.marker(\n",
       "                [-16.578193, 179.414413],\n",
       "                {}\n",
       "            ).addTo(map_edb454250d257444ca1ad9e2358c42b7);\n",
       "        \n",
       "    \n",
       "            var marker_de16a1fc50604b1aa845e5d69b1dcaf4 = L.marker(\n",
       "                [61.92411, 25.748151],\n",
       "                {}\n",
       "            ).addTo(map_edb454250d257444ca1ad9e2358c42b7);\n",
       "        \n",
       "    \n",
       "            var marker_2031635785a3af0c5b85c0466dd1b3e7 = L.marker(\n",
       "                [46.227638, 2.213749],\n",
       "                {}\n",
       "            ).addTo(map_edb454250d257444ca1ad9e2358c42b7);\n",
       "        \n",
       "    \n",
       "            var marker_eddfbe637016c8136e9191e0ca4da211 = L.marker(\n",
       "                [-0.803689, 11.609444],\n",
       "                {}\n",
       "            ).addTo(map_edb454250d257444ca1ad9e2358c42b7);\n",
       "        \n",
       "    \n",
       "            var marker_86ab06fcb55fbe42e956c8cf87d115a6 = L.marker(\n",
       "                [13.443182, -15.310139],\n",
       "                {}\n",
       "            ).addTo(map_edb454250d257444ca1ad9e2358c42b7);\n",
       "        \n",
       "    \n",
       "            var marker_e40cbdae437b3d1c3746314407983903 = L.marker(\n",
       "                [42.315407, 43.356892],\n",
       "                {}\n",
       "            ).addTo(map_edb454250d257444ca1ad9e2358c42b7);\n",
       "        \n",
       "    \n",
       "            var marker_e2a2b2d1b12475438b7097b29efbeb99 = L.marker(\n",
       "                [51.165691, 10.451526],\n",
       "                {}\n",
       "            ).addTo(map_edb454250d257444ca1ad9e2358c42b7);\n",
       "        \n",
       "    \n",
       "            var marker_33a248d801a5fdc13eff6ea36eaa2ab7 = L.marker(\n",
       "                [7.946527, -1.023194],\n",
       "                {}\n",
       "            ).addTo(map_edb454250d257444ca1ad9e2358c42b7);\n",
       "        \n",
       "    \n",
       "            var marker_dbb44c576e92b936ee3ae767af9dd7da = L.marker(\n",
       "                [39.074208, 21.824312],\n",
       "                {}\n",
       "            ).addTo(map_edb454250d257444ca1ad9e2358c42b7);\n",
       "        \n",
       "    \n",
       "            var marker_fb6e7529ffd889ab5be85623afce10b7 = L.marker(\n",
       "                [15.783471, -90.230759],\n",
       "                {}\n",
       "            ).addTo(map_edb454250d257444ca1ad9e2358c42b7);\n",
       "        \n",
       "    \n",
       "            var marker_0b1fc3301531c50041a85d6c0d8130a6 = L.marker(\n",
       "                [9.945587, -9.696645],\n",
       "                {}\n",
       "            ).addTo(map_edb454250d257444ca1ad9e2358c42b7);\n",
       "        \n",
       "    \n",
       "            var marker_e1ea29b11b1257dfc5217b316ccad1d7 = L.marker(\n",
       "                [11.803749, -15.180413],\n",
       "                {}\n",
       "            ).addTo(map_edb454250d257444ca1ad9e2358c42b7);\n",
       "        \n",
       "    \n",
       "            var marker_acf9c64ea306b124ed7300477863a594 = L.marker(\n",
       "                [4.860416, -58.93018],\n",
       "                {}\n",
       "            ).addTo(map_edb454250d257444ca1ad9e2358c42b7);\n",
       "        \n",
       "    \n",
       "            var marker_fdaf153fa66bc68c0e01b28c9ba3dfc0 = L.marker(\n",
       "                [18.971187, -72.285215],\n",
       "                {}\n",
       "            ).addTo(map_edb454250d257444ca1ad9e2358c42b7);\n",
       "        \n",
       "    \n",
       "            var marker_10f4a7428825389570c8d84e756e7c61 = L.marker(\n",
       "                [15.199999, -86.241905],\n",
       "                {}\n",
       "            ).addTo(map_edb454250d257444ca1ad9e2358c42b7);\n",
       "        \n",
       "    \n",
       "            var marker_6d65248f12d114271269b50caf117f04 = L.marker(\n",
       "                [22.396428, 114.109497],\n",
       "                {}\n",
       "            ).addTo(map_edb454250d257444ca1ad9e2358c42b7);\n",
       "        \n",
       "    \n",
       "            var marker_44e8e14f216aecde2423762c2c48dbc0 = L.marker(\n",
       "                [47.162494, 19.503304],\n",
       "                {}\n",
       "            ).addTo(map_edb454250d257444ca1ad9e2358c42b7);\n",
       "        \n",
       "    \n",
       "            var marker_63900ddbe38a25d678cfe54a270808de = L.marker(\n",
       "                [64.963051, -19.020835],\n",
       "                {}\n",
       "            ).addTo(map_edb454250d257444ca1ad9e2358c42b7);\n",
       "        \n",
       "    \n",
       "            var marker_eda2bd28988ada0598c6cb5678b72125 = L.marker(\n",
       "                [20.593684, 78.96288],\n",
       "                {}\n",
       "            ).addTo(map_edb454250d257444ca1ad9e2358c42b7);\n",
       "        \n",
       "    \n",
       "            var marker_5d5cd0f0374940d75407812be0151234 = L.marker(\n",
       "                [-0.789275, 113.921327],\n",
       "                {}\n",
       "            ).addTo(map_edb454250d257444ca1ad9e2358c42b7);\n",
       "        \n",
       "    \n",
       "            var marker_92e9f7bebc392591cd2db26b37e460b6 = L.marker(\n",
       "                [32.427908, 53.688046],\n",
       "                {}\n",
       "            ).addTo(map_edb454250d257444ca1ad9e2358c42b7);\n",
       "        \n",
       "    \n",
       "            var marker_4e76583f5091e3ba4a8587b357c2d471 = L.marker(\n",
       "                [33.223191, 43.679291],\n",
       "                {}\n",
       "            ).addTo(map_edb454250d257444ca1ad9e2358c42b7);\n",
       "        \n",
       "    \n",
       "            var marker_ea551a5d7b3ca41c86878733eed38632 = L.marker(\n",
       "                [53.41291, -8.24389],\n",
       "                {}\n",
       "            ).addTo(map_edb454250d257444ca1ad9e2358c42b7);\n",
       "        \n",
       "    \n",
       "            var marker_2754d4736aef65a16ccf7863dbc29f1a = L.marker(\n",
       "                [31.046051, 34.851612],\n",
       "                {}\n",
       "            ).addTo(map_edb454250d257444ca1ad9e2358c42b7);\n",
       "        \n",
       "    \n",
       "            var marker_c4f4179614426c4077763aef63b786f7 = L.marker(\n",
       "                [41.87194, 12.56738],\n",
       "                {}\n",
       "            ).addTo(map_edb454250d257444ca1ad9e2358c42b7);\n",
       "        \n",
       "    \n",
       "            var marker_667cb76590eb830f3f30709dec0c8b45 = L.marker(\n",
       "                [18.109581, -77.297508],\n",
       "                {}\n",
       "            ).addTo(map_edb454250d257444ca1ad9e2358c42b7);\n",
       "        \n",
       "    \n",
       "            var marker_c84933f51648aac6c7b1c8085df0e6de = L.marker(\n",
       "                [36.204824, 138.252924],\n",
       "                {}\n",
       "            ).addTo(map_edb454250d257444ca1ad9e2358c42b7);\n",
       "        \n",
       "    \n",
       "            var marker_98e3ed19ddb1ac9f85c2a7aa037e880c = L.marker(\n",
       "                [30.585164, 36.238414],\n",
       "                {}\n",
       "            ).addTo(map_edb454250d257444ca1ad9e2358c42b7);\n",
       "        \n",
       "    \n",
       "            var marker_89bebc7e5e5669c96c3a8120d0413e83 = L.marker(\n",
       "                [48.019573, 66.923684],\n",
       "                {}\n",
       "            ).addTo(map_edb454250d257444ca1ad9e2358c42b7);\n",
       "        \n",
       "    \n",
       "            var marker_e5f4190a0abbb1fa69d4cc870421d4a7 = L.marker(\n",
       "                [-0.023559, 37.906193],\n",
       "                {}\n",
       "            ).addTo(map_edb454250d257444ca1ad9e2358c42b7);\n",
       "        \n",
       "    \n",
       "            var marker_f5c6b54952656ce9c0ebfc03c5fbd380 = L.marker(\n",
       "                [-3.370417, -168.734039],\n",
       "                {}\n",
       "            ).addTo(map_edb454250d257444ca1ad9e2358c42b7);\n",
       "        \n",
       "    \n",
       "            var marker_ad7774cf682ccd01eb2f1f4b24bfea40 = L.marker(\n",
       "                [40.339852, 127.510093],\n",
       "                {}\n",
       "            ).addTo(map_edb454250d257444ca1ad9e2358c42b7);\n",
       "        \n",
       "    \n",
       "            var marker_0d001736dfb9beb83e227122caed0bc5 = L.marker(\n",
       "                [35.907757, 127.766922],\n",
       "                {}\n",
       "            ).addTo(map_edb454250d257444ca1ad9e2358c42b7);\n",
       "        \n",
       "    \n",
       "            var marker_27e4782f5187c519744e6af38fdba4f9 = L.marker(\n",
       "                [42.602636, 20.902977],\n",
       "                {}\n",
       "            ).addTo(map_edb454250d257444ca1ad9e2358c42b7);\n",
       "        \n",
       "    \n",
       "            var marker_f7d31f181a567b17d7e6a1cea90f9fa3 = L.marker(\n",
       "                [29.31166, 47.481766],\n",
       "                {}\n",
       "            ).addTo(map_edb454250d257444ca1ad9e2358c42b7);\n",
       "        \n",
       "    \n",
       "            var marker_31788bc37122bb01e48e8f91c3417c0d = L.marker(\n",
       "                [41.20438, 74.766098],\n",
       "                {}\n",
       "            ).addTo(map_edb454250d257444ca1ad9e2358c42b7);\n",
       "        \n",
       "    \n",
       "            var marker_17253136d6b8562853d507632d466204 = L.marker(\n",
       "                [19.85627, 102.495496],\n",
       "                {}\n",
       "            ).addTo(map_edb454250d257444ca1ad9e2358c42b7);\n",
       "        \n",
       "    \n",
       "            var marker_8a327fe79d9f2bf95a21b06476336fab = L.marker(\n",
       "                [56.879635, 24.603189],\n",
       "                {}\n",
       "            ).addTo(map_edb454250d257444ca1ad9e2358c42b7);\n",
       "        \n",
       "    \n",
       "            var marker_a9a5172b6a04de0036be53d0f381231a = L.marker(\n",
       "                [33.854721, 35.862285],\n",
       "                {}\n",
       "            ).addTo(map_edb454250d257444ca1ad9e2358c42b7);\n",
       "        \n",
       "    \n",
       "            var marker_c8ef55627d859e5745162c27a02e17b3 = L.marker(\n",
       "                [-29.609988, 28.233608],\n",
       "                {}\n",
       "            ).addTo(map_edb454250d257444ca1ad9e2358c42b7);\n",
       "        \n",
       "    \n",
       "            var marker_56e18a16d61b0375a47a1c43fa16f8aa = L.marker(\n",
       "                [6.428055, -9.429499],\n",
       "                {}\n",
       "            ).addTo(map_edb454250d257444ca1ad9e2358c42b7);\n",
       "        \n",
       "    \n",
       "            var marker_dd69a986764243ee66f628ca5f2fb840 = L.marker(\n",
       "                [26.3351, 17.228331],\n",
       "                {}\n",
       "            ).addTo(map_edb454250d257444ca1ad9e2358c42b7);\n",
       "        \n",
       "    \n",
       "            var marker_454ffc1cac55ba4f6696e1431dde73f5 = L.marker(\n",
       "                [47.166, 9.555373],\n",
       "                {}\n",
       "            ).addTo(map_edb454250d257444ca1ad9e2358c42b7);\n",
       "        \n",
       "    \n",
       "            var marker_ce5dc0b1cdcd8c346654548e3076785e = L.marker(\n",
       "                [55.169438, 23.881275],\n",
       "                {}\n",
       "            ).addTo(map_edb454250d257444ca1ad9e2358c42b7);\n",
       "        \n",
       "    \n",
       "            var marker_f8e7b1057ad9919d71ec35b7c3ec48f7 = L.marker(\n",
       "                [49.815273, 6.129583],\n",
       "                {}\n",
       "            ).addTo(map_edb454250d257444ca1ad9e2358c42b7);\n",
       "        \n",
       "    \n",
       "            var marker_08131fb9b200af0de62747baaba55f2d = L.marker(\n",
       "                [22.198745, 113.543873],\n",
       "                {}\n",
       "            ).addTo(map_edb454250d257444ca1ad9e2358c42b7);\n",
       "        \n",
       "    \n",
       "            var marker_06a44994497ffe51905afb940ce24deb = L.marker(\n",
       "                [41.608635, 21.745275],\n",
       "                {}\n",
       "            ).addTo(map_edb454250d257444ca1ad9e2358c42b7);\n",
       "        \n",
       "    \n",
       "            var marker_070476ee7acfad151af69888de2dbd70 = L.marker(\n",
       "                [-18.766947, 46.869107],\n",
       "                {}\n",
       "            ).addTo(map_edb454250d257444ca1ad9e2358c42b7);\n",
       "        \n",
       "    \n",
       "            var marker_5b928bd9b9069a6fa599c111b82bfeef = L.marker(\n",
       "                [-13.254308, 34.301525],\n",
       "                {}\n",
       "            ).addTo(map_edb454250d257444ca1ad9e2358c42b7);\n",
       "        \n",
       "    \n",
       "            var marker_db2216da1480a511af344e3073f8d472 = L.marker(\n",
       "                [4.210484, 101.975766],\n",
       "                {}\n",
       "            ).addTo(map_edb454250d257444ca1ad9e2358c42b7);\n",
       "        \n",
       "    \n",
       "            var marker_8806e015623e44c113861e5f459bceb5 = L.marker(\n",
       "                [3.202778, 73.22068],\n",
       "                {}\n",
       "            ).addTo(map_edb454250d257444ca1ad9e2358c42b7);\n",
       "        \n",
       "    \n",
       "            var marker_ce1e79d2fde104cbf80eff1ab8e28f72 = L.marker(\n",
       "                [17.570692, -3.996166],\n",
       "                {}\n",
       "            ).addTo(map_edb454250d257444ca1ad9e2358c42b7);\n",
       "        \n",
       "    \n",
       "            var marker_c771d30e56a2074ba3588b93faec7417 = L.marker(\n",
       "                [35.937496, 14.375416],\n",
       "                {}\n",
       "            ).addTo(map_edb454250d257444ca1ad9e2358c42b7);\n",
       "        \n",
       "    \n",
       "            var marker_2a5780cbf64749aed1973d5c2c5ee94e = L.marker(\n",
       "                [21.00789, -10.940835],\n",
       "                {}\n",
       "            ).addTo(map_edb454250d257444ca1ad9e2358c42b7);\n",
       "        \n",
       "    \n",
       "            var marker_a8dcdb15114228a85519d93489062566 = L.marker(\n",
       "                [-20.348404, 57.552152],\n",
       "                {}\n",
       "            ).addTo(map_edb454250d257444ca1ad9e2358c42b7);\n",
       "        \n",
       "    \n",
       "            var marker_879a9e7aad74d99e7d40cb297d648579 = L.marker(\n",
       "                [23.634501, -102.552784],\n",
       "                {}\n",
       "            ).addTo(map_edb454250d257444ca1ad9e2358c42b7);\n",
       "        \n",
       "    \n",
       "            var marker_91926dc6668d569fd51192d9b57dddc4 = L.marker(\n",
       "                [7.425554, 150.550812],\n",
       "                {}\n",
       "            ).addTo(map_edb454250d257444ca1ad9e2358c42b7);\n",
       "        \n",
       "    \n",
       "            var marker_68539320d21f25d4c40365f0e0fd2ce5 = L.marker(\n",
       "                [47.411631, 28.369885],\n",
       "                {}\n",
       "            ).addTo(map_edb454250d257444ca1ad9e2358c42b7);\n",
       "        \n",
       "    \n",
       "            var marker_fe85e37ff9a6a5cc9e5a7b5e24c58682 = L.marker(\n",
       "                [46.862496, 103.846656],\n",
       "                {}\n",
       "            ).addTo(map_edb454250d257444ca1ad9e2358c42b7);\n",
       "        \n",
       "    \n",
       "            var marker_b27f1a1e8f0afa1fe3af0f73755eb55a = L.marker(\n",
       "                [42.708678, 19.37439],\n",
       "                {}\n",
       "            ).addTo(map_edb454250d257444ca1ad9e2358c42b7);\n",
       "        \n",
       "    \n",
       "            var marker_934c40c40c9f803fbad4c8f1f8cc5ade = L.marker(\n",
       "                [31.791702, -7.09262],\n",
       "                {}\n",
       "            ).addTo(map_edb454250d257444ca1ad9e2358c42b7);\n",
       "        \n",
       "    \n",
       "            var marker_cf0a826013e63754b6503ceb3a7a7038 = L.marker(\n",
       "                [-18.665695, 35.529562],\n",
       "                {}\n",
       "            ).addTo(map_edb454250d257444ca1ad9e2358c42b7);\n",
       "        \n",
       "    \n",
       "            var marker_578817cf235309837f24428af3b24e08 = L.marker(\n",
       "                [-22.95764, 18.49041],\n",
       "                {}\n",
       "            ).addTo(map_edb454250d257444ca1ad9e2358c42b7);\n",
       "        \n",
       "    \n",
       "            var marker_c4902aa9483829abfe3f54367c391688 = L.marker(\n",
       "                [28.394857, 84.124008],\n",
       "                {}\n",
       "            ).addTo(map_edb454250d257444ca1ad9e2358c42b7);\n",
       "        \n",
       "    \n",
       "            var marker_5f97126aa7396467ebe1a06af769b52d = L.marker(\n",
       "                [52.132633, 5.291266],\n",
       "                {}\n",
       "            ).addTo(map_edb454250d257444ca1ad9e2358c42b7);\n",
       "        \n",
       "    \n",
       "            var marker_290a195da38a7cf11ac9c6ef989b29b8 = L.marker(\n",
       "                [-40.900557, 174.885971],\n",
       "                {}\n",
       "            ).addTo(map_edb454250d257444ca1ad9e2358c42b7);\n",
       "        \n",
       "    \n",
       "            var marker_b4a4e520761b410c85c2b697eca2bd20 = L.marker(\n",
       "                [12.865416, -85.207229],\n",
       "                {}\n",
       "            ).addTo(map_edb454250d257444ca1ad9e2358c42b7);\n",
       "        \n",
       "    \n",
       "            var marker_5419a62d353b0ad3df66a1e54da4de43 = L.marker(\n",
       "                [17.607789, 8.081666],\n",
       "                {}\n",
       "            ).addTo(map_edb454250d257444ca1ad9e2358c42b7);\n",
       "        \n",
       "    \n",
       "            var marker_edaa1f136772c714a8937d46882fdffb = L.marker(\n",
       "                [9.081999, 8.675277],\n",
       "                {}\n",
       "            ).addTo(map_edb454250d257444ca1ad9e2358c42b7);\n",
       "        \n",
       "    \n",
       "            var marker_d2b85473812e9ee90e6af9a17c7f624e = L.marker(\n",
       "                [60.472024, 8.468946],\n",
       "                {}\n",
       "            ).addTo(map_edb454250d257444ca1ad9e2358c42b7);\n",
       "        \n",
       "    \n",
       "            var marker_0acacd74c70bfc7f60781e156a9e501d = L.marker(\n",
       "                [21.512583, 55.923255],\n",
       "                {}\n",
       "            ).addTo(map_edb454250d257444ca1ad9e2358c42b7);\n",
       "        \n",
       "    \n",
       "            var marker_55c4678a3a3734b4f74460d2d4f15c79 = L.marker(\n",
       "                [30.375321, 69.345116],\n",
       "                {}\n",
       "            ).addTo(map_edb454250d257444ca1ad9e2358c42b7);\n",
       "        \n",
       "    \n",
       "            var marker_b7d4dc0c6aca9546cedf352cd8a5ab4a = L.marker(\n",
       "                [8.537981, -80.782127],\n",
       "                {}\n",
       "            ).addTo(map_edb454250d257444ca1ad9e2358c42b7);\n",
       "        \n",
       "    \n",
       "            var marker_dce62b1ebbce61da8d833dbfeb5c5fb3 = L.marker(\n",
       "                [-6.314993, 143.95555],\n",
       "                {}\n",
       "            ).addTo(map_edb454250d257444ca1ad9e2358c42b7);\n",
       "        \n",
       "    \n",
       "            var marker_f0fa4f923cd0c965b3acfa0d0a02e749 = L.marker(\n",
       "                [-23.442503, -58.443832],\n",
       "                {}\n",
       "            ).addTo(map_edb454250d257444ca1ad9e2358c42b7);\n",
       "        \n",
       "    \n",
       "            var marker_6196325ad5b43706b4b94442f8c3295e = L.marker(\n",
       "                [-9.189967, -75.015152],\n",
       "                {}\n",
       "            ).addTo(map_edb454250d257444ca1ad9e2358c42b7);\n",
       "        \n",
       "    \n",
       "            var marker_43975d977eec0995baa7da656b066de3 = L.marker(\n",
       "                [12.879721, 121.774017],\n",
       "                {}\n",
       "            ).addTo(map_edb454250d257444ca1ad9e2358c42b7);\n",
       "        \n",
       "    \n",
       "            var marker_b07d3aebf0df40dfdf9102a6ec745598 = L.marker(\n",
       "                [51.919438, 19.145136],\n",
       "                {}\n",
       "            ).addTo(map_edb454250d257444ca1ad9e2358c42b7);\n",
       "        \n",
       "    \n",
       "            var marker_7806f4d4b8459cb80de734a9b8358775 = L.marker(\n",
       "                [39.399872, -8.224454],\n",
       "                {}\n",
       "            ).addTo(map_edb454250d257444ca1ad9e2358c42b7);\n",
       "        \n",
       "    \n",
       "            var marker_0df0995f0062c44d528fa9dd385974d8 = L.marker(\n",
       "                [25.354826, 51.183884],\n",
       "                {}\n",
       "            ).addTo(map_edb454250d257444ca1ad9e2358c42b7);\n",
       "        \n",
       "    \n",
       "            var marker_f9019737adae553144d1f811de0fbae7 = L.marker(\n",
       "                [45.943161, 24.96676],\n",
       "                {}\n",
       "            ).addTo(map_edb454250d257444ca1ad9e2358c42b7);\n",
       "        \n",
       "    \n",
       "            var marker_f241653553e6d027ddd63ab4bae1126d = L.marker(\n",
       "                [61.52401, 105.318756],\n",
       "                {}\n",
       "            ).addTo(map_edb454250d257444ca1ad9e2358c42b7);\n",
       "        \n",
       "    \n",
       "            var marker_0282dd5d21cec41b8d58b332b78e8a37 = L.marker(\n",
       "                [-1.940278, 29.873888],\n",
       "                {}\n",
       "            ).addTo(map_edb454250d257444ca1ad9e2358c42b7);\n",
       "        \n",
       "    \n",
       "            var marker_375a040f597e26fd1271265c5f56d53b = L.marker(\n",
       "                [13.909444, -60.978893],\n",
       "                {}\n",
       "            ).addTo(map_edb454250d257444ca1ad9e2358c42b7);\n",
       "        \n",
       "    \n",
       "            var marker_1a5003330e33505b6b2d314148d92e4a = L.marker(\n",
       "                [12.984305, -61.287228],\n",
       "                {}\n",
       "            ).addTo(map_edb454250d257444ca1ad9e2358c42b7);\n",
       "        \n",
       "    \n",
       "            var marker_ba2850321183448e633a776d90389f68 = L.marker(\n",
       "                [-13.759029, -172.104629],\n",
       "                {}\n",
       "            ).addTo(map_edb454250d257444ca1ad9e2358c42b7);\n",
       "        \n",
       "    \n",
       "            var marker_a402939914c340304fb2fb0f16ccfe08 = L.marker(\n",
       "                [0.18636, 6.613081],\n",
       "                {}\n",
       "            ).addTo(map_edb454250d257444ca1ad9e2358c42b7);\n",
       "        \n",
       "    \n",
       "            var marker_16a919e61e7fa219c7d5b806ed782485 = L.marker(\n",
       "                [23.885942, 45.079162],\n",
       "                {}\n",
       "            ).addTo(map_edb454250d257444ca1ad9e2358c42b7);\n",
       "        \n",
       "    \n",
       "            var marker_fbc169a9a2a5047f029ddd42a7cfd648 = L.marker(\n",
       "                [14.497401, -14.452362],\n",
       "                {}\n",
       "            ).addTo(map_edb454250d257444ca1ad9e2358c42b7);\n",
       "        \n",
       "    \n",
       "            var marker_d0e5df4bf30fb931040c5b89b7688a4b = L.marker(\n",
       "                [44.016521, 21.005859],\n",
       "                {}\n",
       "            ).addTo(map_edb454250d257444ca1ad9e2358c42b7);\n",
       "        \n",
       "    \n",
       "            var marker_e6deba33dd07eddf5bec743f93d95393 = L.marker(\n",
       "                [-4.679574, 55.491977],\n",
       "                {}\n",
       "            ).addTo(map_edb454250d257444ca1ad9e2358c42b7);\n",
       "        \n",
       "    \n",
       "            var marker_bfe7387237091ce8b26b75113883c101 = L.marker(\n",
       "                [8.460555, -11.779889],\n",
       "                {}\n",
       "            ).addTo(map_edb454250d257444ca1ad9e2358c42b7);\n",
       "        \n",
       "    \n",
       "            var marker_50dc45bcb9d290bc9b4dff5206232f2a = L.marker(\n",
       "                [1.352083, 103.819836],\n",
       "                {}\n",
       "            ).addTo(map_edb454250d257444ca1ad9e2358c42b7);\n",
       "        \n",
       "    \n",
       "            var marker_8edfb25b4a24e8264123b05c08852f3b = L.marker(\n",
       "                [48.669026, 19.699024],\n",
       "                {}\n",
       "            ).addTo(map_edb454250d257444ca1ad9e2358c42b7);\n",
       "        \n",
       "    \n",
       "            var marker_942f57082c7df68f0071b64f426179d3 = L.marker(\n",
       "                [46.151241, 14.995463],\n",
       "                {}\n",
       "            ).addTo(map_edb454250d257444ca1ad9e2358c42b7);\n",
       "        \n",
       "    \n",
       "            var marker_06ec7f2cdd2b1ad88c1e99c47d238f06 = L.marker(\n",
       "                [-9.64571, 160.156194],\n",
       "                {}\n",
       "            ).addTo(map_edb454250d257444ca1ad9e2358c42b7);\n",
       "        \n",
       "    \n",
       "            var marker_f23af26c4a347b39cc83bdfa6f17d0d5 = L.marker(\n",
       "                [5.152149, 46.199616],\n",
       "                {}\n",
       "            ).addTo(map_edb454250d257444ca1ad9e2358c42b7);\n",
       "        \n",
       "    \n",
       "            var marker_036827cd63aabde01006aec6ae8596a5 = L.marker(\n",
       "                [-30.559482, 22.937506],\n",
       "                {}\n",
       "            ).addTo(map_edb454250d257444ca1ad9e2358c42b7);\n",
       "        \n",
       "    \n",
       "            var marker_73462bda93238762aaa6f5ac4e43faf4 = L.marker(\n",
       "                [40.463667, -3.74922],\n",
       "                {}\n",
       "            ).addTo(map_edb454250d257444ca1ad9e2358c42b7);\n",
       "        \n",
       "    \n",
       "            var marker_c66b499b7f05e1578a783d37b746ea25 = L.marker(\n",
       "                [7.873054, 80.771797],\n",
       "                {}\n",
       "            ).addTo(map_edb454250d257444ca1ad9e2358c42b7);\n",
       "        \n",
       "    \n",
       "            var marker_c6c108867532cda7e15141a9f938e4cf = L.marker(\n",
       "                [12.862807, 30.217636],\n",
       "                {}\n",
       "            ).addTo(map_edb454250d257444ca1ad9e2358c42b7);\n",
       "        \n",
       "    \n",
       "            var marker_0c516fe7df671d87a77e9327e8216582 = L.marker(\n",
       "                [3.919305, -56.027783],\n",
       "                {}\n",
       "            ).addTo(map_edb454250d257444ca1ad9e2358c42b7);\n",
       "        \n",
       "    \n",
       "            var marker_0320316291e0e092b206bd924a5eea0e = L.marker(\n",
       "                [60.128161, 18.643501],\n",
       "                {}\n",
       "            ).addTo(map_edb454250d257444ca1ad9e2358c42b7);\n",
       "        \n",
       "    \n",
       "            var marker_936e3e263c3f09cb7ea568c6a01b1942 = L.marker(\n",
       "                [46.818188, 8.227512],\n",
       "                {}\n",
       "            ).addTo(map_edb454250d257444ca1ad9e2358c42b7);\n",
       "        \n",
       "    \n",
       "            var marker_6f990902e10b3b68dac874325b23b56a = L.marker(\n",
       "                [34.802075, 38.996815],\n",
       "                {}\n",
       "            ).addTo(map_edb454250d257444ca1ad9e2358c42b7);\n",
       "        \n",
       "    \n",
       "            var marker_15edb564b17032d5fb2051638c51dd8c = L.marker(\n",
       "                [23.69781, 120.960515],\n",
       "                {}\n",
       "            ).addTo(map_edb454250d257444ca1ad9e2358c42b7);\n",
       "        \n",
       "    \n",
       "            var marker_65762bb5fd91614bfde7b191e84b90a7 = L.marker(\n",
       "                [38.861034, 71.276093],\n",
       "                {}\n",
       "            ).addTo(map_edb454250d257444ca1ad9e2358c42b7);\n",
       "        \n",
       "    \n",
       "            var marker_17a9a0729f69212aeb58f2c1d3c06bd0 = L.marker(\n",
       "                [-6.369028, 34.888822],\n",
       "                {}\n",
       "            ).addTo(map_edb454250d257444ca1ad9e2358c42b7);\n",
       "        \n",
       "    \n",
       "            var marker_4c88c577633d41d7de37a7a5da1c0ab7 = L.marker(\n",
       "                [15.870032, 100.992541],\n",
       "                {}\n",
       "            ).addTo(map_edb454250d257444ca1ad9e2358c42b7);\n",
       "        \n",
       "    \n",
       "            var marker_873e5e22d40b9b07b23624cb843d24a4 = L.marker(\n",
       "                [-8.874217, 125.727539],\n",
       "                {}\n",
       "            ).addTo(map_edb454250d257444ca1ad9e2358c42b7);\n",
       "        \n",
       "    \n",
       "            var marker_7c009ec200d2a2cebcb36eb983e44929 = L.marker(\n",
       "                [8.619543, 0.824782],\n",
       "                {}\n",
       "            ).addTo(map_edb454250d257444ca1ad9e2358c42b7);\n",
       "        \n",
       "    \n",
       "            var marker_b4532205f3bd2ae063d7a5a8b1328849 = L.marker(\n",
       "                [-21.178986, -175.198242],\n",
       "                {}\n",
       "            ).addTo(map_edb454250d257444ca1ad9e2358c42b7);\n",
       "        \n",
       "    \n",
       "            var marker_33dd2f7fcd7bb777d7648c7e1cfcbcc0 = L.marker(\n",
       "                [10.691803, -61.222503],\n",
       "                {}\n",
       "            ).addTo(map_edb454250d257444ca1ad9e2358c42b7);\n",
       "        \n",
       "    \n",
       "            var marker_9408afd3675f806ed793b251610a1cf7 = L.marker(\n",
       "                [33.886917, 9.537499],\n",
       "                {}\n",
       "            ).addTo(map_edb454250d257444ca1ad9e2358c42b7);\n",
       "        \n",
       "    \n",
       "            var marker_4faa37d4b9de39a68d39d07766f423fd = L.marker(\n",
       "                [38.963745, 35.243322],\n",
       "                {}\n",
       "            ).addTo(map_edb454250d257444ca1ad9e2358c42b7);\n",
       "        \n",
       "    \n",
       "            var marker_0799b8aa823c552ab9da6e2c77911ef9 = L.marker(\n",
       "                [38.969719, 59.556278],\n",
       "                {}\n",
       "            ).addTo(map_edb454250d257444ca1ad9e2358c42b7);\n",
       "        \n",
       "    \n",
       "            var marker_d0f63450c7d8a6250b385c430ef5af20 = L.marker(\n",
       "                [1.373333, 32.290275],\n",
       "                {}\n",
       "            ).addTo(map_edb454250d257444ca1ad9e2358c42b7);\n",
       "        \n",
       "    \n",
       "            var marker_894c79ad6e56ee6504a59b5f6da12994 = L.marker(\n",
       "                [48.379433, 31.16558],\n",
       "                {}\n",
       "            ).addTo(map_edb454250d257444ca1ad9e2358c42b7);\n",
       "        \n",
       "    \n",
       "            var marker_8111f387a11fd918ba4cd5b575d45dcc = L.marker(\n",
       "                [23.424076, 53.847818],\n",
       "                {}\n",
       "            ).addTo(map_edb454250d257444ca1ad9e2358c42b7);\n",
       "        \n",
       "    \n",
       "            var marker_e8d387304bd10d88ad762cbcbce7a330 = L.marker(\n",
       "                [55.378051, -3.435973],\n",
       "                {}\n",
       "            ).addTo(map_edb454250d257444ca1ad9e2358c42b7);\n",
       "        \n",
       "    \n",
       "            var marker_430d9ed2ed389c3a90320d12d4e2818d = L.marker(\n",
       "                [37.09024, -95.712891],\n",
       "                {}\n",
       "            ).addTo(map_edb454250d257444ca1ad9e2358c42b7);\n",
       "        \n",
       "    \n",
       "            var marker_3e2e412c63470f224e1a6b8a7f8ad1e2 = L.marker(\n",
       "                [-32.522779, -55.765835],\n",
       "                {}\n",
       "            ).addTo(map_edb454250d257444ca1ad9e2358c42b7);\n",
       "        \n",
       "    \n",
       "            var marker_7857f46e674e33115fcec5719bbc792c = L.marker(\n",
       "                [41.377491, 64.585262],\n",
       "                {}\n",
       "            ).addTo(map_edb454250d257444ca1ad9e2358c42b7);\n",
       "        \n",
       "    \n",
       "            var marker_4e8b5f0e006f4448f362e7f1a2bf7c0c = L.marker(\n",
       "                [-15.376706, 166.959158],\n",
       "                {}\n",
       "            ).addTo(map_edb454250d257444ca1ad9e2358c42b7);\n",
       "        \n",
       "    \n",
       "            var marker_0cfa40b9f94dbc3c7b63447401900369 = L.marker(\n",
       "                [6.42375, -66.58973],\n",
       "                {}\n",
       "            ).addTo(map_edb454250d257444ca1ad9e2358c42b7);\n",
       "        \n",
       "    \n",
       "            var marker_bb7b2b3f595e02bcab43f47ddc98b3dc = L.marker(\n",
       "                [14.058324, 108.277199],\n",
       "                {}\n",
       "            ).addTo(map_edb454250d257444ca1ad9e2358c42b7);\n",
       "        \n",
       "    \n",
       "            var marker_ac08defd545c3cbca11c1aac01fc1a55 = L.marker(\n",
       "                [15.552727, 48.516388],\n",
       "                {}\n",
       "            ).addTo(map_edb454250d257444ca1ad9e2358c42b7);\n",
       "        \n",
       "    \n",
       "            var marker_79e33696ba0bbeb7c8a376ca961e43b6 = L.marker(\n",
       "                [-13.133897, 27.849332],\n",
       "                {}\n",
       "            ).addTo(map_edb454250d257444ca1ad9e2358c42b7);\n",
       "        \n",
       "    \n",
       "            var marker_621efdacaa15fbd4ed1e92ba3a615f00 = L.marker(\n",
       "                [-19.015438, 29.154857],\n",
       "                {}\n",
       "            ).addTo(map_edb454250d257444ca1ad9e2358c42b7);\n",
       "        \n",
       "&lt;/script&gt;\n",
       "&lt;/html&gt;\" style=\"position:absolute;width:100%;height:100%;left:0;top:0;border:none !important;\" allowfullscreen webkitallowfullscreen mozallowfullscreen></iframe></div></div>"
      ],
      "text/plain": [
       "<folium.folium.Map at 0x1d10652fbe0>"
      ]
     },
     "execution_count": 20,
     "metadata": {},
     "output_type": "execute_result"
    }
   ],
   "source": [
    "# creamos un mapa en folium con nuestras columnas de latitud y longitud\n",
    "worldmap = folium.Map(location=[df.iloc[0]['Latitude'], df.iloc[0]['Longitude']], zoom_start=4, tiles=\"Stamen Terrain\")\n",
    "\n",
    "# agregamos un marcador para cada punto\n",
    "for i, row in df.iterrows():\n",
    "    folium.Marker(location=[row['Latitude'], row['Longitude']]).add_to(worldmap)\n",
    "\n",
    "# guardamos el mapa\n",
    "worldmap.save(\"map.html\")\n",
    "\n",
    "# mostramos el mapa\n",
    "worldmap "
   ]
  },
  {
   "attachments": {},
   "cell_type": "markdown",
   "metadata": {},
   "source": [
    "**Vamos a analizar 186 países dentro del índice, estos países se dividen en varios regiones dependiendo de su ubicación**"
   ]
  },
  {
   "cell_type": "code",
   "execution_count": 21,
   "metadata": {},
   "outputs": [
    {
     "data": {
      "application/vnd.plotly.v1+json": {
       "config": {
        "plotlyServerURL": "https://plot.ly"
       },
       "data": [
        {
         "labels": [
          "Americas",
          "Asia-Pacific",
          "Europe",
          "Middle East and North Africa",
          "Sub-Saharan Africa"
         ],
         "marker": {
          "colors": [
           "#636EFA",
           "#EF553B",
           "#00CC96",
           "#AB63FA",
           "#FFA15A"
          ]
         },
         "type": "pie",
         "values": [
          32,
          43,
          45,
          18,
          48
         ]
        }
       ],
       "layout": {
        "height": 800,
        "template": {
         "data": {
          "bar": [
           {
            "error_x": {
             "color": "#f2f5fa"
            },
            "error_y": {
             "color": "#f2f5fa"
            },
            "marker": {
             "line": {
              "color": "rgb(17,17,17)",
              "width": 0.5
             },
             "pattern": {
              "fillmode": "overlay",
              "size": 10,
              "solidity": 0.2
             }
            },
            "type": "bar"
           }
          ],
          "barpolar": [
           {
            "marker": {
             "line": {
              "color": "rgb(17,17,17)",
              "width": 0.5
             },
             "pattern": {
              "fillmode": "overlay",
              "size": 10,
              "solidity": 0.2
             }
            },
            "type": "barpolar"
           }
          ],
          "carpet": [
           {
            "aaxis": {
             "endlinecolor": "#A2B1C6",
             "gridcolor": "#506784",
             "linecolor": "#506784",
             "minorgridcolor": "#506784",
             "startlinecolor": "#A2B1C6"
            },
            "baxis": {
             "endlinecolor": "#A2B1C6",
             "gridcolor": "#506784",
             "linecolor": "#506784",
             "minorgridcolor": "#506784",
             "startlinecolor": "#A2B1C6"
            },
            "type": "carpet"
           }
          ],
          "choropleth": [
           {
            "colorbar": {
             "outlinewidth": 0,
             "ticks": ""
            },
            "type": "choropleth"
           }
          ],
          "contour": [
           {
            "colorbar": {
             "outlinewidth": 0,
             "ticks": ""
            },
            "colorscale": [
             [
              0,
              "#0d0887"
             ],
             [
              0.1111111111111111,
              "#46039f"
             ],
             [
              0.2222222222222222,
              "#7201a8"
             ],
             [
              0.3333333333333333,
              "#9c179e"
             ],
             [
              0.4444444444444444,
              "#bd3786"
             ],
             [
              0.5555555555555556,
              "#d8576b"
             ],
             [
              0.6666666666666666,
              "#ed7953"
             ],
             [
              0.7777777777777778,
              "#fb9f3a"
             ],
             [
              0.8888888888888888,
              "#fdca26"
             ],
             [
              1,
              "#f0f921"
             ]
            ],
            "type": "contour"
           }
          ],
          "contourcarpet": [
           {
            "colorbar": {
             "outlinewidth": 0,
             "ticks": ""
            },
            "type": "contourcarpet"
           }
          ],
          "heatmap": [
           {
            "colorbar": {
             "outlinewidth": 0,
             "ticks": ""
            },
            "colorscale": [
             [
              0,
              "#0d0887"
             ],
             [
              0.1111111111111111,
              "#46039f"
             ],
             [
              0.2222222222222222,
              "#7201a8"
             ],
             [
              0.3333333333333333,
              "#9c179e"
             ],
             [
              0.4444444444444444,
              "#bd3786"
             ],
             [
              0.5555555555555556,
              "#d8576b"
             ],
             [
              0.6666666666666666,
              "#ed7953"
             ],
             [
              0.7777777777777778,
              "#fb9f3a"
             ],
             [
              0.8888888888888888,
              "#fdca26"
             ],
             [
              1,
              "#f0f921"
             ]
            ],
            "type": "heatmap"
           }
          ],
          "heatmapgl": [
           {
            "colorbar": {
             "outlinewidth": 0,
             "ticks": ""
            },
            "colorscale": [
             [
              0,
              "#0d0887"
             ],
             [
              0.1111111111111111,
              "#46039f"
             ],
             [
              0.2222222222222222,
              "#7201a8"
             ],
             [
              0.3333333333333333,
              "#9c179e"
             ],
             [
              0.4444444444444444,
              "#bd3786"
             ],
             [
              0.5555555555555556,
              "#d8576b"
             ],
             [
              0.6666666666666666,
              "#ed7953"
             ],
             [
              0.7777777777777778,
              "#fb9f3a"
             ],
             [
              0.8888888888888888,
              "#fdca26"
             ],
             [
              1,
              "#f0f921"
             ]
            ],
            "type": "heatmapgl"
           }
          ],
          "histogram": [
           {
            "marker": {
             "pattern": {
              "fillmode": "overlay",
              "size": 10,
              "solidity": 0.2
             }
            },
            "type": "histogram"
           }
          ],
          "histogram2d": [
           {
            "colorbar": {
             "outlinewidth": 0,
             "ticks": ""
            },
            "colorscale": [
             [
              0,
              "#0d0887"
             ],
             [
              0.1111111111111111,
              "#46039f"
             ],
             [
              0.2222222222222222,
              "#7201a8"
             ],
             [
              0.3333333333333333,
              "#9c179e"
             ],
             [
              0.4444444444444444,
              "#bd3786"
             ],
             [
              0.5555555555555556,
              "#d8576b"
             ],
             [
              0.6666666666666666,
              "#ed7953"
             ],
             [
              0.7777777777777778,
              "#fb9f3a"
             ],
             [
              0.8888888888888888,
              "#fdca26"
             ],
             [
              1,
              "#f0f921"
             ]
            ],
            "type": "histogram2d"
           }
          ],
          "histogram2dcontour": [
           {
            "colorbar": {
             "outlinewidth": 0,
             "ticks": ""
            },
            "colorscale": [
             [
              0,
              "#0d0887"
             ],
             [
              0.1111111111111111,
              "#46039f"
             ],
             [
              0.2222222222222222,
              "#7201a8"
             ],
             [
              0.3333333333333333,
              "#9c179e"
             ],
             [
              0.4444444444444444,
              "#bd3786"
             ],
             [
              0.5555555555555556,
              "#d8576b"
             ],
             [
              0.6666666666666666,
              "#ed7953"
             ],
             [
              0.7777777777777778,
              "#fb9f3a"
             ],
             [
              0.8888888888888888,
              "#fdca26"
             ],
             [
              1,
              "#f0f921"
             ]
            ],
            "type": "histogram2dcontour"
           }
          ],
          "mesh3d": [
           {
            "colorbar": {
             "outlinewidth": 0,
             "ticks": ""
            },
            "type": "mesh3d"
           }
          ],
          "parcoords": [
           {
            "line": {
             "colorbar": {
              "outlinewidth": 0,
              "ticks": ""
             }
            },
            "type": "parcoords"
           }
          ],
          "pie": [
           {
            "automargin": true,
            "type": "pie"
           }
          ],
          "scatter": [
           {
            "marker": {
             "line": {
              "color": "#283442"
             }
            },
            "type": "scatter"
           }
          ],
          "scatter3d": [
           {
            "line": {
             "colorbar": {
              "outlinewidth": 0,
              "ticks": ""
             }
            },
            "marker": {
             "colorbar": {
              "outlinewidth": 0,
              "ticks": ""
             }
            },
            "type": "scatter3d"
           }
          ],
          "scattercarpet": [
           {
            "marker": {
             "colorbar": {
              "outlinewidth": 0,
              "ticks": ""
             }
            },
            "type": "scattercarpet"
           }
          ],
          "scattergeo": [
           {
            "marker": {
             "colorbar": {
              "outlinewidth": 0,
              "ticks": ""
             }
            },
            "type": "scattergeo"
           }
          ],
          "scattergl": [
           {
            "marker": {
             "line": {
              "color": "#283442"
             }
            },
            "type": "scattergl"
           }
          ],
          "scattermapbox": [
           {
            "marker": {
             "colorbar": {
              "outlinewidth": 0,
              "ticks": ""
             }
            },
            "type": "scattermapbox"
           }
          ],
          "scatterpolar": [
           {
            "marker": {
             "colorbar": {
              "outlinewidth": 0,
              "ticks": ""
             }
            },
            "type": "scatterpolar"
           }
          ],
          "scatterpolargl": [
           {
            "marker": {
             "colorbar": {
              "outlinewidth": 0,
              "ticks": ""
             }
            },
            "type": "scatterpolargl"
           }
          ],
          "scatterternary": [
           {
            "marker": {
             "colorbar": {
              "outlinewidth": 0,
              "ticks": ""
             }
            },
            "type": "scatterternary"
           }
          ],
          "surface": [
           {
            "colorbar": {
             "outlinewidth": 0,
             "ticks": ""
            },
            "colorscale": [
             [
              0,
              "#0d0887"
             ],
             [
              0.1111111111111111,
              "#46039f"
             ],
             [
              0.2222222222222222,
              "#7201a8"
             ],
             [
              0.3333333333333333,
              "#9c179e"
             ],
             [
              0.4444444444444444,
              "#bd3786"
             ],
             [
              0.5555555555555556,
              "#d8576b"
             ],
             [
              0.6666666666666666,
              "#ed7953"
             ],
             [
              0.7777777777777778,
              "#fb9f3a"
             ],
             [
              0.8888888888888888,
              "#fdca26"
             ],
             [
              1,
              "#f0f921"
             ]
            ],
            "type": "surface"
           }
          ],
          "table": [
           {
            "cells": {
             "fill": {
              "color": "#506784"
             },
             "line": {
              "color": "rgb(17,17,17)"
             }
            },
            "header": {
             "fill": {
              "color": "#2a3f5f"
             },
             "line": {
              "color": "rgb(17,17,17)"
             }
            },
            "type": "table"
           }
          ]
         },
         "layout": {
          "annotationdefaults": {
           "arrowcolor": "#f2f5fa",
           "arrowhead": 0,
           "arrowwidth": 1
          },
          "autotypenumbers": "strict",
          "coloraxis": {
           "colorbar": {
            "outlinewidth": 0,
            "ticks": ""
           }
          },
          "colorscale": {
           "diverging": [
            [
             0,
             "#8e0152"
            ],
            [
             0.1,
             "#c51b7d"
            ],
            [
             0.2,
             "#de77ae"
            ],
            [
             0.3,
             "#f1b6da"
            ],
            [
             0.4,
             "#fde0ef"
            ],
            [
             0.5,
             "#f7f7f7"
            ],
            [
             0.6,
             "#e6f5d0"
            ],
            [
             0.7,
             "#b8e186"
            ],
            [
             0.8,
             "#7fbc41"
            ],
            [
             0.9,
             "#4d9221"
            ],
            [
             1,
             "#276419"
            ]
           ],
           "sequential": [
            [
             0,
             "#0d0887"
            ],
            [
             0.1111111111111111,
             "#46039f"
            ],
            [
             0.2222222222222222,
             "#7201a8"
            ],
            [
             0.3333333333333333,
             "#9c179e"
            ],
            [
             0.4444444444444444,
             "#bd3786"
            ],
            [
             0.5555555555555556,
             "#d8576b"
            ],
            [
             0.6666666666666666,
             "#ed7953"
            ],
            [
             0.7777777777777778,
             "#fb9f3a"
            ],
            [
             0.8888888888888888,
             "#fdca26"
            ],
            [
             1,
             "#f0f921"
            ]
           ],
           "sequentialminus": [
            [
             0,
             "#0d0887"
            ],
            [
             0.1111111111111111,
             "#46039f"
            ],
            [
             0.2222222222222222,
             "#7201a8"
            ],
            [
             0.3333333333333333,
             "#9c179e"
            ],
            [
             0.4444444444444444,
             "#bd3786"
            ],
            [
             0.5555555555555556,
             "#d8576b"
            ],
            [
             0.6666666666666666,
             "#ed7953"
            ],
            [
             0.7777777777777778,
             "#fb9f3a"
            ],
            [
             0.8888888888888888,
             "#fdca26"
            ],
            [
             1,
             "#f0f921"
            ]
           ]
          },
          "colorway": [
           "#636efa",
           "#EF553B",
           "#00cc96",
           "#ab63fa",
           "#FFA15A",
           "#19d3f3",
           "#FF6692",
           "#B6E880",
           "#FF97FF",
           "#FECB52"
          ],
          "font": {
           "color": "#f2f5fa"
          },
          "geo": {
           "bgcolor": "rgb(17,17,17)",
           "lakecolor": "rgb(17,17,17)",
           "landcolor": "rgb(17,17,17)",
           "showlakes": true,
           "showland": true,
           "subunitcolor": "#506784"
          },
          "hoverlabel": {
           "align": "left"
          },
          "hovermode": "closest",
          "mapbox": {
           "style": "dark"
          },
          "paper_bgcolor": "rgb(17,17,17)",
          "plot_bgcolor": "rgb(17,17,17)",
          "polar": {
           "angularaxis": {
            "gridcolor": "#506784",
            "linecolor": "#506784",
            "ticks": ""
           },
           "bgcolor": "rgb(17,17,17)",
           "radialaxis": {
            "gridcolor": "#506784",
            "linecolor": "#506784",
            "ticks": ""
           }
          },
          "scene": {
           "xaxis": {
            "backgroundcolor": "rgb(17,17,17)",
            "gridcolor": "#506784",
            "gridwidth": 2,
            "linecolor": "#506784",
            "showbackground": true,
            "ticks": "",
            "zerolinecolor": "#C8D4E3"
           },
           "yaxis": {
            "backgroundcolor": "rgb(17,17,17)",
            "gridcolor": "#506784",
            "gridwidth": 2,
            "linecolor": "#506784",
            "showbackground": true,
            "ticks": "",
            "zerolinecolor": "#C8D4E3"
           },
           "zaxis": {
            "backgroundcolor": "rgb(17,17,17)",
            "gridcolor": "#506784",
            "gridwidth": 2,
            "linecolor": "#506784",
            "showbackground": true,
            "ticks": "",
            "zerolinecolor": "#C8D4E3"
           }
          },
          "shapedefaults": {
           "line": {
            "color": "#f2f5fa"
           }
          },
          "sliderdefaults": {
           "bgcolor": "#C8D4E3",
           "bordercolor": "rgb(17,17,17)",
           "borderwidth": 1,
           "tickwidth": 0
          },
          "ternary": {
           "aaxis": {
            "gridcolor": "#506784",
            "linecolor": "#506784",
            "ticks": ""
           },
           "baxis": {
            "gridcolor": "#506784",
            "linecolor": "#506784",
            "ticks": ""
           },
           "bgcolor": "rgb(17,17,17)",
           "caxis": {
            "gridcolor": "#506784",
            "linecolor": "#506784",
            "ticks": ""
           }
          },
          "title": {
           "x": 0.05
          },
          "updatemenudefaults": {
           "bgcolor": "#506784",
           "borderwidth": 0
          },
          "xaxis": {
           "automargin": true,
           "gridcolor": "#283442",
           "linecolor": "#506784",
           "ticks": "",
           "title": {
            "standoff": 15
           },
           "zerolinecolor": "#283442",
           "zerolinewidth": 2
          },
          "yaxis": {
           "automargin": true,
           "gridcolor": "#283442",
           "linecolor": "#506784",
           "ticks": "",
           "title": {
            "standoff": 15
           },
           "zerolinecolor": "#283442",
           "zerolinewidth": 2
          }
         }
        },
        "title": {
         "text": "Count of Countries per Region"
        },
        "width": 1200
       }
      }
     },
     "metadata": {},
     "output_type": "display_data"
    }
   ],
   "source": [
    "# hacemos un group by de las regiones y los paises y los contabilizamos\n",
    "grouped = df.groupby('Region')\n",
    "counts = grouped['Country'].count()\n",
    "result = counts.reset_index()\n",
    "\n",
    "# añadimos los colores y creamos el pie\n",
    "colors = ['#636EFA', '#EF553B', '#00CC96', '#AB63FA', '#FFA15A']\n",
    "fig = go.Figure(data=go.Pie(values=result['Country'], labels=result['Region'], marker=dict(colors=colors)))\n",
    "fig.update_layout(title_text='Count of Countries per Region',width=1200,height=800)\n",
    "fig.show()\n"
   ]
  },
  {
   "attachments": {},
   "cell_type": "markdown",
   "metadata": {},
   "source": [
    "**Se observa como la mayoría del territorio ocupado por los países analizados se distribuye entre África (35,8%) y Asia (23,1), siendo Europa la menor parte del territorio mundial (24.2%).**"
   ]
  },
  {
   "cell_type": "code",
   "execution_count": 22,
   "metadata": {},
   "outputs": [
    {
     "data": {
      "application/vnd.plotly.v1+json": {
       "config": {
        "plotlyServerURL": "https://plot.ly"
       },
       "data": [
        {
         "marker": {
          "color": [
           "#636EFA",
           "#EF553B",
           "#00CC96",
           "#AB63FA",
           "#FFA15A"
          ]
         },
         "name": "Population (Millions)",
         "type": "bar",
         "x": [
          "Americas",
          "Asia-Pacific",
          "Europe",
          "Middle East and North Africa",
          "Sub-Saharan Africa"
         ],
         "xaxis": "x",
         "y": [
          9939,
          41589,
          8324,
          4333,
          10145
         ],
         "yaxis": "y"
        },
        {
         "marker": {
          "color": [
           "#636EFA",
           "#EF553B",
           "#00CC96",
           "#AB63FA",
           "#FFA15A"
          ]
         },
         "name": "Inflation (%)",
         "type": "bar",
         "x": [
          "Americas",
          "Asia-Pacific",
          "Europe",
          "Middle East and North Africa",
          "Sub-Saharan Africa"
         ],
         "xaxis": "x2",
         "y": [
          249,
          156.20824175824177,
          118.70824175824175,
          97.30824175824176,
          347.50824175824175
         ],
         "yaxis": "y2"
        },
        {
         "marker": {
          "color": [
           "#636EFA",
           "#EF553B",
           "#00CC96",
           "#AB63FA",
           "#FFA15A"
          ]
         },
         "name": "Unemployment (%)",
         "type": "bar",
         "x": [
          "Americas",
          "Asia-Pacific",
          "Europe",
          "Middle East and North Africa",
          "Sub-Saharan Africa"
         ],
         "xaxis": "x3",
         "y": [
          2491.966850828729,
          1831.9337016574586,
          3866.966850828729,
          1538,
          4028.966850828729
         ],
         "yaxis": "y3"
        },
        {
         "marker": {
          "color": [
           "#636EFA",
           "#EF553B",
           "#00CC96",
           "#AB63FA",
           "#FFA15A"
          ]
         },
         "name": "Public Debt (% of GDP)",
         "type": "bar",
         "x": [
          "Americas",
          "Asia-Pacific",
          "Europe",
          "Middle East and North Africa",
          "Sub-Saharan Africa"
         ],
         "xaxis": "x4",
         "y": [
          1871.4,
          2018.1692307692308,
          2694.269230769231,
          1121.1692307692308,
          2798.269230769231
         ],
         "yaxis": "y4"
        }
       ],
       "layout": {
        "annotations": [
         {
          "font": {
           "size": 16
          },
          "showarrow": false,
          "text": "Population (Millions) by Region",
          "x": 0.225,
          "xanchor": "center",
          "xref": "paper",
          "y": 1,
          "yanchor": "bottom",
          "yref": "paper"
         },
         {
          "font": {
           "size": 16
          },
          "showarrow": false,
          "text": "Inflation (%) by Region",
          "x": 0.775,
          "xanchor": "center",
          "xref": "paper",
          "y": 1,
          "yanchor": "bottom",
          "yref": "paper"
         },
         {
          "font": {
           "size": 16
          },
          "showarrow": false,
          "text": "Unemployment (%) by Region",
          "x": 0.225,
          "xanchor": "center",
          "xref": "paper",
          "y": 0.375,
          "yanchor": "bottom",
          "yref": "paper"
         },
         {
          "font": {
           "size": 16
          },
          "showarrow": false,
          "text": "Public Debt (% of GDP) by Region",
          "x": 0.775,
          "xanchor": "center",
          "xref": "paper",
          "y": 0.375,
          "yanchor": "bottom",
          "yref": "paper"
         }
        ],
        "height": 1000,
        "showlegend": true,
        "template": {
         "data": {
          "bar": [
           {
            "error_x": {
             "color": "#f2f5fa"
            },
            "error_y": {
             "color": "#f2f5fa"
            },
            "marker": {
             "line": {
              "color": "rgb(17,17,17)",
              "width": 0.5
             },
             "pattern": {
              "fillmode": "overlay",
              "size": 10,
              "solidity": 0.2
             }
            },
            "type": "bar"
           }
          ],
          "barpolar": [
           {
            "marker": {
             "line": {
              "color": "rgb(17,17,17)",
              "width": 0.5
             },
             "pattern": {
              "fillmode": "overlay",
              "size": 10,
              "solidity": 0.2
             }
            },
            "type": "barpolar"
           }
          ],
          "carpet": [
           {
            "aaxis": {
             "endlinecolor": "#A2B1C6",
             "gridcolor": "#506784",
             "linecolor": "#506784",
             "minorgridcolor": "#506784",
             "startlinecolor": "#A2B1C6"
            },
            "baxis": {
             "endlinecolor": "#A2B1C6",
             "gridcolor": "#506784",
             "linecolor": "#506784",
             "minorgridcolor": "#506784",
             "startlinecolor": "#A2B1C6"
            },
            "type": "carpet"
           }
          ],
          "choropleth": [
           {
            "colorbar": {
             "outlinewidth": 0,
             "ticks": ""
            },
            "type": "choropleth"
           }
          ],
          "contour": [
           {
            "colorbar": {
             "outlinewidth": 0,
             "ticks": ""
            },
            "colorscale": [
             [
              0,
              "#0d0887"
             ],
             [
              0.1111111111111111,
              "#46039f"
             ],
             [
              0.2222222222222222,
              "#7201a8"
             ],
             [
              0.3333333333333333,
              "#9c179e"
             ],
             [
              0.4444444444444444,
              "#bd3786"
             ],
             [
              0.5555555555555556,
              "#d8576b"
             ],
             [
              0.6666666666666666,
              "#ed7953"
             ],
             [
              0.7777777777777778,
              "#fb9f3a"
             ],
             [
              0.8888888888888888,
              "#fdca26"
             ],
             [
              1,
              "#f0f921"
             ]
            ],
            "type": "contour"
           }
          ],
          "contourcarpet": [
           {
            "colorbar": {
             "outlinewidth": 0,
             "ticks": ""
            },
            "type": "contourcarpet"
           }
          ],
          "heatmap": [
           {
            "colorbar": {
             "outlinewidth": 0,
             "ticks": ""
            },
            "colorscale": [
             [
              0,
              "#0d0887"
             ],
             [
              0.1111111111111111,
              "#46039f"
             ],
             [
              0.2222222222222222,
              "#7201a8"
             ],
             [
              0.3333333333333333,
              "#9c179e"
             ],
             [
              0.4444444444444444,
              "#bd3786"
             ],
             [
              0.5555555555555556,
              "#d8576b"
             ],
             [
              0.6666666666666666,
              "#ed7953"
             ],
             [
              0.7777777777777778,
              "#fb9f3a"
             ],
             [
              0.8888888888888888,
              "#fdca26"
             ],
             [
              1,
              "#f0f921"
             ]
            ],
            "type": "heatmap"
           }
          ],
          "heatmapgl": [
           {
            "colorbar": {
             "outlinewidth": 0,
             "ticks": ""
            },
            "colorscale": [
             [
              0,
              "#0d0887"
             ],
             [
              0.1111111111111111,
              "#46039f"
             ],
             [
              0.2222222222222222,
              "#7201a8"
             ],
             [
              0.3333333333333333,
              "#9c179e"
             ],
             [
              0.4444444444444444,
              "#bd3786"
             ],
             [
              0.5555555555555556,
              "#d8576b"
             ],
             [
              0.6666666666666666,
              "#ed7953"
             ],
             [
              0.7777777777777778,
              "#fb9f3a"
             ],
             [
              0.8888888888888888,
              "#fdca26"
             ],
             [
              1,
              "#f0f921"
             ]
            ],
            "type": "heatmapgl"
           }
          ],
          "histogram": [
           {
            "marker": {
             "pattern": {
              "fillmode": "overlay",
              "size": 10,
              "solidity": 0.2
             }
            },
            "type": "histogram"
           }
          ],
          "histogram2d": [
           {
            "colorbar": {
             "outlinewidth": 0,
             "ticks": ""
            },
            "colorscale": [
             [
              0,
              "#0d0887"
             ],
             [
              0.1111111111111111,
              "#46039f"
             ],
             [
              0.2222222222222222,
              "#7201a8"
             ],
             [
              0.3333333333333333,
              "#9c179e"
             ],
             [
              0.4444444444444444,
              "#bd3786"
             ],
             [
              0.5555555555555556,
              "#d8576b"
             ],
             [
              0.6666666666666666,
              "#ed7953"
             ],
             [
              0.7777777777777778,
              "#fb9f3a"
             ],
             [
              0.8888888888888888,
              "#fdca26"
             ],
             [
              1,
              "#f0f921"
             ]
            ],
            "type": "histogram2d"
           }
          ],
          "histogram2dcontour": [
           {
            "colorbar": {
             "outlinewidth": 0,
             "ticks": ""
            },
            "colorscale": [
             [
              0,
              "#0d0887"
             ],
             [
              0.1111111111111111,
              "#46039f"
             ],
             [
              0.2222222222222222,
              "#7201a8"
             ],
             [
              0.3333333333333333,
              "#9c179e"
             ],
             [
              0.4444444444444444,
              "#bd3786"
             ],
             [
              0.5555555555555556,
              "#d8576b"
             ],
             [
              0.6666666666666666,
              "#ed7953"
             ],
             [
              0.7777777777777778,
              "#fb9f3a"
             ],
             [
              0.8888888888888888,
              "#fdca26"
             ],
             [
              1,
              "#f0f921"
             ]
            ],
            "type": "histogram2dcontour"
           }
          ],
          "mesh3d": [
           {
            "colorbar": {
             "outlinewidth": 0,
             "ticks": ""
            },
            "type": "mesh3d"
           }
          ],
          "parcoords": [
           {
            "line": {
             "colorbar": {
              "outlinewidth": 0,
              "ticks": ""
             }
            },
            "type": "parcoords"
           }
          ],
          "pie": [
           {
            "automargin": true,
            "type": "pie"
           }
          ],
          "scatter": [
           {
            "marker": {
             "line": {
              "color": "#283442"
             }
            },
            "type": "scatter"
           }
          ],
          "scatter3d": [
           {
            "line": {
             "colorbar": {
              "outlinewidth": 0,
              "ticks": ""
             }
            },
            "marker": {
             "colorbar": {
              "outlinewidth": 0,
              "ticks": ""
             }
            },
            "type": "scatter3d"
           }
          ],
          "scattercarpet": [
           {
            "marker": {
             "colorbar": {
              "outlinewidth": 0,
              "ticks": ""
             }
            },
            "type": "scattercarpet"
           }
          ],
          "scattergeo": [
           {
            "marker": {
             "colorbar": {
              "outlinewidth": 0,
              "ticks": ""
             }
            },
            "type": "scattergeo"
           }
          ],
          "scattergl": [
           {
            "marker": {
             "line": {
              "color": "#283442"
             }
            },
            "type": "scattergl"
           }
          ],
          "scattermapbox": [
           {
            "marker": {
             "colorbar": {
              "outlinewidth": 0,
              "ticks": ""
             }
            },
            "type": "scattermapbox"
           }
          ],
          "scatterpolar": [
           {
            "marker": {
             "colorbar": {
              "outlinewidth": 0,
              "ticks": ""
             }
            },
            "type": "scatterpolar"
           }
          ],
          "scatterpolargl": [
           {
            "marker": {
             "colorbar": {
              "outlinewidth": 0,
              "ticks": ""
             }
            },
            "type": "scatterpolargl"
           }
          ],
          "scatterternary": [
           {
            "marker": {
             "colorbar": {
              "outlinewidth": 0,
              "ticks": ""
             }
            },
            "type": "scatterternary"
           }
          ],
          "surface": [
           {
            "colorbar": {
             "outlinewidth": 0,
             "ticks": ""
            },
            "colorscale": [
             [
              0,
              "#0d0887"
             ],
             [
              0.1111111111111111,
              "#46039f"
             ],
             [
              0.2222222222222222,
              "#7201a8"
             ],
             [
              0.3333333333333333,
              "#9c179e"
             ],
             [
              0.4444444444444444,
              "#bd3786"
             ],
             [
              0.5555555555555556,
              "#d8576b"
             ],
             [
              0.6666666666666666,
              "#ed7953"
             ],
             [
              0.7777777777777778,
              "#fb9f3a"
             ],
             [
              0.8888888888888888,
              "#fdca26"
             ],
             [
              1,
              "#f0f921"
             ]
            ],
            "type": "surface"
           }
          ],
          "table": [
           {
            "cells": {
             "fill": {
              "color": "#506784"
             },
             "line": {
              "color": "rgb(17,17,17)"
             }
            },
            "header": {
             "fill": {
              "color": "#2a3f5f"
             },
             "line": {
              "color": "rgb(17,17,17)"
             }
            },
            "type": "table"
           }
          ]
         },
         "layout": {
          "annotationdefaults": {
           "arrowcolor": "#f2f5fa",
           "arrowhead": 0,
           "arrowwidth": 1
          },
          "autotypenumbers": "strict",
          "coloraxis": {
           "colorbar": {
            "outlinewidth": 0,
            "ticks": ""
           }
          },
          "colorscale": {
           "diverging": [
            [
             0,
             "#8e0152"
            ],
            [
             0.1,
             "#c51b7d"
            ],
            [
             0.2,
             "#de77ae"
            ],
            [
             0.3,
             "#f1b6da"
            ],
            [
             0.4,
             "#fde0ef"
            ],
            [
             0.5,
             "#f7f7f7"
            ],
            [
             0.6,
             "#e6f5d0"
            ],
            [
             0.7,
             "#b8e186"
            ],
            [
             0.8,
             "#7fbc41"
            ],
            [
             0.9,
             "#4d9221"
            ],
            [
             1,
             "#276419"
            ]
           ],
           "sequential": [
            [
             0,
             "#0d0887"
            ],
            [
             0.1111111111111111,
             "#46039f"
            ],
            [
             0.2222222222222222,
             "#7201a8"
            ],
            [
             0.3333333333333333,
             "#9c179e"
            ],
            [
             0.4444444444444444,
             "#bd3786"
            ],
            [
             0.5555555555555556,
             "#d8576b"
            ],
            [
             0.6666666666666666,
             "#ed7953"
            ],
            [
             0.7777777777777778,
             "#fb9f3a"
            ],
            [
             0.8888888888888888,
             "#fdca26"
            ],
            [
             1,
             "#f0f921"
            ]
           ],
           "sequentialminus": [
            [
             0,
             "#0d0887"
            ],
            [
             0.1111111111111111,
             "#46039f"
            ],
            [
             0.2222222222222222,
             "#7201a8"
            ],
            [
             0.3333333333333333,
             "#9c179e"
            ],
            [
             0.4444444444444444,
             "#bd3786"
            ],
            [
             0.5555555555555556,
             "#d8576b"
            ],
            [
             0.6666666666666666,
             "#ed7953"
            ],
            [
             0.7777777777777778,
             "#fb9f3a"
            ],
            [
             0.8888888888888888,
             "#fdca26"
            ],
            [
             1,
             "#f0f921"
            ]
           ]
          },
          "colorway": [
           "#636efa",
           "#EF553B",
           "#00cc96",
           "#ab63fa",
           "#FFA15A",
           "#19d3f3",
           "#FF6692",
           "#B6E880",
           "#FF97FF",
           "#FECB52"
          ],
          "font": {
           "color": "#f2f5fa"
          },
          "geo": {
           "bgcolor": "rgb(17,17,17)",
           "lakecolor": "rgb(17,17,17)",
           "landcolor": "rgb(17,17,17)",
           "showlakes": true,
           "showland": true,
           "subunitcolor": "#506784"
          },
          "hoverlabel": {
           "align": "left"
          },
          "hovermode": "closest",
          "mapbox": {
           "style": "dark"
          },
          "paper_bgcolor": "rgb(17,17,17)",
          "plot_bgcolor": "rgb(17,17,17)",
          "polar": {
           "angularaxis": {
            "gridcolor": "#506784",
            "linecolor": "#506784",
            "ticks": ""
           },
           "bgcolor": "rgb(17,17,17)",
           "radialaxis": {
            "gridcolor": "#506784",
            "linecolor": "#506784",
            "ticks": ""
           }
          },
          "scene": {
           "xaxis": {
            "backgroundcolor": "rgb(17,17,17)",
            "gridcolor": "#506784",
            "gridwidth": 2,
            "linecolor": "#506784",
            "showbackground": true,
            "ticks": "",
            "zerolinecolor": "#C8D4E3"
           },
           "yaxis": {
            "backgroundcolor": "rgb(17,17,17)",
            "gridcolor": "#506784",
            "gridwidth": 2,
            "linecolor": "#506784",
            "showbackground": true,
            "ticks": "",
            "zerolinecolor": "#C8D4E3"
           },
           "zaxis": {
            "backgroundcolor": "rgb(17,17,17)",
            "gridcolor": "#506784",
            "gridwidth": 2,
            "linecolor": "#506784",
            "showbackground": true,
            "ticks": "",
            "zerolinecolor": "#C8D4E3"
           }
          },
          "shapedefaults": {
           "line": {
            "color": "#f2f5fa"
           }
          },
          "sliderdefaults": {
           "bgcolor": "#C8D4E3",
           "bordercolor": "rgb(17,17,17)",
           "borderwidth": 1,
           "tickwidth": 0
          },
          "ternary": {
           "aaxis": {
            "gridcolor": "#506784",
            "linecolor": "#506784",
            "ticks": ""
           },
           "baxis": {
            "gridcolor": "#506784",
            "linecolor": "#506784",
            "ticks": ""
           },
           "bgcolor": "rgb(17,17,17)",
           "caxis": {
            "gridcolor": "#506784",
            "linecolor": "#506784",
            "ticks": ""
           }
          },
          "title": {
           "x": 0.05
          },
          "updatemenudefaults": {
           "bgcolor": "#506784",
           "borderwidth": 0
          },
          "xaxis": {
           "automargin": true,
           "gridcolor": "#283442",
           "linecolor": "#506784",
           "ticks": "",
           "title": {
            "standoff": 15
           },
           "zerolinecolor": "#283442",
           "zerolinewidth": 2
          },
          "yaxis": {
           "automargin": true,
           "gridcolor": "#283442",
           "linecolor": "#506784",
           "ticks": "",
           "title": {
            "standoff": 15
           },
           "zerolinecolor": "#283442",
           "zerolinewidth": 2
          }
         }
        },
        "title": {
         "text": "Subplots of Population and Economic Indicators per Region"
        },
        "width": 2000,
        "xaxis": {
         "anchor": "y",
         "domain": [
          0,
          0.45
         ],
         "tickangle": 15
        },
        "xaxis2": {
         "anchor": "y2",
         "domain": [
          0.55,
          1
         ],
         "tickangle": 15
        },
        "xaxis3": {
         "anchor": "y3",
         "domain": [
          0,
          0.45
         ],
         "tickangle": 15
        },
        "xaxis4": {
         "anchor": "y4",
         "domain": [
          0.55,
          1
         ],
         "tickangle": 15
        },
        "yaxis": {
         "anchor": "x",
         "domain": [
          0.625,
          1
         ],
         "title": {
          "text": "Population (Millions)"
         }
        },
        "yaxis2": {
         "anchor": "x2",
         "domain": [
          0.625,
          1
         ],
         "title": {
          "text": "Inflation (%)"
         }
        },
        "yaxis3": {
         "anchor": "x3",
         "domain": [
          0,
          0.375
         ],
         "title": {
          "text": "Unemployment (%)"
         }
        },
        "yaxis4": {
         "anchor": "x4",
         "domain": [
          0,
          0.375
         ],
         "title": {
          "text": "Public Debt (% of GDP)"
         }
        }
       }
      }
     },
     "metadata": {},
     "output_type": "display_data"
    }
   ],
   "source": [
    "# creamos un groupby de varias variables macroeconomicas y la variable 'Region'\n",
    "grouped_df = df.groupby(['Region'])['Population (Millions)'].sum().reset_index()\n",
    "grouped_df_inflation = df.groupby(['Region'])['Inflation (%)'].sum().reset_index()\n",
    "grouped_df_unemployment = df.groupby(['Region'])['Unemployment (%)'].sum().reset_index()\n",
    "grouped_df_public_debt = df.groupby(['Region'])['Public Debt (% of GDP)'].sum().reset_index()\n",
    "\n",
    "# añadimos los cores\n",
    "colors = ['#636EFA', '#EF553B', '#00CC96', '#AB63FA', '#FFA15A']\n",
    "\n",
    "# creamos el subplot\n",
    "fig = make_subplots(rows=2, cols=2, subplot_titles=(\"Population (Millions) by Region\",\"Inflation (%) by Region\", \"Unemployment (%) by Region\",\"Public Debt (% of GDP) by Region\" ))\n",
    "\n",
    "# añadimos el primer subplot \n",
    "fig.add_trace(go.Bar(x=grouped_df['Region'], y=grouped_df['Population (Millions)'], marker=dict(color=colors), name=\"Population (Millions)\"), row=1, col=1)\n",
    "fig.update_yaxes(title_text=\"Population (Millions)\", row=1, col=1)\n",
    "\n",
    "# añadimos el segundo subplot \n",
    "fig.add_trace(go.Bar(x=grouped_df_inflation['Region'], y=grouped_df_inflation['Inflation (%)'], marker=dict(color=colors), name=\"Inflation (%)\"), row=1, col=2)\n",
    "fig.update_yaxes(title_text=\"Inflation (%)\", row=1, col=2)\n",
    "\n",
    "# añadimos el tercer subplot \n",
    "fig.add_trace(go.Bar(x=grouped_df_unemployment['Region'], y=grouped_df_unemployment['Unemployment (%)'], marker=dict(color=colors), name=\"Unemployment (%)\"),row=2, col=1)\n",
    "fig.update_yaxes(title_text=\"Unemployment (%)\",row=2, col=1)\n",
    "\n",
    "# # añadimos el cuarto subplot \n",
    "fig.add_trace(go.Bar(x=grouped_df_public_debt['Region'], y=grouped_df_public_debt['Public Debt (% of GDP)'], marker=dict(color=colors), name=\"Public Debt (% of GDP)\"), row=2, col=2)\n",
    "fig.update_yaxes(title_text=\"Public Debt (% of GDP)\", row=2, col=2)\n",
    "\n",
    "\n",
    "# añadimos un update para ciertos paramétros que quedan por añadir\n",
    "fig.update_layout(title_text='Subplots of Population and Economic Indicators per Region')\n",
    "fig.update_layout(width = 2000, height = 1000, showlegend=True)\n",
    "fig.update_xaxes(tickangle=15)\n"
   ]
  },
  {
   "attachments": {},
   "cell_type": "markdown",
   "metadata": {},
   "source": [
    "- **La mayoría de la población se concentra en Asia**\n",
    "- **Las regiones con mayor inflación son la zona Subsahariana y América**\n",
    "- **Europa y la zona de África Subsahariana son las regiones con más desempleo**\n",
    "- **Además Europa y Africa Subsahariana son las zonas con una deuda pública mayor (% del PBI)**"
   ]
  },
  {
   "cell_type": "code",
   "execution_count": 23,
   "metadata": {},
   "outputs": [],
   "source": [
    "# creamos la variable corr con las columnas que se nos pide realizando una correlación de Pearson (r = cov(X, Y) / (std(X) * std(Y))\n",
    "corr = df[['Country', 'Region', 'World Rank', 'Region Rank', '2019 Score',\n",
    "            'Property Rights', 'Judical Effectiveness', 'Government Integrity',\n",
    "            'Tax Burden', \"Gov't Spending\", 'Fiscal Health', 'Business Freedom',\n",
    "            'Labor Freedom', 'Monetary Freedom', 'Trade Freedom',\n",
    "            'Investment Freedom', 'Financial Freedom', 'Tariff Rate (%)',\n",
    "            'Income Tax Rate (%)', 'Corporate Tax Rate (%)', 'Tax Burden % of GDP',\n",
    "            \"Gov't Expenditure % of GDP\", 'Population (Millions)',\n",
    "            'GDP (Billions, PPP)$', 'GDP Growth Rate (%)',\n",
    "            '5 Year GDP Growth Rate (%)', 'GDP per Capita (PPP)$',\n",
    "            'Unemployment (%)', 'Inflation (%)', 'FDI Inflow (Millions)',\n",
    "            'Public Debt (% of GDP)', 'Latitude', 'Longitude']].corr()"
   ]
  },
  {
   "cell_type": "code",
   "execution_count": 24,
   "metadata": {},
   "outputs": [
    {
     "data": {
      "application/vnd.plotly.v1+json": {
       "config": {
        "plotlyServerURL": "https://plot.ly"
       },
       "data": [
        {
         "coloraxis": "coloraxis",
         "hovertemplate": "x: %{x}<br>y: %{y}<br>color: %{z}<extra></extra>",
         "name": "0",
         "type": "heatmap",
         "x": [
          "World Rank",
          "Region Rank",
          "2019 Score",
          "Property Rights",
          "Judical Effectiveness",
          "Government Integrity",
          "Tax Burden",
          "Gov't Spending",
          "Fiscal Health",
          "Business Freedom",
          "Labor Freedom",
          "Monetary Freedom",
          "Trade Freedom",
          "Investment Freedom",
          "Financial Freedom",
          "Tariff Rate (%)",
          "Income Tax Rate (%)",
          "Corporate Tax Rate (%)",
          "Tax Burden % of GDP",
          "Gov't Expenditure % of GDP",
          "Population (Millions)",
          "GDP (Billions, PPP)$",
          "GDP Growth Rate (%)",
          "5 Year GDP Growth Rate (%)",
          "GDP per Capita (PPP)$",
          "Unemployment (%)",
          "Inflation (%)",
          "FDI Inflow (Millions)",
          "Public Debt (% of GDP)",
          "Latitude",
          "Longitude"
         ],
         "xaxis": "x",
         "y": [
          "World Rank",
          "Region Rank",
          "2019 Score",
          "Property Rights",
          "Judical Effectiveness",
          "Government Integrity",
          "Tax Burden",
          "Gov't Spending",
          "Fiscal Health",
          "Business Freedom",
          "Labor Freedom",
          "Monetary Freedom",
          "Trade Freedom",
          "Investment Freedom",
          "Financial Freedom",
          "Tariff Rate (%)",
          "Income Tax Rate (%)",
          "Corporate Tax Rate (%)",
          "Tax Burden % of GDP",
          "Gov't Expenditure % of GDP",
          "Population (Millions)",
          "GDP (Billions, PPP)$",
          "GDP Growth Rate (%)",
          "5 Year GDP Growth Rate (%)",
          "GDP per Capita (PPP)$",
          "Unemployment (%)",
          "Inflation (%)",
          "FDI Inflow (Millions)",
          "Public Debt (% of GDP)",
          "Latitude",
          "Longitude"
         ],
         "yaxis": "y",
         "z": [
          [
           1,
           0.7370598407594557,
           -0.9383277957206249,
           -0.837670872929892,
           -0.7649312910812486,
           -0.7595368679312875,
           0.0016506646350255287,
           0.059671843899457275,
           -0.5379059857118466,
           -0.7486232124618996,
           -0.498883240723536,
           -0.4952336996666406,
           -0.6888989073792132,
           -0.7218208249118983,
           -0.7765088162999528,
           0.5403686707628421,
           -0.027265097289115806,
           0.3282442708075794,
           -0.35309788383532775,
           -0.004538346083429455,
           0.04849548342976418,
           -0.11797140741950503,
           -0.05107101031179412,
           0.0030476924748621477,
           -0.5942879684407056,
           0.05991394365797859,
           0.33955682976161183,
           -0.25034544201175957,
           0.023836470177221486,
           -0.3670628327322717,
           -0.037316841192011625
          ],
          [
           0.7370598407594557,
           1,
           -0.713517236050869,
           -0.5510348209794522,
           -0.5920524483878759,
           -0.565780584671466,
           -0.09231896696254159,
           -0.19577820588320485,
           -0.30033962233286265,
           -0.5291866625079336,
           -0.4376954231071278,
           -0.3535633764942408,
           -0.43993483575975145,
           -0.5254825784549323,
           -0.5899972689933607,
           0.3228905732598658,
           -0.028093453169966164,
           0.13598048675044208,
           0.002787115459341067,
           0.18001693568953953,
           0.026480213730664632,
           -0.08995284543400545,
           -0.026639667539105523,
           -0.07888185142507326,
           -0.4215299722252088,
           0.09028759637076271,
           0.20738835760129878,
           -0.1980742596384074,
           0.07485250882755629,
           -0.01300492811426161,
           0.06317329536376086
          ],
          [
           -0.9383277957206249,
           -0.713517236050869,
           1,
           0.8067269077718998,
           0.7851829682185837,
           0.7464943989400858,
           0.1372788011382097,
           0.04436389168623812,
           0.5485691756867076,
           0.7926142535068178,
           0.5780600631583492,
           0.6243906668428059,
           0.7425464286352648,
           0.7259109309260374,
           0.7843470460370328,
           -0.6297057972232195,
           0.009093222144611769,
           -0.301978514350308,
           0.2777681007975512,
           -0.11146512163431817,
           -0.034512124999815395,
           0.11371643554219224,
           0.08831538771968639,
           0.05046703941468933,
           0.570685903993885,
           -0.05719613029072228,
           -0.37640367533587793,
           0.2760187762424422,
           -0.03324829517609087,
           0.2940128671330847,
           0.05957471579230747
          ],
          [
           -0.837670872929892,
           -0.5510348209794522,
           0.8067269077718998,
           1,
           0.8224451696929013,
           0.8554277642194704,
           -0.14885555680855242,
           -0.2342797163211922,
           0.3486992961234156,
           0.7769425865095176,
           0.4288721379685167,
           0.4730754522388652,
           0.6370978104529467,
           0.659462909855086,
           0.7010848937962375,
           -0.48345120545505493,
           0.15284921681248806,
           -0.29211887043226936,
           0.47024381006534544,
           0.09767324876486014,
           0.010458338725015975,
           0.16513520545837707,
           -0.0748091124152167,
           0.07156344955613449,
           0.637612507870677,
           -0.1153985534492561,
           -0.3572397009025208,
           0.30024179130397155,
           0.09623472304634419,
           0.3652685125927116,
           0.08918142210868525
          ],
          [
           -0.7649312910812486,
           -0.5920524483878759,
           0.7851829682185837,
           0.8224451696929013,
           1,
           0.8786787446344495,
           -0.11106345770431214,
           -0.13427685199993564,
           0.3332409486094564,
           0.7263688484672173,
           0.45770316844620607,
           0.4372518278418793,
           0.5575010927308212,
           0.54494217339451,
           0.589063448203759,
           -0.4356942887779086,
           0.1777479627279499,
           -0.21062510433403292,
           0.3447234956478005,
           0.03223207000366202,
           0.15030156471815592,
           0.28436975721795715,
           -0.022671299158588874,
           0.027662921804321585,
           0.5903982851727394,
           -0.039810386632921316,
           -0.2708667350525801,
           0.3707619710278847,
           0.07267902420618749,
           0.28783322338445866,
           0.14297258011208905
          ],
          [
           -0.7595368679312875,
           -0.565780584671466,
           0.7464943989400858,
           0.8554277642194704,
           0.8786787446344495,
           1,
           -0.2136983562785924,
           -0.29916169453302016,
           0.3120282083639887,
           0.7191762253452529,
           0.4083837640103308,
           0.41193934972091484,
           0.5353155183845968,
           0.5748266094194625,
           0.6067295774391351,
           -0.39667507438167404,
           0.22073036724814565,
           -0.24754256305256045,
           0.4112871305471948,
           0.1650423135573184,
           0.028940577589104143,
           0.19367122238145282,
           -0.06401002664929784,
           0.013560247069199829,
           0.6488712045915668,
           -0.09641022789558673,
           -0.290613637007648,
           0.34032395867122917,
           0.1020980219203175,
           0.32368514063026227,
           0.06788358538098345
          ],
          [
           0.0016506646350255287,
           -0.09231896696254159,
           0.1372788011382097,
           -0.14885555680855242,
           -0.11106345770431214,
           -0.2136983562785924,
           1,
           0.38440882385153224,
           0.01585700788059069,
           0.0908457132009985,
           0.2565493864120501,
           0.12334438890588287,
           0.17464393785221827,
           -0.11398840650665612,
           -0.05130088455266476,
           -0.2630776825746408,
           -0.7938320682284046,
           -0.4946224911266093,
           -0.529010540224049,
           -0.34713449779084726,
           -0.033064352953952714,
           -0.08008341705970187,
           0.07200752025341418,
           0.15740212493279007,
           -0.04971047500651469,
           -0.10297085172155682,
           0.046275391185075586,
           -0.08798662202389525,
           -0.2082290185863052,
           -0.08959185606565623,
           0.10691267413959676
          ],
          [
           0.059671843899457275,
           -0.19577820588320485,
           0.04436389168623812,
           -0.2342797163211922,
           -0.13427685199993564,
           -0.29916169453302016,
           0.38440882385153224,
           1,
           0.0829003980156835,
           -0.14325761985128935,
           0.05530926770257969,
           -0.010172315797305063,
           -0.12660701314909742,
           -0.08569834565480096,
           -0.127185896676311,
           0.07606569589505843,
           -0.0731727192087607,
           0.21006259212006093,
           -0.6243064386448204,
           -0.8858664681628412,
           0.09074380827014408,
           -0.018443419737920907,
           -0.050093516967549115,
           0.28669166421827524,
           -0.23825196950173255,
           -0.12841901527502816,
           0.0894485036180364,
           -0.03638803688417824,
           -0.07517256384028412,
           -0.2854505633389782,
           0.024596933140954572
          ],
          [
           -0.5379059857118466,
           -0.30033962233286265,
           0.5485691756867076,
           0.3486992961234156,
           0.3332409486094564,
           0.3120282083639887,
           0.01585700788059069,
           0.0829003980156835,
           1,
           0.3389280268617641,
           0.18073508152160733,
           0.3163898384951865,
           0.3046565262485129,
           0.27225633797491944,
           0.25205241281626917,
           -0.2624223031023907,
           0.07364829935958747,
           -0.0619183473751922,
           0.1485326581090352,
           -0.13983808397958353,
           -0.07155180973240527,
           -0.01382880808723614,
           0.046215681275913155,
           0.17692985237195766,
           0.2260917511399,
           -0.13123629590467756,
           -0.19114759097828116,
           0.041525969444879074,
           -0.31008489147130563,
           0.25376801783368863,
           -0.02229583478601964
          ],
          [
           -0.7486232124618996,
           -0.5291866625079336,
           0.7926142535068178,
           0.7769425865095176,
           0.7263688484672173,
           0.7191762253452529,
           0.0908457132009985,
           -0.14325761985128935,
           0.3389280268617641,
           1,
           0.5091657829676319,
           0.4786381954638239,
           0.6434140842787344,
           0.5641125453564211,
           0.6004011302824991,
           -0.5400359574638761,
           0.000653705401841465,
           -0.3239439957333884,
           0.36453484745211273,
           0.0019841500902175566,
           -0.03184385737567877,
           0.12108807380206081,
           -0.05405993895836169,
           0.033421788158704245,
           0.4935761056505903,
           0.009324935146368488,
           -0.2757536332631045,
           0.23274468930190245,
           0.05201675887553549,
           0.2932726599036658,
           0.06787547716911735
          ],
          [
           -0.498883240723536,
           -0.4376954231071278,
           0.5780600631583492,
           0.4288721379685167,
           0.45770316844620607,
           0.4083837640103308,
           0.2565493864120501,
           0.05530926770257969,
           0.18073508152160733,
           0.5091657829676319,
           1,
           0.35676760737506413,
           0.39446184728468947,
           0.2903381937418084,
           0.3256455942546325,
           -0.35839840369033465,
           -0.1589698098746407,
           -0.16932302952511363,
           0.01817590356151289,
           -0.10783431137986138,
           -0.03996231330860783,
           0.0925602741009919,
           -0.0017821189723054695,
           0.06671828399702508,
           0.25181051858272946,
           -0.0012504353182487664,
           -0.206245203932227,
           0.21042043533112922,
           -0.025271072929399813,
           -0.0000651550389047581,
           0.15563870281212577
          ],
          [
           -0.4952336996666406,
           -0.3535633764942408,
           0.6243906668428059,
           0.4730754522388652,
           0.4372518278418793,
           0.41193934972091484,
           0.12334438890588287,
           -0.010172315797305063,
           0.3163898384951865,
           0.4786381954638239,
           0.35676760737506413,
           1,
           0.5264479891393632,
           0.5952815288792251,
           0.48600311280780706,
           -0.5002865835690262,
           0.07782939258036167,
           -0.17400041840553374,
           0.24790691642934176,
           -0.12191837402444537,
           -0.07130952499785664,
           0.003335192676122247,
           -0.01999130374283011,
           0.15595803859749166,
           0.27307560509469736,
           -0.005789169903527509,
           -0.7329831184816841,
           0.08395140083167853,
           0.04949028704318461,
           0.09873068425986163,
           -0.018302630894298587
          ],
          [
           -0.6888989073792132,
           -0.43993483575975145,
           0.7425464286352648,
           0.6370978104529467,
           0.5575010927308212,
           0.5353155183845968,
           0.17464393785221827,
           -0.12660701314909742,
           0.3046565262485129,
           0.6434140842787344,
           0.39446184728468947,
           0.5264479891393632,
           1,
           0.5933125344691077,
           0.625907923485048,
           -0.9513825723901433,
           -0.023961082881449776,
           -0.2972642005113996,
           0.33849344982317353,
           -0.010013314591639457,
           -0.018393114508499477,
           0.09983423193629967,
           0.05455696960460345,
           0.026953397255387507,
           0.48373615585018553,
           -0.008365595634945704,
           -0.22875868453441484,
           0.2101673288095143,
           -0.021608112191616603,
           0.24915052423267053,
           0.0787086459058839
          ],
          [
           -0.7218208249118983,
           -0.5254825784549323,
           0.7259109309260374,
           0.659462909855086,
           0.54494217339451,
           0.5748266094194625,
           -0.11398840650665612,
           -0.08569834565480096,
           0.27225633797491944,
           0.5641125453564211,
           0.2903381937418084,
           0.5952815288792251,
           0.5933125344691077,
           1,
           0.787245960478432,
           -0.44864639411638096,
           0.16141977958603898,
           -0.1530095267128724,
           0.43307539789225125,
           -0.053401677582587154,
           -0.13402828600315259,
           -0.0009659190371489535,
           -0.10737070564599857,
           0.008954094770762276,
           0.46829295236787255,
           -0.006717062340645241,
           -0.3777875718756788,
           0.15863640101178497,
           0.11263950951961815,
           0.2266802224976721,
           -0.17212254591994522
          ],
          [
           -0.7765088162999528,
           -0.5899972689933607,
           0.7843470460370328,
           0.7010848937962375,
           0.589063448203759,
           0.6067295774391351,
           -0.05130088455266476,
           -0.127185896676311,
           0.25205241281626917,
           0.6004011302824991,
           0.3256455942546325,
           0.48600311280780706,
           0.625907923485048,
           0.787245960478432,
           1,
           -0.48975748591365503,
           0.07697958402840331,
           -0.2580740072909241,
           0.38026488992711954,
           0.050833891309699376,
           -0.09093738855010013,
           0.05830180144748965,
           0.02936073695394507,
           -0.052505108541170735,
           0.5873057245388282,
           0.0028927593343708296,
           -0.3006783729091591,
           0.2569494006121486,
           0.07335196888234705,
           0.28047787897978516,
           -0.020769223800185872
          ],
          [
           0.5403686707628421,
           0.3228905732598658,
           -0.6297057972232195,
           -0.48345120545505493,
           -0.4356942887779086,
           -0.39667507438167404,
           -0.2630776825746408,
           0.07606569589505843,
           -0.2624223031023907,
           -0.5400359574638761,
           -0.35839840369033465,
           -0.5002865835690262,
           -0.9513825723901433,
           -0.44864639411638096,
           -0.48975748591365503,
           1,
           0.05018889653711225,
           0.25085623226821274,
           -0.26505862583301026,
           0.07229192012434082,
           -0.01620288012976318,
           -0.11294325162858763,
           -0.03553691360946409,
           -0.0018101702226195108,
           -0.3777684748330841,
           -0.0024228678593489097,
           0.17061228782933333,
           -0.17489567671849932,
           0.03227078277996349,
           -0.18571352499982993,
           -0.06907221754678705
          ],
          [
           -0.027265097289115806,
           -0.028093453169966164,
           0.009093222144611769,
           0.15284921681248806,
           0.1777479627279499,
           0.22073036724814565,
           -0.7938320682284046,
           -0.0731727192087607,
           0.07364829935958747,
           0.000653705401841465,
           -0.1589698098746407,
           0.07782939258036167,
           -0.023961082881449776,
           0.16141977958603898,
           0.07697958402840331,
           0.05018889653711225,
           1,
           0.5604887490778018,
           0.3409754407802051,
           0.015244858232099177,
           0.11567745203333464,
           0.16253661955166945,
           -0.10689366236356619,
           -0.03200656417619007,
           -0.06727368529773331,
           0.03099570993821535,
           -0.042137667731109996,
           0.15255350463040598,
           0.23083461270330896,
           -0.01986769516680227,
           -0.1651919323341609
          ],
          [
           0.3282442708075794,
           0.13598048675044208,
           -0.301978514350308,
           -0.29211887043226936,
           -0.21062510433403292,
           -0.24754256305256045,
           -0.4946224911266093,
           0.21006259212006093,
           -0.0619183473751922,
           -0.3239439957333884,
           -0.16932302952511363,
           -0.17400041840553374,
           -0.2972642005113996,
           -0.1530095267128724,
           -0.2580740072909241,
           0.25085623226821274,
           0.5604887490778018,
           1,
           -0.06029790725682215,
           -0.16397025928599512,
           0.1033391565650312,
           0.006752434541400059,
           -0.04921415136382297,
           -0.020013602169938915,
           -0.34636622421917584,
           0.0425995463605894,
           0.1986613730354674,
           -0.02418880601847499,
           0.07458225023618986,
           -0.35769625865018756,
           -0.19256997125074407
          ],
          [
           -0.35309788383532775,
           0.002787115459341067,
           0.2777681007975512,
           0.47024381006534544,
           0.3447234956478005,
           0.4112871305471948,
           -0.529010540224049,
           -0.6243064386448204,
           0.1485326581090352,
           0.36453484745211273,
           0.01817590356151289,
           0.24790691642934176,
           0.33849344982317353,
           0.43307539789225125,
           0.38026488992711954,
           -0.26505862583301026,
           0.3409754407802051,
           -0.06029790725682215,
           1,
           0.4612062157750413,
           -0.13474215751904137,
           0.01074211854851988,
           -0.03906467697966261,
           -0.21792666400223834,
           0.2602548117326218,
           0.3040249765418684,
           -0.1811248937343696,
           0.0786859416710275,
           0.21286373482080853,
           0.3336433901166241,
           -0.16433405408764956
          ],
          [
           -0.004538346083429455,
           0.18001693568953953,
           -0.11146512163431817,
           0.09767324876486014,
           0.03223207000366202,
           0.1650423135573184,
           -0.34713449779084726,
           -0.8858664681628412,
           -0.13983808397958353,
           0.0019841500902175566,
           -0.10783431137986138,
           -0.12191837402444537,
           -0.010013314591639457,
           -0.053401677582587154,
           0.050833891309699376,
           0.07229192012434082,
           0.015244858232099177,
           -0.16397025928599512,
           0.4612062157750413,
           1,
           -0.07701689998856585,
           0.005947703039546816,
           0.3241143715422219,
           -0.32925786018740616,
           0.13296715668064285,
           0.15846498400261907,
           -0.014154746883738516,
           0.01885159810935591,
           0.02172768945897367,
           0.20649286864110442,
           -0.06551556529990273
          ],
          [
           0.04849548342976418,
           0.026480213730664632,
           -0.034512124999815395,
           0.010458338725015975,
           0.15030156471815592,
           0.028940577589104143,
           -0.033064352953952714,
           0.09074380827014408,
           -0.07155180973240527,
           -0.03184385737567877,
           -0.03996231330860783,
           -0.07130952499785664,
           -0.018393114508499477,
           -0.13402828600315259,
           -0.09093738855010013,
           -0.01620288012976318,
           0.11567745203333464,
           0.1033391565650312,
           -0.13474215751904137,
           -0.07701689998856585,
           1,
           0.8066983213169737,
           0.05817430797499524,
           0.16198928836707965,
           -0.047053806655308526,
           -0.0864570476530685,
           0.00623454940323578,
           0.47570560079486524,
           0.03259749735288366,
           0.0483217120546667,
           0.13029199175973696
          ],
          [
           -0.11797140741950503,
           -0.08995284543400545,
           0.11371643554219224,
           0.16513520545837707,
           0.28436975721795715,
           0.19367122238145282,
           -0.08008341705970187,
           -0.018443419737920907,
           -0.01382880808723614,
           0.12108807380206081,
           0.0925602741009919,
           0.003335192676122247,
           0.09983423193629967,
           -0.0009659190371489535,
           0.05830180144748965,
           -0.11294325162858763,
           0.16253661955166945,
           0.006752434541400059,
           0.01074211854851988,
           0.005947703039546816,
           0.8066983213169737,
           1,
           0.015117348876123917,
           0.06404028432234997,
           0.12321028016497385,
           -0.08534267227967565,
           -0.0475274433191356,
           0.81313690339838,
           0.12895035448453881,
           0.13977085710638779,
           0.05150915130877779
          ],
          [
           -0.05107101031179412,
           -0.026639667539105523,
           0.08831538771968639,
           -0.0748091124152167,
           -0.022671299158588874,
           -0.06401002664929784,
           0.07200752025341418,
           -0.050093516967549115,
           0.046215681275913155,
           -0.05405993895836169,
           -0.0017821189723054695,
           -0.01999130374283011,
           0.05455696960460345,
           -0.10737070564599857,
           0.02936073695394507,
           -0.03553691360946409,
           -0.10689366236356619,
           -0.04921415136382297,
           -0.03906467697966261,
           0.3241143715422219,
           0.05817430797499524,
           0.015117348876123917,
           1,
           0.15627076590535652,
           -0.06280803352997269,
           -0.008014089159156025,
           -0.019215717525944438,
           0.015678522105104477,
           -0.1791416376479125,
           0.07103326398576991,
           0.09438794793981453
          ],
          [
           0.0030476924748621477,
           -0.07888185142507326,
           0.05046703941468933,
           0.07156344955613449,
           0.027662921804321585,
           0.013560247069199829,
           0.15740212493279007,
           0.28669166421827524,
           0.17692985237195766,
           0.033421788158704245,
           0.06671828399702508,
           0.15595803859749166,
           0.026953397255387507,
           0.008954094770762276,
           -0.052505108541170735,
           -0.0018101702226195108,
           -0.03200656417619007,
           -0.020013602169938915,
           -0.21792666400223834,
           -0.32925786018740616,
           0.16198928836707965,
           0.06404028432234997,
           0.15627076590535652,
           1,
           -0.13803149922966912,
           -0.252318841466868,
           -0.23484375137215358,
           0.009194933619162824,
           -0.19069249324391568,
           -0.0435584501953982,
           0.152035636228383
          ],
          [
           -0.5942879684407056,
           -0.4215299722252088,
           0.570685903993885,
           0.637612507870677,
           0.5903982851727394,
           0.6488712045915668,
           -0.04971047500651469,
           -0.23825196950173255,
           0.2260917511399,
           0.4935761056505903,
           0.25181051858272946,
           0.27307560509469736,
           0.48373615585018553,
           0.46829295236787255,
           0.5873057245388282,
           -0.3777684748330841,
           -0.06727368529773331,
           -0.34636622421917584,
           0.2602548117326218,
           0.13296715668064285,
           -0.047053806655308526,
           0.12321028016497385,
           -0.06280803352997269,
           -0.13803149922966912,
           1,
           -0.18129797190557967,
           -0.1898631370025617,
           0.2766800225670551,
           -0.013595964438494161,
           0.37505370044139313,
           0.09876021220314962
          ],
          [
           0.05991394365797859,
           0.09028759637076271,
           -0.05719613029072228,
           -0.1153985534492561,
           -0.039810386632921316,
           -0.09641022789558673,
           -0.10297085172155682,
           -0.12841901527502816,
           -0.13123629590467756,
           0.009324935146368488,
           -0.0012504353182487664,
           -0.005789169903527509,
           -0.008365595634945704,
           -0.006717062340645241,
           0.0028927593343708296,
           -0.0024228678593489097,
           0.03099570993821535,
           0.0425995463605894,
           0.3040249765418684,
           0.15846498400261907,
           -0.0864570476530685,
           -0.08534267227967565,
           -0.008014089159156025,
           -0.252318841466868,
           -0.18129797190557967,
           1,
           0.07175394531734414,
           -0.09781412712194125,
           0.20228568683850878,
           -0.08079341271050378,
           -0.14981689248539676
          ],
          [
           0.33955682976161183,
           0.20738835760129878,
           -0.37640367533587793,
           -0.3572397009025208,
           -0.2708667350525801,
           -0.290613637007648,
           0.046275391185075586,
           0.0894485036180364,
           -0.19114759097828116,
           -0.2757536332631045,
           -0.206245203932227,
           -0.7329831184816841,
           -0.22875868453441484,
           -0.3777875718756788,
           -0.3006783729091591,
           0.17061228782933333,
           -0.042137667731109996,
           0.1986613730354674,
           -0.1811248937343696,
           -0.014154746883738516,
           0.00623454940323578,
           -0.0475274433191356,
           -0.019215717525944438,
           -0.23484375137215358,
           -0.1898631370025617,
           0.07175394531734414,
           1,
           -0.07561611971905015,
           -0.042652868080499444,
           -0.1483315938640757,
           -0.10758628299501556
          ],
          [
           -0.25034544201175957,
           -0.1980742596384074,
           0.2760187762424422,
           0.30024179130397155,
           0.3707619710278847,
           0.34032395867122917,
           -0.08798662202389525,
           -0.03638803688417824,
           0.041525969444879074,
           0.23274468930190245,
           0.21042043533112922,
           0.08395140083167853,
           0.2101673288095143,
           0.15863640101178497,
           0.2569494006121486,
           -0.17489567671849932,
           0.15255350463040598,
           -0.02418880601847499,
           0.0786859416710275,
           0.01885159810935591,
           0.47570560079486524,
           0.81313690339838,
           0.015678522105104477,
           0.009194933619162824,
           0.2766800225670551,
           -0.09781412712194125,
           -0.07561611971905015,
           1,
           0.09661312294115429,
           0.12509148998140235,
           -0.01301187348197627
          ],
          [
           0.023836470177221486,
           0.07485250882755629,
           -0.03324829517609087,
           0.09623472304634419,
           0.07267902420618749,
           0.1020980219203175,
           -0.2082290185863052,
           -0.07517256384028412,
           -0.31008489147130563,
           0.05201675887553549,
           -0.025271072929399813,
           0.04949028704318461,
           -0.021608112191616603,
           0.11263950951961815,
           0.07335196888234705,
           0.03227078277996349,
           0.23083461270330896,
           0.07458225023618986,
           0.21286373482080853,
           0.02172768945897367,
           0.03259749735288366,
           0.12895035448453881,
           -0.1791416376479125,
           -0.19069249324391568,
           -0.013595964438494161,
           0.20228568683850878,
           -0.042652868080499444,
           0.09661312294115429,
           1,
           0.11848401376510645,
           -0.09733696722585143
          ],
          [
           -0.3670628327322717,
           -0.01300492811426161,
           0.2940128671330847,
           0.3652685125927116,
           0.28783322338445866,
           0.32368514063026227,
           -0.08959185606565623,
           -0.2854505633389782,
           0.25376801783368863,
           0.2932726599036658,
           -0.0000651550389047581,
           0.09873068425986163,
           0.24915052423267053,
           0.2266802224976721,
           0.28047787897978516,
           -0.18571352499982993,
           -0.01986769516680227,
           -0.35769625865018756,
           0.3336433901166241,
           0.20649286864110442,
           0.0483217120546667,
           0.13977085710638779,
           0.07103326398576991,
           -0.0435584501953982,
           0.37505370044139313,
           -0.08079341271050378,
           -0.1483315938640757,
           0.12509148998140235,
           0.11848401376510645,
           1,
           0.05891501329460839
          ],
          [
           -0.037316841192011625,
           0.06317329536376086,
           0.05957471579230747,
           0.08918142210868525,
           0.14297258011208905,
           0.06788358538098345,
           0.10691267413959676,
           0.024596933140954572,
           -0.02229583478601964,
           0.06787547716911735,
           0.15563870281212577,
           -0.018302630894298587,
           0.0787086459058839,
           -0.17212254591994522,
           -0.020769223800185872,
           -0.06907221754678705,
           -0.1651919323341609,
           -0.19256997125074407,
           -0.16433405408764956,
           -0.06551556529990273,
           0.13029199175973696,
           0.05150915130877779,
           0.09438794793981453,
           0.152035636228383,
           0.09876021220314962,
           -0.14981689248539676,
           -0.10758628299501556,
           -0.01301187348197627,
           -0.09733696722585143,
           0.05891501329460839,
           1
          ]
         ]
        }
       ],
       "layout": {
        "coloraxis": {
         "colorscale": [
          [
           0,
           "rgb(0,0,131)"
          ],
          [
           0.2,
           "rgb(0,60,170)"
          ],
          [
           0.4,
           "rgb(5,255,255)"
          ],
          [
           0.6,
           "rgb(255,255,0)"
          ],
          [
           0.8,
           "rgb(250,0,0)"
          ],
          [
           1,
           "rgb(128,0,0)"
          ]
         ]
        },
        "height": 800,
        "margin": {
         "t": 60
        },
        "template": {
         "data": {
          "bar": [
           {
            "error_x": {
             "color": "#f2f5fa"
            },
            "error_y": {
             "color": "#f2f5fa"
            },
            "marker": {
             "line": {
              "color": "rgb(17,17,17)",
              "width": 0.5
             },
             "pattern": {
              "fillmode": "overlay",
              "size": 10,
              "solidity": 0.2
             }
            },
            "type": "bar"
           }
          ],
          "barpolar": [
           {
            "marker": {
             "line": {
              "color": "rgb(17,17,17)",
              "width": 0.5
             },
             "pattern": {
              "fillmode": "overlay",
              "size": 10,
              "solidity": 0.2
             }
            },
            "type": "barpolar"
           }
          ],
          "carpet": [
           {
            "aaxis": {
             "endlinecolor": "#A2B1C6",
             "gridcolor": "#506784",
             "linecolor": "#506784",
             "minorgridcolor": "#506784",
             "startlinecolor": "#A2B1C6"
            },
            "baxis": {
             "endlinecolor": "#A2B1C6",
             "gridcolor": "#506784",
             "linecolor": "#506784",
             "minorgridcolor": "#506784",
             "startlinecolor": "#A2B1C6"
            },
            "type": "carpet"
           }
          ],
          "choropleth": [
           {
            "colorbar": {
             "outlinewidth": 0,
             "ticks": ""
            },
            "type": "choropleth"
           }
          ],
          "contour": [
           {
            "colorbar": {
             "outlinewidth": 0,
             "ticks": ""
            },
            "colorscale": [
             [
              0,
              "#0d0887"
             ],
             [
              0.1111111111111111,
              "#46039f"
             ],
             [
              0.2222222222222222,
              "#7201a8"
             ],
             [
              0.3333333333333333,
              "#9c179e"
             ],
             [
              0.4444444444444444,
              "#bd3786"
             ],
             [
              0.5555555555555556,
              "#d8576b"
             ],
             [
              0.6666666666666666,
              "#ed7953"
             ],
             [
              0.7777777777777778,
              "#fb9f3a"
             ],
             [
              0.8888888888888888,
              "#fdca26"
             ],
             [
              1,
              "#f0f921"
             ]
            ],
            "type": "contour"
           }
          ],
          "contourcarpet": [
           {
            "colorbar": {
             "outlinewidth": 0,
             "ticks": ""
            },
            "type": "contourcarpet"
           }
          ],
          "heatmap": [
           {
            "colorbar": {
             "outlinewidth": 0,
             "ticks": ""
            },
            "colorscale": [
             [
              0,
              "#0d0887"
             ],
             [
              0.1111111111111111,
              "#46039f"
             ],
             [
              0.2222222222222222,
              "#7201a8"
             ],
             [
              0.3333333333333333,
              "#9c179e"
             ],
             [
              0.4444444444444444,
              "#bd3786"
             ],
             [
              0.5555555555555556,
              "#d8576b"
             ],
             [
              0.6666666666666666,
              "#ed7953"
             ],
             [
              0.7777777777777778,
              "#fb9f3a"
             ],
             [
              0.8888888888888888,
              "#fdca26"
             ],
             [
              1,
              "#f0f921"
             ]
            ],
            "type": "heatmap"
           }
          ],
          "heatmapgl": [
           {
            "colorbar": {
             "outlinewidth": 0,
             "ticks": ""
            },
            "colorscale": [
             [
              0,
              "#0d0887"
             ],
             [
              0.1111111111111111,
              "#46039f"
             ],
             [
              0.2222222222222222,
              "#7201a8"
             ],
             [
              0.3333333333333333,
              "#9c179e"
             ],
             [
              0.4444444444444444,
              "#bd3786"
             ],
             [
              0.5555555555555556,
              "#d8576b"
             ],
             [
              0.6666666666666666,
              "#ed7953"
             ],
             [
              0.7777777777777778,
              "#fb9f3a"
             ],
             [
              0.8888888888888888,
              "#fdca26"
             ],
             [
              1,
              "#f0f921"
             ]
            ],
            "type": "heatmapgl"
           }
          ],
          "histogram": [
           {
            "marker": {
             "pattern": {
              "fillmode": "overlay",
              "size": 10,
              "solidity": 0.2
             }
            },
            "type": "histogram"
           }
          ],
          "histogram2d": [
           {
            "colorbar": {
             "outlinewidth": 0,
             "ticks": ""
            },
            "colorscale": [
             [
              0,
              "#0d0887"
             ],
             [
              0.1111111111111111,
              "#46039f"
             ],
             [
              0.2222222222222222,
              "#7201a8"
             ],
             [
              0.3333333333333333,
              "#9c179e"
             ],
             [
              0.4444444444444444,
              "#bd3786"
             ],
             [
              0.5555555555555556,
              "#d8576b"
             ],
             [
              0.6666666666666666,
              "#ed7953"
             ],
             [
              0.7777777777777778,
              "#fb9f3a"
             ],
             [
              0.8888888888888888,
              "#fdca26"
             ],
             [
              1,
              "#f0f921"
             ]
            ],
            "type": "histogram2d"
           }
          ],
          "histogram2dcontour": [
           {
            "colorbar": {
             "outlinewidth": 0,
             "ticks": ""
            },
            "colorscale": [
             [
              0,
              "#0d0887"
             ],
             [
              0.1111111111111111,
              "#46039f"
             ],
             [
              0.2222222222222222,
              "#7201a8"
             ],
             [
              0.3333333333333333,
              "#9c179e"
             ],
             [
              0.4444444444444444,
              "#bd3786"
             ],
             [
              0.5555555555555556,
              "#d8576b"
             ],
             [
              0.6666666666666666,
              "#ed7953"
             ],
             [
              0.7777777777777778,
              "#fb9f3a"
             ],
             [
              0.8888888888888888,
              "#fdca26"
             ],
             [
              1,
              "#f0f921"
             ]
            ],
            "type": "histogram2dcontour"
           }
          ],
          "mesh3d": [
           {
            "colorbar": {
             "outlinewidth": 0,
             "ticks": ""
            },
            "type": "mesh3d"
           }
          ],
          "parcoords": [
           {
            "line": {
             "colorbar": {
              "outlinewidth": 0,
              "ticks": ""
             }
            },
            "type": "parcoords"
           }
          ],
          "pie": [
           {
            "automargin": true,
            "type": "pie"
           }
          ],
          "scatter": [
           {
            "marker": {
             "line": {
              "color": "#283442"
             }
            },
            "type": "scatter"
           }
          ],
          "scatter3d": [
           {
            "line": {
             "colorbar": {
              "outlinewidth": 0,
              "ticks": ""
             }
            },
            "marker": {
             "colorbar": {
              "outlinewidth": 0,
              "ticks": ""
             }
            },
            "type": "scatter3d"
           }
          ],
          "scattercarpet": [
           {
            "marker": {
             "colorbar": {
              "outlinewidth": 0,
              "ticks": ""
             }
            },
            "type": "scattercarpet"
           }
          ],
          "scattergeo": [
           {
            "marker": {
             "colorbar": {
              "outlinewidth": 0,
              "ticks": ""
             }
            },
            "type": "scattergeo"
           }
          ],
          "scattergl": [
           {
            "marker": {
             "line": {
              "color": "#283442"
             }
            },
            "type": "scattergl"
           }
          ],
          "scattermapbox": [
           {
            "marker": {
             "colorbar": {
              "outlinewidth": 0,
              "ticks": ""
             }
            },
            "type": "scattermapbox"
           }
          ],
          "scatterpolar": [
           {
            "marker": {
             "colorbar": {
              "outlinewidth": 0,
              "ticks": ""
             }
            },
            "type": "scatterpolar"
           }
          ],
          "scatterpolargl": [
           {
            "marker": {
             "colorbar": {
              "outlinewidth": 0,
              "ticks": ""
             }
            },
            "type": "scatterpolargl"
           }
          ],
          "scatterternary": [
           {
            "marker": {
             "colorbar": {
              "outlinewidth": 0,
              "ticks": ""
             }
            },
            "type": "scatterternary"
           }
          ],
          "surface": [
           {
            "colorbar": {
             "outlinewidth": 0,
             "ticks": ""
            },
            "colorscale": [
             [
              0,
              "#0d0887"
             ],
             [
              0.1111111111111111,
              "#46039f"
             ],
             [
              0.2222222222222222,
              "#7201a8"
             ],
             [
              0.3333333333333333,
              "#9c179e"
             ],
             [
              0.4444444444444444,
              "#bd3786"
             ],
             [
              0.5555555555555556,
              "#d8576b"
             ],
             [
              0.6666666666666666,
              "#ed7953"
             ],
             [
              0.7777777777777778,
              "#fb9f3a"
             ],
             [
              0.8888888888888888,
              "#fdca26"
             ],
             [
              1,
              "#f0f921"
             ]
            ],
            "type": "surface"
           }
          ],
          "table": [
           {
            "cells": {
             "fill": {
              "color": "#506784"
             },
             "line": {
              "color": "rgb(17,17,17)"
             }
            },
            "header": {
             "fill": {
              "color": "#2a3f5f"
             },
             "line": {
              "color": "rgb(17,17,17)"
             }
            },
            "type": "table"
           }
          ]
         },
         "layout": {
          "annotationdefaults": {
           "arrowcolor": "#f2f5fa",
           "arrowhead": 0,
           "arrowwidth": 1
          },
          "autotypenumbers": "strict",
          "coloraxis": {
           "colorbar": {
            "outlinewidth": 0,
            "ticks": ""
           }
          },
          "colorscale": {
           "diverging": [
            [
             0,
             "#8e0152"
            ],
            [
             0.1,
             "#c51b7d"
            ],
            [
             0.2,
             "#de77ae"
            ],
            [
             0.3,
             "#f1b6da"
            ],
            [
             0.4,
             "#fde0ef"
            ],
            [
             0.5,
             "#f7f7f7"
            ],
            [
             0.6,
             "#e6f5d0"
            ],
            [
             0.7,
             "#b8e186"
            ],
            [
             0.8,
             "#7fbc41"
            ],
            [
             0.9,
             "#4d9221"
            ],
            [
             1,
             "#276419"
            ]
           ],
           "sequential": [
            [
             0,
             "#0d0887"
            ],
            [
             0.1111111111111111,
             "#46039f"
            ],
            [
             0.2222222222222222,
             "#7201a8"
            ],
            [
             0.3333333333333333,
             "#9c179e"
            ],
            [
             0.4444444444444444,
             "#bd3786"
            ],
            [
             0.5555555555555556,
             "#d8576b"
            ],
            [
             0.6666666666666666,
             "#ed7953"
            ],
            [
             0.7777777777777778,
             "#fb9f3a"
            ],
            [
             0.8888888888888888,
             "#fdca26"
            ],
            [
             1,
             "#f0f921"
            ]
           ],
           "sequentialminus": [
            [
             0,
             "#0d0887"
            ],
            [
             0.1111111111111111,
             "#46039f"
            ],
            [
             0.2222222222222222,
             "#7201a8"
            ],
            [
             0.3333333333333333,
             "#9c179e"
            ],
            [
             0.4444444444444444,
             "#bd3786"
            ],
            [
             0.5555555555555556,
             "#d8576b"
            ],
            [
             0.6666666666666666,
             "#ed7953"
            ],
            [
             0.7777777777777778,
             "#fb9f3a"
            ],
            [
             0.8888888888888888,
             "#fdca26"
            ],
            [
             1,
             "#f0f921"
            ]
           ]
          },
          "colorway": [
           "#636efa",
           "#EF553B",
           "#00cc96",
           "#ab63fa",
           "#FFA15A",
           "#19d3f3",
           "#FF6692",
           "#B6E880",
           "#FF97FF",
           "#FECB52"
          ],
          "font": {
           "color": "#f2f5fa"
          },
          "geo": {
           "bgcolor": "rgb(17,17,17)",
           "lakecolor": "rgb(17,17,17)",
           "landcolor": "rgb(17,17,17)",
           "showlakes": true,
           "showland": true,
           "subunitcolor": "#506784"
          },
          "hoverlabel": {
           "align": "left"
          },
          "hovermode": "closest",
          "mapbox": {
           "style": "dark"
          },
          "paper_bgcolor": "rgb(17,17,17)",
          "plot_bgcolor": "rgb(17,17,17)",
          "polar": {
           "angularaxis": {
            "gridcolor": "#506784",
            "linecolor": "#506784",
            "ticks": ""
           },
           "bgcolor": "rgb(17,17,17)",
           "radialaxis": {
            "gridcolor": "#506784",
            "linecolor": "#506784",
            "ticks": ""
           }
          },
          "scene": {
           "xaxis": {
            "backgroundcolor": "rgb(17,17,17)",
            "gridcolor": "#506784",
            "gridwidth": 2,
            "linecolor": "#506784",
            "showbackground": true,
            "ticks": "",
            "zerolinecolor": "#C8D4E3"
           },
           "yaxis": {
            "backgroundcolor": "rgb(17,17,17)",
            "gridcolor": "#506784",
            "gridwidth": 2,
            "linecolor": "#506784",
            "showbackground": true,
            "ticks": "",
            "zerolinecolor": "#C8D4E3"
           },
           "zaxis": {
            "backgroundcolor": "rgb(17,17,17)",
            "gridcolor": "#506784",
            "gridwidth": 2,
            "linecolor": "#506784",
            "showbackground": true,
            "ticks": "",
            "zerolinecolor": "#C8D4E3"
           }
          },
          "shapedefaults": {
           "line": {
            "color": "#f2f5fa"
           }
          },
          "sliderdefaults": {
           "bgcolor": "#C8D4E3",
           "bordercolor": "rgb(17,17,17)",
           "borderwidth": 1,
           "tickwidth": 0
          },
          "ternary": {
           "aaxis": {
            "gridcolor": "#506784",
            "linecolor": "#506784",
            "ticks": ""
           },
           "baxis": {
            "gridcolor": "#506784",
            "linecolor": "#506784",
            "ticks": ""
           },
           "bgcolor": "rgb(17,17,17)",
           "caxis": {
            "gridcolor": "#506784",
            "linecolor": "#506784",
            "ticks": ""
           }
          },
          "title": {
           "x": 0.05
          },
          "updatemenudefaults": {
           "bgcolor": "#506784",
           "borderwidth": 0
          },
          "xaxis": {
           "automargin": true,
           "gridcolor": "#283442",
           "linecolor": "#506784",
           "ticks": "",
           "title": {
            "standoff": 15
           },
           "zerolinecolor": "#283442",
           "zerolinewidth": 2
          },
          "yaxis": {
           "automargin": true,
           "gridcolor": "#283442",
           "linecolor": "#506784",
           "ticks": "",
           "title": {
            "standoff": 15
           },
           "zerolinecolor": "#283442",
           "zerolinewidth": 2
          }
         }
        },
        "title": {
         "text": "Pearson correlation matrix"
        },
        "width": 2000,
        "xaxis": {
         "anchor": "y",
         "constrain": "domain",
         "domain": [
          0,
          1
         ],
         "scaleanchor": "y"
        },
        "yaxis": {
         "anchor": "x",
         "autorange": "reversed",
         "constrain": "domain",
         "domain": [
          0,
          1
         ]
        }
       }
      }
     },
     "metadata": {},
     "output_type": "display_data"
    }
   ],
   "source": [
    "# creamos un gráfico de calor utilizando la matriz de correlación\n",
    "fig = px.imshow(corr, color_continuous_scale=px.colors.sequential.Jet)\n",
    "fig.update_layout(width = 2000, height = 800)\n",
    "fig.update_layout(title ='Pearson correlation matrix' )\n",
    "fig.show()"
   ]
  },
  {
   "attachments": {},
   "cell_type": "markdown",
   "metadata": {},
   "source": [
    "<p style=\"color:white; font-size:20px;\">Tras ver las variables que tienen una correlación 0.70<=, empezamos a hacer nuestro análisis exploratorio. </p>"
   ]
  },
  {
   "attachments": {},
   "cell_type": "markdown",
   "metadata": {},
   "source": [
    "<p style=\"color:white; font-size:20px;\">World Rank y Region Rank </p>"
   ]
  },
  {
   "cell_type": "code",
   "execution_count": 25,
   "metadata": {},
   "outputs": [
    {
     "data": {
      "application/vnd.plotly.v1+json": {
       "config": {
        "plotlyServerURL": "https://plot.ly"
       },
       "data": [
        {
         "geo": "geo",
         "lat": [
          33.93911,
          41.153332,
          28.033886,
          -11.202692,
          -38.416097,
          40.069099,
          -25.274398,
          47.516231,
          40.143105,
          25.03428,
          25.930414,
          23.684994,
          13.193887,
          53.709807,
          50.503887,
          17.189877,
          9.30769,
          27.514162,
          -16.290154,
          43.915886,
          -22.328474,
          -14.235004,
          4.535277,
          42.733883,
          12.238333,
          21.913965,
          -3.373056,
          12.565679,
          7.369722,
          56.130366,
          16.002082,
          6.611111,
          15.454166,
          -35.675147,
          35.86166,
          4.570868,
          -11.875001,
          -0.228021,
          -4.038333,
          9.748917,
          7.539989,
          45.1667,
          21.521757,
          35.126413,
          49.817492,
          56.26392,
          11.825138,
          15.414999,
          18.735693,
          -1.831239,
          26.820553,
          13.794185,
          1.650801,
          15.179384,
          58.595272,
          -26.522503,
          9.145,
          -16.578193,
          61.92411,
          46.227638,
          -0.803689,
          13.443182,
          42.315407,
          51.165691,
          7.946527,
          39.074208,
          15.783471,
          9.945587,
          11.803749,
          4.860416,
          18.971187,
          15.199999,
          22.396428,
          47.162494,
          64.963051,
          20.593684,
          -0.789275,
          32.427908,
          33.223191,
          53.41291,
          31.046051,
          41.87194,
          18.109581,
          36.204824,
          30.585164,
          48.019573,
          -0.023559,
          -3.370417,
          40.339852,
          35.907757,
          42.602636,
          29.31166,
          41.20438,
          19.85627,
          56.879635,
          33.854721,
          -29.609988,
          6.428055,
          26.3351,
          47.166,
          55.169438,
          49.815273,
          22.198745,
          41.608635,
          -18.766947,
          -13.254308,
          4.210484,
          3.202778,
          17.570692,
          35.937496,
          21.00789,
          -20.348404,
          23.634501,
          7.425554,
          47.411631,
          46.862496,
          42.708678,
          31.791702,
          -18.665695,
          -22.95764,
          28.394857,
          52.132633,
          -40.900557,
          12.865416,
          17.607789,
          9.081999,
          60.472024,
          21.512583,
          30.375321,
          8.537981,
          -6.314993,
          -23.442503,
          -9.189967,
          12.879721,
          51.919438,
          39.399872,
          25.354826,
          45.943161,
          61.52401,
          -1.940278,
          13.909444,
          12.984305,
          -13.759029,
          0.18636,
          23.885942,
          14.497401,
          44.016521,
          -4.679574,
          8.460555,
          1.352083,
          48.669026,
          46.151241,
          -9.64571,
          5.152149,
          -30.559482,
          40.463667,
          7.873054,
          12.862807,
          3.919305,
          60.128161,
          46.818188,
          34.802075,
          23.69781,
          38.861034,
          -6.369028,
          15.870032,
          -8.874217,
          8.619543,
          -21.178986,
          10.691803,
          33.886917,
          38.963745,
          38.969719,
          1.373333,
          48.379433,
          23.424076,
          55.378051,
          37.09024,
          -32.522779,
          41.377491,
          -15.376706,
          6.42375,
          14.058324,
          15.552727,
          -13.133897,
          -19.015438
         ],
         "lon": [
          67.709953,
          20.168331,
          1.659626,
          17.873887,
          -63.616672,
          45.038189,
          133.775136,
          14.550072,
          47.576927,
          -77.39628,
          50.637772,
          90.356331,
          -59.543198,
          27.953389,
          4.469936,
          -88.49765,
          2.315834,
          90.433601,
          -63.588653,
          17.679076,
          24.684866,
          -51.92528,
          114.727669,
          25.48583,
          -1.561593,
          95.956223,
          29.918886,
          104.990963,
          12.354722,
          -106.346771,
          -24.013197,
          20.939444,
          18.732207,
          -71.542969,
          104.195397,
          -74.297333,
          43.872219,
          15.827659,
          21.758664,
          -83.753428,
          -5.54708,
          15.5,
          -77.781167,
          33.429859,
          15.472962,
          9.501785,
          42.590275,
          -61.370976,
          -70.162651,
          -78.183406,
          30.802498,
          -88.89653,
          10.267895,
          39.782334,
          25.013607,
          31.465866,
          40.489673,
          179.414413,
          25.748151,
          2.213749,
          11.609444,
          -15.310139,
          43.356892,
          10.451526,
          -1.023194,
          21.824312,
          -90.230759,
          -9.696645,
          -15.180413,
          -58.93018,
          -72.285215,
          -86.241905,
          114.109497,
          19.503304,
          -19.020835,
          78.96288,
          113.921327,
          53.688046,
          43.679291,
          -8.24389,
          34.851612,
          12.56738,
          -77.297508,
          138.252924,
          36.238414,
          66.923684,
          37.906193,
          -168.734039,
          127.510093,
          127.766922,
          20.902977,
          47.481766,
          74.766098,
          102.495496,
          24.603189,
          35.862285,
          28.233608,
          -9.429499,
          17.228331,
          9.555373,
          23.881275,
          6.129583,
          113.543873,
          21.745275,
          46.869107,
          34.301525,
          101.975766,
          73.22068,
          -3.996166,
          14.375416,
          -10.940835,
          57.552152,
          -102.552784,
          150.550812,
          28.369885,
          103.846656,
          19.37439,
          -7.09262,
          35.529562,
          18.49041,
          84.124008,
          5.291266,
          174.885971,
          -85.207229,
          8.081666,
          8.675277,
          8.468946,
          55.923255,
          69.345116,
          -80.782127,
          143.95555,
          -58.443832,
          -75.015152,
          121.774017,
          19.145136,
          -8.224454,
          51.183884,
          24.96676,
          105.318756,
          29.873888,
          -60.978893,
          -61.287228,
          -172.104629,
          6.613081,
          45.079162,
          -14.452362,
          21.005859,
          55.491977,
          -11.779889,
          103.819836,
          19.699024,
          14.995463,
          160.156194,
          46.199616,
          22.937506,
          -3.74922,
          80.771797,
          30.217636,
          -56.027783,
          18.643501,
          8.227512,
          38.996815,
          120.960515,
          71.276093,
          34.888822,
          100.992541,
          125.727539,
          0.824782,
          -175.198242,
          -61.222503,
          9.537499,
          35.243322,
          59.556278,
          32.290275,
          31.16558,
          53.847818,
          -3.435973,
          -95.712891,
          -55.765835,
          64.585262,
          166.959158,
          -66.58973,
          108.277199,
          48.516388,
          27.849332,
          29.154857
         ],
         "marker": {
          "color": [
           152,
           52,
           171,
           156,
           148,
           47,
           5,
           31,
           60,
           76,
           54,
           121,
           67,
           104,
           48,
           123,
           127,
           74,
           173,
           83,
           36,
           150,
           63,
           37,
           96,
           139,
           162,
           105,
           145,
           8,
           73,
           161,
           159,
           18,
           100,
           49,
           124,
           157,
           176,
           61,
           78,
           86,
           178,
           44,
           23,
           14,
           169,
           72,
           89,
           170,
           144,
           84,
           174,
           177,
           15,
           132,
           137,
           81,
           20,
           71,
           118,
           146,
           16,
           24,
           109,
           106,
           77,
           120,
           135,
           113,
           143,
           93,
           1,
           64,
           11,
           129,
           56,
           155,
           90.5,
           6,
           27,
           80,
           39,
           30,
           53,
           59,
           130,
           168,
           180,
           29,
           51,
           90,
           79,
           110,
           35,
           154,
           142,
           160,
           90.5,
           90.5,
           21,
           17,
           34,
           33,
           114,
           153,
           22,
           141,
           103,
           41,
           119,
           25,
           66,
           149,
           97,
           126,
           92,
           75,
           163,
           99,
           136,
           13,
           3,
           107,
           151,
           111,
           26,
           88,
           131,
           50,
           101,
           85,
           45,
           70,
           46,
           62,
           28,
           42,
           98,
           32,
           38,
           55,
           82,
           134,
           91,
           117,
           69,
           87,
           167,
           2,
           65,
           58,
           133,
           90.5,
           102,
           57,
           115,
           166,
           165,
           19,
           4,
           90.5,
           10,
           122,
           94,
           43,
           172,
           158,
           108,
           112,
           125,
           68,
           164,
           95,
           147,
           9,
           7,
           12,
           40,
           140,
           116,
           179,
           128,
           90.5,
           138,
           175
          ],
          "colorscale": [
           [
            0,
            "#0d0887"
           ],
           [
            0.1111111111111111,
            "#46039f"
           ],
           [
            0.2222222222222222,
            "#7201a8"
           ],
           [
            0.3333333333333333,
            "#9c179e"
           ],
           [
            0.4444444444444444,
            "#bd3786"
           ],
           [
            0.5555555555555556,
            "#d8576b"
           ],
           [
            0.6666666666666666,
            "#ed7953"
           ],
           [
            0.7777777777777778,
            "#fb9f3a"
           ],
           [
            0.8888888888888888,
            "#fdca26"
           ],
           [
            1,
            "#f0f921"
           ]
          ],
          "reversescale": false,
          "size": 20,
          "sizemode": "diameter"
         },
         "mode": "markers",
         "name": "World Rank",
         "text": [
          "Afghanistan (152.0)",
          "Albania (52.0)",
          "Algeria (171.0)",
          "Angola (156.0)",
          "Argentina (148.0)",
          "Armenia (47.0)",
          "Australia (5.0)",
          "Austria (31.0)",
          "Azerbaijan (60.0)",
          "Bahamas (76.0)",
          "Bahrain (54.0)",
          "Bangladesh (121.0)",
          "Barbados (67.0)",
          "Belarus (104.0)",
          "Belgium (48.0)",
          "Belize (123.0)",
          "Benin (127.0)",
          "Bhutan (74.0)",
          "Bolivia (173.0)",
          "Bosnia and Herzegovina (83.0)",
          "Botswana (36.0)",
          "Brazil (150.0)",
          "Brunei Darussalam (63.0)",
          "Bulgaria (37.0)",
          "Burkina Faso (96.0)",
          "Burma (139.0)",
          "Burundi (162.0)",
          "Cambodia (105.0)",
          "Cameroon (145.0)",
          "Canada (8.0)",
          "Cabo Verde (73.0)",
          "Central African Republic (161.0)",
          "Chad (159.0)",
          "Chile (18.0)",
          "China (100.0)",
          "Colombia (49.0)",
          "Comoros (124.0)",
          "Congo, Democratic Republic of the Congo (157.0)",
          "Congo, Republic of (176.0)",
          "Costa Rica (61.0)",
          "Cï¿½te d'Ivoire (78.0)",
          "Croatia (86.0)",
          "Cuba (178.0)",
          "Cyprus (44.0)",
          "Czech Republic (23.0)",
          "Denmark (14.0)",
          "Djibouti (169.0)",
          "Dominica (72.0)",
          "Dominican Republic (89.0)",
          "Ecuador (170.0)",
          "Egypt (144.0)",
          "El Salvador (84.0)",
          "Equatorial Guinea (174.0)",
          "Eritrea (177.0)",
          "Estonia (15.0)",
          "Eswatini (132.0)",
          "Ethiopia (137.0)",
          "Fiji (81.0)",
          "Finland (20.0)",
          "France (71.0)",
          "Gabon (118.0)",
          "Gambia (146.0)",
          "Georgia (16.0)",
          "Germany (24.0)",
          "Ghana (109.0)",
          "Greece (106.0)",
          "Guatemala (77.0)",
          "Guinea (120.0)",
          "Guinea-Bissau (135.0)",
          "Guyana (113.0)",
          "Haiti (143.0)",
          "Honduras (93.0)",
          "Hong Kong (1.0)",
          "Hungary (64.0)",
          "Iceland (11.0)",
          "India (129.0)",
          "Indonesia (56.0)",
          "Iran (155.0)",
          "Iraq (90.5)",
          "Ireland (6.0)",
          "Israel (27.0)",
          "Italy (80.0)",
          "Jamaica (39.0)",
          "Japan (30.0)",
          "Jordan (53.0)",
          "Kazakhstan (59.0)",
          "Kenya (130.0)",
          "Kiribati (168.0)",
          "Korea, North  (180.0)",
          "Korea, South (29.0)",
          "Kosovo (51.0)",
          "Kuwait (90.0)",
          "Kyrgyz Republic (79.0)",
          "Laos (110.0)",
          "Latvia (35.0)",
          "Lebanon (154.0)",
          "Lesotho (142.0)",
          "Liberia (160.0)",
          "Libya (90.5)",
          "Liechtenstein (90.5)",
          "Lithuania (21.0)",
          "Luxembourg (17.0)",
          "Macau (34.0)",
          "Macedonia (33.0)",
          "Madagascar (114.0)",
          "Malawi (153.0)",
          "Malaysia (22.0)",
          "Maldives (141.0)",
          "Mali (103.0)",
          "Malta (41.0)",
          "Mauritania (119.0)",
          "Mauritius (25.0)",
          "Mexico (66.0)",
          "Micronesia (149.0)",
          "Moldova (97.0)",
          "Mongolia (126.0)",
          "Montenegro (92.0)",
          "Morocco (75.0)",
          "Mozambique (163.0)",
          "Namibia (99.0)",
          "Nepal (136.0)",
          "Netherlands (13.0)",
          "New Zealand (3.0)",
          "Nicaragua (107.0)",
          "Niger (151.0)",
          "Nigeria (111.0)",
          "Norway (26.0)",
          "Oman (88.0)",
          "Pakistan (131.0)",
          "Panama (50.0)",
          "Papua New Guinea (101.0)",
          "Paraguay (85.0)",
          "Peru (45.0)",
          "Philippines (70.0)",
          "Poland (46.0)",
          "Portugal (62.0)",
          "Qatar (28.0)",
          "Romania (42.0)",
          "Russia (98.0)",
          "Rwanda (32.0)",
          "Saint Lucia (38.0)",
          "Saint Vincent and the Grenadines (55.0)",
          "Samoa (82.0)",
          "Sï¿½o Tomï¿½ and Prï¿½ncipe (134.0)",
          "Saudi Arabia (91.0)",
          "Senegal (117.0)",
          "Serbia (69.0)",
          "Seychelles (87.0)",
          "Sierra Leone (167.0)",
          "Singapore (2.0)",
          "Slovakia (65.0)",
          "Slovenia (58.0)",
          "Solomon Islands (133.0)",
          "Somalia (90.5)",
          "South Africa (102.0)",
          "Spain (57.0)",
          "Sri Lanka (115.0)",
          "Sudan (166.0)",
          "Suriname (165.0)",
          "Sweden (19.0)",
          "Switzerland (4.0)",
          "Syria (90.5)",
          "Taiwan  (10.0)",
          "Tajikistan (122.0)",
          "Tanzania (94.0)",
          "Thailand (43.0)",
          "Timor-Leste (172.0)",
          "Togo (158.0)",
          "Tonga (108.0)",
          "Trinidad and Tobago (112.0)",
          "Tunisia (125.0)",
          "Turkey (68.0)",
          "Turkmenistan (164.0)",
          "Uganda (95.0)",
          "Ukraine (147.0)",
          "United Arab Emirates (9.0)",
          "United Kingdom (7.0)",
          "United States (12.0)",
          "Uruguay (40.0)",
          "Uzbekistan (140.0)",
          "Vanuatu (116.0)",
          "Venezuela (179.0)",
          "Vietnam (128.0)",
          "Yemen (90.5)",
          "Zambia (138.0)",
          "Zimbabwe (175.0)"
         ],
         "type": "scattergeo"
        },
        {
         "geo": "geo2",
         "lat": [
          33.93911,
          41.153332,
          28.033886,
          -11.202692,
          -38.416097,
          40.069099,
          -25.274398,
          47.516231,
          40.143105,
          25.03428,
          25.930414,
          23.684994,
          13.193887,
          53.709807,
          50.503887,
          17.189877,
          9.30769,
          27.514162,
          -16.290154,
          43.915886,
          -22.328474,
          -14.235004,
          4.535277,
          42.733883,
          12.238333,
          21.913965,
          -3.373056,
          12.565679,
          7.369722,
          56.130366,
          16.002082,
          6.611111,
          15.454166,
          -35.675147,
          35.86166,
          4.570868,
          -11.875001,
          -0.228021,
          -4.038333,
          9.748917,
          7.539989,
          45.1667,
          21.521757,
          35.126413,
          49.817492,
          56.26392,
          11.825138,
          15.414999,
          18.735693,
          -1.831239,
          26.820553,
          13.794185,
          1.650801,
          15.179384,
          58.595272,
          -26.522503,
          9.145,
          -16.578193,
          61.92411,
          46.227638,
          -0.803689,
          13.443182,
          42.315407,
          51.165691,
          7.946527,
          39.074208,
          15.783471,
          9.945587,
          11.803749,
          4.860416,
          18.971187,
          15.199999,
          22.396428,
          47.162494,
          64.963051,
          20.593684,
          -0.789275,
          32.427908,
          33.223191,
          53.41291,
          31.046051,
          41.87194,
          18.109581,
          36.204824,
          30.585164,
          48.019573,
          -0.023559,
          -3.370417,
          40.339852,
          35.907757,
          42.602636,
          29.31166,
          41.20438,
          19.85627,
          56.879635,
          33.854721,
          -29.609988,
          6.428055,
          26.3351,
          47.166,
          55.169438,
          49.815273,
          22.198745,
          41.608635,
          -18.766947,
          -13.254308,
          4.210484,
          3.202778,
          17.570692,
          35.937496,
          21.00789,
          -20.348404,
          23.634501,
          7.425554,
          47.411631,
          46.862496,
          42.708678,
          31.791702,
          -18.665695,
          -22.95764,
          28.394857,
          52.132633,
          -40.900557,
          12.865416,
          17.607789,
          9.081999,
          60.472024,
          21.512583,
          30.375321,
          8.537981,
          -6.314993,
          -23.442503,
          -9.189967,
          12.879721,
          51.919438,
          39.399872,
          25.354826,
          45.943161,
          61.52401,
          -1.940278,
          13.909444,
          12.984305,
          -13.759029,
          0.18636,
          23.885942,
          14.497401,
          44.016521,
          -4.679574,
          8.460555,
          1.352083,
          48.669026,
          46.151241,
          -9.64571,
          5.152149,
          -30.559482,
          40.463667,
          7.873054,
          12.862807,
          3.919305,
          60.128161,
          46.818188,
          34.802075,
          23.69781,
          38.861034,
          -6.369028,
          15.870032,
          -8.874217,
          8.619543,
          -21.178986,
          10.691803,
          33.886917,
          38.963745,
          38.969719,
          1.373333,
          48.379433,
          23.424076,
          55.378051,
          37.09024,
          -32.522779,
          41.377491,
          -15.376706,
          6.42375,
          14.058324,
          15.552727,
          -13.133897,
          -19.015438
         ],
         "lon": [
          67.709953,
          20.168331,
          1.659626,
          17.873887,
          -63.616672,
          45.038189,
          133.775136,
          14.550072,
          47.576927,
          -77.39628,
          50.637772,
          90.356331,
          -59.543198,
          27.953389,
          4.469936,
          -88.49765,
          2.315834,
          90.433601,
          -63.588653,
          17.679076,
          24.684866,
          -51.92528,
          114.727669,
          25.48583,
          -1.561593,
          95.956223,
          29.918886,
          104.990963,
          12.354722,
          -106.346771,
          -24.013197,
          20.939444,
          18.732207,
          -71.542969,
          104.195397,
          -74.297333,
          43.872219,
          15.827659,
          21.758664,
          -83.753428,
          -5.54708,
          15.5,
          -77.781167,
          33.429859,
          15.472962,
          9.501785,
          42.590275,
          -61.370976,
          -70.162651,
          -78.183406,
          30.802498,
          -88.89653,
          10.267895,
          39.782334,
          25.013607,
          31.465866,
          40.489673,
          179.414413,
          25.748151,
          2.213749,
          11.609444,
          -15.310139,
          43.356892,
          10.451526,
          -1.023194,
          21.824312,
          -90.230759,
          -9.696645,
          -15.180413,
          -58.93018,
          -72.285215,
          -86.241905,
          114.109497,
          19.503304,
          -19.020835,
          78.96288,
          113.921327,
          53.688046,
          43.679291,
          -8.24389,
          34.851612,
          12.56738,
          -77.297508,
          138.252924,
          36.238414,
          66.923684,
          37.906193,
          -168.734039,
          127.510093,
          127.766922,
          20.902977,
          47.481766,
          74.766098,
          102.495496,
          24.603189,
          35.862285,
          28.233608,
          -9.429499,
          17.228331,
          9.555373,
          23.881275,
          6.129583,
          113.543873,
          21.745275,
          46.869107,
          34.301525,
          101.975766,
          73.22068,
          -3.996166,
          14.375416,
          -10.940835,
          57.552152,
          -102.552784,
          150.550812,
          28.369885,
          103.846656,
          19.37439,
          -7.09262,
          35.529562,
          18.49041,
          84.124008,
          5.291266,
          174.885971,
          -85.207229,
          8.081666,
          8.675277,
          8.468946,
          55.923255,
          69.345116,
          -80.782127,
          143.95555,
          -58.443832,
          -75.015152,
          121.774017,
          19.145136,
          -8.224454,
          51.183884,
          24.96676,
          105.318756,
          29.873888,
          -60.978893,
          -61.287228,
          -172.104629,
          6.613081,
          45.079162,
          -14.452362,
          21.005859,
          55.491977,
          -11.779889,
          103.819836,
          19.699024,
          14.995463,
          160.156194,
          46.199616,
          22.937506,
          -3.74922,
          80.771797,
          30.217636,
          -56.027783,
          18.643501,
          8.227512,
          38.996815,
          120.960515,
          71.276093,
          34.888822,
          100.992541,
          125.727539,
          0.824782,
          -175.198242,
          -61.222503,
          9.537499,
          35.243322,
          59.556278,
          32.290275,
          31.16558,
          53.847818,
          -3.435973,
          -95.712891,
          -55.765835,
          64.585262,
          166.959158,
          -66.58973,
          108.277199,
          48.516388,
          27.849332,
          29.154857
         ],
         "marker": {
          "color": [
           39,
           27,
           14,
           33,
           26,
           24,
           4,
           16,
           13,
           15,
           5,
           27,
           13,
           42,
           25,
           24,
           21,
           16,
           30,
           37,
           3,
           27,
           14,
           19,
           9,
           35,
           39,
           22,
           29,
           1,
           4,
           38,
           36,
           3,
           20,
           8,
           20,
           34,
           46,
           11,
           5,
           38,
           31,
           22,
           13,
           6,
           43,
           14,
           19,
           29,
           11,
           17,
           44,
           47,
           7,
           23,
           26,
           18,
           11,
           35,
           17,
           30,
           8,
           14,
           13,
           43,
           16,
           19,
           25,
           23,
           25,
           20,
           1,
           31,
           4,
           31,
           11,
           13,
           20.538888888888888,
           2,
           2,
           36,
           5,
           8,
           4,
           12,
           22,
           41,
           43,
           7,
           26,
           8,
           17,
           24,
           18,
           12,
           28,
           37,
           20.538888888888888,
           20.538888888888888,
           12,
           9,
           9,
           17,
           15,
           32,
           6,
           37,
           12,
           20,
           18,
           1,
           12,
           38,
           40,
           29,
           39,
           6,
           40,
           10,
           34,
           5,
           3,
           21,
           31,
           14,
           15,
           7,
           32,
           9,
           21,
           18,
           7,
           15,
           23,
           30,
           3,
           21,
           41,
           2,
           4,
           10,
           19,
           24,
           9,
           16,
           34,
           6,
           42,
           2,
           32,
           29,
           33,
           20.538888888888888,
           11,
           28,
           25,
           41,
           28,
           10,
           1,
           20.538888888888888,
           5,
           28,
           7,
           10,
           42,
           35,
           23,
           22,
           10,
           33,
           40,
           8,
           44,
           1,
           3,
           2,
           6,
           36,
           26,
           32,
           30,
           20.538888888888888,
           27,
           45
          ],
          "colorscale": [
           [
            0,
            "#0d0887"
           ],
           [
            0.1111111111111111,
            "#46039f"
           ],
           [
            0.2222222222222222,
            "#7201a8"
           ],
           [
            0.3333333333333333,
            "#9c179e"
           ],
           [
            0.4444444444444444,
            "#bd3786"
           ],
           [
            0.5555555555555556,
            "#d8576b"
           ],
           [
            0.6666666666666666,
            "#ed7953"
           ],
           [
            0.7777777777777778,
            "#fb9f3a"
           ],
           [
            0.8888888888888888,
            "#fdca26"
           ],
           [
            1,
            "#f0f921"
           ]
          ],
          "reversescale": false,
          "size": 20,
          "sizemode": "diameter"
         },
         "mode": "markers",
         "name": "Region Rank",
         "text": [
          "Afghanistan (39.0)",
          "Albania (27.0)",
          "Algeria (14.0)",
          "Angola (33.0)",
          "Argentina (26.0)",
          "Armenia (24.0)",
          "Australia (4.0)",
          "Austria (16.0)",
          "Azerbaijan (13.0)",
          "Bahamas (15.0)",
          "Bahrain (5.0)",
          "Bangladesh (27.0)",
          "Barbados (13.0)",
          "Belarus (42.0)",
          "Belgium (25.0)",
          "Belize (24.0)",
          "Benin (21.0)",
          "Bhutan (16.0)",
          "Bolivia (30.0)",
          "Bosnia and Herzegovina (37.0)",
          "Botswana (3.0)",
          "Brazil (27.0)",
          "Brunei Darussalam (14.0)",
          "Bulgaria (19.0)",
          "Burkina Faso (9.0)",
          "Burma (35.0)",
          "Burundi (39.0)",
          "Cambodia (22.0)",
          "Cameroon (29.0)",
          "Canada (1.0)",
          "Cabo Verde (4.0)",
          "Central African Republic (38.0)",
          "Chad (36.0)",
          "Chile (3.0)",
          "China (20.0)",
          "Colombia (8.0)",
          "Comoros (20.0)",
          "Congo, Democratic Republic of the Congo (34.0)",
          "Congo, Republic of (46.0)",
          "Costa Rica (11.0)",
          "Cï¿½te d'Ivoire (5.0)",
          "Croatia (38.0)",
          "Cuba (31.0)",
          "Cyprus (22.0)",
          "Czech Republic (13.0)",
          "Denmark (6.0)",
          "Djibouti (43.0)",
          "Dominica (14.0)",
          "Dominican Republic (19.0)",
          "Ecuador (29.0)",
          "Egypt (11.0)",
          "El Salvador (17.0)",
          "Equatorial Guinea (44.0)",
          "Eritrea (47.0)",
          "Estonia (7.0)",
          "Eswatini (23.0)",
          "Ethiopia (26.0)",
          "Fiji (18.0)",
          "Finland (11.0)",
          "France (35.0)",
          "Gabon (17.0)",
          "Gambia (30.0)",
          "Georgia (8.0)",
          "Germany (14.0)",
          "Ghana (13.0)",
          "Greece (43.0)",
          "Guatemala (16.0)",
          "Guinea (19.0)",
          "Guinea-Bissau (25.0)",
          "Guyana (23.0)",
          "Haiti (25.0)",
          "Honduras (20.0)",
          "Hong Kong (1.0)",
          "Hungary (31.0)",
          "Iceland (4.0)",
          "India (31.0)",
          "Indonesia (11.0)",
          "Iran (13.0)",
          "Iraq (20.538888888888888)",
          "Ireland (2.0)",
          "Israel (2.0)",
          "Italy (36.0)",
          "Jamaica (5.0)",
          "Japan (8.0)",
          "Jordan (4.0)",
          "Kazakhstan (12.0)",
          "Kenya (22.0)",
          "Kiribati (41.0)",
          "Korea, North  (43.0)",
          "Korea, South (7.0)",
          "Kosovo (26.0)",
          "Kuwait (8.0)",
          "Kyrgyz Republic (17.0)",
          "Laos (24.0)",
          "Latvia (18.0)",
          "Lebanon (12.0)",
          "Lesotho (28.0)",
          "Liberia (37.0)",
          "Libya (20.538888888888888)",
          "Liechtenstein (20.538888888888888)",
          "Lithuania (12.0)",
          "Luxembourg (9.0)",
          "Macau (9.0)",
          "Macedonia (17.0)",
          "Madagascar (15.0)",
          "Malawi (32.0)",
          "Malaysia (6.0)",
          "Maldives (37.0)",
          "Mali (12.0)",
          "Malta (20.0)",
          "Mauritania (18.0)",
          "Mauritius (1.0)",
          "Mexico (12.0)",
          "Micronesia (38.0)",
          "Moldova (40.0)",
          "Mongolia (29.0)",
          "Montenegro (39.0)",
          "Morocco (6.0)",
          "Mozambique (40.0)",
          "Namibia (10.0)",
          "Nepal (34.0)",
          "Netherlands (5.0)",
          "New Zealand (3.0)",
          "Nicaragua (21.0)",
          "Niger (31.0)",
          "Nigeria (14.0)",
          "Norway (15.0)",
          "Oman (7.0)",
          "Pakistan (32.0)",
          "Panama (9.0)",
          "Papua New Guinea (21.0)",
          "Paraguay (18.0)",
          "Peru (7.0)",
          "Philippines (15.0)",
          "Poland (23.0)",
          "Portugal (30.0)",
          "Qatar (3.0)",
          "Romania (21.0)",
          "Russia (41.0)",
          "Rwanda (2.0)",
          "Saint Lucia (4.0)",
          "Saint Vincent and the Grenadines (10.0)",
          "Samoa (19.0)",
          "Sï¿½o Tomï¿½ and Prï¿½ncipe (24.0)",
          "Saudi Arabia (9.0)",
          "Senegal (16.0)",
          "Serbia (34.0)",
          "Seychelles (6.0)",
          "Sierra Leone (42.0)",
          "Singapore (2.0)",
          "Slovakia (32.0)",
          "Slovenia (29.0)",
          "Solomon Islands (33.0)",
          "Somalia (20.538888888888888)",
          "South Africa (11.0)",
          "Spain (28.0)",
          "Sri Lanka (25.0)",
          "Sudan (41.0)",
          "Suriname (28.0)",
          "Sweden (10.0)",
          "Switzerland (1.0)",
          "Syria (20.538888888888888)",
          "Taiwan  (5.0)",
          "Tajikistan (28.0)",
          "Tanzania (7.0)",
          "Thailand (10.0)",
          "Timor-Leste (42.0)",
          "Togo (35.0)",
          "Tonga (23.0)",
          "Trinidad and Tobago (22.0)",
          "Tunisia (10.0)",
          "Turkey (33.0)",
          "Turkmenistan (40.0)",
          "Uganda (8.0)",
          "Ukraine (44.0)",
          "United Arab Emirates (1.0)",
          "United Kingdom (3.0)",
          "United States (2.0)",
          "Uruguay (6.0)",
          "Uzbekistan (36.0)",
          "Vanuatu (26.0)",
          "Venezuela (32.0)",
          "Vietnam (30.0)",
          "Yemen (20.538888888888888)",
          "Zambia (27.0)",
          "Zimbabwe (45.0)"
         ],
         "type": "scattergeo"
        }
       ],
       "layout": {
        "annotations": [
         {
          "font": {
           "size": 16
          },
          "showarrow": false,
          "text": "World Rank 2019 Freedom Index",
          "x": 0.20454545454545453,
          "xanchor": "center",
          "xref": "paper",
          "y": 1,
          "yanchor": "bottom",
          "yref": "paper"
         },
         {
          "font": {
           "size": 16
          },
          "showarrow": false,
          "text": "Region Rank 2019 Freedom Index",
          "x": 0.7545454545454545,
          "xanchor": "center",
          "xref": "paper",
          "y": 1,
          "yanchor": "bottom",
          "yref": "paper"
         }
        ],
        "geo": {
         "countrycolor": "Black",
         "domain": {
          "x": [
           0,
           0.40909090909090906
          ],
          "y": [
           0,
           1
          ]
         },
         "lakecolor": "LightBlue",
         "landcolor": "White",
         "lataxis": {
          "range": [
           -270,
           270
          ]
         },
         "lonaxis": {
          "range": [
           -270,
           270
          ]
         },
         "oceancolor": "LightBlue",
         "projection": {
          "type": "orthographic"
         },
         "scope": "world",
         "showcountries": true,
         "showland": true,
         "showocean": true
        },
        "geo2": {
         "countrycolor": "Black",
         "domain": {
          "x": [
           0.509090909090909,
           1
          ],
          "y": [
           0,
           1
          ]
         },
         "lakecolor": "LightBlue",
         "landcolor": "White",
         "lataxis": {
          "range": [
           -270,
           270
          ]
         },
         "lonaxis": {
          "range": [
           -270,
           270
          ]
         },
         "oceancolor": "LightBlue",
         "projection": {
          "type": "orthographic"
         },
         "scope": "world",
         "showcountries": true,
         "showland": true,
         "showocean": true
        },
        "height": 800,
        "template": {
         "data": {
          "bar": [
           {
            "error_x": {
             "color": "#f2f5fa"
            },
            "error_y": {
             "color": "#f2f5fa"
            },
            "marker": {
             "line": {
              "color": "rgb(17,17,17)",
              "width": 0.5
             },
             "pattern": {
              "fillmode": "overlay",
              "size": 10,
              "solidity": 0.2
             }
            },
            "type": "bar"
           }
          ],
          "barpolar": [
           {
            "marker": {
             "line": {
              "color": "rgb(17,17,17)",
              "width": 0.5
             },
             "pattern": {
              "fillmode": "overlay",
              "size": 10,
              "solidity": 0.2
             }
            },
            "type": "barpolar"
           }
          ],
          "carpet": [
           {
            "aaxis": {
             "endlinecolor": "#A2B1C6",
             "gridcolor": "#506784",
             "linecolor": "#506784",
             "minorgridcolor": "#506784",
             "startlinecolor": "#A2B1C6"
            },
            "baxis": {
             "endlinecolor": "#A2B1C6",
             "gridcolor": "#506784",
             "linecolor": "#506784",
             "minorgridcolor": "#506784",
             "startlinecolor": "#A2B1C6"
            },
            "type": "carpet"
           }
          ],
          "choropleth": [
           {
            "colorbar": {
             "outlinewidth": 0,
             "ticks": ""
            },
            "type": "choropleth"
           }
          ],
          "contour": [
           {
            "colorbar": {
             "outlinewidth": 0,
             "ticks": ""
            },
            "colorscale": [
             [
              0,
              "#0d0887"
             ],
             [
              0.1111111111111111,
              "#46039f"
             ],
             [
              0.2222222222222222,
              "#7201a8"
             ],
             [
              0.3333333333333333,
              "#9c179e"
             ],
             [
              0.4444444444444444,
              "#bd3786"
             ],
             [
              0.5555555555555556,
              "#d8576b"
             ],
             [
              0.6666666666666666,
              "#ed7953"
             ],
             [
              0.7777777777777778,
              "#fb9f3a"
             ],
             [
              0.8888888888888888,
              "#fdca26"
             ],
             [
              1,
              "#f0f921"
             ]
            ],
            "type": "contour"
           }
          ],
          "contourcarpet": [
           {
            "colorbar": {
             "outlinewidth": 0,
             "ticks": ""
            },
            "type": "contourcarpet"
           }
          ],
          "heatmap": [
           {
            "colorbar": {
             "outlinewidth": 0,
             "ticks": ""
            },
            "colorscale": [
             [
              0,
              "#0d0887"
             ],
             [
              0.1111111111111111,
              "#46039f"
             ],
             [
              0.2222222222222222,
              "#7201a8"
             ],
             [
              0.3333333333333333,
              "#9c179e"
             ],
             [
              0.4444444444444444,
              "#bd3786"
             ],
             [
              0.5555555555555556,
              "#d8576b"
             ],
             [
              0.6666666666666666,
              "#ed7953"
             ],
             [
              0.7777777777777778,
              "#fb9f3a"
             ],
             [
              0.8888888888888888,
              "#fdca26"
             ],
             [
              1,
              "#f0f921"
             ]
            ],
            "type": "heatmap"
           }
          ],
          "heatmapgl": [
           {
            "colorbar": {
             "outlinewidth": 0,
             "ticks": ""
            },
            "colorscale": [
             [
              0,
              "#0d0887"
             ],
             [
              0.1111111111111111,
              "#46039f"
             ],
             [
              0.2222222222222222,
              "#7201a8"
             ],
             [
              0.3333333333333333,
              "#9c179e"
             ],
             [
              0.4444444444444444,
              "#bd3786"
             ],
             [
              0.5555555555555556,
              "#d8576b"
             ],
             [
              0.6666666666666666,
              "#ed7953"
             ],
             [
              0.7777777777777778,
              "#fb9f3a"
             ],
             [
              0.8888888888888888,
              "#fdca26"
             ],
             [
              1,
              "#f0f921"
             ]
            ],
            "type": "heatmapgl"
           }
          ],
          "histogram": [
           {
            "marker": {
             "pattern": {
              "fillmode": "overlay",
              "size": 10,
              "solidity": 0.2
             }
            },
            "type": "histogram"
           }
          ],
          "histogram2d": [
           {
            "colorbar": {
             "outlinewidth": 0,
             "ticks": ""
            },
            "colorscale": [
             [
              0,
              "#0d0887"
             ],
             [
              0.1111111111111111,
              "#46039f"
             ],
             [
              0.2222222222222222,
              "#7201a8"
             ],
             [
              0.3333333333333333,
              "#9c179e"
             ],
             [
              0.4444444444444444,
              "#bd3786"
             ],
             [
              0.5555555555555556,
              "#d8576b"
             ],
             [
              0.6666666666666666,
              "#ed7953"
             ],
             [
              0.7777777777777778,
              "#fb9f3a"
             ],
             [
              0.8888888888888888,
              "#fdca26"
             ],
             [
              1,
              "#f0f921"
             ]
            ],
            "type": "histogram2d"
           }
          ],
          "histogram2dcontour": [
           {
            "colorbar": {
             "outlinewidth": 0,
             "ticks": ""
            },
            "colorscale": [
             [
              0,
              "#0d0887"
             ],
             [
              0.1111111111111111,
              "#46039f"
             ],
             [
              0.2222222222222222,
              "#7201a8"
             ],
             [
              0.3333333333333333,
              "#9c179e"
             ],
             [
              0.4444444444444444,
              "#bd3786"
             ],
             [
              0.5555555555555556,
              "#d8576b"
             ],
             [
              0.6666666666666666,
              "#ed7953"
             ],
             [
              0.7777777777777778,
              "#fb9f3a"
             ],
             [
              0.8888888888888888,
              "#fdca26"
             ],
             [
              1,
              "#f0f921"
             ]
            ],
            "type": "histogram2dcontour"
           }
          ],
          "mesh3d": [
           {
            "colorbar": {
             "outlinewidth": 0,
             "ticks": ""
            },
            "type": "mesh3d"
           }
          ],
          "parcoords": [
           {
            "line": {
             "colorbar": {
              "outlinewidth": 0,
              "ticks": ""
             }
            },
            "type": "parcoords"
           }
          ],
          "pie": [
           {
            "automargin": true,
            "type": "pie"
           }
          ],
          "scatter": [
           {
            "marker": {
             "line": {
              "color": "#283442"
             }
            },
            "type": "scatter"
           }
          ],
          "scatter3d": [
           {
            "line": {
             "colorbar": {
              "outlinewidth": 0,
              "ticks": ""
             }
            },
            "marker": {
             "colorbar": {
              "outlinewidth": 0,
              "ticks": ""
             }
            },
            "type": "scatter3d"
           }
          ],
          "scattercarpet": [
           {
            "marker": {
             "colorbar": {
              "outlinewidth": 0,
              "ticks": ""
             }
            },
            "type": "scattercarpet"
           }
          ],
          "scattergeo": [
           {
            "marker": {
             "colorbar": {
              "outlinewidth": 0,
              "ticks": ""
             }
            },
            "type": "scattergeo"
           }
          ],
          "scattergl": [
           {
            "marker": {
             "line": {
              "color": "#283442"
             }
            },
            "type": "scattergl"
           }
          ],
          "scattermapbox": [
           {
            "marker": {
             "colorbar": {
              "outlinewidth": 0,
              "ticks": ""
             }
            },
            "type": "scattermapbox"
           }
          ],
          "scatterpolar": [
           {
            "marker": {
             "colorbar": {
              "outlinewidth": 0,
              "ticks": ""
             }
            },
            "type": "scatterpolar"
           }
          ],
          "scatterpolargl": [
           {
            "marker": {
             "colorbar": {
              "outlinewidth": 0,
              "ticks": ""
             }
            },
            "type": "scatterpolargl"
           }
          ],
          "scatterternary": [
           {
            "marker": {
             "colorbar": {
              "outlinewidth": 0,
              "ticks": ""
             }
            },
            "type": "scatterternary"
           }
          ],
          "surface": [
           {
            "colorbar": {
             "outlinewidth": 0,
             "ticks": ""
            },
            "colorscale": [
             [
              0,
              "#0d0887"
             ],
             [
              0.1111111111111111,
              "#46039f"
             ],
             [
              0.2222222222222222,
              "#7201a8"
             ],
             [
              0.3333333333333333,
              "#9c179e"
             ],
             [
              0.4444444444444444,
              "#bd3786"
             ],
             [
              0.5555555555555556,
              "#d8576b"
             ],
             [
              0.6666666666666666,
              "#ed7953"
             ],
             [
              0.7777777777777778,
              "#fb9f3a"
             ],
             [
              0.8888888888888888,
              "#fdca26"
             ],
             [
              1,
              "#f0f921"
             ]
            ],
            "type": "surface"
           }
          ],
          "table": [
           {
            "cells": {
             "fill": {
              "color": "#506784"
             },
             "line": {
              "color": "rgb(17,17,17)"
             }
            },
            "header": {
             "fill": {
              "color": "#2a3f5f"
             },
             "line": {
              "color": "rgb(17,17,17)"
             }
            },
            "type": "table"
           }
          ]
         },
         "layout": {
          "annotationdefaults": {
           "arrowcolor": "#f2f5fa",
           "arrowhead": 0,
           "arrowwidth": 1
          },
          "autotypenumbers": "strict",
          "coloraxis": {
           "colorbar": {
            "outlinewidth": 0,
            "ticks": ""
           }
          },
          "colorscale": {
           "diverging": [
            [
             0,
             "#8e0152"
            ],
            [
             0.1,
             "#c51b7d"
            ],
            [
             0.2,
             "#de77ae"
            ],
            [
             0.3,
             "#f1b6da"
            ],
            [
             0.4,
             "#fde0ef"
            ],
            [
             0.5,
             "#f7f7f7"
            ],
            [
             0.6,
             "#e6f5d0"
            ],
            [
             0.7,
             "#b8e186"
            ],
            [
             0.8,
             "#7fbc41"
            ],
            [
             0.9,
             "#4d9221"
            ],
            [
             1,
             "#276419"
            ]
           ],
           "sequential": [
            [
             0,
             "#0d0887"
            ],
            [
             0.1111111111111111,
             "#46039f"
            ],
            [
             0.2222222222222222,
             "#7201a8"
            ],
            [
             0.3333333333333333,
             "#9c179e"
            ],
            [
             0.4444444444444444,
             "#bd3786"
            ],
            [
             0.5555555555555556,
             "#d8576b"
            ],
            [
             0.6666666666666666,
             "#ed7953"
            ],
            [
             0.7777777777777778,
             "#fb9f3a"
            ],
            [
             0.8888888888888888,
             "#fdca26"
            ],
            [
             1,
             "#f0f921"
            ]
           ],
           "sequentialminus": [
            [
             0,
             "#0d0887"
            ],
            [
             0.1111111111111111,
             "#46039f"
            ],
            [
             0.2222222222222222,
             "#7201a8"
            ],
            [
             0.3333333333333333,
             "#9c179e"
            ],
            [
             0.4444444444444444,
             "#bd3786"
            ],
            [
             0.5555555555555556,
             "#d8576b"
            ],
            [
             0.6666666666666666,
             "#ed7953"
            ],
            [
             0.7777777777777778,
             "#fb9f3a"
            ],
            [
             0.8888888888888888,
             "#fdca26"
            ],
            [
             1,
             "#f0f921"
            ]
           ]
          },
          "colorway": [
           "#636efa",
           "#EF553B",
           "#00cc96",
           "#ab63fa",
           "#FFA15A",
           "#19d3f3",
           "#FF6692",
           "#B6E880",
           "#FF97FF",
           "#FECB52"
          ],
          "font": {
           "color": "#f2f5fa"
          },
          "geo": {
           "bgcolor": "rgb(17,17,17)",
           "lakecolor": "rgb(17,17,17)",
           "landcolor": "rgb(17,17,17)",
           "showlakes": true,
           "showland": true,
           "subunitcolor": "#506784"
          },
          "hoverlabel": {
           "align": "left"
          },
          "hovermode": "closest",
          "mapbox": {
           "style": "dark"
          },
          "paper_bgcolor": "rgb(17,17,17)",
          "plot_bgcolor": "rgb(17,17,17)",
          "polar": {
           "angularaxis": {
            "gridcolor": "#506784",
            "linecolor": "#506784",
            "ticks": ""
           },
           "bgcolor": "rgb(17,17,17)",
           "radialaxis": {
            "gridcolor": "#506784",
            "linecolor": "#506784",
            "ticks": ""
           }
          },
          "scene": {
           "xaxis": {
            "backgroundcolor": "rgb(17,17,17)",
            "gridcolor": "#506784",
            "gridwidth": 2,
            "linecolor": "#506784",
            "showbackground": true,
            "ticks": "",
            "zerolinecolor": "#C8D4E3"
           },
           "yaxis": {
            "backgroundcolor": "rgb(17,17,17)",
            "gridcolor": "#506784",
            "gridwidth": 2,
            "linecolor": "#506784",
            "showbackground": true,
            "ticks": "",
            "zerolinecolor": "#C8D4E3"
           },
           "zaxis": {
            "backgroundcolor": "rgb(17,17,17)",
            "gridcolor": "#506784",
            "gridwidth": 2,
            "linecolor": "#506784",
            "showbackground": true,
            "ticks": "",
            "zerolinecolor": "#C8D4E3"
           }
          },
          "shapedefaults": {
           "line": {
            "color": "#f2f5fa"
           }
          },
          "sliderdefaults": {
           "bgcolor": "#C8D4E3",
           "bordercolor": "rgb(17,17,17)",
           "borderwidth": 1,
           "tickwidth": 0
          },
          "ternary": {
           "aaxis": {
            "gridcolor": "#506784",
            "linecolor": "#506784",
            "ticks": ""
           },
           "baxis": {
            "gridcolor": "#506784",
            "linecolor": "#506784",
            "ticks": ""
           },
           "bgcolor": "rgb(17,17,17)",
           "caxis": {
            "gridcolor": "#506784",
            "linecolor": "#506784",
            "ticks": ""
           }
          },
          "title": {
           "x": 0.05
          },
          "updatemenudefaults": {
           "bgcolor": "#506784",
           "borderwidth": 0
          },
          "xaxis": {
           "automargin": true,
           "gridcolor": "#283442",
           "linecolor": "#506784",
           "ticks": "",
           "title": {
            "standoff": 15
           },
           "zerolinecolor": "#283442",
           "zerolinewidth": 2
          },
          "yaxis": {
           "automargin": true,
           "gridcolor": "#283442",
           "linecolor": "#506784",
           "ticks": "",
           "title": {
            "standoff": 15
           },
           "zerolinecolor": "#283442",
           "zerolinewidth": 2
          }
         }
        },
        "title": {
         "text": "World Rank & Region Rank 2019 Freedom Index"
        },
        "width": 2000
       }
      }
     },
     "metadata": {},
     "output_type": "display_data"
    }
   ],
   "source": [
    "# hacemos un subplot de una comparativa de el Worl Rank con el Region Rank \n",
    "fig = make_subplots(rows=1, cols=2, column_widths=[0.5, 0.6], row_heights=[0.6], \n",
    "                    specs=[[{\"type\": \"scattergeo\"}, {\"type\": \"scattergeo\"}]], \n",
    "                    subplot_titles=(\"World Rank 2019 Freedom Index\",\"Region Rank 2019 Freedom Index\"))\n",
    "\n",
    "# añadimos el primer subplot y sus características\n",
    "fig.add_trace(\n",
    "    go.Scattergeo(lon = df['Longitude'], lat = df['Latitude'], text = df['Country'] + ' (' + df['World Rank'].astype(str) + ')', mode = 'markers',\n",
    "                marker = dict(size = 20, sizemode = 'diameter', color = df['World Rank'], colorscale = 'Plasma', reversescale = False),\n",
    "                name = 'World Rank'), row=1, col=1)\n",
    "\n",
    "# añadimos las características del plot\n",
    "fig.update_layout(\n",
    "        title = 'World Rank & Region Rank 2019 Freedom Index',\n",
    "        geo = dict(\n",
    "        scope = 'world',\n",
    "        showland = True,\n",
    "        landcolor = 'White',\n",
    "        showcountries = True,\n",
    "        countrycolor = 'Black',\n",
    "        showocean=True,\n",
    "        oceancolor=\"LightBlue\",\n",
    "        lakecolor=\"LightBlue\",\n",
    "        projection = dict(type = \"orthographic\"),\n",
    "        lonaxis = dict(range = [-270, 270]),\n",
    "        lataxis = dict(range = [-270, 270])\n",
    "        \n",
    "    ),\n",
    ")\n",
    "\n",
    "# añadimos el segundo subplot y sus características\n",
    "fig.add_trace(\n",
    "    go.Scattergeo(lon = df['Longitude'], lat = df['Latitude'], text = df['Country'] + ' (' + df['Region Rank'].astype(str) + ')', mode = 'markers',\n",
    "                marker = dict(size = 20, sizemode = 'diameter', color = df['Region Rank'], colorscale = 'Plasma', reversescale = False),\n",
    "                name = 'Region Rank'), row=1, col=2)\n",
    "\n",
    "# añadimos las características del plot\n",
    "fig.update_layout(\n",
    "        geo2 = dict(\n",
    "        scope = 'world',\n",
    "        showland = True,\n",
    "        landcolor = 'White',\n",
    "        showcountries = True,\n",
    "        countrycolor = 'Black',\n",
    "        showocean=True,\n",
    "        oceancolor=\"LightBlue\",\n",
    "        lakecolor=\"LightBlue\",\n",
    "        projection = dict(type = \"orthographic\"),\n",
    "        lonaxis = dict(range = [-270, 270]),\n",
    "        lataxis = dict(range = [-270, 270])\n",
    "        \n",
    "    ),\n",
    ")\n",
    "\n",
    "# damos el tamaño al plot y lo mostramos\n",
    "fig.update_layout(width = 2000, height=800)\n",
    "fig.show()"
   ]
  },
  {
   "attachments": {},
   "cell_type": "markdown",
   "metadata": {},
   "source": [
    "<p style=\"color:white; font-size:20px;\">2019 score analysis </p>"
   ]
  },
  {
   "cell_type": "code",
   "execution_count": 26,
   "metadata": {},
   "outputs": [
    {
     "data": {
      "application/vnd.plotly.v1+json": {
       "config": {
        "plotlyServerURL": "https://plot.ly"
       },
       "data": [
        {
         "marker": {
          "color": [
           90.2,
           89.4,
           84.4,
           81.9,
           80.9,
           80.5,
           78.9,
           77.7,
           77.6,
           77.3,
           77.1,
           76.8,
           76.8,
           76.7,
           76.6,
           75.9,
           75.9,
           75.4,
           75.2,
           74.9
          ],
          "colorscale": [
           [
            0,
            "#440154"
           ],
           [
            0.1111111111111111,
            "#482878"
           ],
           [
            0.2222222222222222,
            "#3e4989"
           ],
           [
            0.3333333333333333,
            "#31688e"
           ],
           [
            0.4444444444444444,
            "#26828e"
           ],
           [
            0.5555555555555556,
            "#1f9e89"
           ],
           [
            0.6666666666666666,
            "#35b779"
           ],
           [
            0.7777777777777778,
            "#6ece58"
           ],
           [
            0.8888888888888888,
            "#b5de2b"
           ],
           [
            1,
            "#fde725"
           ]
          ]
         },
         "name": "Top 20",
         "type": "bar",
         "x": [
          "Hong Kong",
          "Singapore",
          "New Zealand",
          "Switzerland",
          "Australia",
          "Ireland",
          "United Kingdom",
          "Canada",
          "United Arab Emirates",
          "Taiwan ",
          "Iceland",
          "Netherlands",
          "United States",
          "Denmark",
          "Estonia",
          "Luxembourg",
          "Georgia",
          "Chile",
          "Sweden",
          "Finland"
         ],
         "xaxis": "x",
         "y": [
          90.2,
          89.4,
          84.4,
          81.9,
          80.9,
          80.5,
          78.9,
          77.7,
          77.6,
          77.3,
          77.1,
          76.8,
          76.8,
          76.7,
          76.6,
          75.9,
          75.9,
          75.4,
          75.2,
          74.9
         ],
         "yaxis": "y"
        },
        {
         "marker": {
          "color": [
           5.9,
           25.9,
           27.8,
           38.9,
           39.7,
           40.4,
           41,
           42.3,
           44.2,
           46.2,
           46.9,
           47.1,
           47.3,
           47.5,
           47.7,
           48.1,
           48.4,
           48.6,
           48.9,
           49.1
          ],
          "colorscale": [
           [
            0,
            "#440154"
           ],
           [
            0.1111111111111111,
            "#482878"
           ],
           [
            0.2222222222222222,
            "#3e4989"
           ],
           [
            0.3333333333333333,
            "#31688e"
           ],
           [
            0.4444444444444444,
            "#26828e"
           ],
           [
            0.5555555555555556,
            "#1f9e89"
           ],
           [
            0.6666666666666666,
            "#35b779"
           ],
           [
            0.7777777777777778,
            "#6ece58"
           ],
           [
            0.8888888888888888,
            "#b5de2b"
           ],
           [
            1,
            "#fde725"
           ]
          ]
         },
         "name": "Bottom 20",
         "type": "bar",
         "x": [
          "Korea, North ",
          "Venezuela",
          "Cuba",
          "Eritrea",
          "Congo, Republic of",
          "Zimbabwe",
          "Equatorial Guinea",
          "Bolivia",
          "Timor-Leste",
          "Algeria",
          "Ecuador",
          "Djibouti",
          "Kiribati",
          "Sierra Leone",
          "Sudan",
          "Suriname",
          "Turkmenistan",
          "Mozambique",
          "Burundi",
          "Central African Republic"
         ],
         "xaxis": "x2",
         "y": [
          5.9,
          25.9,
          27.8,
          38.9,
          39.7,
          40.4,
          41,
          42.3,
          44.2,
          46.2,
          46.9,
          47.1,
          47.3,
          47.5,
          47.7,
          48.1,
          48.4,
          48.6,
          48.9,
          49.1
         ],
         "yaxis": "y2"
        }
       ],
       "layout": {
        "annotations": [
         {
          "font": {
           "size": 16
          },
          "showarrow": false,
          "text": "Top 20 Countries by 2019 Score",
          "x": 0.225,
          "xanchor": "center",
          "xref": "paper",
          "y": 1,
          "yanchor": "bottom",
          "yref": "paper"
         },
         {
          "font": {
           "size": 16
          },
          "showarrow": false,
          "text": "Bottom 20 Countries by 2019 Score",
          "x": 0.775,
          "xanchor": "center",
          "xref": "paper",
          "y": 1,
          "yanchor": "bottom",
          "yref": "paper"
         }
        ],
        "height": 800,
        "showlegend": true,
        "template": {
         "data": {
          "bar": [
           {
            "error_x": {
             "color": "#f2f5fa"
            },
            "error_y": {
             "color": "#f2f5fa"
            },
            "marker": {
             "line": {
              "color": "rgb(17,17,17)",
              "width": 0.5
             },
             "pattern": {
              "fillmode": "overlay",
              "size": 10,
              "solidity": 0.2
             }
            },
            "type": "bar"
           }
          ],
          "barpolar": [
           {
            "marker": {
             "line": {
              "color": "rgb(17,17,17)",
              "width": 0.5
             },
             "pattern": {
              "fillmode": "overlay",
              "size": 10,
              "solidity": 0.2
             }
            },
            "type": "barpolar"
           }
          ],
          "carpet": [
           {
            "aaxis": {
             "endlinecolor": "#A2B1C6",
             "gridcolor": "#506784",
             "linecolor": "#506784",
             "minorgridcolor": "#506784",
             "startlinecolor": "#A2B1C6"
            },
            "baxis": {
             "endlinecolor": "#A2B1C6",
             "gridcolor": "#506784",
             "linecolor": "#506784",
             "minorgridcolor": "#506784",
             "startlinecolor": "#A2B1C6"
            },
            "type": "carpet"
           }
          ],
          "choropleth": [
           {
            "colorbar": {
             "outlinewidth": 0,
             "ticks": ""
            },
            "type": "choropleth"
           }
          ],
          "contour": [
           {
            "colorbar": {
             "outlinewidth": 0,
             "ticks": ""
            },
            "colorscale": [
             [
              0,
              "#0d0887"
             ],
             [
              0.1111111111111111,
              "#46039f"
             ],
             [
              0.2222222222222222,
              "#7201a8"
             ],
             [
              0.3333333333333333,
              "#9c179e"
             ],
             [
              0.4444444444444444,
              "#bd3786"
             ],
             [
              0.5555555555555556,
              "#d8576b"
             ],
             [
              0.6666666666666666,
              "#ed7953"
             ],
             [
              0.7777777777777778,
              "#fb9f3a"
             ],
             [
              0.8888888888888888,
              "#fdca26"
             ],
             [
              1,
              "#f0f921"
             ]
            ],
            "type": "contour"
           }
          ],
          "contourcarpet": [
           {
            "colorbar": {
             "outlinewidth": 0,
             "ticks": ""
            },
            "type": "contourcarpet"
           }
          ],
          "heatmap": [
           {
            "colorbar": {
             "outlinewidth": 0,
             "ticks": ""
            },
            "colorscale": [
             [
              0,
              "#0d0887"
             ],
             [
              0.1111111111111111,
              "#46039f"
             ],
             [
              0.2222222222222222,
              "#7201a8"
             ],
             [
              0.3333333333333333,
              "#9c179e"
             ],
             [
              0.4444444444444444,
              "#bd3786"
             ],
             [
              0.5555555555555556,
              "#d8576b"
             ],
             [
              0.6666666666666666,
              "#ed7953"
             ],
             [
              0.7777777777777778,
              "#fb9f3a"
             ],
             [
              0.8888888888888888,
              "#fdca26"
             ],
             [
              1,
              "#f0f921"
             ]
            ],
            "type": "heatmap"
           }
          ],
          "heatmapgl": [
           {
            "colorbar": {
             "outlinewidth": 0,
             "ticks": ""
            },
            "colorscale": [
             [
              0,
              "#0d0887"
             ],
             [
              0.1111111111111111,
              "#46039f"
             ],
             [
              0.2222222222222222,
              "#7201a8"
             ],
             [
              0.3333333333333333,
              "#9c179e"
             ],
             [
              0.4444444444444444,
              "#bd3786"
             ],
             [
              0.5555555555555556,
              "#d8576b"
             ],
             [
              0.6666666666666666,
              "#ed7953"
             ],
             [
              0.7777777777777778,
              "#fb9f3a"
             ],
             [
              0.8888888888888888,
              "#fdca26"
             ],
             [
              1,
              "#f0f921"
             ]
            ],
            "type": "heatmapgl"
           }
          ],
          "histogram": [
           {
            "marker": {
             "pattern": {
              "fillmode": "overlay",
              "size": 10,
              "solidity": 0.2
             }
            },
            "type": "histogram"
           }
          ],
          "histogram2d": [
           {
            "colorbar": {
             "outlinewidth": 0,
             "ticks": ""
            },
            "colorscale": [
             [
              0,
              "#0d0887"
             ],
             [
              0.1111111111111111,
              "#46039f"
             ],
             [
              0.2222222222222222,
              "#7201a8"
             ],
             [
              0.3333333333333333,
              "#9c179e"
             ],
             [
              0.4444444444444444,
              "#bd3786"
             ],
             [
              0.5555555555555556,
              "#d8576b"
             ],
             [
              0.6666666666666666,
              "#ed7953"
             ],
             [
              0.7777777777777778,
              "#fb9f3a"
             ],
             [
              0.8888888888888888,
              "#fdca26"
             ],
             [
              1,
              "#f0f921"
             ]
            ],
            "type": "histogram2d"
           }
          ],
          "histogram2dcontour": [
           {
            "colorbar": {
             "outlinewidth": 0,
             "ticks": ""
            },
            "colorscale": [
             [
              0,
              "#0d0887"
             ],
             [
              0.1111111111111111,
              "#46039f"
             ],
             [
              0.2222222222222222,
              "#7201a8"
             ],
             [
              0.3333333333333333,
              "#9c179e"
             ],
             [
              0.4444444444444444,
              "#bd3786"
             ],
             [
              0.5555555555555556,
              "#d8576b"
             ],
             [
              0.6666666666666666,
              "#ed7953"
             ],
             [
              0.7777777777777778,
              "#fb9f3a"
             ],
             [
              0.8888888888888888,
              "#fdca26"
             ],
             [
              1,
              "#f0f921"
             ]
            ],
            "type": "histogram2dcontour"
           }
          ],
          "mesh3d": [
           {
            "colorbar": {
             "outlinewidth": 0,
             "ticks": ""
            },
            "type": "mesh3d"
           }
          ],
          "parcoords": [
           {
            "line": {
             "colorbar": {
              "outlinewidth": 0,
              "ticks": ""
             }
            },
            "type": "parcoords"
           }
          ],
          "pie": [
           {
            "automargin": true,
            "type": "pie"
           }
          ],
          "scatter": [
           {
            "marker": {
             "line": {
              "color": "#283442"
             }
            },
            "type": "scatter"
           }
          ],
          "scatter3d": [
           {
            "line": {
             "colorbar": {
              "outlinewidth": 0,
              "ticks": ""
             }
            },
            "marker": {
             "colorbar": {
              "outlinewidth": 0,
              "ticks": ""
             }
            },
            "type": "scatter3d"
           }
          ],
          "scattercarpet": [
           {
            "marker": {
             "colorbar": {
              "outlinewidth": 0,
              "ticks": ""
             }
            },
            "type": "scattercarpet"
           }
          ],
          "scattergeo": [
           {
            "marker": {
             "colorbar": {
              "outlinewidth": 0,
              "ticks": ""
             }
            },
            "type": "scattergeo"
           }
          ],
          "scattergl": [
           {
            "marker": {
             "line": {
              "color": "#283442"
             }
            },
            "type": "scattergl"
           }
          ],
          "scattermapbox": [
           {
            "marker": {
             "colorbar": {
              "outlinewidth": 0,
              "ticks": ""
             }
            },
            "type": "scattermapbox"
           }
          ],
          "scatterpolar": [
           {
            "marker": {
             "colorbar": {
              "outlinewidth": 0,
              "ticks": ""
             }
            },
            "type": "scatterpolar"
           }
          ],
          "scatterpolargl": [
           {
            "marker": {
             "colorbar": {
              "outlinewidth": 0,
              "ticks": ""
             }
            },
            "type": "scatterpolargl"
           }
          ],
          "scatterternary": [
           {
            "marker": {
             "colorbar": {
              "outlinewidth": 0,
              "ticks": ""
             }
            },
            "type": "scatterternary"
           }
          ],
          "surface": [
           {
            "colorbar": {
             "outlinewidth": 0,
             "ticks": ""
            },
            "colorscale": [
             [
              0,
              "#0d0887"
             ],
             [
              0.1111111111111111,
              "#46039f"
             ],
             [
              0.2222222222222222,
              "#7201a8"
             ],
             [
              0.3333333333333333,
              "#9c179e"
             ],
             [
              0.4444444444444444,
              "#bd3786"
             ],
             [
              0.5555555555555556,
              "#d8576b"
             ],
             [
              0.6666666666666666,
              "#ed7953"
             ],
             [
              0.7777777777777778,
              "#fb9f3a"
             ],
             [
              0.8888888888888888,
              "#fdca26"
             ],
             [
              1,
              "#f0f921"
             ]
            ],
            "type": "surface"
           }
          ],
          "table": [
           {
            "cells": {
             "fill": {
              "color": "#506784"
             },
             "line": {
              "color": "rgb(17,17,17)"
             }
            },
            "header": {
             "fill": {
              "color": "#2a3f5f"
             },
             "line": {
              "color": "rgb(17,17,17)"
             }
            },
            "type": "table"
           }
          ]
         },
         "layout": {
          "annotationdefaults": {
           "arrowcolor": "#f2f5fa",
           "arrowhead": 0,
           "arrowwidth": 1
          },
          "autotypenumbers": "strict",
          "coloraxis": {
           "colorbar": {
            "outlinewidth": 0,
            "ticks": ""
           }
          },
          "colorscale": {
           "diverging": [
            [
             0,
             "#8e0152"
            ],
            [
             0.1,
             "#c51b7d"
            ],
            [
             0.2,
             "#de77ae"
            ],
            [
             0.3,
             "#f1b6da"
            ],
            [
             0.4,
             "#fde0ef"
            ],
            [
             0.5,
             "#f7f7f7"
            ],
            [
             0.6,
             "#e6f5d0"
            ],
            [
             0.7,
             "#b8e186"
            ],
            [
             0.8,
             "#7fbc41"
            ],
            [
             0.9,
             "#4d9221"
            ],
            [
             1,
             "#276419"
            ]
           ],
           "sequential": [
            [
             0,
             "#0d0887"
            ],
            [
             0.1111111111111111,
             "#46039f"
            ],
            [
             0.2222222222222222,
             "#7201a8"
            ],
            [
             0.3333333333333333,
             "#9c179e"
            ],
            [
             0.4444444444444444,
             "#bd3786"
            ],
            [
             0.5555555555555556,
             "#d8576b"
            ],
            [
             0.6666666666666666,
             "#ed7953"
            ],
            [
             0.7777777777777778,
             "#fb9f3a"
            ],
            [
             0.8888888888888888,
             "#fdca26"
            ],
            [
             1,
             "#f0f921"
            ]
           ],
           "sequentialminus": [
            [
             0,
             "#0d0887"
            ],
            [
             0.1111111111111111,
             "#46039f"
            ],
            [
             0.2222222222222222,
             "#7201a8"
            ],
            [
             0.3333333333333333,
             "#9c179e"
            ],
            [
             0.4444444444444444,
             "#bd3786"
            ],
            [
             0.5555555555555556,
             "#d8576b"
            ],
            [
             0.6666666666666666,
             "#ed7953"
            ],
            [
             0.7777777777777778,
             "#fb9f3a"
            ],
            [
             0.8888888888888888,
             "#fdca26"
            ],
            [
             1,
             "#f0f921"
            ]
           ]
          },
          "colorway": [
           "#636efa",
           "#EF553B",
           "#00cc96",
           "#ab63fa",
           "#FFA15A",
           "#19d3f3",
           "#FF6692",
           "#B6E880",
           "#FF97FF",
           "#FECB52"
          ],
          "font": {
           "color": "#f2f5fa"
          },
          "geo": {
           "bgcolor": "rgb(17,17,17)",
           "lakecolor": "rgb(17,17,17)",
           "landcolor": "rgb(17,17,17)",
           "showlakes": true,
           "showland": true,
           "subunitcolor": "#506784"
          },
          "hoverlabel": {
           "align": "left"
          },
          "hovermode": "closest",
          "mapbox": {
           "style": "dark"
          },
          "paper_bgcolor": "rgb(17,17,17)",
          "plot_bgcolor": "rgb(17,17,17)",
          "polar": {
           "angularaxis": {
            "gridcolor": "#506784",
            "linecolor": "#506784",
            "ticks": ""
           },
           "bgcolor": "rgb(17,17,17)",
           "radialaxis": {
            "gridcolor": "#506784",
            "linecolor": "#506784",
            "ticks": ""
           }
          },
          "scene": {
           "xaxis": {
            "backgroundcolor": "rgb(17,17,17)",
            "gridcolor": "#506784",
            "gridwidth": 2,
            "linecolor": "#506784",
            "showbackground": true,
            "ticks": "",
            "zerolinecolor": "#C8D4E3"
           },
           "yaxis": {
            "backgroundcolor": "rgb(17,17,17)",
            "gridcolor": "#506784",
            "gridwidth": 2,
            "linecolor": "#506784",
            "showbackground": true,
            "ticks": "",
            "zerolinecolor": "#C8D4E3"
           },
           "zaxis": {
            "backgroundcolor": "rgb(17,17,17)",
            "gridcolor": "#506784",
            "gridwidth": 2,
            "linecolor": "#506784",
            "showbackground": true,
            "ticks": "",
            "zerolinecolor": "#C8D4E3"
           }
          },
          "shapedefaults": {
           "line": {
            "color": "#f2f5fa"
           }
          },
          "sliderdefaults": {
           "bgcolor": "#C8D4E3",
           "bordercolor": "rgb(17,17,17)",
           "borderwidth": 1,
           "tickwidth": 0
          },
          "ternary": {
           "aaxis": {
            "gridcolor": "#506784",
            "linecolor": "#506784",
            "ticks": ""
           },
           "baxis": {
            "gridcolor": "#506784",
            "linecolor": "#506784",
            "ticks": ""
           },
           "bgcolor": "rgb(17,17,17)",
           "caxis": {
            "gridcolor": "#506784",
            "linecolor": "#506784",
            "ticks": ""
           }
          },
          "title": {
           "x": 0.05
          },
          "updatemenudefaults": {
           "bgcolor": "#506784",
           "borderwidth": 0
          },
          "xaxis": {
           "automargin": true,
           "gridcolor": "#283442",
           "linecolor": "#506784",
           "ticks": "",
           "title": {
            "standoff": 15
           },
           "zerolinecolor": "#283442",
           "zerolinewidth": 2
          },
          "yaxis": {
           "automargin": true,
           "gridcolor": "#283442",
           "linecolor": "#506784",
           "ticks": "",
           "title": {
            "standoff": 15
           },
           "zerolinecolor": "#283442",
           "zerolinewidth": 2
          }
         }
        },
        "title": {
         "text": "Relationship between the 2019 score and dependent variables"
        },
        "width": 2000,
        "xaxis": {
         "anchor": "y",
         "domain": [
          0,
          0.45
         ],
         "title": {
          "text": "Top 20 Countries by 2019 Score"
         }
        },
        "xaxis2": {
         "anchor": "y2",
         "domain": [
          0.55,
          1
         ],
         "title": {
          "text": "Bottom 20 Countries by 2019 Score"
         }
        },
        "yaxis": {
         "anchor": "x",
         "domain": [
          0,
          1
         ],
         "title": {
          "text": "2019 Score"
         }
        },
        "yaxis2": {
         "anchor": "x2",
         "domain": [
          0,
          1
         ],
         "matches": "y",
         "showticklabels": false
        }
       }
      }
     },
     "metadata": {},
     "output_type": "display_data"
    }
   ],
   "source": [
    "# hacemos un top 20 de los mejores y peores paises valorados según el 2019 Score\n",
    "top_20_countries = df.sort_values(by='2019 Score', ascending=False).head(20)\n",
    "bottom_20_countries = df.sort_values(by='2019 Score', ascending=True).head(20)\n",
    "# creamos dos columnas para poder hacer dos subplots y comparlaos\n",
    "fig = make_subplots(rows=1, cols=2, shared_yaxes=True, subplot_titles=(\"Top 20 Countries by 2019 Score\",\"Bottom 20 Countries by 2019 Score\"))\n",
    "colorscale = 'Viridis'\n",
    "fig.add_trace(go.Bar(x=top_20_countries['Country'], y=top_20_countries['2019 Score'], name='Top 20', marker_color=top_20_countries['2019 Score'], marker_colorscale=colorscale), 1, 1)\n",
    "fig.add_trace(go.Bar(x=bottom_20_countries['Country'], y=bottom_20_countries['2019 Score'], name='Bottom 20', marker_color=bottom_20_countries['2019 Score'], marker_colorscale=colorscale), 1, 2)\n",
    "fig.update_layout(title ='Top 20 Countries / Bottom 20 Countries by Score 2019')\n",
    "fig.update_layout(\n",
    "    title='Relationship between the 2019 score and dependent variables',\n",
    "    xaxis=dict(title='Top 20 Countries by 2019 Score'),\n",
    "    xaxis2=dict(title='Bottom 20 Countries by 2019 Score'),\n",
    "    yaxis=dict(title='2019 Score'),\n",
    "    showlegend=True, \n",
    "    width=2000,\n",
    "    height=800\n",
    ")\n",
    "fig.show()"
   ]
  },
  {
   "attachments": {},
   "cell_type": "markdown",
   "metadata": {},
   "source": [
    "**El 2019 Index Score, lo lideran países como Hong Kong, Singapur y Nueva Zelanda, mientras que el Score más bajo lo tienen países como Cuba, Venezuela y en último lugar Corea del Norte**"
   ]
  },
  {
   "cell_type": "code",
   "execution_count": 27,
   "metadata": {},
   "outputs": [
    {
     "data": {
      "application/vnd.plotly.v1+json": {
       "config": {
        "plotlyServerURL": "https://plot.ly"
       },
       "data": [
        {
         "lat": [
          33.93911,
          41.153332,
          28.033886,
          -11.202692,
          -38.416097,
          40.069099,
          -25.274398,
          47.516231,
          40.143105,
          25.03428,
          25.930414,
          23.684994,
          13.193887,
          53.709807,
          50.503887,
          17.189877,
          9.30769,
          27.514162,
          -16.290154,
          43.915886,
          -22.328474,
          -14.235004,
          4.535277,
          42.733883,
          12.238333,
          21.913965,
          -3.373056,
          12.565679,
          7.369722,
          56.130366,
          16.002082,
          6.611111,
          15.454166,
          -35.675147,
          35.86166,
          4.570868,
          -11.875001,
          -0.228021,
          -4.038333,
          9.748917,
          7.539989,
          45.1667,
          21.521757,
          35.126413,
          49.817492,
          56.26392,
          11.825138,
          15.414999,
          18.735693,
          -1.831239,
          26.820553,
          13.794185,
          1.650801,
          15.179384,
          58.595272,
          -26.522503,
          9.145,
          -16.578193,
          61.92411,
          46.227638,
          -0.803689,
          13.443182,
          42.315407,
          51.165691,
          7.946527,
          39.074208,
          15.783471,
          9.945587,
          11.803749,
          4.860416,
          18.971187,
          15.199999,
          22.396428,
          47.162494,
          64.963051,
          20.593684,
          -0.789275,
          32.427908,
          33.223191,
          53.41291,
          31.046051,
          41.87194,
          18.109581,
          36.204824,
          30.585164,
          48.019573,
          -0.023559,
          -3.370417,
          40.339852,
          35.907757,
          42.602636,
          29.31166,
          41.20438,
          19.85627,
          56.879635,
          33.854721,
          -29.609988,
          6.428055,
          26.3351,
          47.166,
          55.169438,
          49.815273,
          22.198745,
          41.608635,
          -18.766947,
          -13.254308,
          4.210484,
          3.202778,
          17.570692,
          35.937496,
          21.00789,
          -20.348404,
          23.634501,
          7.425554,
          47.411631,
          46.862496,
          42.708678,
          31.791702,
          -18.665695,
          -22.95764,
          28.394857,
          52.132633,
          -40.900557,
          12.865416,
          17.607789,
          9.081999,
          60.472024,
          21.512583,
          30.375321,
          8.537981,
          -6.314993,
          -23.442503,
          -9.189967,
          12.879721,
          51.919438,
          39.399872,
          25.354826,
          45.943161,
          61.52401,
          -1.940278,
          13.909444,
          12.984305,
          -13.759029,
          0.18636,
          23.885942,
          14.497401,
          44.016521,
          -4.679574,
          8.460555,
          1.352083,
          48.669026,
          46.151241,
          -9.64571,
          5.152149,
          -30.559482,
          40.463667,
          7.873054,
          12.862807,
          3.919305,
          60.128161,
          46.818188,
          34.802075,
          23.69781,
          38.861034,
          -6.369028,
          15.870032,
          -8.874217,
          8.619543,
          -21.178986,
          10.691803,
          33.886917,
          38.963745,
          38.969719,
          1.373333,
          48.379433,
          23.424076,
          55.378051,
          37.09024,
          -32.522779,
          41.377491,
          -15.376706,
          6.42375,
          14.058324,
          15.552727,
          -13.133897,
          -19.015438
         ],
         "lon": [
          67.709953,
          20.168331,
          1.659626,
          17.873887,
          -63.616672,
          45.038189,
          133.775136,
          14.550072,
          47.576927,
          -77.39628,
          50.637772,
          90.356331,
          -59.543198,
          27.953389,
          4.469936,
          -88.49765,
          2.315834,
          90.433601,
          -63.588653,
          17.679076,
          24.684866,
          -51.92528,
          114.727669,
          25.48583,
          -1.561593,
          95.956223,
          29.918886,
          104.990963,
          12.354722,
          -106.346771,
          -24.013197,
          20.939444,
          18.732207,
          -71.542969,
          104.195397,
          -74.297333,
          43.872219,
          15.827659,
          21.758664,
          -83.753428,
          -5.54708,
          15.5,
          -77.781167,
          33.429859,
          15.472962,
          9.501785,
          42.590275,
          -61.370976,
          -70.162651,
          -78.183406,
          30.802498,
          -88.89653,
          10.267895,
          39.782334,
          25.013607,
          31.465866,
          40.489673,
          179.414413,
          25.748151,
          2.213749,
          11.609444,
          -15.310139,
          43.356892,
          10.451526,
          -1.023194,
          21.824312,
          -90.230759,
          -9.696645,
          -15.180413,
          -58.93018,
          -72.285215,
          -86.241905,
          114.109497,
          19.503304,
          -19.020835,
          78.96288,
          113.921327,
          53.688046,
          43.679291,
          -8.24389,
          34.851612,
          12.56738,
          -77.297508,
          138.252924,
          36.238414,
          66.923684,
          37.906193,
          -168.734039,
          127.510093,
          127.766922,
          20.902977,
          47.481766,
          74.766098,
          102.495496,
          24.603189,
          35.862285,
          28.233608,
          -9.429499,
          17.228331,
          9.555373,
          23.881275,
          6.129583,
          113.543873,
          21.745275,
          46.869107,
          34.301525,
          101.975766,
          73.22068,
          -3.996166,
          14.375416,
          -10.940835,
          57.552152,
          -102.552784,
          150.550812,
          28.369885,
          103.846656,
          19.37439,
          -7.09262,
          35.529562,
          18.49041,
          84.124008,
          5.291266,
          174.885971,
          -85.207229,
          8.081666,
          8.675277,
          8.468946,
          55.923255,
          69.345116,
          -80.782127,
          143.95555,
          -58.443832,
          -75.015152,
          121.774017,
          19.145136,
          -8.224454,
          51.183884,
          24.96676,
          105.318756,
          29.873888,
          -60.978893,
          -61.287228,
          -172.104629,
          6.613081,
          45.079162,
          -14.452362,
          21.005859,
          55.491977,
          -11.779889,
          103.819836,
          19.699024,
          14.995463,
          160.156194,
          46.199616,
          22.937506,
          -3.74922,
          80.771797,
          30.217636,
          -56.027783,
          18.643501,
          8.227512,
          38.996815,
          120.960515,
          71.276093,
          34.888822,
          100.992541,
          125.727539,
          0.824782,
          -175.198242,
          -61.222503,
          9.537499,
          35.243322,
          59.556278,
          32.290275,
          31.16558,
          53.847818,
          -3.435973,
          -95.712891,
          -55.765835,
          64.585262,
          166.959158,
          -66.58973,
          108.277199,
          48.516388,
          27.849332,
          29.154857
         ],
         "marker": {
          "color": [
           51.5,
           66.5,
           46.2,
           50.6,
           52.2,
           67.7,
           80.9,
           72,
           65.4,
           62.9,
           66.4,
           55.6,
           64.7,
           57.9,
           67.3,
           55.4,
           55.3,
           62.9,
           42.3,
           61.9,
           69.5,
           51.9,
           65.1,
           69,
           59.4,
           53.6,
           48.9,
           57.8,
           52.4,
           77.7,
           63.1,
           49.1,
           49.9,
           75.4,
           58.4,
           67.3,
           55.4,
           50.3,
           39.7,
           65.3,
           62.4,
           61.4,
           27.8,
           68.1,
           73.7,
           76.7,
           47.1,
           63.6,
           61,
           46.9,
           52.5,
           61.8,
           41,
           38.9,
           76.6,
           54.7,
           53.6,
           62.2,
           74.9,
           63.8,
           56.3,
           52.4,
           75.9,
           73.5,
           57.5,
           57.7,
           62.6,
           55.7,
           54,
           56.8,
           52.7,
           60.2,
           90.2,
           65,
           77.1,
           55.2,
           65.8,
           51.1,
           60.76833333333333,
           80.5,
           72.8,
           62.2,
           68.6,
           72.1,
           66.5,
           65.4,
           55.1,
           47.3,
           5.9,
           72.3,
           67,
           60.8,
           62.3,
           57.4,
           70.4,
           51.1,
           53.1,
           49.7,
           60.76833333333333,
           60.76833333333333,
           74.2,
           75.9,
           71,
           71.1,
           56.6,
           51.4,
           74,
           53.2,
           58.1,
           68.6,
           55.7,
           73,
           64.7,
           51.9,
           59.1,
           55.4,
           60.5,
           62.9,
           48.6,
           58.7,
           53.8,
           76.8,
           84.4,
           57.7,
           51.6,
           57.3,
           73,
           61,
           55,
           67.2,
           58.4,
           61.8,
           67.8,
           63.8,
           67.8,
           65.3,
           72.6,
           68.6,
           58.9,
           71.1,
           68.7,
           65.8,
           62.2,
           54,
           60.7,
           56.3,
           63.9,
           61.4,
           47.5,
           89.4,
           65,
           65.5,
           54.6,
           60.76833333333333,
           58.3,
           65.7,
           56.4,
           47.7,
           48.1,
           75.2,
           81.9,
           60.76833333333333,
           77.3,
           55.6,
           60.2,
           68.3,
           44.2,
           50.3,
           57.7,
           57,
           55.4,
           64.6,
           48.4,
           59.7,
           52.3,
           77.6,
           78.9,
           76.8,
           68.6,
           53.3,
           56.4,
           25.9,
           55.3,
           60.76833333333333,
           53.6,
           40.4
          ],
          "colorscale": [
           [
            0,
            "rgb(0,0,131)"
           ],
           [
            0.2,
            "rgb(0,60,170)"
           ],
           [
            0.4,
            "rgb(5,255,255)"
           ],
           [
            0.6,
            "rgb(255,255,0)"
           ],
           [
            0.8,
            "rgb(250,0,0)"
           ],
           [
            1,
            "rgb(128,0,0)"
           ]
          ],
          "reversescale": false,
          "showscale": true,
          "size": 20,
          "sizemode": "diameter"
         },
         "mode": "markers",
         "text": [
          "Afghanistan (51.5)",
          "Albania (66.5)",
          "Algeria (46.2)",
          "Angola (50.6)",
          "Argentina (52.2)",
          "Armenia (67.7)",
          "Australia (80.9)",
          "Austria (72.0)",
          "Azerbaijan (65.4)",
          "Bahamas (62.9)",
          "Bahrain (66.4)",
          "Bangladesh (55.6)",
          "Barbados (64.7)",
          "Belarus (57.9)",
          "Belgium (67.3)",
          "Belize (55.4)",
          "Benin (55.3)",
          "Bhutan (62.9)",
          "Bolivia (42.3)",
          "Bosnia and Herzegovina (61.9)",
          "Botswana (69.5)",
          "Brazil (51.9)",
          "Brunei Darussalam (65.1)",
          "Bulgaria (69.0)",
          "Burkina Faso (59.4)",
          "Burma (53.6)",
          "Burundi (48.9)",
          "Cambodia (57.8)",
          "Cameroon (52.4)",
          "Canada (77.7)",
          "Cabo Verde (63.1)",
          "Central African Republic (49.1)",
          "Chad (49.9)",
          "Chile (75.4)",
          "China (58.4)",
          "Colombia (67.3)",
          "Comoros (55.4)",
          "Congo, Democratic Republic of the Congo (50.3)",
          "Congo, Republic of (39.7)",
          "Costa Rica (65.3)",
          "Cï¿½te d'Ivoire (62.4)",
          "Croatia (61.4)",
          "Cuba (27.8)",
          "Cyprus (68.1)",
          "Czech Republic (73.7)",
          "Denmark (76.7)",
          "Djibouti (47.1)",
          "Dominica (63.6)",
          "Dominican Republic (61.0)",
          "Ecuador (46.9)",
          "Egypt (52.5)",
          "El Salvador (61.8)",
          "Equatorial Guinea (41.0)",
          "Eritrea (38.9)",
          "Estonia (76.6)",
          "Eswatini (54.7)",
          "Ethiopia (53.6)",
          "Fiji (62.2)",
          "Finland (74.9)",
          "France (63.8)",
          "Gabon (56.3)",
          "Gambia (52.4)",
          "Georgia (75.9)",
          "Germany (73.5)",
          "Ghana (57.5)",
          "Greece (57.7)",
          "Guatemala (62.6)",
          "Guinea (55.7)",
          "Guinea-Bissau (54.0)",
          "Guyana (56.8)",
          "Haiti (52.7)",
          "Honduras (60.2)",
          "Hong Kong (90.2)",
          "Hungary (65.0)",
          "Iceland (77.1)",
          "India (55.2)",
          "Indonesia (65.8)",
          "Iran (51.1)",
          "Iraq (60.76833333333333)",
          "Ireland (80.5)",
          "Israel (72.8)",
          "Italy (62.2)",
          "Jamaica (68.6)",
          "Japan (72.1)",
          "Jordan (66.5)",
          "Kazakhstan (65.4)",
          "Kenya (55.1)",
          "Kiribati (47.3)",
          "Korea, North  (5.9)",
          "Korea, South (72.3)",
          "Kosovo (67.0)",
          "Kuwait (60.8)",
          "Kyrgyz Republic (62.3)",
          "Laos (57.4)",
          "Latvia (70.4)",
          "Lebanon (51.1)",
          "Lesotho (53.1)",
          "Liberia (49.7)",
          "Libya (60.76833333333333)",
          "Liechtenstein (60.76833333333333)",
          "Lithuania (74.2)",
          "Luxembourg (75.9)",
          "Macau (71.0)",
          "Macedonia (71.1)",
          "Madagascar (56.6)",
          "Malawi (51.4)",
          "Malaysia (74.0)",
          "Maldives (53.2)",
          "Mali (58.1)",
          "Malta (68.6)",
          "Mauritania (55.7)",
          "Mauritius (73.0)",
          "Mexico (64.7)",
          "Micronesia (51.9)",
          "Moldova (59.1)",
          "Mongolia (55.4)",
          "Montenegro (60.5)",
          "Morocco (62.9)",
          "Mozambique (48.6)",
          "Namibia (58.7)",
          "Nepal (53.8)",
          "Netherlands (76.8)",
          "New Zealand (84.4)",
          "Nicaragua (57.7)",
          "Niger (51.6)",
          "Nigeria (57.3)",
          "Norway (73.0)",
          "Oman (61.0)",
          "Pakistan (55.0)",
          "Panama (67.2)",
          "Papua New Guinea (58.4)",
          "Paraguay (61.8)",
          "Peru (67.8)",
          "Philippines (63.8)",
          "Poland (67.8)",
          "Portugal (65.3)",
          "Qatar (72.6)",
          "Romania (68.6)",
          "Russia (58.9)",
          "Rwanda (71.1)",
          "Saint Lucia (68.7)",
          "Saint Vincent and the Grenadines (65.8)",
          "Samoa (62.2)",
          "Sï¿½o Tomï¿½ and Prï¿½ncipe (54.0)",
          "Saudi Arabia (60.7)",
          "Senegal (56.3)",
          "Serbia (63.9)",
          "Seychelles (61.4)",
          "Sierra Leone (47.5)",
          "Singapore (89.4)",
          "Slovakia (65.0)",
          "Slovenia (65.5)",
          "Solomon Islands (54.6)",
          "Somalia (60.76833333333333)",
          "South Africa (58.3)",
          "Spain (65.7)",
          "Sri Lanka (56.4)",
          "Sudan (47.7)",
          "Suriname (48.1)",
          "Sweden (75.2)",
          "Switzerland (81.9)",
          "Syria (60.76833333333333)",
          "Taiwan  (77.3)",
          "Tajikistan (55.6)",
          "Tanzania (60.2)",
          "Thailand (68.3)",
          "Timor-Leste (44.2)",
          "Togo (50.3)",
          "Tonga (57.7)",
          "Trinidad and Tobago (57.0)",
          "Tunisia (55.4)",
          "Turkey (64.6)",
          "Turkmenistan (48.4)",
          "Uganda (59.7)",
          "Ukraine (52.3)",
          "United Arab Emirates (77.6)",
          "United Kingdom (78.9)",
          "United States (76.8)",
          "Uruguay (68.6)",
          "Uzbekistan (53.3)",
          "Vanuatu (56.4)",
          "Venezuela (25.9)",
          "Vietnam (55.3)",
          "Yemen (60.76833333333333)",
          "Zambia (53.6)",
          "Zimbabwe (40.4)"
         ],
         "type": "scattergeo"
        }
       ],
       "layout": {
        "geo": {
         "countrycolor": "Black",
         "lakecolor": "LightBlue",
         "landcolor": "White",
         "lataxis": {
          "range": [
           -270,
           270
          ]
         },
         "lonaxis": {
          "range": [
           -270,
           270
          ]
         },
         "oceancolor": "LightBlue",
         "projection": {
          "type": "orthographic"
         },
         "scope": "world",
         "showcountries": true,
         "showland": true,
         "showocean": true
        },
        "height": 800,
        "template": {
         "data": {
          "bar": [
           {
            "error_x": {
             "color": "#f2f5fa"
            },
            "error_y": {
             "color": "#f2f5fa"
            },
            "marker": {
             "line": {
              "color": "rgb(17,17,17)",
              "width": 0.5
             },
             "pattern": {
              "fillmode": "overlay",
              "size": 10,
              "solidity": 0.2
             }
            },
            "type": "bar"
           }
          ],
          "barpolar": [
           {
            "marker": {
             "line": {
              "color": "rgb(17,17,17)",
              "width": 0.5
             },
             "pattern": {
              "fillmode": "overlay",
              "size": 10,
              "solidity": 0.2
             }
            },
            "type": "barpolar"
           }
          ],
          "carpet": [
           {
            "aaxis": {
             "endlinecolor": "#A2B1C6",
             "gridcolor": "#506784",
             "linecolor": "#506784",
             "minorgridcolor": "#506784",
             "startlinecolor": "#A2B1C6"
            },
            "baxis": {
             "endlinecolor": "#A2B1C6",
             "gridcolor": "#506784",
             "linecolor": "#506784",
             "minorgridcolor": "#506784",
             "startlinecolor": "#A2B1C6"
            },
            "type": "carpet"
           }
          ],
          "choropleth": [
           {
            "colorbar": {
             "outlinewidth": 0,
             "ticks": ""
            },
            "type": "choropleth"
           }
          ],
          "contour": [
           {
            "colorbar": {
             "outlinewidth": 0,
             "ticks": ""
            },
            "colorscale": [
             [
              0,
              "#0d0887"
             ],
             [
              0.1111111111111111,
              "#46039f"
             ],
             [
              0.2222222222222222,
              "#7201a8"
             ],
             [
              0.3333333333333333,
              "#9c179e"
             ],
             [
              0.4444444444444444,
              "#bd3786"
             ],
             [
              0.5555555555555556,
              "#d8576b"
             ],
             [
              0.6666666666666666,
              "#ed7953"
             ],
             [
              0.7777777777777778,
              "#fb9f3a"
             ],
             [
              0.8888888888888888,
              "#fdca26"
             ],
             [
              1,
              "#f0f921"
             ]
            ],
            "type": "contour"
           }
          ],
          "contourcarpet": [
           {
            "colorbar": {
             "outlinewidth": 0,
             "ticks": ""
            },
            "type": "contourcarpet"
           }
          ],
          "heatmap": [
           {
            "colorbar": {
             "outlinewidth": 0,
             "ticks": ""
            },
            "colorscale": [
             [
              0,
              "#0d0887"
             ],
             [
              0.1111111111111111,
              "#46039f"
             ],
             [
              0.2222222222222222,
              "#7201a8"
             ],
             [
              0.3333333333333333,
              "#9c179e"
             ],
             [
              0.4444444444444444,
              "#bd3786"
             ],
             [
              0.5555555555555556,
              "#d8576b"
             ],
             [
              0.6666666666666666,
              "#ed7953"
             ],
             [
              0.7777777777777778,
              "#fb9f3a"
             ],
             [
              0.8888888888888888,
              "#fdca26"
             ],
             [
              1,
              "#f0f921"
             ]
            ],
            "type": "heatmap"
           }
          ],
          "heatmapgl": [
           {
            "colorbar": {
             "outlinewidth": 0,
             "ticks": ""
            },
            "colorscale": [
             [
              0,
              "#0d0887"
             ],
             [
              0.1111111111111111,
              "#46039f"
             ],
             [
              0.2222222222222222,
              "#7201a8"
             ],
             [
              0.3333333333333333,
              "#9c179e"
             ],
             [
              0.4444444444444444,
              "#bd3786"
             ],
             [
              0.5555555555555556,
              "#d8576b"
             ],
             [
              0.6666666666666666,
              "#ed7953"
             ],
             [
              0.7777777777777778,
              "#fb9f3a"
             ],
             [
              0.8888888888888888,
              "#fdca26"
             ],
             [
              1,
              "#f0f921"
             ]
            ],
            "type": "heatmapgl"
           }
          ],
          "histogram": [
           {
            "marker": {
             "pattern": {
              "fillmode": "overlay",
              "size": 10,
              "solidity": 0.2
             }
            },
            "type": "histogram"
           }
          ],
          "histogram2d": [
           {
            "colorbar": {
             "outlinewidth": 0,
             "ticks": ""
            },
            "colorscale": [
             [
              0,
              "#0d0887"
             ],
             [
              0.1111111111111111,
              "#46039f"
             ],
             [
              0.2222222222222222,
              "#7201a8"
             ],
             [
              0.3333333333333333,
              "#9c179e"
             ],
             [
              0.4444444444444444,
              "#bd3786"
             ],
             [
              0.5555555555555556,
              "#d8576b"
             ],
             [
              0.6666666666666666,
              "#ed7953"
             ],
             [
              0.7777777777777778,
              "#fb9f3a"
             ],
             [
              0.8888888888888888,
              "#fdca26"
             ],
             [
              1,
              "#f0f921"
             ]
            ],
            "type": "histogram2d"
           }
          ],
          "histogram2dcontour": [
           {
            "colorbar": {
             "outlinewidth": 0,
             "ticks": ""
            },
            "colorscale": [
             [
              0,
              "#0d0887"
             ],
             [
              0.1111111111111111,
              "#46039f"
             ],
             [
              0.2222222222222222,
              "#7201a8"
             ],
             [
              0.3333333333333333,
              "#9c179e"
             ],
             [
              0.4444444444444444,
              "#bd3786"
             ],
             [
              0.5555555555555556,
              "#d8576b"
             ],
             [
              0.6666666666666666,
              "#ed7953"
             ],
             [
              0.7777777777777778,
              "#fb9f3a"
             ],
             [
              0.8888888888888888,
              "#fdca26"
             ],
             [
              1,
              "#f0f921"
             ]
            ],
            "type": "histogram2dcontour"
           }
          ],
          "mesh3d": [
           {
            "colorbar": {
             "outlinewidth": 0,
             "ticks": ""
            },
            "type": "mesh3d"
           }
          ],
          "parcoords": [
           {
            "line": {
             "colorbar": {
              "outlinewidth": 0,
              "ticks": ""
             }
            },
            "type": "parcoords"
           }
          ],
          "pie": [
           {
            "automargin": true,
            "type": "pie"
           }
          ],
          "scatter": [
           {
            "marker": {
             "line": {
              "color": "#283442"
             }
            },
            "type": "scatter"
           }
          ],
          "scatter3d": [
           {
            "line": {
             "colorbar": {
              "outlinewidth": 0,
              "ticks": ""
             }
            },
            "marker": {
             "colorbar": {
              "outlinewidth": 0,
              "ticks": ""
             }
            },
            "type": "scatter3d"
           }
          ],
          "scattercarpet": [
           {
            "marker": {
             "colorbar": {
              "outlinewidth": 0,
              "ticks": ""
             }
            },
            "type": "scattercarpet"
           }
          ],
          "scattergeo": [
           {
            "marker": {
             "colorbar": {
              "outlinewidth": 0,
              "ticks": ""
             }
            },
            "type": "scattergeo"
           }
          ],
          "scattergl": [
           {
            "marker": {
             "line": {
              "color": "#283442"
             }
            },
            "type": "scattergl"
           }
          ],
          "scattermapbox": [
           {
            "marker": {
             "colorbar": {
              "outlinewidth": 0,
              "ticks": ""
             }
            },
            "type": "scattermapbox"
           }
          ],
          "scatterpolar": [
           {
            "marker": {
             "colorbar": {
              "outlinewidth": 0,
              "ticks": ""
             }
            },
            "type": "scatterpolar"
           }
          ],
          "scatterpolargl": [
           {
            "marker": {
             "colorbar": {
              "outlinewidth": 0,
              "ticks": ""
             }
            },
            "type": "scatterpolargl"
           }
          ],
          "scatterternary": [
           {
            "marker": {
             "colorbar": {
              "outlinewidth": 0,
              "ticks": ""
             }
            },
            "type": "scatterternary"
           }
          ],
          "surface": [
           {
            "colorbar": {
             "outlinewidth": 0,
             "ticks": ""
            },
            "colorscale": [
             [
              0,
              "#0d0887"
             ],
             [
              0.1111111111111111,
              "#46039f"
             ],
             [
              0.2222222222222222,
              "#7201a8"
             ],
             [
              0.3333333333333333,
              "#9c179e"
             ],
             [
              0.4444444444444444,
              "#bd3786"
             ],
             [
              0.5555555555555556,
              "#d8576b"
             ],
             [
              0.6666666666666666,
              "#ed7953"
             ],
             [
              0.7777777777777778,
              "#fb9f3a"
             ],
             [
              0.8888888888888888,
              "#fdca26"
             ],
             [
              1,
              "#f0f921"
             ]
            ],
            "type": "surface"
           }
          ],
          "table": [
           {
            "cells": {
             "fill": {
              "color": "#506784"
             },
             "line": {
              "color": "rgb(17,17,17)"
             }
            },
            "header": {
             "fill": {
              "color": "#2a3f5f"
             },
             "line": {
              "color": "rgb(17,17,17)"
             }
            },
            "type": "table"
           }
          ]
         },
         "layout": {
          "annotationdefaults": {
           "arrowcolor": "#f2f5fa",
           "arrowhead": 0,
           "arrowwidth": 1
          },
          "autotypenumbers": "strict",
          "coloraxis": {
           "colorbar": {
            "outlinewidth": 0,
            "ticks": ""
           }
          },
          "colorscale": {
           "diverging": [
            [
             0,
             "#8e0152"
            ],
            [
             0.1,
             "#c51b7d"
            ],
            [
             0.2,
             "#de77ae"
            ],
            [
             0.3,
             "#f1b6da"
            ],
            [
             0.4,
             "#fde0ef"
            ],
            [
             0.5,
             "#f7f7f7"
            ],
            [
             0.6,
             "#e6f5d0"
            ],
            [
             0.7,
             "#b8e186"
            ],
            [
             0.8,
             "#7fbc41"
            ],
            [
             0.9,
             "#4d9221"
            ],
            [
             1,
             "#276419"
            ]
           ],
           "sequential": [
            [
             0,
             "#0d0887"
            ],
            [
             0.1111111111111111,
             "#46039f"
            ],
            [
             0.2222222222222222,
             "#7201a8"
            ],
            [
             0.3333333333333333,
             "#9c179e"
            ],
            [
             0.4444444444444444,
             "#bd3786"
            ],
            [
             0.5555555555555556,
             "#d8576b"
            ],
            [
             0.6666666666666666,
             "#ed7953"
            ],
            [
             0.7777777777777778,
             "#fb9f3a"
            ],
            [
             0.8888888888888888,
             "#fdca26"
            ],
            [
             1,
             "#f0f921"
            ]
           ],
           "sequentialminus": [
            [
             0,
             "#0d0887"
            ],
            [
             0.1111111111111111,
             "#46039f"
            ],
            [
             0.2222222222222222,
             "#7201a8"
            ],
            [
             0.3333333333333333,
             "#9c179e"
            ],
            [
             0.4444444444444444,
             "#bd3786"
            ],
            [
             0.5555555555555556,
             "#d8576b"
            ],
            [
             0.6666666666666666,
             "#ed7953"
            ],
            [
             0.7777777777777778,
             "#fb9f3a"
            ],
            [
             0.8888888888888888,
             "#fdca26"
            ],
            [
             1,
             "#f0f921"
            ]
           ]
          },
          "colorway": [
           "#636efa",
           "#EF553B",
           "#00cc96",
           "#ab63fa",
           "#FFA15A",
           "#19d3f3",
           "#FF6692",
           "#B6E880",
           "#FF97FF",
           "#FECB52"
          ],
          "font": {
           "color": "#f2f5fa"
          },
          "geo": {
           "bgcolor": "rgb(17,17,17)",
           "lakecolor": "rgb(17,17,17)",
           "landcolor": "rgb(17,17,17)",
           "showlakes": true,
           "showland": true,
           "subunitcolor": "#506784"
          },
          "hoverlabel": {
           "align": "left"
          },
          "hovermode": "closest",
          "mapbox": {
           "style": "dark"
          },
          "paper_bgcolor": "rgb(17,17,17)",
          "plot_bgcolor": "rgb(17,17,17)",
          "polar": {
           "angularaxis": {
            "gridcolor": "#506784",
            "linecolor": "#506784",
            "ticks": ""
           },
           "bgcolor": "rgb(17,17,17)",
           "radialaxis": {
            "gridcolor": "#506784",
            "linecolor": "#506784",
            "ticks": ""
           }
          },
          "scene": {
           "xaxis": {
            "backgroundcolor": "rgb(17,17,17)",
            "gridcolor": "#506784",
            "gridwidth": 2,
            "linecolor": "#506784",
            "showbackground": true,
            "ticks": "",
            "zerolinecolor": "#C8D4E3"
           },
           "yaxis": {
            "backgroundcolor": "rgb(17,17,17)",
            "gridcolor": "#506784",
            "gridwidth": 2,
            "linecolor": "#506784",
            "showbackground": true,
            "ticks": "",
            "zerolinecolor": "#C8D4E3"
           },
           "zaxis": {
            "backgroundcolor": "rgb(17,17,17)",
            "gridcolor": "#506784",
            "gridwidth": 2,
            "linecolor": "#506784",
            "showbackground": true,
            "ticks": "",
            "zerolinecolor": "#C8D4E3"
           }
          },
          "shapedefaults": {
           "line": {
            "color": "#f2f5fa"
           }
          },
          "sliderdefaults": {
           "bgcolor": "#C8D4E3",
           "bordercolor": "rgb(17,17,17)",
           "borderwidth": 1,
           "tickwidth": 0
          },
          "ternary": {
           "aaxis": {
            "gridcolor": "#506784",
            "linecolor": "#506784",
            "ticks": ""
           },
           "baxis": {
            "gridcolor": "#506784",
            "linecolor": "#506784",
            "ticks": ""
           },
           "bgcolor": "rgb(17,17,17)",
           "caxis": {
            "gridcolor": "#506784",
            "linecolor": "#506784",
            "ticks": ""
           }
          },
          "title": {
           "x": 0.05
          },
          "updatemenudefaults": {
           "bgcolor": "#506784",
           "borderwidth": 0
          },
          "xaxis": {
           "automargin": true,
           "gridcolor": "#283442",
           "linecolor": "#506784",
           "ticks": "",
           "title": {
            "standoff": 15
           },
           "zerolinecolor": "#283442",
           "zerolinewidth": 2
          },
          "yaxis": {
           "automargin": true,
           "gridcolor": "#283442",
           "linecolor": "#506784",
           "ticks": "",
           "title": {
            "standoff": 15
           },
           "zerolinecolor": "#283442",
           "zerolinewidth": 2
          }
         }
        },
        "title": {
         "text": "2019 Score by Countries"
        },
        "width": 1200
       }
      }
     },
     "metadata": {},
     "output_type": "display_data"
    }
   ],
   "source": [
    "# hacemos un plot del 2019 Score por ciudades con un Scatter geo\n",
    "fig = go.Figure(data=go.Scattergeo(\n",
    "    lon = df['Longitude'],\n",
    "    lat = df['Latitude'],\n",
    "    text = df['Country'] + ' (' + df['2019 Score'].astype(str) + ')',\n",
    "    mode = 'markers',\n",
    "    marker = dict(\n",
    "        size = 20,\n",
    "        sizemode = 'diameter',\n",
    "        color = df['2019 Score'],\n",
    "        colorscale = 'Jet',\n",
    "        showscale = True,\n",
    "        reversescale = False\n",
    "    ),\n",
    "))\n",
    "\n",
    "# añadimos la forma de globo terráqueo y además lo personalizamos\n",
    "fig.update_layout(\n",
    "    title = '2019 Score by Countries',\n",
    "    width = 1200,\n",
    "    height = 800,\n",
    "    geo = dict(\n",
    "        scope = 'world',\n",
    "        showland = True,\n",
    "        landcolor = 'White',\n",
    "        showcountries = True,\n",
    "        countrycolor = 'Black',\n",
    "        showocean=True,\n",
    "        oceancolor=\"LightBlue\",\n",
    "        lakecolor=\"LightBlue\",\n",
    "        projection = dict(type = \"orthographic\"),\n",
    "        lonaxis = dict(range = [-270, 270]),\n",
    "        lataxis = dict(range = [-270, 270])\n",
    "    ),\n",
    ")\n",
    "\n",
    "fig.show()\n"
   ]
  },
  {
   "cell_type": "code",
   "execution_count": 28,
   "metadata": {},
   "outputs": [
    {
     "data": {
      "application/vnd.plotly.v1+json": {
       "config": {
        "plotlyServerURL": "https://plot.ly"
       },
       "data": [
        {
         "marker": {
          "symbol": "square"
         },
         "mode": "markers",
         "name": "Property Rights",
         "text": [
          "Afghanistan",
          "Albania",
          "Algeria",
          "Angola",
          "Argentina",
          "Armenia",
          "Australia",
          "Austria",
          "Azerbaijan",
          "Bahamas",
          "Bahrain",
          "Bangladesh",
          "Barbados",
          "Belarus",
          "Belgium",
          "Belize",
          "Benin",
          "Bhutan",
          "Bolivia",
          "Bosnia and Herzegovina",
          "Botswana",
          "Brazil",
          "Brunei Darussalam",
          "Bulgaria",
          "Burkina Faso",
          "Burma",
          "Burundi",
          "Cambodia",
          "Cameroon",
          "Canada",
          "Cabo Verde",
          "Central African Republic",
          "Chad",
          "Chile",
          "China",
          "Colombia",
          "Comoros",
          "Congo, Democratic Republic of the Congo",
          "Congo, Republic of",
          "Costa Rica",
          "Cï¿½te d'Ivoire",
          "Croatia",
          "Cuba",
          "Cyprus",
          "Czech Republic",
          "Denmark",
          "Djibouti",
          "Dominica",
          "Dominican Republic",
          "Ecuador",
          "Egypt",
          "El Salvador",
          "Equatorial Guinea",
          "Eritrea",
          "Estonia",
          "Eswatini",
          "Ethiopia",
          "Fiji",
          "Finland",
          "France",
          "Gabon",
          "Gambia",
          "Georgia",
          "Germany",
          "Ghana",
          "Greece",
          "Guatemala",
          "Guinea",
          "Guinea-Bissau",
          "Guyana",
          "Haiti",
          "Honduras",
          "Hong Kong",
          "Hungary",
          "Iceland",
          "India",
          "Indonesia",
          "Iran",
          "Iraq",
          "Ireland",
          "Israel",
          "Italy",
          "Jamaica",
          "Japan",
          "Jordan",
          "Kazakhstan",
          "Kenya",
          "Kiribati",
          "Korea, North ",
          "Korea, South",
          "Kosovo",
          "Kuwait",
          "Kyrgyz Republic",
          "Laos",
          "Latvia",
          "Lebanon",
          "Lesotho",
          "Liberia",
          "Libya",
          "Liechtenstein",
          "Lithuania",
          "Luxembourg",
          "Macau",
          "Macedonia",
          "Madagascar",
          "Malawi",
          "Malaysia",
          "Maldives",
          "Mali",
          "Malta",
          "Mauritania",
          "Mauritius",
          "Mexico",
          "Micronesia",
          "Moldova",
          "Mongolia",
          "Montenegro",
          "Morocco",
          "Mozambique",
          "Namibia",
          "Nepal",
          "Netherlands",
          "New Zealand",
          "Nicaragua",
          "Niger",
          "Nigeria",
          "Norway",
          "Oman",
          "Pakistan",
          "Panama",
          "Papua New Guinea",
          "Paraguay",
          "Peru",
          "Philippines",
          "Poland",
          "Portugal",
          "Qatar",
          "Romania",
          "Russia",
          "Rwanda",
          "Saint Lucia",
          "Saint Vincent and the Grenadines",
          "Samoa",
          "Sï¿½o Tomï¿½ and Prï¿½ncipe",
          "Saudi Arabia",
          "Senegal",
          "Serbia",
          "Seychelles",
          "Sierra Leone",
          "Singapore",
          "Slovakia",
          "Slovenia",
          "Solomon Islands",
          "Somalia",
          "South Africa",
          "Spain",
          "Sri Lanka",
          "Sudan",
          "Suriname",
          "Sweden",
          "Switzerland",
          "Syria",
          "Taiwan ",
          "Tajikistan",
          "Tanzania",
          "Thailand",
          "Timor-Leste",
          "Togo",
          "Tonga",
          "Trinidad and Tobago",
          "Tunisia",
          "Turkey",
          "Turkmenistan",
          "Uganda",
          "Ukraine",
          "United Arab Emirates",
          "United Kingdom",
          "United States",
          "Uruguay",
          "Uzbekistan",
          "Vanuatu",
          "Venezuela",
          "Vietnam",
          "Yemen",
          "Zambia",
          "Zimbabwe"
         ],
         "type": "scatter",
         "x": [
          19.6,
          54.8,
          31.6,
          35.9,
          47.8,
          57.2,
          79.1,
          84.2,
          59.1,
          42.2,
          63.5,
          36.1,
          52.9,
          55.2,
          81.3,
          41.7,
          37.2,
          62.5,
          20.5,
          40.2,
          58.1,
          57.3,
          64,
          62.5,
          49.1,
          34.7,
          20.6,
          37.4,
          42.5,
          87,
          44.1,
          19.6,
          26.7,
          68.7,
          49.9,
          59.2,
          36.5,
          25.3,
          33.2,
          58.3,
          40.9,
          66,
          31.6,
          73.1,
          74.8,
          86.2,
          29.7,
          49.2,
          50.6,
          35.9,
          37,
          37.6,
          29.7,
          35.5,
          81.5,
          41.7,
          32.6,
          67.3,
          89.6,
          82.5,
          28.1,
          39.9,
          65.9,
          79.9,
          49.1,
          52.4,
          40.3,
          34.7,
          32.6,
          41.7,
          10.4,
          43.4,
          93.3,
          60.9,
          87.4,
          57.3,
          52.2,
          33.5,
          37,
          85.8,
          80,
          71.7,
          60.7,
          84.1,
          58.4,
          59.3,
          53.8,
          44.1,
          31.6,
          79.3,
          57.2,
          52.9,
          49.9,
          38.8,
          67.3,
          39.5,
          41.5,
          26.7,
          7.6,
          52.32756756756756,
          73.6,
          83,
          60,
          65.1,
          33.2,
          35.8,
          84.1,
          43.9,
          33.7,
          69.8,
          27.5,
          69.5,
          59.1,
          7.6,
          55.2,
          48.2,
          55.4,
          57.2,
          33.9,
          55.9,
          39.2,
          88,
          95,
          33.4,
          37.2,
          36.5,
          86.1,
          58.1,
          41.5,
          60.4,
          37.4,
          39.5,
          56.1,
          48.7,
          62.3,
          71.5,
          64.5,
          66.7,
          52.4,
          72.2,
          65.9,
          36.5,
          53.8,
          37.4,
          55,
          47.8,
          50.1,
          58.2,
          35.5,
          97.4,
          68.5,
          76.4,
          49.9,
          33.7,
          58.8,
          72.9,
          44.7,
          27.5,
          49.1,
          89.5,
          85.3,
          37,
          85.4,
          47.8,
          35.4,
          53.7,
          29.7,
          35.5,
          59.2,
          52.3,
          49.2,
          55.8,
          31.6,
          42.2,
          43.9,
          81.8,
          92.3,
          79.3,
          68.3,
          49.8,
          65.9,
          7.6,
          49.8,
          19.6,
          45,
          29.7
         ],
         "y": [
          51.5,
          66.5,
          46.2,
          50.6,
          52.2,
          67.7,
          80.9,
          72,
          65.4,
          62.9,
          66.4,
          55.6,
          64.7,
          57.9,
          67.3,
          55.4,
          55.3,
          62.9,
          42.3,
          61.9,
          69.5,
          51.9,
          65.1,
          69,
          59.4,
          53.6,
          48.9,
          57.8,
          52.4,
          77.7,
          63.1,
          49.1,
          49.9,
          75.4,
          58.4,
          67.3,
          55.4,
          50.3,
          39.7,
          65.3,
          62.4,
          61.4,
          27.8,
          68.1,
          73.7,
          76.7,
          47.1,
          63.6,
          61,
          46.9,
          52.5,
          61.8,
          41,
          38.9,
          76.6,
          54.7,
          53.6,
          62.2,
          74.9,
          63.8,
          56.3,
          52.4,
          75.9,
          73.5,
          57.5,
          57.7,
          62.6,
          55.7,
          54,
          56.8,
          52.7,
          60.2,
          90.2,
          65,
          77.1,
          55.2,
          65.8,
          51.1,
          60.76833333333333,
          80.5,
          72.8,
          62.2,
          68.6,
          72.1,
          66.5,
          65.4,
          55.1,
          47.3,
          5.9,
          72.3,
          67,
          60.8,
          62.3,
          57.4,
          70.4,
          51.1,
          53.1,
          49.7,
          60.76833333333333,
          60.76833333333333,
          74.2,
          75.9,
          71,
          71.1,
          56.6,
          51.4,
          74,
          53.2,
          58.1,
          68.6,
          55.7,
          73,
          64.7,
          51.9,
          59.1,
          55.4,
          60.5,
          62.9,
          48.6,
          58.7,
          53.8,
          76.8,
          84.4,
          57.7,
          51.6,
          57.3,
          73,
          61,
          55,
          67.2,
          58.4,
          61.8,
          67.8,
          63.8,
          67.8,
          65.3,
          72.6,
          68.6,
          58.9,
          71.1,
          68.7,
          65.8,
          62.2,
          54,
          60.7,
          56.3,
          63.9,
          61.4,
          47.5,
          89.4,
          65,
          65.5,
          54.6,
          60.76833333333333,
          58.3,
          65.7,
          56.4,
          47.7,
          48.1,
          75.2,
          81.9,
          60.76833333333333,
          77.3,
          55.6,
          60.2,
          68.3,
          44.2,
          50.3,
          57.7,
          57,
          55.4,
          64.6,
          48.4,
          59.7,
          52.3,
          77.6,
          78.9,
          76.8,
          68.6,
          53.3,
          56.4,
          25.9,
          55.3,
          60.76833333333333,
          53.6,
          40.4
         ]
        },
        {
         "marker": {
          "symbol": "triangle-up"
         },
         "mode": "markers",
         "name": "Judical Effectiveness",
         "text": [
          "Afghanistan",
          "Albania",
          "Algeria",
          "Angola",
          "Argentina",
          "Armenia",
          "Australia",
          "Austria",
          "Azerbaijan",
          "Bahamas",
          "Bahrain",
          "Bangladesh",
          "Barbados",
          "Belarus",
          "Belgium",
          "Belize",
          "Benin",
          "Bhutan",
          "Bolivia",
          "Bosnia and Herzegovina",
          "Botswana",
          "Brazil",
          "Brunei Darussalam",
          "Bulgaria",
          "Burkina Faso",
          "Burma",
          "Burundi",
          "Cambodia",
          "Cameroon",
          "Canada",
          "Cabo Verde",
          "Central African Republic",
          "Chad",
          "Chile",
          "China",
          "Colombia",
          "Comoros",
          "Congo, Democratic Republic of the Congo",
          "Congo, Republic of",
          "Costa Rica",
          "Cï¿½te d'Ivoire",
          "Croatia",
          "Cuba",
          "Cyprus",
          "Czech Republic",
          "Denmark",
          "Djibouti",
          "Dominica",
          "Dominican Republic",
          "Ecuador",
          "Egypt",
          "El Salvador",
          "Equatorial Guinea",
          "Eritrea",
          "Estonia",
          "Eswatini",
          "Ethiopia",
          "Fiji",
          "Finland",
          "France",
          "Gabon",
          "Gambia",
          "Georgia",
          "Germany",
          "Ghana",
          "Greece",
          "Guatemala",
          "Guinea",
          "Guinea-Bissau",
          "Guyana",
          "Haiti",
          "Honduras",
          "Hong Kong",
          "Hungary",
          "Iceland",
          "India",
          "Indonesia",
          "Iran",
          "Iraq",
          "Ireland",
          "Israel",
          "Italy",
          "Jamaica",
          "Japan",
          "Jordan",
          "Kazakhstan",
          "Kenya",
          "Kiribati",
          "Korea, North ",
          "Korea, South",
          "Kosovo",
          "Kuwait",
          "Kyrgyz Republic",
          "Laos",
          "Latvia",
          "Lebanon",
          "Lesotho",
          "Liberia",
          "Libya",
          "Liechtenstein",
          "Lithuania",
          "Luxembourg",
          "Macau",
          "Macedonia",
          "Madagascar",
          "Malawi",
          "Malaysia",
          "Maldives",
          "Mali",
          "Malta",
          "Mauritania",
          "Mauritius",
          "Mexico",
          "Micronesia",
          "Moldova",
          "Mongolia",
          "Montenegro",
          "Morocco",
          "Mozambique",
          "Namibia",
          "Nepal",
          "Netherlands",
          "New Zealand",
          "Nicaragua",
          "Niger",
          "Nigeria",
          "Norway",
          "Oman",
          "Pakistan",
          "Panama",
          "Papua New Guinea",
          "Paraguay",
          "Peru",
          "Philippines",
          "Poland",
          "Portugal",
          "Qatar",
          "Romania",
          "Russia",
          "Rwanda",
          "Saint Lucia",
          "Saint Vincent and the Grenadines",
          "Samoa",
          "Sï¿½o Tomï¿½ and Prï¿½ncipe",
          "Saudi Arabia",
          "Senegal",
          "Serbia",
          "Seychelles",
          "Sierra Leone",
          "Singapore",
          "Slovakia",
          "Slovenia",
          "Solomon Islands",
          "Somalia",
          "South Africa",
          "Spain",
          "Sri Lanka",
          "Sudan",
          "Suriname",
          "Sweden",
          "Switzerland",
          "Syria",
          "Taiwan ",
          "Tajikistan",
          "Tanzania",
          "Thailand",
          "Timor-Leste",
          "Togo",
          "Tonga",
          "Trinidad and Tobago",
          "Tunisia",
          "Turkey",
          "Turkmenistan",
          "Uganda",
          "Ukraine",
          "United Arab Emirates",
          "United Kingdom",
          "United States",
          "Uruguay",
          "Uzbekistan",
          "Vanuatu",
          "Venezuela",
          "Vietnam",
          "Yemen",
          "Zambia",
          "Zimbabwe"
         ],
         "type": "scatter",
         "x": [
          29.6,
          30.6,
          36.2,
          26.6,
          44.5,
          46.3,
          86.5,
          71.3,
          53.1,
          46.9,
          50.7,
          34.5,
          59.9,
          51.7,
          61.6,
          46.9,
          32.8,
          55.4,
          12.3,
          37.9,
          45.7,
          51.7,
          56,
          41.9,
          42.9,
          18.1,
          31,
          27.6,
          31.3,
          69.4,
          49,
          29.6,
          24.6,
          56.3,
          75.2,
          34.3,
          29.6,
          30.7,
          29.6,
          54,
          47.8,
          42.9,
          10,
          48.1,
          47.6,
          77.8,
          18.1,
          63.8,
          18.1,
          20.2,
          48.3,
          29.1,
          18.1,
          18.1,
          76,
          42.9,
          40.9,
          42.9,
          81.2,
          66.1,
          30.6,
          42.5,
          54.6,
          75.4,
          44.2,
          49.5,
          32.3,
          32.6,
          42.9,
          42.9,
          25.3,
          31,
          75.3,
          45.2,
          63.8,
          61.6,
          53.5,
          41.3,
          12.3,
          68.4,
          73.4,
          49.8,
          49.2,
          68.5,
          52.6,
          56.1,
          46.9,
          34.3,
          5,
          57.5,
          53.5,
          43.3,
          27.9,
          42.5,
          48.4,
          26.6,
          45.7,
          39,
          24.4,
          44.89945945945946,
          61.2,
          72.4,
          60,
          60.7,
          24.4,
          40.1,
          68.2,
          36.4,
          33.4,
          50.4,
          30.6,
          62.1,
          34.9,
          26.6,
          29.6,
          23.8,
          51.8,
          47.1,
          35.2,
          54.7,
          34.7,
          74.7,
          83.5,
          18.7,
          31,
          34.3,
          81.2,
          51.6,
          40.2,
          30.1,
          49,
          30,
          34,
          36.4,
          44,
          64.3,
          60,
          51.9,
          45.1,
          83.2,
          63.8,
          63.8,
          31,
          26.6,
          62.7,
          40.4,
          44.8,
          37.5,
          34.5,
          92.4,
          37.2,
          46.5,
          51.7,
          26.6,
          39.3,
          51.4,
          39.4,
          22.2,
          22.2,
          84,
          82,
          24.4,
          70.1,
          52.1,
          41.4,
          45.9,
          13.1,
          29.6,
          26.6,
          40.6,
          42.7,
          49.8,
          29.8,
          38.5,
          31.5,
          87.1,
          85.9,
          78.6,
          58.9,
          34.3,
          36.4,
          13.1,
          40.3,
          22.2,
          35.6,
          24.8
         ],
         "y": [
          51.5,
          66.5,
          46.2,
          50.6,
          52.2,
          67.7,
          80.9,
          72,
          65.4,
          62.9,
          66.4,
          55.6,
          64.7,
          57.9,
          67.3,
          55.4,
          55.3,
          62.9,
          42.3,
          61.9,
          69.5,
          51.9,
          65.1,
          69,
          59.4,
          53.6,
          48.9,
          57.8,
          52.4,
          77.7,
          63.1,
          49.1,
          49.9,
          75.4,
          58.4,
          67.3,
          55.4,
          50.3,
          39.7,
          65.3,
          62.4,
          61.4,
          27.8,
          68.1,
          73.7,
          76.7,
          47.1,
          63.6,
          61,
          46.9,
          52.5,
          61.8,
          41,
          38.9,
          76.6,
          54.7,
          53.6,
          62.2,
          74.9,
          63.8,
          56.3,
          52.4,
          75.9,
          73.5,
          57.5,
          57.7,
          62.6,
          55.7,
          54,
          56.8,
          52.7,
          60.2,
          90.2,
          65,
          77.1,
          55.2,
          65.8,
          51.1,
          60.76833333333333,
          80.5,
          72.8,
          62.2,
          68.6,
          72.1,
          66.5,
          65.4,
          55.1,
          47.3,
          5.9,
          72.3,
          67,
          60.8,
          62.3,
          57.4,
          70.4,
          51.1,
          53.1,
          49.7,
          60.76833333333333,
          60.76833333333333,
          74.2,
          75.9,
          71,
          71.1,
          56.6,
          51.4,
          74,
          53.2,
          58.1,
          68.6,
          55.7,
          73,
          64.7,
          51.9,
          59.1,
          55.4,
          60.5,
          62.9,
          48.6,
          58.7,
          53.8,
          76.8,
          84.4,
          57.7,
          51.6,
          57.3,
          73,
          61,
          55,
          67.2,
          58.4,
          61.8,
          67.8,
          63.8,
          67.8,
          65.3,
          72.6,
          68.6,
          58.9,
          71.1,
          68.7,
          65.8,
          62.2,
          54,
          60.7,
          56.3,
          63.9,
          61.4,
          47.5,
          89.4,
          65,
          65.5,
          54.6,
          60.76833333333333,
          58.3,
          65.7,
          56.4,
          47.7,
          48.1,
          75.2,
          81.9,
          60.76833333333333,
          77.3,
          55.6,
          60.2,
          68.3,
          44.2,
          50.3,
          57.7,
          57,
          55.4,
          64.6,
          48.4,
          59.7,
          52.3,
          77.6,
          78.9,
          76.8,
          68.6,
          53.3,
          56.4,
          25.9,
          55.3,
          60.76833333333333,
          53.6,
          40.4
         ]
        },
        {
         "marker": {
          "symbol": "circle"
         },
         "mode": "markers",
         "name": "Government Integrity",
         "text": [
          "Afghanistan",
          "Albania",
          "Algeria",
          "Angola",
          "Argentina",
          "Armenia",
          "Australia",
          "Austria",
          "Azerbaijan",
          "Bahamas",
          "Bahrain",
          "Bangladesh",
          "Barbados",
          "Belarus",
          "Belgium",
          "Belize",
          "Benin",
          "Bhutan",
          "Bolivia",
          "Bosnia and Herzegovina",
          "Botswana",
          "Brazil",
          "Brunei Darussalam",
          "Bulgaria",
          "Burkina Faso",
          "Burma",
          "Burundi",
          "Cambodia",
          "Cameroon",
          "Canada",
          "Cabo Verde",
          "Central African Republic",
          "Chad",
          "Chile",
          "China",
          "Colombia",
          "Comoros",
          "Congo, Democratic Republic of the Congo",
          "Congo, Republic of",
          "Costa Rica",
          "Cï¿½te d'Ivoire",
          "Croatia",
          "Cuba",
          "Cyprus",
          "Czech Republic",
          "Denmark",
          "Djibouti",
          "Dominica",
          "Dominican Republic",
          "Ecuador",
          "Egypt",
          "El Salvador",
          "Equatorial Guinea",
          "Eritrea",
          "Estonia",
          "Eswatini",
          "Ethiopia",
          "Fiji",
          "Finland",
          "France",
          "Gabon",
          "Gambia",
          "Georgia",
          "Germany",
          "Ghana",
          "Greece",
          "Guatemala",
          "Guinea",
          "Guinea-Bissau",
          "Guyana",
          "Haiti",
          "Honduras",
          "Hong Kong",
          "Hungary",
          "Iceland",
          "India",
          "Indonesia",
          "Iran",
          "Iraq",
          "Ireland",
          "Israel",
          "Italy",
          "Jamaica",
          "Japan",
          "Jordan",
          "Kazakhstan",
          "Kenya",
          "Kiribati",
          "Korea, North ",
          "Korea, South",
          "Kosovo",
          "Kuwait",
          "Kyrgyz Republic",
          "Laos",
          "Latvia",
          "Lebanon",
          "Lesotho",
          "Liberia",
          "Libya",
          "Liechtenstein",
          "Lithuania",
          "Luxembourg",
          "Macau",
          "Macedonia",
          "Madagascar",
          "Malawi",
          "Malaysia",
          "Maldives",
          "Mali",
          "Malta",
          "Mauritania",
          "Mauritius",
          "Mexico",
          "Micronesia",
          "Moldova",
          "Mongolia",
          "Montenegro",
          "Morocco",
          "Mozambique",
          "Namibia",
          "Nepal",
          "Netherlands",
          "New Zealand",
          "Nicaragua",
          "Niger",
          "Nigeria",
          "Norway",
          "Oman",
          "Pakistan",
          "Panama",
          "Papua New Guinea",
          "Paraguay",
          "Peru",
          "Philippines",
          "Poland",
          "Portugal",
          "Qatar",
          "Romania",
          "Russia",
          "Rwanda",
          "Saint Lucia",
          "Saint Vincent and the Grenadines",
          "Samoa",
          "Sï¿½o Tomï¿½ and Prï¿½ncipe",
          "Saudi Arabia",
          "Senegal",
          "Serbia",
          "Seychelles",
          "Sierra Leone",
          "Singapore",
          "Slovakia",
          "Slovenia",
          "Solomon Islands",
          "Somalia",
          "South Africa",
          "Spain",
          "Sri Lanka",
          "Sudan",
          "Suriname",
          "Sweden",
          "Switzerland",
          "Syria",
          "Taiwan ",
          "Tajikistan",
          "Tanzania",
          "Thailand",
          "Timor-Leste",
          "Togo",
          "Tonga",
          "Trinidad and Tobago",
          "Tunisia",
          "Turkey",
          "Turkmenistan",
          "Uganda",
          "Ukraine",
          "United Arab Emirates",
          "United Kingdom",
          "United States",
          "Uruguay",
          "Uzbekistan",
          "Vanuatu",
          "Venezuela",
          "Vietnam",
          "Yemen",
          "Zambia",
          "Zimbabwe"
         ],
         "type": "scatter",
         "x": [
          25.2,
          40.4,
          28.9,
          20.5,
          33.5,
          38.6,
          79.9,
          77.4,
          44.7,
          43.7,
          53.6,
          24.4,
          53.8,
          37.7,
          72.5,
          27.2,
          28.1,
          54.5,
          19.7,
          30.2,
          52.4,
          28.1,
          43.7,
          35.1,
          36.6,
          30.6,
          26.2,
          16.7,
          25.5,
          84.6,
          43.7,
          23.2,
          23.2,
          62.3,
          49.1,
          33.5,
          24.4,
          26.2,
          25.3,
          54.5,
          38.1,
          38.6,
          37.7,
          43.7,
          52.1,
          85.8,
          28.1,
          54.5,
          23.2,
          25.3,
          29.2,
          23.4,
          15.8,
          19.7,
          73.1,
          35,
          35.1,
          23.4,
          92.5,
          67.9,
          35.5,
          41.2,
          58.5,
          81.3,
          35.5,
          37.7,
          26.4,
          25.5,
          25.3,
          33.2,
          20.3,
          25.3,
          83.8,
          35.3,
          83.8,
          47.8,
          39.5,
          35,
          20.3,
          78,
          67.9,
          43.7,
          45,
          78,
          50.3,
          40.3,
          32.1,
          35.1,
          24.4,
          50.5,
          44.7,
          35.3,
          27.2,
          33.5,
          35.5,
          18.2,
          30.9,
          24.2,
          15.8,
          41.47027027027027,
          47.8,
          85.8,
          33.2,
          44.7,
          14.3,
          25.2,
          55.4,
          33.5,
          29.6,
          50.3,
          30.6,
          40.3,
          26.3,
          36.6,
          25.4,
          29.8,
          39.5,
          39.2,
          28.1,
          49.8,
          26.2,
          89.1,
          96.7,
          20.3,
          34.1,
          20.5,
          92.3,
          53.8,
          30.6,
          34.1,
          37.2,
          25.5,
          31.8,
          30.9,
          49.8,
          59.5,
          77.4,
          39.8,
          36.6,
          67.9,
          50.3,
          50.5,
          37.7,
          35.5,
          49.8,
          40.3,
          37.2,
          39.2,
          26.2,
          95.1,
          37.7,
          53.6,
          33.5,
          7.9,
          39.7,
          51.9,
          28.9,
          26.2,
          35.5,
          88,
          88,
          20.3,
          69.2,
          36.4,
          33.2,
          36.4,
          32.1,
          28.1,
          38.1,
          32.9,
          36.6,
          41.2,
          20.3,
          25.4,
          29.6,
          78.8,
          83.8,
          77.4,
          69.2,
          25.2,
          51.9,
          7.9,
          34,
          20.3,
          32.3,
          15.8
         ],
         "y": [
          51.5,
          66.5,
          46.2,
          50.6,
          52.2,
          67.7,
          80.9,
          72,
          65.4,
          62.9,
          66.4,
          55.6,
          64.7,
          57.9,
          67.3,
          55.4,
          55.3,
          62.9,
          42.3,
          61.9,
          69.5,
          51.9,
          65.1,
          69,
          59.4,
          53.6,
          48.9,
          57.8,
          52.4,
          77.7,
          63.1,
          49.1,
          49.9,
          75.4,
          58.4,
          67.3,
          55.4,
          50.3,
          39.7,
          65.3,
          62.4,
          61.4,
          27.8,
          68.1,
          73.7,
          76.7,
          47.1,
          63.6,
          61,
          46.9,
          52.5,
          61.8,
          41,
          38.9,
          76.6,
          54.7,
          53.6,
          62.2,
          74.9,
          63.8,
          56.3,
          52.4,
          75.9,
          73.5,
          57.5,
          57.7,
          62.6,
          55.7,
          54,
          56.8,
          52.7,
          60.2,
          90.2,
          65,
          77.1,
          55.2,
          65.8,
          51.1,
          60.76833333333333,
          80.5,
          72.8,
          62.2,
          68.6,
          72.1,
          66.5,
          65.4,
          55.1,
          47.3,
          5.9,
          72.3,
          67,
          60.8,
          62.3,
          57.4,
          70.4,
          51.1,
          53.1,
          49.7,
          60.76833333333333,
          60.76833333333333,
          74.2,
          75.9,
          71,
          71.1,
          56.6,
          51.4,
          74,
          53.2,
          58.1,
          68.6,
          55.7,
          73,
          64.7,
          51.9,
          59.1,
          55.4,
          60.5,
          62.9,
          48.6,
          58.7,
          53.8,
          76.8,
          84.4,
          57.7,
          51.6,
          57.3,
          73,
          61,
          55,
          67.2,
          58.4,
          61.8,
          67.8,
          63.8,
          67.8,
          65.3,
          72.6,
          68.6,
          58.9,
          71.1,
          68.7,
          65.8,
          62.2,
          54,
          60.7,
          56.3,
          63.9,
          61.4,
          47.5,
          89.4,
          65,
          65.5,
          54.6,
          60.76833333333333,
          58.3,
          65.7,
          56.4,
          47.7,
          48.1,
          75.2,
          81.9,
          60.76833333333333,
          77.3,
          55.6,
          60.2,
          68.3,
          44.2,
          50.3,
          57.7,
          57,
          55.4,
          64.6,
          48.4,
          59.7,
          52.3,
          77.6,
          78.9,
          76.8,
          68.6,
          53.3,
          56.4,
          25.9,
          55.3,
          60.76833333333333,
          53.6,
          40.4
         ]
        },
        {
         "marker": {
          "symbol": "cross"
         },
         "mode": "markers",
         "name": "Tax Burden",
         "text": [
          "Afghanistan",
          "Albania",
          "Algeria",
          "Angola",
          "Argentina",
          "Armenia",
          "Australia",
          "Austria",
          "Azerbaijan",
          "Bahamas",
          "Bahrain",
          "Bangladesh",
          "Barbados",
          "Belarus",
          "Belgium",
          "Belize",
          "Benin",
          "Bhutan",
          "Bolivia",
          "Bosnia and Herzegovina",
          "Botswana",
          "Brazil",
          "Brunei Darussalam",
          "Bulgaria",
          "Burkina Faso",
          "Burma",
          "Burundi",
          "Cambodia",
          "Cameroon",
          "Canada",
          "Cabo Verde",
          "Central African Republic",
          "Chad",
          "Chile",
          "China",
          "Colombia",
          "Comoros",
          "Congo, Democratic Republic of the Congo",
          "Congo, Republic of",
          "Costa Rica",
          "Cï¿½te d'Ivoire",
          "Croatia",
          "Cuba",
          "Cyprus",
          "Czech Republic",
          "Denmark",
          "Djibouti",
          "Dominica",
          "Dominican Republic",
          "Ecuador",
          "Egypt",
          "El Salvador",
          "Equatorial Guinea",
          "Eritrea",
          "Estonia",
          "Eswatini",
          "Ethiopia",
          "Fiji",
          "Finland",
          "France",
          "Gabon",
          "Gambia",
          "Georgia",
          "Germany",
          "Ghana",
          "Greece",
          "Guatemala",
          "Guinea",
          "Guinea-Bissau",
          "Guyana",
          "Haiti",
          "Honduras",
          "Hong Kong",
          "Hungary",
          "Iceland",
          "India",
          "Indonesia",
          "Iran",
          "Iraq",
          "Ireland",
          "Israel",
          "Italy",
          "Jamaica",
          "Japan",
          "Jordan",
          "Kazakhstan",
          "Kenya",
          "Kiribati",
          "Korea, North ",
          "Korea, South",
          "Kosovo",
          "Kuwait",
          "Kyrgyz Republic",
          "Laos",
          "Latvia",
          "Lebanon",
          "Lesotho",
          "Liberia",
          "Libya",
          "Liechtenstein",
          "Lithuania",
          "Luxembourg",
          "Macau",
          "Macedonia",
          "Madagascar",
          "Malawi",
          "Malaysia",
          "Maldives",
          "Mali",
          "Malta",
          "Mauritania",
          "Mauritius",
          "Mexico",
          "Micronesia",
          "Moldova",
          "Mongolia",
          "Montenegro",
          "Morocco",
          "Mozambique",
          "Namibia",
          "Nepal",
          "Netherlands",
          "New Zealand",
          "Nicaragua",
          "Niger",
          "Nigeria",
          "Norway",
          "Oman",
          "Pakistan",
          "Panama",
          "Papua New Guinea",
          "Paraguay",
          "Peru",
          "Philippines",
          "Poland",
          "Portugal",
          "Qatar",
          "Romania",
          "Russia",
          "Rwanda",
          "Saint Lucia",
          "Saint Vincent and the Grenadines",
          "Samoa",
          "Sï¿½o Tomï¿½ and Prï¿½ncipe",
          "Saudi Arabia",
          "Senegal",
          "Serbia",
          "Seychelles",
          "Sierra Leone",
          "Singapore",
          "Slovakia",
          "Slovenia",
          "Solomon Islands",
          "Somalia",
          "South Africa",
          "Spain",
          "Sri Lanka",
          "Sudan",
          "Suriname",
          "Sweden",
          "Switzerland",
          "Syria",
          "Taiwan ",
          "Tajikistan",
          "Tanzania",
          "Thailand",
          "Timor-Leste",
          "Togo",
          "Tonga",
          "Trinidad and Tobago",
          "Tunisia",
          "Turkey",
          "Turkmenistan",
          "Uganda",
          "Ukraine",
          "United Arab Emirates",
          "United Kingdom",
          "United States",
          "Uruguay",
          "Uzbekistan",
          "Vanuatu",
          "Venezuela",
          "Vietnam",
          "Yemen",
          "Zambia",
          "Zimbabwe"
         ],
         "type": "scatter",
         "x": [
          91.7,
          86.3,
          76.4,
          83.9,
          69.3,
          84.7,
          62.8,
          50.5,
          87.5,
          97.3,
          99.7,
          72.7,
          70.1,
          89.4,
          47.1,
          79.9,
          69.3,
          83,
          82.4,
          84.3,
          82.7,
          70.5,
          90.7,
          90.2,
          81.9,
          86.6,
          74,
          89.7,
          74.4,
          76.8,
          76.4,
          65.2,
          46.1,
          77.3,
          70.4,
          74.3,
          63.9,
          73.8,
          59.5,
          79.2,
          77.5,
          66.4,
          48.8,
          74.9,
          82.6,
          42,
          76.2,
          72.1,
          84.6,
          77,
          85.2,
          78.1,
          71.3,
          81.4,
          79.9,
          74.8,
          77.2,
          81.1,
          66.8,
          48.4,
          75.8,
          74.3,
          87.1,
          60.8,
          78.8,
          59.1,
          79.2,
          69.4,
          88.8,
          67,
          79.9,
          82.8,
          93.1,
          78.6,
          72.7,
          79.4,
          83.7,
          80.9,
          77.21277777777779,
          76.3,
          61.9,
          55.6,
          80.2,
          68.2,
          91.4,
          93.4,
          79.5,
          73,
          0,
          64.2,
          92.5,
          97.7,
          94.1,
          86.9,
          77,
          91.8,
          59.4,
          82.7,
          77.21277777777779,
          77.21277777777779,
          86.4,
          65.4,
          77.1,
          91.8,
          91,
          79.8,
          85.6,
          95.8,
          68.7,
          64.2,
          78,
          92.1,
          75.8,
          92.8,
          85.4,
          88.5,
          85.3,
          72.2,
          75.5,
          66.5,
          84,
          51.6,
          71,
          76.9,
          76.9,
          85,
          57.4,
          97.8,
          80.5,
          85,
          71.8,
          96.3,
          80.6,
          76.9,
          74.9,
          59.9,
          99.7,
          89.7,
          89.4,
          79.8,
          76.2,
          71.2,
          79.9,
          87.2,
          99.8,
          70.8,
          82,
          76.3,
          87.3,
          90.4,
          78.6,
          58.4,
          65.5,
          77.21277777777779,
          62.1,
          62.3,
          84.9,
          86.3,
          70.9,
          43.2,
          70.5,
          77.21277777777779,
          75,
          91.8,
          80.5,
          81.3,
          96.3,
          67.8,
          85.5,
          82.3,
          74.4,
          76.4,
          95.9,
          73.3,
          81.8,
          99.2,
          64.7,
          75.1,
          77.2,
          91.3,
          97.3,
          74.7,
          79.7,
          77.21277777777779,
          72.3,
          62.3
         ],
         "y": [
          51.5,
          66.5,
          46.2,
          50.6,
          52.2,
          67.7,
          80.9,
          72,
          65.4,
          62.9,
          66.4,
          55.6,
          64.7,
          57.9,
          67.3,
          55.4,
          55.3,
          62.9,
          42.3,
          61.9,
          69.5,
          51.9,
          65.1,
          69,
          59.4,
          53.6,
          48.9,
          57.8,
          52.4,
          77.7,
          63.1,
          49.1,
          49.9,
          75.4,
          58.4,
          67.3,
          55.4,
          50.3,
          39.7,
          65.3,
          62.4,
          61.4,
          27.8,
          68.1,
          73.7,
          76.7,
          47.1,
          63.6,
          61,
          46.9,
          52.5,
          61.8,
          41,
          38.9,
          76.6,
          54.7,
          53.6,
          62.2,
          74.9,
          63.8,
          56.3,
          52.4,
          75.9,
          73.5,
          57.5,
          57.7,
          62.6,
          55.7,
          54,
          56.8,
          52.7,
          60.2,
          90.2,
          65,
          77.1,
          55.2,
          65.8,
          51.1,
          60.76833333333333,
          80.5,
          72.8,
          62.2,
          68.6,
          72.1,
          66.5,
          65.4,
          55.1,
          47.3,
          5.9,
          72.3,
          67,
          60.8,
          62.3,
          57.4,
          70.4,
          51.1,
          53.1,
          49.7,
          60.76833333333333,
          60.76833333333333,
          74.2,
          75.9,
          71,
          71.1,
          56.6,
          51.4,
          74,
          53.2,
          58.1,
          68.6,
          55.7,
          73,
          64.7,
          51.9,
          59.1,
          55.4,
          60.5,
          62.9,
          48.6,
          58.7,
          53.8,
          76.8,
          84.4,
          57.7,
          51.6,
          57.3,
          73,
          61,
          55,
          67.2,
          58.4,
          61.8,
          67.8,
          63.8,
          67.8,
          65.3,
          72.6,
          68.6,
          58.9,
          71.1,
          68.7,
          65.8,
          62.2,
          54,
          60.7,
          56.3,
          63.9,
          61.4,
          47.5,
          89.4,
          65,
          65.5,
          54.6,
          60.76833333333333,
          58.3,
          65.7,
          56.4,
          47.7,
          48.1,
          75.2,
          81.9,
          60.76833333333333,
          77.3,
          55.6,
          60.2,
          68.3,
          44.2,
          50.3,
          57.7,
          57,
          55.4,
          64.6,
          48.4,
          59.7,
          52.3,
          77.6,
          78.9,
          76.8,
          68.6,
          53.3,
          56.4,
          25.9,
          55.3,
          60.76833333333333,
          53.6,
          40.4
         ]
        },
        {
         "marker": {
          "symbol": "x"
         },
         "mode": "markers",
         "name": "Business Freedom",
         "text": [
          "Afghanistan",
          "Albania",
          "Algeria",
          "Angola",
          "Argentina",
          "Armenia",
          "Australia",
          "Austria",
          "Azerbaijan",
          "Bahamas",
          "Bahrain",
          "Bangladesh",
          "Barbados",
          "Belarus",
          "Belgium",
          "Belize",
          "Benin",
          "Bhutan",
          "Bolivia",
          "Bosnia and Herzegovina",
          "Botswana",
          "Brazil",
          "Brunei Darussalam",
          "Bulgaria",
          "Burkina Faso",
          "Burma",
          "Burundi",
          "Cambodia",
          "Cameroon",
          "Canada",
          "Cabo Verde",
          "Central African Republic",
          "Chad",
          "Chile",
          "China",
          "Colombia",
          "Comoros",
          "Congo, Democratic Republic of the Congo",
          "Congo, Republic of",
          "Costa Rica",
          "Cï¿½te d'Ivoire",
          "Croatia",
          "Cuba",
          "Cyprus",
          "Czech Republic",
          "Denmark",
          "Djibouti",
          "Dominica",
          "Dominican Republic",
          "Ecuador",
          "Egypt",
          "El Salvador",
          "Equatorial Guinea",
          "Eritrea",
          "Estonia",
          "Eswatini",
          "Ethiopia",
          "Fiji",
          "Finland",
          "France",
          "Gabon",
          "Gambia",
          "Georgia",
          "Germany",
          "Ghana",
          "Greece",
          "Guatemala",
          "Guinea",
          "Guinea-Bissau",
          "Guyana",
          "Haiti",
          "Honduras",
          "Hong Kong",
          "Hungary",
          "Iceland",
          "India",
          "Indonesia",
          "Iran",
          "Iraq",
          "Ireland",
          "Israel",
          "Italy",
          "Jamaica",
          "Japan",
          "Jordan",
          "Kazakhstan",
          "Kenya",
          "Kiribati",
          "Korea, North ",
          "Korea, South",
          "Kosovo",
          "Kuwait",
          "Kyrgyz Republic",
          "Laos",
          "Latvia",
          "Lebanon",
          "Lesotho",
          "Liberia",
          "Libya",
          "Liechtenstein",
          "Lithuania",
          "Luxembourg",
          "Macau",
          "Macedonia",
          "Madagascar",
          "Malawi",
          "Malaysia",
          "Maldives",
          "Mali",
          "Malta",
          "Mauritania",
          "Mauritius",
          "Mexico",
          "Micronesia",
          "Moldova",
          "Mongolia",
          "Montenegro",
          "Morocco",
          "Mozambique",
          "Namibia",
          "Nepal",
          "Netherlands",
          "New Zealand",
          "Nicaragua",
          "Niger",
          "Nigeria",
          "Norway",
          "Oman",
          "Pakistan",
          "Panama",
          "Papua New Guinea",
          "Paraguay",
          "Peru",
          "Philippines",
          "Poland",
          "Portugal",
          "Qatar",
          "Romania",
          "Russia",
          "Rwanda",
          "Saint Lucia",
          "Saint Vincent and the Grenadines",
          "Samoa",
          "Sï¿½o Tomï¿½ and Prï¿½ncipe",
          "Saudi Arabia",
          "Senegal",
          "Serbia",
          "Seychelles",
          "Sierra Leone",
          "Singapore",
          "Slovakia",
          "Slovenia",
          "Solomon Islands",
          "Somalia",
          "South Africa",
          "Spain",
          "Sri Lanka",
          "Sudan",
          "Suriname",
          "Sweden",
          "Switzerland",
          "Syria",
          "Taiwan ",
          "Tajikistan",
          "Tanzania",
          "Thailand",
          "Timor-Leste",
          "Togo",
          "Tonga",
          "Trinidad and Tobago",
          "Tunisia",
          "Turkey",
          "Turkmenistan",
          "Uganda",
          "Ukraine",
          "United Arab Emirates",
          "United Kingdom",
          "United States",
          "Uruguay",
          "Uzbekistan",
          "Vanuatu",
          "Venezuela",
          "Vietnam",
          "Yemen",
          "Zambia",
          "Zimbabwe"
         ],
         "type": "scatter",
         "x": [
          49.2,
          69.3,
          61.6,
          55.7,
          56.4,
          78.3,
          88.3,
          74.9,
          69.5,
          68.5,
          71.4,
          50.9,
          69.8,
          75,
          78.1,
          61.8,
          62.4,
          68.7,
          58.8,
          49.7,
          68.7,
          57.9,
          80.2,
          62.7,
          51.6,
          52.8,
          50.3,
          29.9,
          44.4,
          81.9,
          65.2,
          24.2,
          28.1,
          76.6,
          56.2,
          71.4,
          57.2,
          53.2,
          38.2,
          67.2,
          61,
          60.7,
          20,
          76.9,
          72.4,
          90.7,
          54.7,
          70.7,
          51.9,
          54.1,
          65.9,
          57.2,
          37.6,
          17.7,
          75.3,
          59.2,
          48.6,
          63,
          89.4,
          81.2,
          52.1,
          54,
          85.8,
          83.3,
          56.5,
          74.1,
          53.6,
          54.6,
          35.9,
          59.3,
          36.2,
          56.9,
          96.4,
          61.1,
          88.4,
          57.1,
          69.3,
          62.2,
          54.4,
          83.1,
          71.4,
          71.7,
          78,
          80.5,
          61.8,
          73.9,
          55.8,
          41.9,
          5,
          91.3,
          73.8,
          57.4,
          73.4,
          60.1,
          77.5,
          47.9,
          53.3,
          50.6,
          40.2,
          63.51405405405406,
          75.2,
          68.8,
          60,
          80.2,
          47.3,
          41.7,
          83.9,
          78.3,
          53.8,
          67.1,
          61.9,
          79.8,
          67.8,
          57.4,
          67,
          66,
          73.3,
          70.3,
          57.1,
          65.8,
          61.8,
          81.4,
          91,
          56,
          56.3,
          51.2,
          89.4,
          75.2,
          56.1,
          73.6,
          62.2,
          61.5,
          67.8,
          61.3,
          65.4,
          79.7,
          71.2,
          63.1,
          78.4,
          56.2,
          76.3,
          76.5,
          77,
          65.1,
          72.3,
          53.3,
          72.9,
          63.3,
          44.9,
          90.8,
          61.3,
          79.3,
          68.6,
          31.7,
          64.3,
          66.8,
          75.1,
          52.1,
          48.3,
          88,
          75.4,
          49.6,
          93.2,
          67.3,
          46.6,
          82.5,
          60.5,
          50.4,
          75.3,
          67.8,
          76.7,
          66,
          30,
          46.3,
          66.1,
          79.9,
          92.9,
          83.8,
          74.3,
          72.5,
          52.4,
          33.9,
          63.5,
          45.1,
          71.1,
          33.4
         ],
         "y": [
          51.5,
          66.5,
          46.2,
          50.6,
          52.2,
          67.7,
          80.9,
          72,
          65.4,
          62.9,
          66.4,
          55.6,
          64.7,
          57.9,
          67.3,
          55.4,
          55.3,
          62.9,
          42.3,
          61.9,
          69.5,
          51.9,
          65.1,
          69,
          59.4,
          53.6,
          48.9,
          57.8,
          52.4,
          77.7,
          63.1,
          49.1,
          49.9,
          75.4,
          58.4,
          67.3,
          55.4,
          50.3,
          39.7,
          65.3,
          62.4,
          61.4,
          27.8,
          68.1,
          73.7,
          76.7,
          47.1,
          63.6,
          61,
          46.9,
          52.5,
          61.8,
          41,
          38.9,
          76.6,
          54.7,
          53.6,
          62.2,
          74.9,
          63.8,
          56.3,
          52.4,
          75.9,
          73.5,
          57.5,
          57.7,
          62.6,
          55.7,
          54,
          56.8,
          52.7,
          60.2,
          90.2,
          65,
          77.1,
          55.2,
          65.8,
          51.1,
          60.76833333333333,
          80.5,
          72.8,
          62.2,
          68.6,
          72.1,
          66.5,
          65.4,
          55.1,
          47.3,
          5.9,
          72.3,
          67,
          60.8,
          62.3,
          57.4,
          70.4,
          51.1,
          53.1,
          49.7,
          60.76833333333333,
          60.76833333333333,
          74.2,
          75.9,
          71,
          71.1,
          56.6,
          51.4,
          74,
          53.2,
          58.1,
          68.6,
          55.7,
          73,
          64.7,
          51.9,
          59.1,
          55.4,
          60.5,
          62.9,
          48.6,
          58.7,
          53.8,
          76.8,
          84.4,
          57.7,
          51.6,
          57.3,
          73,
          61,
          55,
          67.2,
          58.4,
          61.8,
          67.8,
          63.8,
          67.8,
          65.3,
          72.6,
          68.6,
          58.9,
          71.1,
          68.7,
          65.8,
          62.2,
          54,
          60.7,
          56.3,
          63.9,
          61.4,
          47.5,
          89.4,
          65,
          65.5,
          54.6,
          60.76833333333333,
          58.3,
          65.7,
          56.4,
          47.7,
          48.1,
          75.2,
          81.9,
          60.76833333333333,
          77.3,
          55.6,
          60.2,
          68.3,
          44.2,
          50.3,
          57.7,
          57,
          55.4,
          64.6,
          48.4,
          59.7,
          52.3,
          77.6,
          78.9,
          76.8,
          68.6,
          53.3,
          56.4,
          25.9,
          55.3,
          60.76833333333333,
          53.6,
          40.4
         ]
        },
        {
         "marker": {
          "symbol": "pentagon"
         },
         "mode": "markers",
         "name": "Trade Freedom",
         "text": [
          "Afghanistan",
          "Albania",
          "Algeria",
          "Angola",
          "Argentina",
          "Armenia",
          "Australia",
          "Austria",
          "Azerbaijan",
          "Bahamas",
          "Bahrain",
          "Bangladesh",
          "Barbados",
          "Belarus",
          "Belgium",
          "Belize",
          "Benin",
          "Bhutan",
          "Bolivia",
          "Bosnia and Herzegovina",
          "Botswana",
          "Brazil",
          "Brunei Darussalam",
          "Bulgaria",
          "Burkina Faso",
          "Burma",
          "Burundi",
          "Cambodia",
          "Cameroon",
          "Canada",
          "Cabo Verde",
          "Central African Republic",
          "Chad",
          "Chile",
          "China",
          "Colombia",
          "Comoros",
          "Congo, Democratic Republic of the Congo",
          "Congo, Republic of",
          "Costa Rica",
          "Cï¿½te d'Ivoire",
          "Croatia",
          "Cuba",
          "Cyprus",
          "Czech Republic",
          "Denmark",
          "Djibouti",
          "Dominica",
          "Dominican Republic",
          "Ecuador",
          "Egypt",
          "El Salvador",
          "Equatorial Guinea",
          "Eritrea",
          "Estonia",
          "Eswatini",
          "Ethiopia",
          "Fiji",
          "Finland",
          "France",
          "Gabon",
          "Gambia",
          "Georgia",
          "Germany",
          "Ghana",
          "Greece",
          "Guatemala",
          "Guinea",
          "Guinea-Bissau",
          "Guyana",
          "Haiti",
          "Honduras",
          "Hong Kong",
          "Hungary",
          "Iceland",
          "India",
          "Indonesia",
          "Iran",
          "Iraq",
          "Ireland",
          "Israel",
          "Italy",
          "Jamaica",
          "Japan",
          "Jordan",
          "Kazakhstan",
          "Kenya",
          "Kiribati",
          "Korea, North ",
          "Korea, South",
          "Kosovo",
          "Kuwait",
          "Kyrgyz Republic",
          "Laos",
          "Latvia",
          "Lebanon",
          "Lesotho",
          "Liberia",
          "Libya",
          "Liechtenstein",
          "Lithuania",
          "Luxembourg",
          "Macau",
          "Macedonia",
          "Madagascar",
          "Malawi",
          "Malaysia",
          "Maldives",
          "Mali",
          "Malta",
          "Mauritania",
          "Mauritius",
          "Mexico",
          "Micronesia",
          "Moldova",
          "Mongolia",
          "Montenegro",
          "Morocco",
          "Mozambique",
          "Namibia",
          "Nepal",
          "Netherlands",
          "New Zealand",
          "Nicaragua",
          "Niger",
          "Nigeria",
          "Norway",
          "Oman",
          "Pakistan",
          "Panama",
          "Papua New Guinea",
          "Paraguay",
          "Peru",
          "Philippines",
          "Poland",
          "Portugal",
          "Qatar",
          "Romania",
          "Russia",
          "Rwanda",
          "Saint Lucia",
          "Saint Vincent and the Grenadines",
          "Samoa",
          "Sï¿½o Tomï¿½ and Prï¿½ncipe",
          "Saudi Arabia",
          "Senegal",
          "Serbia",
          "Seychelles",
          "Sierra Leone",
          "Singapore",
          "Slovakia",
          "Slovenia",
          "Solomon Islands",
          "Somalia",
          "South Africa",
          "Spain",
          "Sri Lanka",
          "Sudan",
          "Suriname",
          "Sweden",
          "Switzerland",
          "Syria",
          "Taiwan ",
          "Tajikistan",
          "Tanzania",
          "Thailand",
          "Timor-Leste",
          "Togo",
          "Tonga",
          "Trinidad and Tobago",
          "Tunisia",
          "Turkey",
          "Turkmenistan",
          "Uganda",
          "Ukraine",
          "United Arab Emirates",
          "United Kingdom",
          "United States",
          "Uruguay",
          "Uzbekistan",
          "Vanuatu",
          "Venezuela",
          "Vietnam",
          "Yemen",
          "Zambia",
          "Zimbabwe"
         ],
         "type": "scatter",
         "x": [
          66,
          87.8,
          67.4,
          61.2,
          70,
          80.8,
          87.6,
          86,
          74.6,
          47.8,
          83.8,
          63.6,
          56.6,
          76.4,
          86,
          64,
          61.8,
          79.4,
          70.4,
          82.6,
          83.8,
          69,
          84,
          86,
          65.2,
          70.8,
          68.2,
          65.4,
          53.4,
          86.8,
          68.2,
          51,
          47.2,
          88.8,
          73,
          76,
          70,
          62.6,
          56.8,
          81.4,
          73.6,
          86,
          64,
          86,
          86,
          86,
          50.4,
          68.2,
          75.8,
          66.4,
          71.8,
          81.4,
          48.8,
          69.2,
          86,
          87.6,
          60.8,
          62.8,
          86,
          81,
          51.2,
          61.6,
          88.6,
          86,
          63.4,
          81,
          82.2,
          63.2,
          55.6,
          66.8,
          72,
          79.4,
          95,
          86,
          87,
          72.4,
          79.8,
          54.6,
          74.26098901098901,
          86,
          84.4,
          86,
          68.4,
          80,
          81.4,
          80,
          60.4,
          53.2,
          0,
          80.4,
          70.8,
          79,
          78.6,
          81.8,
          86,
          79,
          81,
          60.1,
          74.26098901098901,
          74.26098901098901,
          86,
          86,
          90,
          82,
          69.2,
          75.4,
          82,
          62.6,
          69.8,
          86,
          62.6,
          88.4,
          81.4,
          80.6,
          78,
          75.8,
          84.7,
          77.4,
          78,
          83,
          60.4,
          86,
          92.4,
          76,
          65.8,
          62.4,
          83.2,
          87,
          64.8,
          79.2,
          80.9,
          76.6,
          86.4,
          78.2,
          86,
          86,
          83.2,
          86,
          77.8,
          70.4,
          73.2,
          66.6,
          63.8,
          64.2,
          76,
          72,
          77,
          81.4,
          69.4,
          94.8,
          86,
          86,
          56.8,
          74.26098901098901,
          76,
          86,
          76.2,
          45,
          64.6,
          86,
          87.4,
          47,
          87,
          73.6,
          67.8,
          83,
          75,
          69.4,
          73.6,
          68.4,
          71.4,
          79.6,
          76,
          75.4,
          75,
          84.4,
          86,
          86.6,
          78.6,
          62.6,
          64.4,
          60,
          79.2,
          71.4,
          72.6,
          70
         ],
         "y": [
          51.5,
          66.5,
          46.2,
          50.6,
          52.2,
          67.7,
          80.9,
          72,
          65.4,
          62.9,
          66.4,
          55.6,
          64.7,
          57.9,
          67.3,
          55.4,
          55.3,
          62.9,
          42.3,
          61.9,
          69.5,
          51.9,
          65.1,
          69,
          59.4,
          53.6,
          48.9,
          57.8,
          52.4,
          77.7,
          63.1,
          49.1,
          49.9,
          75.4,
          58.4,
          67.3,
          55.4,
          50.3,
          39.7,
          65.3,
          62.4,
          61.4,
          27.8,
          68.1,
          73.7,
          76.7,
          47.1,
          63.6,
          61,
          46.9,
          52.5,
          61.8,
          41,
          38.9,
          76.6,
          54.7,
          53.6,
          62.2,
          74.9,
          63.8,
          56.3,
          52.4,
          75.9,
          73.5,
          57.5,
          57.7,
          62.6,
          55.7,
          54,
          56.8,
          52.7,
          60.2,
          90.2,
          65,
          77.1,
          55.2,
          65.8,
          51.1,
          60.76833333333333,
          80.5,
          72.8,
          62.2,
          68.6,
          72.1,
          66.5,
          65.4,
          55.1,
          47.3,
          5.9,
          72.3,
          67,
          60.8,
          62.3,
          57.4,
          70.4,
          51.1,
          53.1,
          49.7,
          60.76833333333333,
          60.76833333333333,
          74.2,
          75.9,
          71,
          71.1,
          56.6,
          51.4,
          74,
          53.2,
          58.1,
          68.6,
          55.7,
          73,
          64.7,
          51.9,
          59.1,
          55.4,
          60.5,
          62.9,
          48.6,
          58.7,
          53.8,
          76.8,
          84.4,
          57.7,
          51.6,
          57.3,
          73,
          61,
          55,
          67.2,
          58.4,
          61.8,
          67.8,
          63.8,
          67.8,
          65.3,
          72.6,
          68.6,
          58.9,
          71.1,
          68.7,
          65.8,
          62.2,
          54,
          60.7,
          56.3,
          63.9,
          61.4,
          47.5,
          89.4,
          65,
          65.5,
          54.6,
          60.76833333333333,
          58.3,
          65.7,
          56.4,
          47.7,
          48.1,
          75.2,
          81.9,
          60.76833333333333,
          77.3,
          55.6,
          60.2,
          68.3,
          44.2,
          50.3,
          57.7,
          57,
          55.4,
          64.6,
          48.4,
          59.7,
          52.3,
          77.6,
          78.9,
          76.8,
          68.6,
          53.3,
          56.4,
          25.9,
          55.3,
          60.76833333333333,
          53.6,
          40.4
         ]
        },
        {
         "marker": {
          "symbol": "star"
         },
         "mode": "markers",
         "name": "Investment Freedom",
         "text": [
          "Afghanistan",
          "Albania",
          "Algeria",
          "Angola",
          "Argentina",
          "Armenia",
          "Australia",
          "Austria",
          "Azerbaijan",
          "Bahamas",
          "Bahrain",
          "Bangladesh",
          "Barbados",
          "Belarus",
          "Belgium",
          "Belize",
          "Benin",
          "Bhutan",
          "Bolivia",
          "Bosnia and Herzegovina",
          "Botswana",
          "Brazil",
          "Brunei Darussalam",
          "Bulgaria",
          "Burkina Faso",
          "Burma",
          "Burundi",
          "Cambodia",
          "Cameroon",
          "Canada",
          "Cabo Verde",
          "Central African Republic",
          "Chad",
          "Chile",
          "China",
          "Colombia",
          "Comoros",
          "Congo, Democratic Republic of the Congo",
          "Congo, Republic of",
          "Costa Rica",
          "Cï¿½te d'Ivoire",
          "Croatia",
          "Cuba",
          "Cyprus",
          "Czech Republic",
          "Denmark",
          "Djibouti",
          "Dominica",
          "Dominican Republic",
          "Ecuador",
          "Egypt",
          "El Salvador",
          "Equatorial Guinea",
          "Eritrea",
          "Estonia",
          "Eswatini",
          "Ethiopia",
          "Fiji",
          "Finland",
          "France",
          "Gabon",
          "Gambia",
          "Georgia",
          "Germany",
          "Ghana",
          "Greece",
          "Guatemala",
          "Guinea",
          "Guinea-Bissau",
          "Guyana",
          "Haiti",
          "Honduras",
          "Hong Kong",
          "Hungary",
          "Iceland",
          "India",
          "Indonesia",
          "Iran",
          "Iraq",
          "Ireland",
          "Israel",
          "Italy",
          "Jamaica",
          "Japan",
          "Jordan",
          "Kazakhstan",
          "Kenya",
          "Kiribati",
          "Korea, North ",
          "Korea, South",
          "Kosovo",
          "Kuwait",
          "Kyrgyz Republic",
          "Laos",
          "Latvia",
          "Lebanon",
          "Lesotho",
          "Liberia",
          "Libya",
          "Liechtenstein",
          "Lithuania",
          "Luxembourg",
          "Macau",
          "Macedonia",
          "Madagascar",
          "Malawi",
          "Malaysia",
          "Maldives",
          "Mali",
          "Malta",
          "Mauritania",
          "Mauritius",
          "Mexico",
          "Micronesia",
          "Moldova",
          "Mongolia",
          "Montenegro",
          "Morocco",
          "Mozambique",
          "Namibia",
          "Nepal",
          "Netherlands",
          "New Zealand",
          "Nicaragua",
          "Niger",
          "Nigeria",
          "Norway",
          "Oman",
          "Pakistan",
          "Panama",
          "Papua New Guinea",
          "Paraguay",
          "Peru",
          "Philippines",
          "Poland",
          "Portugal",
          "Qatar",
          "Romania",
          "Russia",
          "Rwanda",
          "Saint Lucia",
          "Saint Vincent and the Grenadines",
          "Samoa",
          "Sï¿½o Tomï¿½ and Prï¿½ncipe",
          "Saudi Arabia",
          "Senegal",
          "Serbia",
          "Seychelles",
          "Sierra Leone",
          "Singapore",
          "Slovakia",
          "Slovenia",
          "Solomon Islands",
          "Somalia",
          "South Africa",
          "Spain",
          "Sri Lanka",
          "Sudan",
          "Suriname",
          "Sweden",
          "Switzerland",
          "Syria",
          "Taiwan ",
          "Tajikistan",
          "Tanzania",
          "Thailand",
          "Timor-Leste",
          "Togo",
          "Tonga",
          "Trinidad and Tobago",
          "Tunisia",
          "Turkey",
          "Turkmenistan",
          "Uganda",
          "Ukraine",
          "United Arab Emirates",
          "United Kingdom",
          "United States",
          "Uruguay",
          "Uzbekistan",
          "Vanuatu",
          "Venezuela",
          "Vietnam",
          "Yemen",
          "Zambia",
          "Zimbabwe"
         ],
         "type": "scatter",
         "x": [
          10,
          70,
          30,
          30,
          55,
          75,
          80,
          90,
          60,
          50,
          75,
          45,
          70,
          30,
          85,
          55,
          70,
          20,
          15,
          65,
          65,
          50,
          65,
          70,
          65,
          30,
          50,
          60,
          30,
          80,
          80,
          45,
          60,
          85,
          25,
          80,
          45,
          30,
          45,
          70,
          75,
          75,
          10,
          75,
          80,
          90,
          80,
          70,
          70,
          35,
          60,
          75,
          40,
          0,
          90,
          50,
          35,
          55,
          85,
          75,
          60,
          65,
          80,
          80,
          70,
          55,
          70,
          50,
          30,
          55,
          45,
          65,
          90,
          80,
          85,
          40,
          45,
          5,
          57.255434782608695,
          90,
          75,
          85,
          80,
          70,
          70,
          50,
          55,
          25,
          0,
          70,
          65,
          55,
          60,
          35,
          85,
          60,
          55,
          55,
          5,
          85,
          80,
          95,
          85,
          65,
          55,
          50,
          60,
          35,
          65,
          85,
          50,
          80,
          75,
          35,
          55,
          50,
          75,
          65,
          35,
          65,
          10,
          90,
          80,
          60,
          55,
          45,
          75,
          65,
          55,
          75,
          25,
          75,
          75,
          60,
          80,
          70,
          60,
          70,
          30,
          60,
          65,
          70,
          55,
          60,
          45,
          60,
          70,
          55,
          60,
          85,
          75,
          70,
          15,
          57.255434782608695,
          45,
          85,
          40,
          5,
          40,
          85,
          85,
          0,
          60,
          25,
          55,
          55,
          45,
          65,
          40,
          60,
          45,
          70,
          10,
          55,
          35,
          40,
          90,
          85,
          85,
          10,
          65,
          0,
          30,
          50,
          55,
          25
         ],
         "y": [
          51.5,
          66.5,
          46.2,
          50.6,
          52.2,
          67.7,
          80.9,
          72,
          65.4,
          62.9,
          66.4,
          55.6,
          64.7,
          57.9,
          67.3,
          55.4,
          55.3,
          62.9,
          42.3,
          61.9,
          69.5,
          51.9,
          65.1,
          69,
          59.4,
          53.6,
          48.9,
          57.8,
          52.4,
          77.7,
          63.1,
          49.1,
          49.9,
          75.4,
          58.4,
          67.3,
          55.4,
          50.3,
          39.7,
          65.3,
          62.4,
          61.4,
          27.8,
          68.1,
          73.7,
          76.7,
          47.1,
          63.6,
          61,
          46.9,
          52.5,
          61.8,
          41,
          38.9,
          76.6,
          54.7,
          53.6,
          62.2,
          74.9,
          63.8,
          56.3,
          52.4,
          75.9,
          73.5,
          57.5,
          57.7,
          62.6,
          55.7,
          54,
          56.8,
          52.7,
          60.2,
          90.2,
          65,
          77.1,
          55.2,
          65.8,
          51.1,
          60.76833333333333,
          80.5,
          72.8,
          62.2,
          68.6,
          72.1,
          66.5,
          65.4,
          55.1,
          47.3,
          5.9,
          72.3,
          67,
          60.8,
          62.3,
          57.4,
          70.4,
          51.1,
          53.1,
          49.7,
          60.76833333333333,
          60.76833333333333,
          74.2,
          75.9,
          71,
          71.1,
          56.6,
          51.4,
          74,
          53.2,
          58.1,
          68.6,
          55.7,
          73,
          64.7,
          51.9,
          59.1,
          55.4,
          60.5,
          62.9,
          48.6,
          58.7,
          53.8,
          76.8,
          84.4,
          57.7,
          51.6,
          57.3,
          73,
          61,
          55,
          67.2,
          58.4,
          61.8,
          67.8,
          63.8,
          67.8,
          65.3,
          72.6,
          68.6,
          58.9,
          71.1,
          68.7,
          65.8,
          62.2,
          54,
          60.7,
          56.3,
          63.9,
          61.4,
          47.5,
          89.4,
          65,
          65.5,
          54.6,
          60.76833333333333,
          58.3,
          65.7,
          56.4,
          47.7,
          48.1,
          75.2,
          81.9,
          60.76833333333333,
          77.3,
          55.6,
          60.2,
          68.3,
          44.2,
          50.3,
          57.7,
          57,
          55.4,
          64.6,
          48.4,
          59.7,
          52.3,
          77.6,
          78.9,
          76.8,
          68.6,
          53.3,
          56.4,
          25.9,
          55.3,
          60.76833333333333,
          53.6,
          40.4
         ]
        },
        {
         "marker": {
          "symbol": "triangle-down"
         },
         "mode": "markers",
         "name": "Financial Freedom",
         "text": [
          "Afghanistan",
          "Albania",
          "Algeria",
          "Angola",
          "Argentina",
          "Armenia",
          "Australia",
          "Austria",
          "Azerbaijan",
          "Bahamas",
          "Bahrain",
          "Bangladesh",
          "Barbados",
          "Belarus",
          "Belgium",
          "Belize",
          "Benin",
          "Bhutan",
          "Bolivia",
          "Bosnia and Herzegovina",
          "Botswana",
          "Brazil",
          "Brunei Darussalam",
          "Bulgaria",
          "Burkina Faso",
          "Burma",
          "Burundi",
          "Cambodia",
          "Cameroon",
          "Canada",
          "Cabo Verde",
          "Central African Republic",
          "Chad",
          "Chile",
          "China",
          "Colombia",
          "Comoros",
          "Congo, Democratic Republic of the Congo",
          "Congo, Republic of",
          "Costa Rica",
          "Cï¿½te d'Ivoire",
          "Croatia",
          "Cuba",
          "Cyprus",
          "Czech Republic",
          "Denmark",
          "Djibouti",
          "Dominica",
          "Dominican Republic",
          "Ecuador",
          "Egypt",
          "El Salvador",
          "Equatorial Guinea",
          "Eritrea",
          "Estonia",
          "Eswatini",
          "Ethiopia",
          "Fiji",
          "Finland",
          "France",
          "Gabon",
          "Gambia",
          "Georgia",
          "Germany",
          "Ghana",
          "Greece",
          "Guatemala",
          "Guinea",
          "Guinea-Bissau",
          "Guyana",
          "Haiti",
          "Honduras",
          "Hong Kong",
          "Hungary",
          "Iceland",
          "India",
          "Indonesia",
          "Iran",
          "Iraq",
          "Ireland",
          "Israel",
          "Italy",
          "Jamaica",
          "Japan",
          "Jordan",
          "Kazakhstan",
          "Kenya",
          "Kiribati",
          "Korea, North ",
          "Korea, South",
          "Kosovo",
          "Kuwait",
          "Kyrgyz Republic",
          "Laos",
          "Latvia",
          "Lebanon",
          "Lesotho",
          "Liberia",
          "Libya",
          "Liechtenstein",
          "Lithuania",
          "Luxembourg",
          "Macau",
          "Macedonia",
          "Madagascar",
          "Malawi",
          "Malaysia",
          "Maldives",
          "Mali",
          "Malta",
          "Mauritania",
          "Mauritius",
          "Mexico",
          "Micronesia",
          "Moldova",
          "Mongolia",
          "Montenegro",
          "Morocco",
          "Mozambique",
          "Namibia",
          "Nepal",
          "Netherlands",
          "New Zealand",
          "Nicaragua",
          "Niger",
          "Nigeria",
          "Norway",
          "Oman",
          "Pakistan",
          "Panama",
          "Papua New Guinea",
          "Paraguay",
          "Peru",
          "Philippines",
          "Poland",
          "Portugal",
          "Qatar",
          "Romania",
          "Russia",
          "Rwanda",
          "Saint Lucia",
          "Saint Vincent and the Grenadines",
          "Samoa",
          "Sï¿½o Tomï¿½ and Prï¿½ncipe",
          "Saudi Arabia",
          "Senegal",
          "Serbia",
          "Seychelles",
          "Sierra Leone",
          "Singapore",
          "Slovakia",
          "Slovenia",
          "Solomon Islands",
          "Somalia",
          "South Africa",
          "Spain",
          "Sri Lanka",
          "Sudan",
          "Suriname",
          "Sweden",
          "Switzerland",
          "Syria",
          "Taiwan ",
          "Tajikistan",
          "Tanzania",
          "Thailand",
          "Timor-Leste",
          "Togo",
          "Tonga",
          "Trinidad and Tobago",
          "Tunisia",
          "Turkey",
          "Turkmenistan",
          "Uganda",
          "Ukraine",
          "United Arab Emirates",
          "United Kingdom",
          "United States",
          "Uruguay",
          "Uzbekistan",
          "Vanuatu",
          "Venezuela",
          "Vietnam",
          "Yemen",
          "Zambia",
          "Zimbabwe"
         ],
         "type": "scatter",
         "x": [
          10,
          70,
          30,
          40,
          60,
          70,
          90,
          70,
          60,
          60,
          80,
          30,
          60,
          10,
          70,
          50,
          50,
          30,
          40,
          60,
          70,
          50,
          50,
          60,
          40,
          20,
          30,
          50,
          50,
          80,
          60,
          30,
          40,
          70,
          20,
          70,
          30,
          20,
          30,
          50,
          50,
          60,
          10,
          60,
          80,
          80,
          50,
          30,
          40,
          40,
          50,
          60,
          30,
          20,
          70,
          40,
          20,
          50,
          80,
          70,
          40,
          50,
          70,
          70,
          60,
          50,
          50,
          40,
          30,
          30,
          30,
          60,
          90,
          70,
          70,
          40,
          60,
          10,
          48.78453038674033,
          70,
          70,
          50,
          50,
          60,
          60,
          50,
          50,
          30,
          0,
          70,
          30,
          60,
          50,
          20,
          60,
          50,
          40,
          20,
          48.78453038674033,
          80,
          70,
          80,
          70,
          60,
          50,
          50,
          50,
          30,
          40,
          60,
          40,
          70,
          60,
          30,
          50,
          60,
          50,
          70,
          50,
          40,
          30,
          80,
          80,
          50,
          40,
          40,
          60,
          60,
          40,
          70,
          30,
          60,
          60,
          60,
          70,
          60,
          60,
          50,
          30,
          40,
          40,
          40,
          30,
          30,
          50,
          40,
          50,
          30,
          20,
          80,
          70,
          50,
          30,
          48.78453038674033,
          50,
          70,
          40,
          20,
          30,
          80,
          90,
          48.78453038674033,
          60,
          30,
          50,
          60,
          20,
          30,
          20,
          50,
          30,
          60,
          10,
          40,
          30,
          60,
          80,
          80,
          30,
          10,
          40,
          10,
          40,
          48.78453038674033,
          50,
          10
         ],
         "y": [
          51.5,
          66.5,
          46.2,
          50.6,
          52.2,
          67.7,
          80.9,
          72,
          65.4,
          62.9,
          66.4,
          55.6,
          64.7,
          57.9,
          67.3,
          55.4,
          55.3,
          62.9,
          42.3,
          61.9,
          69.5,
          51.9,
          65.1,
          69,
          59.4,
          53.6,
          48.9,
          57.8,
          52.4,
          77.7,
          63.1,
          49.1,
          49.9,
          75.4,
          58.4,
          67.3,
          55.4,
          50.3,
          39.7,
          65.3,
          62.4,
          61.4,
          27.8,
          68.1,
          73.7,
          76.7,
          47.1,
          63.6,
          61,
          46.9,
          52.5,
          61.8,
          41,
          38.9,
          76.6,
          54.7,
          53.6,
          62.2,
          74.9,
          63.8,
          56.3,
          52.4,
          75.9,
          73.5,
          57.5,
          57.7,
          62.6,
          55.7,
          54,
          56.8,
          52.7,
          60.2,
          90.2,
          65,
          77.1,
          55.2,
          65.8,
          51.1,
          60.76833333333333,
          80.5,
          72.8,
          62.2,
          68.6,
          72.1,
          66.5,
          65.4,
          55.1,
          47.3,
          5.9,
          72.3,
          67,
          60.8,
          62.3,
          57.4,
          70.4,
          51.1,
          53.1,
          49.7,
          60.76833333333333,
          60.76833333333333,
          74.2,
          75.9,
          71,
          71.1,
          56.6,
          51.4,
          74,
          53.2,
          58.1,
          68.6,
          55.7,
          73,
          64.7,
          51.9,
          59.1,
          55.4,
          60.5,
          62.9,
          48.6,
          58.7,
          53.8,
          76.8,
          84.4,
          57.7,
          51.6,
          57.3,
          73,
          61,
          55,
          67.2,
          58.4,
          61.8,
          67.8,
          63.8,
          67.8,
          65.3,
          72.6,
          68.6,
          58.9,
          71.1,
          68.7,
          65.8,
          62.2,
          54,
          60.7,
          56.3,
          63.9,
          61.4,
          47.5,
          89.4,
          65,
          65.5,
          54.6,
          60.76833333333333,
          58.3,
          65.7,
          56.4,
          47.7,
          48.1,
          75.2,
          81.9,
          60.76833333333333,
          77.3,
          55.6,
          60.2,
          68.3,
          44.2,
          50.3,
          57.7,
          57,
          55.4,
          64.6,
          48.4,
          59.7,
          52.3,
          77.6,
          78.9,
          76.8,
          68.6,
          53.3,
          56.4,
          25.9,
          55.3,
          60.76833333333333,
          53.6,
          40.4
         ]
        }
       ],
       "layout": {
        "height": 800,
        "showlegend": true,
        "template": {
         "data": {
          "bar": [
           {
            "error_x": {
             "color": "#f2f5fa"
            },
            "error_y": {
             "color": "#f2f5fa"
            },
            "marker": {
             "line": {
              "color": "rgb(17,17,17)",
              "width": 0.5
             },
             "pattern": {
              "fillmode": "overlay",
              "size": 10,
              "solidity": 0.2
             }
            },
            "type": "bar"
           }
          ],
          "barpolar": [
           {
            "marker": {
             "line": {
              "color": "rgb(17,17,17)",
              "width": 0.5
             },
             "pattern": {
              "fillmode": "overlay",
              "size": 10,
              "solidity": 0.2
             }
            },
            "type": "barpolar"
           }
          ],
          "carpet": [
           {
            "aaxis": {
             "endlinecolor": "#A2B1C6",
             "gridcolor": "#506784",
             "linecolor": "#506784",
             "minorgridcolor": "#506784",
             "startlinecolor": "#A2B1C6"
            },
            "baxis": {
             "endlinecolor": "#A2B1C6",
             "gridcolor": "#506784",
             "linecolor": "#506784",
             "minorgridcolor": "#506784",
             "startlinecolor": "#A2B1C6"
            },
            "type": "carpet"
           }
          ],
          "choropleth": [
           {
            "colorbar": {
             "outlinewidth": 0,
             "ticks": ""
            },
            "type": "choropleth"
           }
          ],
          "contour": [
           {
            "colorbar": {
             "outlinewidth": 0,
             "ticks": ""
            },
            "colorscale": [
             [
              0,
              "#0d0887"
             ],
             [
              0.1111111111111111,
              "#46039f"
             ],
             [
              0.2222222222222222,
              "#7201a8"
             ],
             [
              0.3333333333333333,
              "#9c179e"
             ],
             [
              0.4444444444444444,
              "#bd3786"
             ],
             [
              0.5555555555555556,
              "#d8576b"
             ],
             [
              0.6666666666666666,
              "#ed7953"
             ],
             [
              0.7777777777777778,
              "#fb9f3a"
             ],
             [
              0.8888888888888888,
              "#fdca26"
             ],
             [
              1,
              "#f0f921"
             ]
            ],
            "type": "contour"
           }
          ],
          "contourcarpet": [
           {
            "colorbar": {
             "outlinewidth": 0,
             "ticks": ""
            },
            "type": "contourcarpet"
           }
          ],
          "heatmap": [
           {
            "colorbar": {
             "outlinewidth": 0,
             "ticks": ""
            },
            "colorscale": [
             [
              0,
              "#0d0887"
             ],
             [
              0.1111111111111111,
              "#46039f"
             ],
             [
              0.2222222222222222,
              "#7201a8"
             ],
             [
              0.3333333333333333,
              "#9c179e"
             ],
             [
              0.4444444444444444,
              "#bd3786"
             ],
             [
              0.5555555555555556,
              "#d8576b"
             ],
             [
              0.6666666666666666,
              "#ed7953"
             ],
             [
              0.7777777777777778,
              "#fb9f3a"
             ],
             [
              0.8888888888888888,
              "#fdca26"
             ],
             [
              1,
              "#f0f921"
             ]
            ],
            "type": "heatmap"
           }
          ],
          "heatmapgl": [
           {
            "colorbar": {
             "outlinewidth": 0,
             "ticks": ""
            },
            "colorscale": [
             [
              0,
              "#0d0887"
             ],
             [
              0.1111111111111111,
              "#46039f"
             ],
             [
              0.2222222222222222,
              "#7201a8"
             ],
             [
              0.3333333333333333,
              "#9c179e"
             ],
             [
              0.4444444444444444,
              "#bd3786"
             ],
             [
              0.5555555555555556,
              "#d8576b"
             ],
             [
              0.6666666666666666,
              "#ed7953"
             ],
             [
              0.7777777777777778,
              "#fb9f3a"
             ],
             [
              0.8888888888888888,
              "#fdca26"
             ],
             [
              1,
              "#f0f921"
             ]
            ],
            "type": "heatmapgl"
           }
          ],
          "histogram": [
           {
            "marker": {
             "pattern": {
              "fillmode": "overlay",
              "size": 10,
              "solidity": 0.2
             }
            },
            "type": "histogram"
           }
          ],
          "histogram2d": [
           {
            "colorbar": {
             "outlinewidth": 0,
             "ticks": ""
            },
            "colorscale": [
             [
              0,
              "#0d0887"
             ],
             [
              0.1111111111111111,
              "#46039f"
             ],
             [
              0.2222222222222222,
              "#7201a8"
             ],
             [
              0.3333333333333333,
              "#9c179e"
             ],
             [
              0.4444444444444444,
              "#bd3786"
             ],
             [
              0.5555555555555556,
              "#d8576b"
             ],
             [
              0.6666666666666666,
              "#ed7953"
             ],
             [
              0.7777777777777778,
              "#fb9f3a"
             ],
             [
              0.8888888888888888,
              "#fdca26"
             ],
             [
              1,
              "#f0f921"
             ]
            ],
            "type": "histogram2d"
           }
          ],
          "histogram2dcontour": [
           {
            "colorbar": {
             "outlinewidth": 0,
             "ticks": ""
            },
            "colorscale": [
             [
              0,
              "#0d0887"
             ],
             [
              0.1111111111111111,
              "#46039f"
             ],
             [
              0.2222222222222222,
              "#7201a8"
             ],
             [
              0.3333333333333333,
              "#9c179e"
             ],
             [
              0.4444444444444444,
              "#bd3786"
             ],
             [
              0.5555555555555556,
              "#d8576b"
             ],
             [
              0.6666666666666666,
              "#ed7953"
             ],
             [
              0.7777777777777778,
              "#fb9f3a"
             ],
             [
              0.8888888888888888,
              "#fdca26"
             ],
             [
              1,
              "#f0f921"
             ]
            ],
            "type": "histogram2dcontour"
           }
          ],
          "mesh3d": [
           {
            "colorbar": {
             "outlinewidth": 0,
             "ticks": ""
            },
            "type": "mesh3d"
           }
          ],
          "parcoords": [
           {
            "line": {
             "colorbar": {
              "outlinewidth": 0,
              "ticks": ""
             }
            },
            "type": "parcoords"
           }
          ],
          "pie": [
           {
            "automargin": true,
            "type": "pie"
           }
          ],
          "scatter": [
           {
            "marker": {
             "line": {
              "color": "#283442"
             }
            },
            "type": "scatter"
           }
          ],
          "scatter3d": [
           {
            "line": {
             "colorbar": {
              "outlinewidth": 0,
              "ticks": ""
             }
            },
            "marker": {
             "colorbar": {
              "outlinewidth": 0,
              "ticks": ""
             }
            },
            "type": "scatter3d"
           }
          ],
          "scattercarpet": [
           {
            "marker": {
             "colorbar": {
              "outlinewidth": 0,
              "ticks": ""
             }
            },
            "type": "scattercarpet"
           }
          ],
          "scattergeo": [
           {
            "marker": {
             "colorbar": {
              "outlinewidth": 0,
              "ticks": ""
             }
            },
            "type": "scattergeo"
           }
          ],
          "scattergl": [
           {
            "marker": {
             "line": {
              "color": "#283442"
             }
            },
            "type": "scattergl"
           }
          ],
          "scattermapbox": [
           {
            "marker": {
             "colorbar": {
              "outlinewidth": 0,
              "ticks": ""
             }
            },
            "type": "scattermapbox"
           }
          ],
          "scatterpolar": [
           {
            "marker": {
             "colorbar": {
              "outlinewidth": 0,
              "ticks": ""
             }
            },
            "type": "scatterpolar"
           }
          ],
          "scatterpolargl": [
           {
            "marker": {
             "colorbar": {
              "outlinewidth": 0,
              "ticks": ""
             }
            },
            "type": "scatterpolargl"
           }
          ],
          "scatterternary": [
           {
            "marker": {
             "colorbar": {
              "outlinewidth": 0,
              "ticks": ""
             }
            },
            "type": "scatterternary"
           }
          ],
          "surface": [
           {
            "colorbar": {
             "outlinewidth": 0,
             "ticks": ""
            },
            "colorscale": [
             [
              0,
              "#0d0887"
             ],
             [
              0.1111111111111111,
              "#46039f"
             ],
             [
              0.2222222222222222,
              "#7201a8"
             ],
             [
              0.3333333333333333,
              "#9c179e"
             ],
             [
              0.4444444444444444,
              "#bd3786"
             ],
             [
              0.5555555555555556,
              "#d8576b"
             ],
             [
              0.6666666666666666,
              "#ed7953"
             ],
             [
              0.7777777777777778,
              "#fb9f3a"
             ],
             [
              0.8888888888888888,
              "#fdca26"
             ],
             [
              1,
              "#f0f921"
             ]
            ],
            "type": "surface"
           }
          ],
          "table": [
           {
            "cells": {
             "fill": {
              "color": "#506784"
             },
             "line": {
              "color": "rgb(17,17,17)"
             }
            },
            "header": {
             "fill": {
              "color": "#2a3f5f"
             },
             "line": {
              "color": "rgb(17,17,17)"
             }
            },
            "type": "table"
           }
          ]
         },
         "layout": {
          "annotationdefaults": {
           "arrowcolor": "#f2f5fa",
           "arrowhead": 0,
           "arrowwidth": 1
          },
          "autotypenumbers": "strict",
          "coloraxis": {
           "colorbar": {
            "outlinewidth": 0,
            "ticks": ""
           }
          },
          "colorscale": {
           "diverging": [
            [
             0,
             "#8e0152"
            ],
            [
             0.1,
             "#c51b7d"
            ],
            [
             0.2,
             "#de77ae"
            ],
            [
             0.3,
             "#f1b6da"
            ],
            [
             0.4,
             "#fde0ef"
            ],
            [
             0.5,
             "#f7f7f7"
            ],
            [
             0.6,
             "#e6f5d0"
            ],
            [
             0.7,
             "#b8e186"
            ],
            [
             0.8,
             "#7fbc41"
            ],
            [
             0.9,
             "#4d9221"
            ],
            [
             1,
             "#276419"
            ]
           ],
           "sequential": [
            [
             0,
             "#0d0887"
            ],
            [
             0.1111111111111111,
             "#46039f"
            ],
            [
             0.2222222222222222,
             "#7201a8"
            ],
            [
             0.3333333333333333,
             "#9c179e"
            ],
            [
             0.4444444444444444,
             "#bd3786"
            ],
            [
             0.5555555555555556,
             "#d8576b"
            ],
            [
             0.6666666666666666,
             "#ed7953"
            ],
            [
             0.7777777777777778,
             "#fb9f3a"
            ],
            [
             0.8888888888888888,
             "#fdca26"
            ],
            [
             1,
             "#f0f921"
            ]
           ],
           "sequentialminus": [
            [
             0,
             "#0d0887"
            ],
            [
             0.1111111111111111,
             "#46039f"
            ],
            [
             0.2222222222222222,
             "#7201a8"
            ],
            [
             0.3333333333333333,
             "#9c179e"
            ],
            [
             0.4444444444444444,
             "#bd3786"
            ],
            [
             0.5555555555555556,
             "#d8576b"
            ],
            [
             0.6666666666666666,
             "#ed7953"
            ],
            [
             0.7777777777777778,
             "#fb9f3a"
            ],
            [
             0.8888888888888888,
             "#fdca26"
            ],
            [
             1,
             "#f0f921"
            ]
           ]
          },
          "colorway": [
           "#636efa",
           "#EF553B",
           "#00cc96",
           "#ab63fa",
           "#FFA15A",
           "#19d3f3",
           "#FF6692",
           "#B6E880",
           "#FF97FF",
           "#FECB52"
          ],
          "font": {
           "color": "#f2f5fa"
          },
          "geo": {
           "bgcolor": "rgb(17,17,17)",
           "lakecolor": "rgb(17,17,17)",
           "landcolor": "rgb(17,17,17)",
           "showlakes": true,
           "showland": true,
           "subunitcolor": "#506784"
          },
          "hoverlabel": {
           "align": "left"
          },
          "hovermode": "closest",
          "mapbox": {
           "style": "dark"
          },
          "paper_bgcolor": "rgb(17,17,17)",
          "plot_bgcolor": "rgb(17,17,17)",
          "polar": {
           "angularaxis": {
            "gridcolor": "#506784",
            "linecolor": "#506784",
            "ticks": ""
           },
           "bgcolor": "rgb(17,17,17)",
           "radialaxis": {
            "gridcolor": "#506784",
            "linecolor": "#506784",
            "ticks": ""
           }
          },
          "scene": {
           "xaxis": {
            "backgroundcolor": "rgb(17,17,17)",
            "gridcolor": "#506784",
            "gridwidth": 2,
            "linecolor": "#506784",
            "showbackground": true,
            "ticks": "",
            "zerolinecolor": "#C8D4E3"
           },
           "yaxis": {
            "backgroundcolor": "rgb(17,17,17)",
            "gridcolor": "#506784",
            "gridwidth": 2,
            "linecolor": "#506784",
            "showbackground": true,
            "ticks": "",
            "zerolinecolor": "#C8D4E3"
           },
           "zaxis": {
            "backgroundcolor": "rgb(17,17,17)",
            "gridcolor": "#506784",
            "gridwidth": 2,
            "linecolor": "#506784",
            "showbackground": true,
            "ticks": "",
            "zerolinecolor": "#C8D4E3"
           }
          },
          "shapedefaults": {
           "line": {
            "color": "#f2f5fa"
           }
          },
          "sliderdefaults": {
           "bgcolor": "#C8D4E3",
           "bordercolor": "rgb(17,17,17)",
           "borderwidth": 1,
           "tickwidth": 0
          },
          "ternary": {
           "aaxis": {
            "gridcolor": "#506784",
            "linecolor": "#506784",
            "ticks": ""
           },
           "baxis": {
            "gridcolor": "#506784",
            "linecolor": "#506784",
            "ticks": ""
           },
           "bgcolor": "rgb(17,17,17)",
           "caxis": {
            "gridcolor": "#506784",
            "linecolor": "#506784",
            "ticks": ""
           }
          },
          "title": {
           "x": 0.05
          },
          "updatemenudefaults": {
           "bgcolor": "#506784",
           "borderwidth": 0
          },
          "xaxis": {
           "automargin": true,
           "gridcolor": "#283442",
           "linecolor": "#506784",
           "ticks": "",
           "title": {
            "standoff": 15
           },
           "zerolinecolor": "#283442",
           "zerolinewidth": 2
          },
          "yaxis": {
           "automargin": true,
           "gridcolor": "#283442",
           "linecolor": "#506784",
           "ticks": "",
           "title": {
            "standoff": 15
           },
           "zerolinecolor": "#283442",
           "zerolinewidth": 2
          }
         }
        },
        "title": {
         "text": "Relationship between the 2019 score and its dependent variables."
        },
        "width": 2000,
        "xaxis": {
         "title": {
          "text": "Government/Finance-dependent variables"
         }
        },
        "yaxis": {
         "title": {
          "text": "2019 Score"
         }
        }
       }
      }
     },
     "metadata": {},
     "output_type": "display_data"
    }
   ],
   "source": [
    "# creamos un scatterplot para todas las variables relacionadas con el 2019 Score\n",
    "fig = go.Figure(data=[go.Scatter(x=df['Property Rights'], y=df['2019 Score'], mode='markers', marker=dict(symbol='square'), name='Property Rights', text=df['Country']),\n",
    "                    go.Scatter(x=df['Judical Effectiveness'], y=df['2019 Score'], mode='markers', marker=dict(symbol='triangle-up'), name='Judical Effectiveness', text=df['Country']),\n",
    "                    go.Scatter(x=df['Government Integrity'], y=df['2019 Score'], mode='markers', marker=dict(symbol='circle'), name='Government Integrity', text=df['Country']),\n",
    "                    go.Scatter(x=df['Tax Burden'], y=df['2019 Score'], mode='markers', marker=dict(symbol='cross'), name='Tax Burden', text=df['Country']),\n",
    "                    go.Scatter(x=df['Business Freedom'], y=df['2019 Score'], mode='markers', marker=dict(symbol='x'), name='Business Freedom', text=df['Country']),\n",
    "                    go.Scatter(x=df['Trade Freedom'], y=df['2019 Score'], mode='markers', marker=dict(symbol='pentagon'), name='Trade Freedom', text=df['Country']),\n",
    "                    go.Scatter(x=df['Investment Freedom'], y=df['2019 Score'], mode='markers', marker=dict(symbol='star'), name='Investment Freedom', text=df['Country']),\n",
    "                    go.Scatter(x=df['Financial Freedom'], y=df['2019 Score'], mode='markers', marker=dict(symbol='triangle-down'), name='Financial Freedom', text=df['Country'])],\n",
    "                layout=go.Layout(title='Relationship between the 2019 score and its dependent variables.',\n",
    "                                xaxis_title='Government/Finance-dependent variables',\n",
    "                                yaxis_title='2019 Score',\n",
    "                                showlegend=True, \n",
    "                                width=2000,\n",
    "                                height=800))\n",
    "fig.show()"
   ]
  },
  {
   "cell_type": "code",
   "execution_count": 29,
   "metadata": {},
   "outputs": [
    {
     "data": {
      "application/vnd.plotly.v1+json": {
       "config": {
        "plotlyServerURL": "https://plot.ly"
       },
       "data": [
        {
         "marker": {
          "symbol": "square"
         },
         "mode": "markers",
         "name": "Property Rights",
         "text": [
          "Afghanistan",
          "Albania",
          "Algeria",
          "Angola",
          "Argentina",
          "Armenia",
          "Australia",
          "Austria",
          "Azerbaijan",
          "Bahamas",
          "Bahrain",
          "Bangladesh",
          "Barbados",
          "Belarus",
          "Belgium",
          "Belize",
          "Benin",
          "Bhutan",
          "Bolivia",
          "Bosnia and Herzegovina",
          "Botswana",
          "Brazil",
          "Brunei Darussalam",
          "Bulgaria",
          "Burkina Faso",
          "Burma",
          "Burundi",
          "Cambodia",
          "Cameroon",
          "Canada",
          "Cabo Verde",
          "Central African Republic",
          "Chad",
          "Chile",
          "China",
          "Colombia",
          "Comoros",
          "Congo, Democratic Republic of the Congo",
          "Congo, Republic of",
          "Costa Rica",
          "Cï¿½te d'Ivoire",
          "Croatia",
          "Cuba",
          "Cyprus",
          "Czech Republic",
          "Denmark",
          "Djibouti",
          "Dominica",
          "Dominican Republic",
          "Ecuador",
          "Egypt",
          "El Salvador",
          "Equatorial Guinea",
          "Eritrea",
          "Estonia",
          "Eswatini",
          "Ethiopia",
          "Fiji",
          "Finland",
          "France",
          "Gabon",
          "Gambia",
          "Georgia",
          "Germany",
          "Ghana",
          "Greece",
          "Guatemala",
          "Guinea",
          "Guinea-Bissau",
          "Guyana",
          "Haiti",
          "Honduras",
          "Hong Kong",
          "Hungary",
          "Iceland",
          "India",
          "Indonesia",
          "Iran",
          "Iraq",
          "Ireland",
          "Israel",
          "Italy",
          "Jamaica",
          "Japan",
          "Jordan",
          "Kazakhstan",
          "Kenya",
          "Kiribati",
          "Korea, North ",
          "Korea, South",
          "Kosovo",
          "Kuwait",
          "Kyrgyz Republic",
          "Laos",
          "Latvia",
          "Lebanon",
          "Lesotho",
          "Liberia",
          "Libya",
          "Liechtenstein",
          "Lithuania",
          "Luxembourg",
          "Macau",
          "Macedonia",
          "Madagascar",
          "Malawi",
          "Malaysia",
          "Maldives",
          "Mali",
          "Malta",
          "Mauritania",
          "Mauritius",
          "Mexico",
          "Micronesia",
          "Moldova",
          "Mongolia",
          "Montenegro",
          "Morocco",
          "Mozambique",
          "Namibia",
          "Nepal",
          "Netherlands",
          "New Zealand",
          "Nicaragua",
          "Niger",
          "Nigeria",
          "Norway",
          "Oman",
          "Pakistan",
          "Panama",
          "Papua New Guinea",
          "Paraguay",
          "Peru",
          "Philippines",
          "Poland",
          "Portugal",
          "Qatar",
          "Romania",
          "Russia",
          "Rwanda",
          "Saint Lucia",
          "Saint Vincent and the Grenadines",
          "Samoa",
          "Sï¿½o Tomï¿½ and Prï¿½ncipe",
          "Saudi Arabia",
          "Senegal",
          "Serbia",
          "Seychelles",
          "Sierra Leone",
          "Singapore",
          "Slovakia",
          "Slovenia",
          "Solomon Islands",
          "Somalia",
          "South Africa",
          "Spain",
          "Sri Lanka",
          "Sudan",
          "Suriname",
          "Sweden",
          "Switzerland",
          "Syria",
          "Taiwan ",
          "Tajikistan",
          "Tanzania",
          "Thailand",
          "Timor-Leste",
          "Togo",
          "Tonga",
          "Trinidad and Tobago",
          "Tunisia",
          "Turkey",
          "Turkmenistan",
          "Uganda",
          "Ukraine",
          "United Arab Emirates",
          "United Kingdom",
          "United States",
          "Uruguay",
          "Uzbekistan",
          "Vanuatu",
          "Venezuela",
          "Vietnam",
          "Yemen",
          "Zambia",
          "Zimbabwe"
         ],
         "type": "scatter",
         "x": [
          19.6,
          54.8,
          31.6,
          35.9,
          47.8,
          57.2,
          79.1,
          84.2,
          59.1,
          42.2,
          63.5,
          36.1,
          52.9,
          55.2,
          81.3,
          41.7,
          37.2,
          62.5,
          20.5,
          40.2,
          58.1,
          57.3,
          64,
          62.5,
          49.1,
          34.7,
          20.6,
          37.4,
          42.5,
          87,
          44.1,
          19.6,
          26.7,
          68.7,
          49.9,
          59.2,
          36.5,
          25.3,
          33.2,
          58.3,
          40.9,
          66,
          31.6,
          73.1,
          74.8,
          86.2,
          29.7,
          49.2,
          50.6,
          35.9,
          37,
          37.6,
          29.7,
          35.5,
          81.5,
          41.7,
          32.6,
          67.3,
          89.6,
          82.5,
          28.1,
          39.9,
          65.9,
          79.9,
          49.1,
          52.4,
          40.3,
          34.7,
          32.6,
          41.7,
          10.4,
          43.4,
          93.3,
          60.9,
          87.4,
          57.3,
          52.2,
          33.5,
          37,
          85.8,
          80,
          71.7,
          60.7,
          84.1,
          58.4,
          59.3,
          53.8,
          44.1,
          31.6,
          79.3,
          57.2,
          52.9,
          49.9,
          38.8,
          67.3,
          39.5,
          41.5,
          26.7,
          7.6,
          52.32756756756756,
          73.6,
          83,
          60,
          65.1,
          33.2,
          35.8,
          84.1,
          43.9,
          33.7,
          69.8,
          27.5,
          69.5,
          59.1,
          7.6,
          55.2,
          48.2,
          55.4,
          57.2,
          33.9,
          55.9,
          39.2,
          88,
          95,
          33.4,
          37.2,
          36.5,
          86.1,
          58.1,
          41.5,
          60.4,
          37.4,
          39.5,
          56.1,
          48.7,
          62.3,
          71.5,
          64.5,
          66.7,
          52.4,
          72.2,
          65.9,
          36.5,
          53.8,
          37.4,
          55,
          47.8,
          50.1,
          58.2,
          35.5,
          97.4,
          68.5,
          76.4,
          49.9,
          33.7,
          58.8,
          72.9,
          44.7,
          27.5,
          49.1,
          89.5,
          85.3,
          37,
          85.4,
          47.8,
          35.4,
          53.7,
          29.7,
          35.5,
          59.2,
          52.3,
          49.2,
          55.8,
          31.6,
          42.2,
          43.9,
          81.8,
          92.3,
          79.3,
          68.3,
          49.8,
          65.9,
          7.6,
          49.8,
          19.6,
          45,
          29.7
         ],
         "xaxis": "x",
         "y": [
          51.5,
          66.5,
          46.2,
          50.6,
          52.2,
          67.7,
          80.9,
          72,
          65.4,
          62.9,
          66.4,
          55.6,
          64.7,
          57.9,
          67.3,
          55.4,
          55.3,
          62.9,
          42.3,
          61.9,
          69.5,
          51.9,
          65.1,
          69,
          59.4,
          53.6,
          48.9,
          57.8,
          52.4,
          77.7,
          63.1,
          49.1,
          49.9,
          75.4,
          58.4,
          67.3,
          55.4,
          50.3,
          39.7,
          65.3,
          62.4,
          61.4,
          27.8,
          68.1,
          73.7,
          76.7,
          47.1,
          63.6,
          61,
          46.9,
          52.5,
          61.8,
          41,
          38.9,
          76.6,
          54.7,
          53.6,
          62.2,
          74.9,
          63.8,
          56.3,
          52.4,
          75.9,
          73.5,
          57.5,
          57.7,
          62.6,
          55.7,
          54,
          56.8,
          52.7,
          60.2,
          90.2,
          65,
          77.1,
          55.2,
          65.8,
          51.1,
          60.76833333333333,
          80.5,
          72.8,
          62.2,
          68.6,
          72.1,
          66.5,
          65.4,
          55.1,
          47.3,
          5.9,
          72.3,
          67,
          60.8,
          62.3,
          57.4,
          70.4,
          51.1,
          53.1,
          49.7,
          60.76833333333333,
          60.76833333333333,
          74.2,
          75.9,
          71,
          71.1,
          56.6,
          51.4,
          74,
          53.2,
          58.1,
          68.6,
          55.7,
          73,
          64.7,
          51.9,
          59.1,
          55.4,
          60.5,
          62.9,
          48.6,
          58.7,
          53.8,
          76.8,
          84.4,
          57.7,
          51.6,
          57.3,
          73,
          61,
          55,
          67.2,
          58.4,
          61.8,
          67.8,
          63.8,
          67.8,
          65.3,
          72.6,
          68.6,
          58.9,
          71.1,
          68.7,
          65.8,
          62.2,
          54,
          60.7,
          56.3,
          63.9,
          61.4,
          47.5,
          89.4,
          65,
          65.5,
          54.6,
          60.76833333333333,
          58.3,
          65.7,
          56.4,
          47.7,
          48.1,
          75.2,
          81.9,
          60.76833333333333,
          77.3,
          55.6,
          60.2,
          68.3,
          44.2,
          50.3,
          57.7,
          57,
          55.4,
          64.6,
          48.4,
          59.7,
          52.3,
          77.6,
          78.9,
          76.8,
          68.6,
          53.3,
          56.4,
          25.9,
          55.3,
          60.76833333333333,
          53.6,
          40.4
         ],
         "yaxis": "y"
        },
        {
         "marker": {
          "symbol": "triangle-up"
         },
         "mode": "markers",
         "name": "Judical Effectiveness",
         "text": [
          "Afghanistan",
          "Albania",
          "Algeria",
          "Angola",
          "Argentina",
          "Armenia",
          "Australia",
          "Austria",
          "Azerbaijan",
          "Bahamas",
          "Bahrain",
          "Bangladesh",
          "Barbados",
          "Belarus",
          "Belgium",
          "Belize",
          "Benin",
          "Bhutan",
          "Bolivia",
          "Bosnia and Herzegovina",
          "Botswana",
          "Brazil",
          "Brunei Darussalam",
          "Bulgaria",
          "Burkina Faso",
          "Burma",
          "Burundi",
          "Cambodia",
          "Cameroon",
          "Canada",
          "Cabo Verde",
          "Central African Republic",
          "Chad",
          "Chile",
          "China",
          "Colombia",
          "Comoros",
          "Congo, Democratic Republic of the Congo",
          "Congo, Republic of",
          "Costa Rica",
          "Cï¿½te d'Ivoire",
          "Croatia",
          "Cuba",
          "Cyprus",
          "Czech Republic",
          "Denmark",
          "Djibouti",
          "Dominica",
          "Dominican Republic",
          "Ecuador",
          "Egypt",
          "El Salvador",
          "Equatorial Guinea",
          "Eritrea",
          "Estonia",
          "Eswatini",
          "Ethiopia",
          "Fiji",
          "Finland",
          "France",
          "Gabon",
          "Gambia",
          "Georgia",
          "Germany",
          "Ghana",
          "Greece",
          "Guatemala",
          "Guinea",
          "Guinea-Bissau",
          "Guyana",
          "Haiti",
          "Honduras",
          "Hong Kong",
          "Hungary",
          "Iceland",
          "India",
          "Indonesia",
          "Iran",
          "Iraq",
          "Ireland",
          "Israel",
          "Italy",
          "Jamaica",
          "Japan",
          "Jordan",
          "Kazakhstan",
          "Kenya",
          "Kiribati",
          "Korea, North ",
          "Korea, South",
          "Kosovo",
          "Kuwait",
          "Kyrgyz Republic",
          "Laos",
          "Latvia",
          "Lebanon",
          "Lesotho",
          "Liberia",
          "Libya",
          "Liechtenstein",
          "Lithuania",
          "Luxembourg",
          "Macau",
          "Macedonia",
          "Madagascar",
          "Malawi",
          "Malaysia",
          "Maldives",
          "Mali",
          "Malta",
          "Mauritania",
          "Mauritius",
          "Mexico",
          "Micronesia",
          "Moldova",
          "Mongolia",
          "Montenegro",
          "Morocco",
          "Mozambique",
          "Namibia",
          "Nepal",
          "Netherlands",
          "New Zealand",
          "Nicaragua",
          "Niger",
          "Nigeria",
          "Norway",
          "Oman",
          "Pakistan",
          "Panama",
          "Papua New Guinea",
          "Paraguay",
          "Peru",
          "Philippines",
          "Poland",
          "Portugal",
          "Qatar",
          "Romania",
          "Russia",
          "Rwanda",
          "Saint Lucia",
          "Saint Vincent and the Grenadines",
          "Samoa",
          "Sï¿½o Tomï¿½ and Prï¿½ncipe",
          "Saudi Arabia",
          "Senegal",
          "Serbia",
          "Seychelles",
          "Sierra Leone",
          "Singapore",
          "Slovakia",
          "Slovenia",
          "Solomon Islands",
          "Somalia",
          "South Africa",
          "Spain",
          "Sri Lanka",
          "Sudan",
          "Suriname",
          "Sweden",
          "Switzerland",
          "Syria",
          "Taiwan ",
          "Tajikistan",
          "Tanzania",
          "Thailand",
          "Timor-Leste",
          "Togo",
          "Tonga",
          "Trinidad and Tobago",
          "Tunisia",
          "Turkey",
          "Turkmenistan",
          "Uganda",
          "Ukraine",
          "United Arab Emirates",
          "United Kingdom",
          "United States",
          "Uruguay",
          "Uzbekistan",
          "Vanuatu",
          "Venezuela",
          "Vietnam",
          "Yemen",
          "Zambia",
          "Zimbabwe"
         ],
         "type": "scatter",
         "x": [
          29.6,
          30.6,
          36.2,
          26.6,
          44.5,
          46.3,
          86.5,
          71.3,
          53.1,
          46.9,
          50.7,
          34.5,
          59.9,
          51.7,
          61.6,
          46.9,
          32.8,
          55.4,
          12.3,
          37.9,
          45.7,
          51.7,
          56,
          41.9,
          42.9,
          18.1,
          31,
          27.6,
          31.3,
          69.4,
          49,
          29.6,
          24.6,
          56.3,
          75.2,
          34.3,
          29.6,
          30.7,
          29.6,
          54,
          47.8,
          42.9,
          10,
          48.1,
          47.6,
          77.8,
          18.1,
          63.8,
          18.1,
          20.2,
          48.3,
          29.1,
          18.1,
          18.1,
          76,
          42.9,
          40.9,
          42.9,
          81.2,
          66.1,
          30.6,
          42.5,
          54.6,
          75.4,
          44.2,
          49.5,
          32.3,
          32.6,
          42.9,
          42.9,
          25.3,
          31,
          75.3,
          45.2,
          63.8,
          61.6,
          53.5,
          41.3,
          12.3,
          68.4,
          73.4,
          49.8,
          49.2,
          68.5,
          52.6,
          56.1,
          46.9,
          34.3,
          5,
          57.5,
          53.5,
          43.3,
          27.9,
          42.5,
          48.4,
          26.6,
          45.7,
          39,
          24.4,
          44.89945945945946,
          61.2,
          72.4,
          60,
          60.7,
          24.4,
          40.1,
          68.2,
          36.4,
          33.4,
          50.4,
          30.6,
          62.1,
          34.9,
          26.6,
          29.6,
          23.8,
          51.8,
          47.1,
          35.2,
          54.7,
          34.7,
          74.7,
          83.5,
          18.7,
          31,
          34.3,
          81.2,
          51.6,
          40.2,
          30.1,
          49,
          30,
          34,
          36.4,
          44,
          64.3,
          60,
          51.9,
          45.1,
          83.2,
          63.8,
          63.8,
          31,
          26.6,
          62.7,
          40.4,
          44.8,
          37.5,
          34.5,
          92.4,
          37.2,
          46.5,
          51.7,
          26.6,
          39.3,
          51.4,
          39.4,
          22.2,
          22.2,
          84,
          82,
          24.4,
          70.1,
          52.1,
          41.4,
          45.9,
          13.1,
          29.6,
          26.6,
          40.6,
          42.7,
          49.8,
          29.8,
          38.5,
          31.5,
          87.1,
          85.9,
          78.6,
          58.9,
          34.3,
          36.4,
          13.1,
          40.3,
          22.2,
          35.6,
          24.8
         ],
         "xaxis": "x",
         "y": [
          51.5,
          66.5,
          46.2,
          50.6,
          52.2,
          67.7,
          80.9,
          72,
          65.4,
          62.9,
          66.4,
          55.6,
          64.7,
          57.9,
          67.3,
          55.4,
          55.3,
          62.9,
          42.3,
          61.9,
          69.5,
          51.9,
          65.1,
          69,
          59.4,
          53.6,
          48.9,
          57.8,
          52.4,
          77.7,
          63.1,
          49.1,
          49.9,
          75.4,
          58.4,
          67.3,
          55.4,
          50.3,
          39.7,
          65.3,
          62.4,
          61.4,
          27.8,
          68.1,
          73.7,
          76.7,
          47.1,
          63.6,
          61,
          46.9,
          52.5,
          61.8,
          41,
          38.9,
          76.6,
          54.7,
          53.6,
          62.2,
          74.9,
          63.8,
          56.3,
          52.4,
          75.9,
          73.5,
          57.5,
          57.7,
          62.6,
          55.7,
          54,
          56.8,
          52.7,
          60.2,
          90.2,
          65,
          77.1,
          55.2,
          65.8,
          51.1,
          60.76833333333333,
          80.5,
          72.8,
          62.2,
          68.6,
          72.1,
          66.5,
          65.4,
          55.1,
          47.3,
          5.9,
          72.3,
          67,
          60.8,
          62.3,
          57.4,
          70.4,
          51.1,
          53.1,
          49.7,
          60.76833333333333,
          60.76833333333333,
          74.2,
          75.9,
          71,
          71.1,
          56.6,
          51.4,
          74,
          53.2,
          58.1,
          68.6,
          55.7,
          73,
          64.7,
          51.9,
          59.1,
          55.4,
          60.5,
          62.9,
          48.6,
          58.7,
          53.8,
          76.8,
          84.4,
          57.7,
          51.6,
          57.3,
          73,
          61,
          55,
          67.2,
          58.4,
          61.8,
          67.8,
          63.8,
          67.8,
          65.3,
          72.6,
          68.6,
          58.9,
          71.1,
          68.7,
          65.8,
          62.2,
          54,
          60.7,
          56.3,
          63.9,
          61.4,
          47.5,
          89.4,
          65,
          65.5,
          54.6,
          60.76833333333333,
          58.3,
          65.7,
          56.4,
          47.7,
          48.1,
          75.2,
          81.9,
          60.76833333333333,
          77.3,
          55.6,
          60.2,
          68.3,
          44.2,
          50.3,
          57.7,
          57,
          55.4,
          64.6,
          48.4,
          59.7,
          52.3,
          77.6,
          78.9,
          76.8,
          68.6,
          53.3,
          56.4,
          25.9,
          55.3,
          60.76833333333333,
          53.6,
          40.4
         ],
         "yaxis": "y"
        },
        {
         "marker": {
          "symbol": "circle"
         },
         "mode": "markers",
         "name": "Government Integrity",
         "text": [
          "Afghanistan",
          "Albania",
          "Algeria",
          "Angola",
          "Argentina",
          "Armenia",
          "Australia",
          "Austria",
          "Azerbaijan",
          "Bahamas",
          "Bahrain",
          "Bangladesh",
          "Barbados",
          "Belarus",
          "Belgium",
          "Belize",
          "Benin",
          "Bhutan",
          "Bolivia",
          "Bosnia and Herzegovina",
          "Botswana",
          "Brazil",
          "Brunei Darussalam",
          "Bulgaria",
          "Burkina Faso",
          "Burma",
          "Burundi",
          "Cambodia",
          "Cameroon",
          "Canada",
          "Cabo Verde",
          "Central African Republic",
          "Chad",
          "Chile",
          "China",
          "Colombia",
          "Comoros",
          "Congo, Democratic Republic of the Congo",
          "Congo, Republic of",
          "Costa Rica",
          "Cï¿½te d'Ivoire",
          "Croatia",
          "Cuba",
          "Cyprus",
          "Czech Republic",
          "Denmark",
          "Djibouti",
          "Dominica",
          "Dominican Republic",
          "Ecuador",
          "Egypt",
          "El Salvador",
          "Equatorial Guinea",
          "Eritrea",
          "Estonia",
          "Eswatini",
          "Ethiopia",
          "Fiji",
          "Finland",
          "France",
          "Gabon",
          "Gambia",
          "Georgia",
          "Germany",
          "Ghana",
          "Greece",
          "Guatemala",
          "Guinea",
          "Guinea-Bissau",
          "Guyana",
          "Haiti",
          "Honduras",
          "Hong Kong",
          "Hungary",
          "Iceland",
          "India",
          "Indonesia",
          "Iran",
          "Iraq",
          "Ireland",
          "Israel",
          "Italy",
          "Jamaica",
          "Japan",
          "Jordan",
          "Kazakhstan",
          "Kenya",
          "Kiribati",
          "Korea, North ",
          "Korea, South",
          "Kosovo",
          "Kuwait",
          "Kyrgyz Republic",
          "Laos",
          "Latvia",
          "Lebanon",
          "Lesotho",
          "Liberia",
          "Libya",
          "Liechtenstein",
          "Lithuania",
          "Luxembourg",
          "Macau",
          "Macedonia",
          "Madagascar",
          "Malawi",
          "Malaysia",
          "Maldives",
          "Mali",
          "Malta",
          "Mauritania",
          "Mauritius",
          "Mexico",
          "Micronesia",
          "Moldova",
          "Mongolia",
          "Montenegro",
          "Morocco",
          "Mozambique",
          "Namibia",
          "Nepal",
          "Netherlands",
          "New Zealand",
          "Nicaragua",
          "Niger",
          "Nigeria",
          "Norway",
          "Oman",
          "Pakistan",
          "Panama",
          "Papua New Guinea",
          "Paraguay",
          "Peru",
          "Philippines",
          "Poland",
          "Portugal",
          "Qatar",
          "Romania",
          "Russia",
          "Rwanda",
          "Saint Lucia",
          "Saint Vincent and the Grenadines",
          "Samoa",
          "Sï¿½o Tomï¿½ and Prï¿½ncipe",
          "Saudi Arabia",
          "Senegal",
          "Serbia",
          "Seychelles",
          "Sierra Leone",
          "Singapore",
          "Slovakia",
          "Slovenia",
          "Solomon Islands",
          "Somalia",
          "South Africa",
          "Spain",
          "Sri Lanka",
          "Sudan",
          "Suriname",
          "Sweden",
          "Switzerland",
          "Syria",
          "Taiwan ",
          "Tajikistan",
          "Tanzania",
          "Thailand",
          "Timor-Leste",
          "Togo",
          "Tonga",
          "Trinidad and Tobago",
          "Tunisia",
          "Turkey",
          "Turkmenistan",
          "Uganda",
          "Ukraine",
          "United Arab Emirates",
          "United Kingdom",
          "United States",
          "Uruguay",
          "Uzbekistan",
          "Vanuatu",
          "Venezuela",
          "Vietnam",
          "Yemen",
          "Zambia",
          "Zimbabwe"
         ],
         "type": "scatter",
         "x": [
          25.2,
          40.4,
          28.9,
          20.5,
          33.5,
          38.6,
          79.9,
          77.4,
          44.7,
          43.7,
          53.6,
          24.4,
          53.8,
          37.7,
          72.5,
          27.2,
          28.1,
          54.5,
          19.7,
          30.2,
          52.4,
          28.1,
          43.7,
          35.1,
          36.6,
          30.6,
          26.2,
          16.7,
          25.5,
          84.6,
          43.7,
          23.2,
          23.2,
          62.3,
          49.1,
          33.5,
          24.4,
          26.2,
          25.3,
          54.5,
          38.1,
          38.6,
          37.7,
          43.7,
          52.1,
          85.8,
          28.1,
          54.5,
          23.2,
          25.3,
          29.2,
          23.4,
          15.8,
          19.7,
          73.1,
          35,
          35.1,
          23.4,
          92.5,
          67.9,
          35.5,
          41.2,
          58.5,
          81.3,
          35.5,
          37.7,
          26.4,
          25.5,
          25.3,
          33.2,
          20.3,
          25.3,
          83.8,
          35.3,
          83.8,
          47.8,
          39.5,
          35,
          20.3,
          78,
          67.9,
          43.7,
          45,
          78,
          50.3,
          40.3,
          32.1,
          35.1,
          24.4,
          50.5,
          44.7,
          35.3,
          27.2,
          33.5,
          35.5,
          18.2,
          30.9,
          24.2,
          15.8,
          41.47027027027027,
          47.8,
          85.8,
          33.2,
          44.7,
          14.3,
          25.2,
          55.4,
          33.5,
          29.6,
          50.3,
          30.6,
          40.3,
          26.3,
          36.6,
          25.4,
          29.8,
          39.5,
          39.2,
          28.1,
          49.8,
          26.2,
          89.1,
          96.7,
          20.3,
          34.1,
          20.5,
          92.3,
          53.8,
          30.6,
          34.1,
          37.2,
          25.5,
          31.8,
          30.9,
          49.8,
          59.5,
          77.4,
          39.8,
          36.6,
          67.9,
          50.3,
          50.5,
          37.7,
          35.5,
          49.8,
          40.3,
          37.2,
          39.2,
          26.2,
          95.1,
          37.7,
          53.6,
          33.5,
          7.9,
          39.7,
          51.9,
          28.9,
          26.2,
          35.5,
          88,
          88,
          20.3,
          69.2,
          36.4,
          33.2,
          36.4,
          32.1,
          28.1,
          38.1,
          32.9,
          36.6,
          41.2,
          20.3,
          25.4,
          29.6,
          78.8,
          83.8,
          77.4,
          69.2,
          25.2,
          51.9,
          7.9,
          34,
          20.3,
          32.3,
          15.8
         ],
         "xaxis": "x",
         "y": [
          51.5,
          66.5,
          46.2,
          50.6,
          52.2,
          67.7,
          80.9,
          72,
          65.4,
          62.9,
          66.4,
          55.6,
          64.7,
          57.9,
          67.3,
          55.4,
          55.3,
          62.9,
          42.3,
          61.9,
          69.5,
          51.9,
          65.1,
          69,
          59.4,
          53.6,
          48.9,
          57.8,
          52.4,
          77.7,
          63.1,
          49.1,
          49.9,
          75.4,
          58.4,
          67.3,
          55.4,
          50.3,
          39.7,
          65.3,
          62.4,
          61.4,
          27.8,
          68.1,
          73.7,
          76.7,
          47.1,
          63.6,
          61,
          46.9,
          52.5,
          61.8,
          41,
          38.9,
          76.6,
          54.7,
          53.6,
          62.2,
          74.9,
          63.8,
          56.3,
          52.4,
          75.9,
          73.5,
          57.5,
          57.7,
          62.6,
          55.7,
          54,
          56.8,
          52.7,
          60.2,
          90.2,
          65,
          77.1,
          55.2,
          65.8,
          51.1,
          60.76833333333333,
          80.5,
          72.8,
          62.2,
          68.6,
          72.1,
          66.5,
          65.4,
          55.1,
          47.3,
          5.9,
          72.3,
          67,
          60.8,
          62.3,
          57.4,
          70.4,
          51.1,
          53.1,
          49.7,
          60.76833333333333,
          60.76833333333333,
          74.2,
          75.9,
          71,
          71.1,
          56.6,
          51.4,
          74,
          53.2,
          58.1,
          68.6,
          55.7,
          73,
          64.7,
          51.9,
          59.1,
          55.4,
          60.5,
          62.9,
          48.6,
          58.7,
          53.8,
          76.8,
          84.4,
          57.7,
          51.6,
          57.3,
          73,
          61,
          55,
          67.2,
          58.4,
          61.8,
          67.8,
          63.8,
          67.8,
          65.3,
          72.6,
          68.6,
          58.9,
          71.1,
          68.7,
          65.8,
          62.2,
          54,
          60.7,
          56.3,
          63.9,
          61.4,
          47.5,
          89.4,
          65,
          65.5,
          54.6,
          60.76833333333333,
          58.3,
          65.7,
          56.4,
          47.7,
          48.1,
          75.2,
          81.9,
          60.76833333333333,
          77.3,
          55.6,
          60.2,
          68.3,
          44.2,
          50.3,
          57.7,
          57,
          55.4,
          64.6,
          48.4,
          59.7,
          52.3,
          77.6,
          78.9,
          76.8,
          68.6,
          53.3,
          56.4,
          25.9,
          55.3,
          60.76833333333333,
          53.6,
          40.4
         ],
         "yaxis": "y"
        },
        {
         "marker": {
          "symbol": "cross"
         },
         "mode": "markers",
         "name": "Tax Burden",
         "text": [
          "Afghanistan",
          "Albania",
          "Algeria",
          "Angola",
          "Argentina",
          "Armenia",
          "Australia",
          "Austria",
          "Azerbaijan",
          "Bahamas",
          "Bahrain",
          "Bangladesh",
          "Barbados",
          "Belarus",
          "Belgium",
          "Belize",
          "Benin",
          "Bhutan",
          "Bolivia",
          "Bosnia and Herzegovina",
          "Botswana",
          "Brazil",
          "Brunei Darussalam",
          "Bulgaria",
          "Burkina Faso",
          "Burma",
          "Burundi",
          "Cambodia",
          "Cameroon",
          "Canada",
          "Cabo Verde",
          "Central African Republic",
          "Chad",
          "Chile",
          "China",
          "Colombia",
          "Comoros",
          "Congo, Democratic Republic of the Congo",
          "Congo, Republic of",
          "Costa Rica",
          "Cï¿½te d'Ivoire",
          "Croatia",
          "Cuba",
          "Cyprus",
          "Czech Republic",
          "Denmark",
          "Djibouti",
          "Dominica",
          "Dominican Republic",
          "Ecuador",
          "Egypt",
          "El Salvador",
          "Equatorial Guinea",
          "Eritrea",
          "Estonia",
          "Eswatini",
          "Ethiopia",
          "Fiji",
          "Finland",
          "France",
          "Gabon",
          "Gambia",
          "Georgia",
          "Germany",
          "Ghana",
          "Greece",
          "Guatemala",
          "Guinea",
          "Guinea-Bissau",
          "Guyana",
          "Haiti",
          "Honduras",
          "Hong Kong",
          "Hungary",
          "Iceland",
          "India",
          "Indonesia",
          "Iran",
          "Iraq",
          "Ireland",
          "Israel",
          "Italy",
          "Jamaica",
          "Japan",
          "Jordan",
          "Kazakhstan",
          "Kenya",
          "Kiribati",
          "Korea, North ",
          "Korea, South",
          "Kosovo",
          "Kuwait",
          "Kyrgyz Republic",
          "Laos",
          "Latvia",
          "Lebanon",
          "Lesotho",
          "Liberia",
          "Libya",
          "Liechtenstein",
          "Lithuania",
          "Luxembourg",
          "Macau",
          "Macedonia",
          "Madagascar",
          "Malawi",
          "Malaysia",
          "Maldives",
          "Mali",
          "Malta",
          "Mauritania",
          "Mauritius",
          "Mexico",
          "Micronesia",
          "Moldova",
          "Mongolia",
          "Montenegro",
          "Morocco",
          "Mozambique",
          "Namibia",
          "Nepal",
          "Netherlands",
          "New Zealand",
          "Nicaragua",
          "Niger",
          "Nigeria",
          "Norway",
          "Oman",
          "Pakistan",
          "Panama",
          "Papua New Guinea",
          "Paraguay",
          "Peru",
          "Philippines",
          "Poland",
          "Portugal",
          "Qatar",
          "Romania",
          "Russia",
          "Rwanda",
          "Saint Lucia",
          "Saint Vincent and the Grenadines",
          "Samoa",
          "Sï¿½o Tomï¿½ and Prï¿½ncipe",
          "Saudi Arabia",
          "Senegal",
          "Serbia",
          "Seychelles",
          "Sierra Leone",
          "Singapore",
          "Slovakia",
          "Slovenia",
          "Solomon Islands",
          "Somalia",
          "South Africa",
          "Spain",
          "Sri Lanka",
          "Sudan",
          "Suriname",
          "Sweden",
          "Switzerland",
          "Syria",
          "Taiwan ",
          "Tajikistan",
          "Tanzania",
          "Thailand",
          "Timor-Leste",
          "Togo",
          "Tonga",
          "Trinidad and Tobago",
          "Tunisia",
          "Turkey",
          "Turkmenistan",
          "Uganda",
          "Ukraine",
          "United Arab Emirates",
          "United Kingdom",
          "United States",
          "Uruguay",
          "Uzbekistan",
          "Vanuatu",
          "Venezuela",
          "Vietnam",
          "Yemen",
          "Zambia",
          "Zimbabwe"
         ],
         "type": "scatter",
         "x": [
          91.7,
          86.3,
          76.4,
          83.9,
          69.3,
          84.7,
          62.8,
          50.5,
          87.5,
          97.3,
          99.7,
          72.7,
          70.1,
          89.4,
          47.1,
          79.9,
          69.3,
          83,
          82.4,
          84.3,
          82.7,
          70.5,
          90.7,
          90.2,
          81.9,
          86.6,
          74,
          89.7,
          74.4,
          76.8,
          76.4,
          65.2,
          46.1,
          77.3,
          70.4,
          74.3,
          63.9,
          73.8,
          59.5,
          79.2,
          77.5,
          66.4,
          48.8,
          74.9,
          82.6,
          42,
          76.2,
          72.1,
          84.6,
          77,
          85.2,
          78.1,
          71.3,
          81.4,
          79.9,
          74.8,
          77.2,
          81.1,
          66.8,
          48.4,
          75.8,
          74.3,
          87.1,
          60.8,
          78.8,
          59.1,
          79.2,
          69.4,
          88.8,
          67,
          79.9,
          82.8,
          93.1,
          78.6,
          72.7,
          79.4,
          83.7,
          80.9,
          77.21277777777779,
          76.3,
          61.9,
          55.6,
          80.2,
          68.2,
          91.4,
          93.4,
          79.5,
          73,
          0,
          64.2,
          92.5,
          97.7,
          94.1,
          86.9,
          77,
          91.8,
          59.4,
          82.7,
          77.21277777777779,
          77.21277777777779,
          86.4,
          65.4,
          77.1,
          91.8,
          91,
          79.8,
          85.6,
          95.8,
          68.7,
          64.2,
          78,
          92.1,
          75.8,
          92.8,
          85.4,
          88.5,
          85.3,
          72.2,
          75.5,
          66.5,
          84,
          51.6,
          71,
          76.9,
          76.9,
          85,
          57.4,
          97.8,
          80.5,
          85,
          71.8,
          96.3,
          80.6,
          76.9,
          74.9,
          59.9,
          99.7,
          89.7,
          89.4,
          79.8,
          76.2,
          71.2,
          79.9,
          87.2,
          99.8,
          70.8,
          82,
          76.3,
          87.3,
          90.4,
          78.6,
          58.4,
          65.5,
          77.21277777777779,
          62.1,
          62.3,
          84.9,
          86.3,
          70.9,
          43.2,
          70.5,
          77.21277777777779,
          75,
          91.8,
          80.5,
          81.3,
          96.3,
          67.8,
          85.5,
          82.3,
          74.4,
          76.4,
          95.9,
          73.3,
          81.8,
          99.2,
          64.7,
          75.1,
          77.2,
          91.3,
          97.3,
          74.7,
          79.7,
          77.21277777777779,
          72.3,
          62.3
         ],
         "xaxis": "x",
         "y": [
          51.5,
          66.5,
          46.2,
          50.6,
          52.2,
          67.7,
          80.9,
          72,
          65.4,
          62.9,
          66.4,
          55.6,
          64.7,
          57.9,
          67.3,
          55.4,
          55.3,
          62.9,
          42.3,
          61.9,
          69.5,
          51.9,
          65.1,
          69,
          59.4,
          53.6,
          48.9,
          57.8,
          52.4,
          77.7,
          63.1,
          49.1,
          49.9,
          75.4,
          58.4,
          67.3,
          55.4,
          50.3,
          39.7,
          65.3,
          62.4,
          61.4,
          27.8,
          68.1,
          73.7,
          76.7,
          47.1,
          63.6,
          61,
          46.9,
          52.5,
          61.8,
          41,
          38.9,
          76.6,
          54.7,
          53.6,
          62.2,
          74.9,
          63.8,
          56.3,
          52.4,
          75.9,
          73.5,
          57.5,
          57.7,
          62.6,
          55.7,
          54,
          56.8,
          52.7,
          60.2,
          90.2,
          65,
          77.1,
          55.2,
          65.8,
          51.1,
          60.76833333333333,
          80.5,
          72.8,
          62.2,
          68.6,
          72.1,
          66.5,
          65.4,
          55.1,
          47.3,
          5.9,
          72.3,
          67,
          60.8,
          62.3,
          57.4,
          70.4,
          51.1,
          53.1,
          49.7,
          60.76833333333333,
          60.76833333333333,
          74.2,
          75.9,
          71,
          71.1,
          56.6,
          51.4,
          74,
          53.2,
          58.1,
          68.6,
          55.7,
          73,
          64.7,
          51.9,
          59.1,
          55.4,
          60.5,
          62.9,
          48.6,
          58.7,
          53.8,
          76.8,
          84.4,
          57.7,
          51.6,
          57.3,
          73,
          61,
          55,
          67.2,
          58.4,
          61.8,
          67.8,
          63.8,
          67.8,
          65.3,
          72.6,
          68.6,
          58.9,
          71.1,
          68.7,
          65.8,
          62.2,
          54,
          60.7,
          56.3,
          63.9,
          61.4,
          47.5,
          89.4,
          65,
          65.5,
          54.6,
          60.76833333333333,
          58.3,
          65.7,
          56.4,
          47.7,
          48.1,
          75.2,
          81.9,
          60.76833333333333,
          77.3,
          55.6,
          60.2,
          68.3,
          44.2,
          50.3,
          57.7,
          57,
          55.4,
          64.6,
          48.4,
          59.7,
          52.3,
          77.6,
          78.9,
          76.8,
          68.6,
          53.3,
          56.4,
          25.9,
          55.3,
          60.76833333333333,
          53.6,
          40.4
         ],
         "yaxis": "y"
        },
        {
         "marker": {
          "symbol": "x"
         },
         "mode": "markers",
         "name": "Business Freedom",
         "text": [
          "Afghanistan",
          "Albania",
          "Algeria",
          "Angola",
          "Argentina",
          "Armenia",
          "Australia",
          "Austria",
          "Azerbaijan",
          "Bahamas",
          "Bahrain",
          "Bangladesh",
          "Barbados",
          "Belarus",
          "Belgium",
          "Belize",
          "Benin",
          "Bhutan",
          "Bolivia",
          "Bosnia and Herzegovina",
          "Botswana",
          "Brazil",
          "Brunei Darussalam",
          "Bulgaria",
          "Burkina Faso",
          "Burma",
          "Burundi",
          "Cambodia",
          "Cameroon",
          "Canada",
          "Cabo Verde",
          "Central African Republic",
          "Chad",
          "Chile",
          "China",
          "Colombia",
          "Comoros",
          "Congo, Democratic Republic of the Congo",
          "Congo, Republic of",
          "Costa Rica",
          "Cï¿½te d'Ivoire",
          "Croatia",
          "Cuba",
          "Cyprus",
          "Czech Republic",
          "Denmark",
          "Djibouti",
          "Dominica",
          "Dominican Republic",
          "Ecuador",
          "Egypt",
          "El Salvador",
          "Equatorial Guinea",
          "Eritrea",
          "Estonia",
          "Eswatini",
          "Ethiopia",
          "Fiji",
          "Finland",
          "France",
          "Gabon",
          "Gambia",
          "Georgia",
          "Germany",
          "Ghana",
          "Greece",
          "Guatemala",
          "Guinea",
          "Guinea-Bissau",
          "Guyana",
          "Haiti",
          "Honduras",
          "Hong Kong",
          "Hungary",
          "Iceland",
          "India",
          "Indonesia",
          "Iran",
          "Iraq",
          "Ireland",
          "Israel",
          "Italy",
          "Jamaica",
          "Japan",
          "Jordan",
          "Kazakhstan",
          "Kenya",
          "Kiribati",
          "Korea, North ",
          "Korea, South",
          "Kosovo",
          "Kuwait",
          "Kyrgyz Republic",
          "Laos",
          "Latvia",
          "Lebanon",
          "Lesotho",
          "Liberia",
          "Libya",
          "Liechtenstein",
          "Lithuania",
          "Luxembourg",
          "Macau",
          "Macedonia",
          "Madagascar",
          "Malawi",
          "Malaysia",
          "Maldives",
          "Mali",
          "Malta",
          "Mauritania",
          "Mauritius",
          "Mexico",
          "Micronesia",
          "Moldova",
          "Mongolia",
          "Montenegro",
          "Morocco",
          "Mozambique",
          "Namibia",
          "Nepal",
          "Netherlands",
          "New Zealand",
          "Nicaragua",
          "Niger",
          "Nigeria",
          "Norway",
          "Oman",
          "Pakistan",
          "Panama",
          "Papua New Guinea",
          "Paraguay",
          "Peru",
          "Philippines",
          "Poland",
          "Portugal",
          "Qatar",
          "Romania",
          "Russia",
          "Rwanda",
          "Saint Lucia",
          "Saint Vincent and the Grenadines",
          "Samoa",
          "Sï¿½o Tomï¿½ and Prï¿½ncipe",
          "Saudi Arabia",
          "Senegal",
          "Serbia",
          "Seychelles",
          "Sierra Leone",
          "Singapore",
          "Slovakia",
          "Slovenia",
          "Solomon Islands",
          "Somalia",
          "South Africa",
          "Spain",
          "Sri Lanka",
          "Sudan",
          "Suriname",
          "Sweden",
          "Switzerland",
          "Syria",
          "Taiwan ",
          "Tajikistan",
          "Tanzania",
          "Thailand",
          "Timor-Leste",
          "Togo",
          "Tonga",
          "Trinidad and Tobago",
          "Tunisia",
          "Turkey",
          "Turkmenistan",
          "Uganda",
          "Ukraine",
          "United Arab Emirates",
          "United Kingdom",
          "United States",
          "Uruguay",
          "Uzbekistan",
          "Vanuatu",
          "Venezuela",
          "Vietnam",
          "Yemen",
          "Zambia",
          "Zimbabwe"
         ],
         "type": "scatter",
         "x": [
          49.2,
          69.3,
          61.6,
          55.7,
          56.4,
          78.3,
          88.3,
          74.9,
          69.5,
          68.5,
          71.4,
          50.9,
          69.8,
          75,
          78.1,
          61.8,
          62.4,
          68.7,
          58.8,
          49.7,
          68.7,
          57.9,
          80.2,
          62.7,
          51.6,
          52.8,
          50.3,
          29.9,
          44.4,
          81.9,
          65.2,
          24.2,
          28.1,
          76.6,
          56.2,
          71.4,
          57.2,
          53.2,
          38.2,
          67.2,
          61,
          60.7,
          20,
          76.9,
          72.4,
          90.7,
          54.7,
          70.7,
          51.9,
          54.1,
          65.9,
          57.2,
          37.6,
          17.7,
          75.3,
          59.2,
          48.6,
          63,
          89.4,
          81.2,
          52.1,
          54,
          85.8,
          83.3,
          56.5,
          74.1,
          53.6,
          54.6,
          35.9,
          59.3,
          36.2,
          56.9,
          96.4,
          61.1,
          88.4,
          57.1,
          69.3,
          62.2,
          54.4,
          83.1,
          71.4,
          71.7,
          78,
          80.5,
          61.8,
          73.9,
          55.8,
          41.9,
          5,
          91.3,
          73.8,
          57.4,
          73.4,
          60.1,
          77.5,
          47.9,
          53.3,
          50.6,
          40.2,
          63.51405405405406,
          75.2,
          68.8,
          60,
          80.2,
          47.3,
          41.7,
          83.9,
          78.3,
          53.8,
          67.1,
          61.9,
          79.8,
          67.8,
          57.4,
          67,
          66,
          73.3,
          70.3,
          57.1,
          65.8,
          61.8,
          81.4,
          91,
          56,
          56.3,
          51.2,
          89.4,
          75.2,
          56.1,
          73.6,
          62.2,
          61.5,
          67.8,
          61.3,
          65.4,
          79.7,
          71.2,
          63.1,
          78.4,
          56.2,
          76.3,
          76.5,
          77,
          65.1,
          72.3,
          53.3,
          72.9,
          63.3,
          44.9,
          90.8,
          61.3,
          79.3,
          68.6,
          31.7,
          64.3,
          66.8,
          75.1,
          52.1,
          48.3,
          88,
          75.4,
          49.6,
          93.2,
          67.3,
          46.6,
          82.5,
          60.5,
          50.4,
          75.3,
          67.8,
          76.7,
          66,
          30,
          46.3,
          66.1,
          79.9,
          92.9,
          83.8,
          74.3,
          72.5,
          52.4,
          33.9,
          63.5,
          45.1,
          71.1,
          33.4
         ],
         "xaxis": "x2",
         "y": [
          51.5,
          66.5,
          46.2,
          50.6,
          52.2,
          67.7,
          80.9,
          72,
          65.4,
          62.9,
          66.4,
          55.6,
          64.7,
          57.9,
          67.3,
          55.4,
          55.3,
          62.9,
          42.3,
          61.9,
          69.5,
          51.9,
          65.1,
          69,
          59.4,
          53.6,
          48.9,
          57.8,
          52.4,
          77.7,
          63.1,
          49.1,
          49.9,
          75.4,
          58.4,
          67.3,
          55.4,
          50.3,
          39.7,
          65.3,
          62.4,
          61.4,
          27.8,
          68.1,
          73.7,
          76.7,
          47.1,
          63.6,
          61,
          46.9,
          52.5,
          61.8,
          41,
          38.9,
          76.6,
          54.7,
          53.6,
          62.2,
          74.9,
          63.8,
          56.3,
          52.4,
          75.9,
          73.5,
          57.5,
          57.7,
          62.6,
          55.7,
          54,
          56.8,
          52.7,
          60.2,
          90.2,
          65,
          77.1,
          55.2,
          65.8,
          51.1,
          60.76833333333333,
          80.5,
          72.8,
          62.2,
          68.6,
          72.1,
          66.5,
          65.4,
          55.1,
          47.3,
          5.9,
          72.3,
          67,
          60.8,
          62.3,
          57.4,
          70.4,
          51.1,
          53.1,
          49.7,
          60.76833333333333,
          60.76833333333333,
          74.2,
          75.9,
          71,
          71.1,
          56.6,
          51.4,
          74,
          53.2,
          58.1,
          68.6,
          55.7,
          73,
          64.7,
          51.9,
          59.1,
          55.4,
          60.5,
          62.9,
          48.6,
          58.7,
          53.8,
          76.8,
          84.4,
          57.7,
          51.6,
          57.3,
          73,
          61,
          55,
          67.2,
          58.4,
          61.8,
          67.8,
          63.8,
          67.8,
          65.3,
          72.6,
          68.6,
          58.9,
          71.1,
          68.7,
          65.8,
          62.2,
          54,
          60.7,
          56.3,
          63.9,
          61.4,
          47.5,
          89.4,
          65,
          65.5,
          54.6,
          60.76833333333333,
          58.3,
          65.7,
          56.4,
          47.7,
          48.1,
          75.2,
          81.9,
          60.76833333333333,
          77.3,
          55.6,
          60.2,
          68.3,
          44.2,
          50.3,
          57.7,
          57,
          55.4,
          64.6,
          48.4,
          59.7,
          52.3,
          77.6,
          78.9,
          76.8,
          68.6,
          53.3,
          56.4,
          25.9,
          55.3,
          60.76833333333333,
          53.6,
          40.4
         ],
         "yaxis": "y2"
        },
        {
         "marker": {
          "symbol": "pentagon"
         },
         "mode": "markers",
         "name": "Trade Freedom",
         "text": [
          "Afghanistan",
          "Albania",
          "Algeria",
          "Angola",
          "Argentina",
          "Armenia",
          "Australia",
          "Austria",
          "Azerbaijan",
          "Bahamas",
          "Bahrain",
          "Bangladesh",
          "Barbados",
          "Belarus",
          "Belgium",
          "Belize",
          "Benin",
          "Bhutan",
          "Bolivia",
          "Bosnia and Herzegovina",
          "Botswana",
          "Brazil",
          "Brunei Darussalam",
          "Bulgaria",
          "Burkina Faso",
          "Burma",
          "Burundi",
          "Cambodia",
          "Cameroon",
          "Canada",
          "Cabo Verde",
          "Central African Republic",
          "Chad",
          "Chile",
          "China",
          "Colombia",
          "Comoros",
          "Congo, Democratic Republic of the Congo",
          "Congo, Republic of",
          "Costa Rica",
          "Cï¿½te d'Ivoire",
          "Croatia",
          "Cuba",
          "Cyprus",
          "Czech Republic",
          "Denmark",
          "Djibouti",
          "Dominica",
          "Dominican Republic",
          "Ecuador",
          "Egypt",
          "El Salvador",
          "Equatorial Guinea",
          "Eritrea",
          "Estonia",
          "Eswatini",
          "Ethiopia",
          "Fiji",
          "Finland",
          "France",
          "Gabon",
          "Gambia",
          "Georgia",
          "Germany",
          "Ghana",
          "Greece",
          "Guatemala",
          "Guinea",
          "Guinea-Bissau",
          "Guyana",
          "Haiti",
          "Honduras",
          "Hong Kong",
          "Hungary",
          "Iceland",
          "India",
          "Indonesia",
          "Iran",
          "Iraq",
          "Ireland",
          "Israel",
          "Italy",
          "Jamaica",
          "Japan",
          "Jordan",
          "Kazakhstan",
          "Kenya",
          "Kiribati",
          "Korea, North ",
          "Korea, South",
          "Kosovo",
          "Kuwait",
          "Kyrgyz Republic",
          "Laos",
          "Latvia",
          "Lebanon",
          "Lesotho",
          "Liberia",
          "Libya",
          "Liechtenstein",
          "Lithuania",
          "Luxembourg",
          "Macau",
          "Macedonia",
          "Madagascar",
          "Malawi",
          "Malaysia",
          "Maldives",
          "Mali",
          "Malta",
          "Mauritania",
          "Mauritius",
          "Mexico",
          "Micronesia",
          "Moldova",
          "Mongolia",
          "Montenegro",
          "Morocco",
          "Mozambique",
          "Namibia",
          "Nepal",
          "Netherlands",
          "New Zealand",
          "Nicaragua",
          "Niger",
          "Nigeria",
          "Norway",
          "Oman",
          "Pakistan",
          "Panama",
          "Papua New Guinea",
          "Paraguay",
          "Peru",
          "Philippines",
          "Poland",
          "Portugal",
          "Qatar",
          "Romania",
          "Russia",
          "Rwanda",
          "Saint Lucia",
          "Saint Vincent and the Grenadines",
          "Samoa",
          "Sï¿½o Tomï¿½ and Prï¿½ncipe",
          "Saudi Arabia",
          "Senegal",
          "Serbia",
          "Seychelles",
          "Sierra Leone",
          "Singapore",
          "Slovakia",
          "Slovenia",
          "Solomon Islands",
          "Somalia",
          "South Africa",
          "Spain",
          "Sri Lanka",
          "Sudan",
          "Suriname",
          "Sweden",
          "Switzerland",
          "Syria",
          "Taiwan ",
          "Tajikistan",
          "Tanzania",
          "Thailand",
          "Timor-Leste",
          "Togo",
          "Tonga",
          "Trinidad and Tobago",
          "Tunisia",
          "Turkey",
          "Turkmenistan",
          "Uganda",
          "Ukraine",
          "United Arab Emirates",
          "United Kingdom",
          "United States",
          "Uruguay",
          "Uzbekistan",
          "Vanuatu",
          "Venezuela",
          "Vietnam",
          "Yemen",
          "Zambia",
          "Zimbabwe"
         ],
         "type": "scatter",
         "x": [
          66,
          87.8,
          67.4,
          61.2,
          70,
          80.8,
          87.6,
          86,
          74.6,
          47.8,
          83.8,
          63.6,
          56.6,
          76.4,
          86,
          64,
          61.8,
          79.4,
          70.4,
          82.6,
          83.8,
          69,
          84,
          86,
          65.2,
          70.8,
          68.2,
          65.4,
          53.4,
          86.8,
          68.2,
          51,
          47.2,
          88.8,
          73,
          76,
          70,
          62.6,
          56.8,
          81.4,
          73.6,
          86,
          64,
          86,
          86,
          86,
          50.4,
          68.2,
          75.8,
          66.4,
          71.8,
          81.4,
          48.8,
          69.2,
          86,
          87.6,
          60.8,
          62.8,
          86,
          81,
          51.2,
          61.6,
          88.6,
          86,
          63.4,
          81,
          82.2,
          63.2,
          55.6,
          66.8,
          72,
          79.4,
          95,
          86,
          87,
          72.4,
          79.8,
          54.6,
          74.26098901098901,
          86,
          84.4,
          86,
          68.4,
          80,
          81.4,
          80,
          60.4,
          53.2,
          0,
          80.4,
          70.8,
          79,
          78.6,
          81.8,
          86,
          79,
          81,
          60.1,
          74.26098901098901,
          74.26098901098901,
          86,
          86,
          90,
          82,
          69.2,
          75.4,
          82,
          62.6,
          69.8,
          86,
          62.6,
          88.4,
          81.4,
          80.6,
          78,
          75.8,
          84.7,
          77.4,
          78,
          83,
          60.4,
          86,
          92.4,
          76,
          65.8,
          62.4,
          83.2,
          87,
          64.8,
          79.2,
          80.9,
          76.6,
          86.4,
          78.2,
          86,
          86,
          83.2,
          86,
          77.8,
          70.4,
          73.2,
          66.6,
          63.8,
          64.2,
          76,
          72,
          77,
          81.4,
          69.4,
          94.8,
          86,
          86,
          56.8,
          74.26098901098901,
          76,
          86,
          76.2,
          45,
          64.6,
          86,
          87.4,
          47,
          87,
          73.6,
          67.8,
          83,
          75,
          69.4,
          73.6,
          68.4,
          71.4,
          79.6,
          76,
          75.4,
          75,
          84.4,
          86,
          86.6,
          78.6,
          62.6,
          64.4,
          60,
          79.2,
          71.4,
          72.6,
          70
         ],
         "xaxis": "x2",
         "y": [
          51.5,
          66.5,
          46.2,
          50.6,
          52.2,
          67.7,
          80.9,
          72,
          65.4,
          62.9,
          66.4,
          55.6,
          64.7,
          57.9,
          67.3,
          55.4,
          55.3,
          62.9,
          42.3,
          61.9,
          69.5,
          51.9,
          65.1,
          69,
          59.4,
          53.6,
          48.9,
          57.8,
          52.4,
          77.7,
          63.1,
          49.1,
          49.9,
          75.4,
          58.4,
          67.3,
          55.4,
          50.3,
          39.7,
          65.3,
          62.4,
          61.4,
          27.8,
          68.1,
          73.7,
          76.7,
          47.1,
          63.6,
          61,
          46.9,
          52.5,
          61.8,
          41,
          38.9,
          76.6,
          54.7,
          53.6,
          62.2,
          74.9,
          63.8,
          56.3,
          52.4,
          75.9,
          73.5,
          57.5,
          57.7,
          62.6,
          55.7,
          54,
          56.8,
          52.7,
          60.2,
          90.2,
          65,
          77.1,
          55.2,
          65.8,
          51.1,
          60.76833333333333,
          80.5,
          72.8,
          62.2,
          68.6,
          72.1,
          66.5,
          65.4,
          55.1,
          47.3,
          5.9,
          72.3,
          67,
          60.8,
          62.3,
          57.4,
          70.4,
          51.1,
          53.1,
          49.7,
          60.76833333333333,
          60.76833333333333,
          74.2,
          75.9,
          71,
          71.1,
          56.6,
          51.4,
          74,
          53.2,
          58.1,
          68.6,
          55.7,
          73,
          64.7,
          51.9,
          59.1,
          55.4,
          60.5,
          62.9,
          48.6,
          58.7,
          53.8,
          76.8,
          84.4,
          57.7,
          51.6,
          57.3,
          73,
          61,
          55,
          67.2,
          58.4,
          61.8,
          67.8,
          63.8,
          67.8,
          65.3,
          72.6,
          68.6,
          58.9,
          71.1,
          68.7,
          65.8,
          62.2,
          54,
          60.7,
          56.3,
          63.9,
          61.4,
          47.5,
          89.4,
          65,
          65.5,
          54.6,
          60.76833333333333,
          58.3,
          65.7,
          56.4,
          47.7,
          48.1,
          75.2,
          81.9,
          60.76833333333333,
          77.3,
          55.6,
          60.2,
          68.3,
          44.2,
          50.3,
          57.7,
          57,
          55.4,
          64.6,
          48.4,
          59.7,
          52.3,
          77.6,
          78.9,
          76.8,
          68.6,
          53.3,
          56.4,
          25.9,
          55.3,
          60.76833333333333,
          53.6,
          40.4
         ],
         "yaxis": "y2"
        },
        {
         "marker": {
          "symbol": "star"
         },
         "mode": "markers",
         "name": "Investment Freedom",
         "text": [
          "Afghanistan",
          "Albania",
          "Algeria",
          "Angola",
          "Argentina",
          "Armenia",
          "Australia",
          "Austria",
          "Azerbaijan",
          "Bahamas",
          "Bahrain",
          "Bangladesh",
          "Barbados",
          "Belarus",
          "Belgium",
          "Belize",
          "Benin",
          "Bhutan",
          "Bolivia",
          "Bosnia and Herzegovina",
          "Botswana",
          "Brazil",
          "Brunei Darussalam",
          "Bulgaria",
          "Burkina Faso",
          "Burma",
          "Burundi",
          "Cambodia",
          "Cameroon",
          "Canada",
          "Cabo Verde",
          "Central African Republic",
          "Chad",
          "Chile",
          "China",
          "Colombia",
          "Comoros",
          "Congo, Democratic Republic of the Congo",
          "Congo, Republic of",
          "Costa Rica",
          "Cï¿½te d'Ivoire",
          "Croatia",
          "Cuba",
          "Cyprus",
          "Czech Republic",
          "Denmark",
          "Djibouti",
          "Dominica",
          "Dominican Republic",
          "Ecuador",
          "Egypt",
          "El Salvador",
          "Equatorial Guinea",
          "Eritrea",
          "Estonia",
          "Eswatini",
          "Ethiopia",
          "Fiji",
          "Finland",
          "France",
          "Gabon",
          "Gambia",
          "Georgia",
          "Germany",
          "Ghana",
          "Greece",
          "Guatemala",
          "Guinea",
          "Guinea-Bissau",
          "Guyana",
          "Haiti",
          "Honduras",
          "Hong Kong",
          "Hungary",
          "Iceland",
          "India",
          "Indonesia",
          "Iran",
          "Iraq",
          "Ireland",
          "Israel",
          "Italy",
          "Jamaica",
          "Japan",
          "Jordan",
          "Kazakhstan",
          "Kenya",
          "Kiribati",
          "Korea, North ",
          "Korea, South",
          "Kosovo",
          "Kuwait",
          "Kyrgyz Republic",
          "Laos",
          "Latvia",
          "Lebanon",
          "Lesotho",
          "Liberia",
          "Libya",
          "Liechtenstein",
          "Lithuania",
          "Luxembourg",
          "Macau",
          "Macedonia",
          "Madagascar",
          "Malawi",
          "Malaysia",
          "Maldives",
          "Mali",
          "Malta",
          "Mauritania",
          "Mauritius",
          "Mexico",
          "Micronesia",
          "Moldova",
          "Mongolia",
          "Montenegro",
          "Morocco",
          "Mozambique",
          "Namibia",
          "Nepal",
          "Netherlands",
          "New Zealand",
          "Nicaragua",
          "Niger",
          "Nigeria",
          "Norway",
          "Oman",
          "Pakistan",
          "Panama",
          "Papua New Guinea",
          "Paraguay",
          "Peru",
          "Philippines",
          "Poland",
          "Portugal",
          "Qatar",
          "Romania",
          "Russia",
          "Rwanda",
          "Saint Lucia",
          "Saint Vincent and the Grenadines",
          "Samoa",
          "Sï¿½o Tomï¿½ and Prï¿½ncipe",
          "Saudi Arabia",
          "Senegal",
          "Serbia",
          "Seychelles",
          "Sierra Leone",
          "Singapore",
          "Slovakia",
          "Slovenia",
          "Solomon Islands",
          "Somalia",
          "South Africa",
          "Spain",
          "Sri Lanka",
          "Sudan",
          "Suriname",
          "Sweden",
          "Switzerland",
          "Syria",
          "Taiwan ",
          "Tajikistan",
          "Tanzania",
          "Thailand",
          "Timor-Leste",
          "Togo",
          "Tonga",
          "Trinidad and Tobago",
          "Tunisia",
          "Turkey",
          "Turkmenistan",
          "Uganda",
          "Ukraine",
          "United Arab Emirates",
          "United Kingdom",
          "United States",
          "Uruguay",
          "Uzbekistan",
          "Vanuatu",
          "Venezuela",
          "Vietnam",
          "Yemen",
          "Zambia",
          "Zimbabwe"
         ],
         "type": "scatter",
         "x": [
          10,
          70,
          30,
          30,
          55,
          75,
          80,
          90,
          60,
          50,
          75,
          45,
          70,
          30,
          85,
          55,
          70,
          20,
          15,
          65,
          65,
          50,
          65,
          70,
          65,
          30,
          50,
          60,
          30,
          80,
          80,
          45,
          60,
          85,
          25,
          80,
          45,
          30,
          45,
          70,
          75,
          75,
          10,
          75,
          80,
          90,
          80,
          70,
          70,
          35,
          60,
          75,
          40,
          0,
          90,
          50,
          35,
          55,
          85,
          75,
          60,
          65,
          80,
          80,
          70,
          55,
          70,
          50,
          30,
          55,
          45,
          65,
          90,
          80,
          85,
          40,
          45,
          5,
          57.255434782608695,
          90,
          75,
          85,
          80,
          70,
          70,
          50,
          55,
          25,
          0,
          70,
          65,
          55,
          60,
          35,
          85,
          60,
          55,
          55,
          5,
          85,
          80,
          95,
          85,
          65,
          55,
          50,
          60,
          35,
          65,
          85,
          50,
          80,
          75,
          35,
          55,
          50,
          75,
          65,
          35,
          65,
          10,
          90,
          80,
          60,
          55,
          45,
          75,
          65,
          55,
          75,
          25,
          75,
          75,
          60,
          80,
          70,
          60,
          70,
          30,
          60,
          65,
          70,
          55,
          60,
          45,
          60,
          70,
          55,
          60,
          85,
          75,
          70,
          15,
          57.255434782608695,
          45,
          85,
          40,
          5,
          40,
          85,
          85,
          0,
          60,
          25,
          55,
          55,
          45,
          65,
          40,
          60,
          45,
          70,
          10,
          55,
          35,
          40,
          90,
          85,
          85,
          10,
          65,
          0,
          30,
          50,
          55,
          25
         ],
         "xaxis": "x2",
         "y": [
          51.5,
          66.5,
          46.2,
          50.6,
          52.2,
          67.7,
          80.9,
          72,
          65.4,
          62.9,
          66.4,
          55.6,
          64.7,
          57.9,
          67.3,
          55.4,
          55.3,
          62.9,
          42.3,
          61.9,
          69.5,
          51.9,
          65.1,
          69,
          59.4,
          53.6,
          48.9,
          57.8,
          52.4,
          77.7,
          63.1,
          49.1,
          49.9,
          75.4,
          58.4,
          67.3,
          55.4,
          50.3,
          39.7,
          65.3,
          62.4,
          61.4,
          27.8,
          68.1,
          73.7,
          76.7,
          47.1,
          63.6,
          61,
          46.9,
          52.5,
          61.8,
          41,
          38.9,
          76.6,
          54.7,
          53.6,
          62.2,
          74.9,
          63.8,
          56.3,
          52.4,
          75.9,
          73.5,
          57.5,
          57.7,
          62.6,
          55.7,
          54,
          56.8,
          52.7,
          60.2,
          90.2,
          65,
          77.1,
          55.2,
          65.8,
          51.1,
          60.76833333333333,
          80.5,
          72.8,
          62.2,
          68.6,
          72.1,
          66.5,
          65.4,
          55.1,
          47.3,
          5.9,
          72.3,
          67,
          60.8,
          62.3,
          57.4,
          70.4,
          51.1,
          53.1,
          49.7,
          60.76833333333333,
          60.76833333333333,
          74.2,
          75.9,
          71,
          71.1,
          56.6,
          51.4,
          74,
          53.2,
          58.1,
          68.6,
          55.7,
          73,
          64.7,
          51.9,
          59.1,
          55.4,
          60.5,
          62.9,
          48.6,
          58.7,
          53.8,
          76.8,
          84.4,
          57.7,
          51.6,
          57.3,
          73,
          61,
          55,
          67.2,
          58.4,
          61.8,
          67.8,
          63.8,
          67.8,
          65.3,
          72.6,
          68.6,
          58.9,
          71.1,
          68.7,
          65.8,
          62.2,
          54,
          60.7,
          56.3,
          63.9,
          61.4,
          47.5,
          89.4,
          65,
          65.5,
          54.6,
          60.76833333333333,
          58.3,
          65.7,
          56.4,
          47.7,
          48.1,
          75.2,
          81.9,
          60.76833333333333,
          77.3,
          55.6,
          60.2,
          68.3,
          44.2,
          50.3,
          57.7,
          57,
          55.4,
          64.6,
          48.4,
          59.7,
          52.3,
          77.6,
          78.9,
          76.8,
          68.6,
          53.3,
          56.4,
          25.9,
          55.3,
          60.76833333333333,
          53.6,
          40.4
         ],
         "yaxis": "y2"
        },
        {
         "marker": {
          "symbol": "triangle-down"
         },
         "mode": "markers",
         "name": "Financial Freedom",
         "text": [
          "Afghanistan",
          "Albania",
          "Algeria",
          "Angola",
          "Argentina",
          "Armenia",
          "Australia",
          "Austria",
          "Azerbaijan",
          "Bahamas",
          "Bahrain",
          "Bangladesh",
          "Barbados",
          "Belarus",
          "Belgium",
          "Belize",
          "Benin",
          "Bhutan",
          "Bolivia",
          "Bosnia and Herzegovina",
          "Botswana",
          "Brazil",
          "Brunei Darussalam",
          "Bulgaria",
          "Burkina Faso",
          "Burma",
          "Burundi",
          "Cambodia",
          "Cameroon",
          "Canada",
          "Cabo Verde",
          "Central African Republic",
          "Chad",
          "Chile",
          "China",
          "Colombia",
          "Comoros",
          "Congo, Democratic Republic of the Congo",
          "Congo, Republic of",
          "Costa Rica",
          "Cï¿½te d'Ivoire",
          "Croatia",
          "Cuba",
          "Cyprus",
          "Czech Republic",
          "Denmark",
          "Djibouti",
          "Dominica",
          "Dominican Republic",
          "Ecuador",
          "Egypt",
          "El Salvador",
          "Equatorial Guinea",
          "Eritrea",
          "Estonia",
          "Eswatini",
          "Ethiopia",
          "Fiji",
          "Finland",
          "France",
          "Gabon",
          "Gambia",
          "Georgia",
          "Germany",
          "Ghana",
          "Greece",
          "Guatemala",
          "Guinea",
          "Guinea-Bissau",
          "Guyana",
          "Haiti",
          "Honduras",
          "Hong Kong",
          "Hungary",
          "Iceland",
          "India",
          "Indonesia",
          "Iran",
          "Iraq",
          "Ireland",
          "Israel",
          "Italy",
          "Jamaica",
          "Japan",
          "Jordan",
          "Kazakhstan",
          "Kenya",
          "Kiribati",
          "Korea, North ",
          "Korea, South",
          "Kosovo",
          "Kuwait",
          "Kyrgyz Republic",
          "Laos",
          "Latvia",
          "Lebanon",
          "Lesotho",
          "Liberia",
          "Libya",
          "Liechtenstein",
          "Lithuania",
          "Luxembourg",
          "Macau",
          "Macedonia",
          "Madagascar",
          "Malawi",
          "Malaysia",
          "Maldives",
          "Mali",
          "Malta",
          "Mauritania",
          "Mauritius",
          "Mexico",
          "Micronesia",
          "Moldova",
          "Mongolia",
          "Montenegro",
          "Morocco",
          "Mozambique",
          "Namibia",
          "Nepal",
          "Netherlands",
          "New Zealand",
          "Nicaragua",
          "Niger",
          "Nigeria",
          "Norway",
          "Oman",
          "Pakistan",
          "Panama",
          "Papua New Guinea",
          "Paraguay",
          "Peru",
          "Philippines",
          "Poland",
          "Portugal",
          "Qatar",
          "Romania",
          "Russia",
          "Rwanda",
          "Saint Lucia",
          "Saint Vincent and the Grenadines",
          "Samoa",
          "Sï¿½o Tomï¿½ and Prï¿½ncipe",
          "Saudi Arabia",
          "Senegal",
          "Serbia",
          "Seychelles",
          "Sierra Leone",
          "Singapore",
          "Slovakia",
          "Slovenia",
          "Solomon Islands",
          "Somalia",
          "South Africa",
          "Spain",
          "Sri Lanka",
          "Sudan",
          "Suriname",
          "Sweden",
          "Switzerland",
          "Syria",
          "Taiwan ",
          "Tajikistan",
          "Tanzania",
          "Thailand",
          "Timor-Leste",
          "Togo",
          "Tonga",
          "Trinidad and Tobago",
          "Tunisia",
          "Turkey",
          "Turkmenistan",
          "Uganda",
          "Ukraine",
          "United Arab Emirates",
          "United Kingdom",
          "United States",
          "Uruguay",
          "Uzbekistan",
          "Vanuatu",
          "Venezuela",
          "Vietnam",
          "Yemen",
          "Zambia",
          "Zimbabwe"
         ],
         "type": "scatter",
         "x": [
          10,
          70,
          30,
          40,
          60,
          70,
          90,
          70,
          60,
          60,
          80,
          30,
          60,
          10,
          70,
          50,
          50,
          30,
          40,
          60,
          70,
          50,
          50,
          60,
          40,
          20,
          30,
          50,
          50,
          80,
          60,
          30,
          40,
          70,
          20,
          70,
          30,
          20,
          30,
          50,
          50,
          60,
          10,
          60,
          80,
          80,
          50,
          30,
          40,
          40,
          50,
          60,
          30,
          20,
          70,
          40,
          20,
          50,
          80,
          70,
          40,
          50,
          70,
          70,
          60,
          50,
          50,
          40,
          30,
          30,
          30,
          60,
          90,
          70,
          70,
          40,
          60,
          10,
          48.78453038674033,
          70,
          70,
          50,
          50,
          60,
          60,
          50,
          50,
          30,
          0,
          70,
          30,
          60,
          50,
          20,
          60,
          50,
          40,
          20,
          48.78453038674033,
          80,
          70,
          80,
          70,
          60,
          50,
          50,
          50,
          30,
          40,
          60,
          40,
          70,
          60,
          30,
          50,
          60,
          50,
          70,
          50,
          40,
          30,
          80,
          80,
          50,
          40,
          40,
          60,
          60,
          40,
          70,
          30,
          60,
          60,
          60,
          70,
          60,
          60,
          50,
          30,
          40,
          40,
          40,
          30,
          30,
          50,
          40,
          50,
          30,
          20,
          80,
          70,
          50,
          30,
          48.78453038674033,
          50,
          70,
          40,
          20,
          30,
          80,
          90,
          48.78453038674033,
          60,
          30,
          50,
          60,
          20,
          30,
          20,
          50,
          30,
          60,
          10,
          40,
          30,
          60,
          80,
          80,
          30,
          10,
          40,
          10,
          40,
          48.78453038674033,
          50,
          10
         ],
         "xaxis": "x2",
         "y": [
          51.5,
          66.5,
          46.2,
          50.6,
          52.2,
          67.7,
          80.9,
          72,
          65.4,
          62.9,
          66.4,
          55.6,
          64.7,
          57.9,
          67.3,
          55.4,
          55.3,
          62.9,
          42.3,
          61.9,
          69.5,
          51.9,
          65.1,
          69,
          59.4,
          53.6,
          48.9,
          57.8,
          52.4,
          77.7,
          63.1,
          49.1,
          49.9,
          75.4,
          58.4,
          67.3,
          55.4,
          50.3,
          39.7,
          65.3,
          62.4,
          61.4,
          27.8,
          68.1,
          73.7,
          76.7,
          47.1,
          63.6,
          61,
          46.9,
          52.5,
          61.8,
          41,
          38.9,
          76.6,
          54.7,
          53.6,
          62.2,
          74.9,
          63.8,
          56.3,
          52.4,
          75.9,
          73.5,
          57.5,
          57.7,
          62.6,
          55.7,
          54,
          56.8,
          52.7,
          60.2,
          90.2,
          65,
          77.1,
          55.2,
          65.8,
          51.1,
          60.76833333333333,
          80.5,
          72.8,
          62.2,
          68.6,
          72.1,
          66.5,
          65.4,
          55.1,
          47.3,
          5.9,
          72.3,
          67,
          60.8,
          62.3,
          57.4,
          70.4,
          51.1,
          53.1,
          49.7,
          60.76833333333333,
          60.76833333333333,
          74.2,
          75.9,
          71,
          71.1,
          56.6,
          51.4,
          74,
          53.2,
          58.1,
          68.6,
          55.7,
          73,
          64.7,
          51.9,
          59.1,
          55.4,
          60.5,
          62.9,
          48.6,
          58.7,
          53.8,
          76.8,
          84.4,
          57.7,
          51.6,
          57.3,
          73,
          61,
          55,
          67.2,
          58.4,
          61.8,
          67.8,
          63.8,
          67.8,
          65.3,
          72.6,
          68.6,
          58.9,
          71.1,
          68.7,
          65.8,
          62.2,
          54,
          60.7,
          56.3,
          63.9,
          61.4,
          47.5,
          89.4,
          65,
          65.5,
          54.6,
          60.76833333333333,
          58.3,
          65.7,
          56.4,
          47.7,
          48.1,
          75.2,
          81.9,
          60.76833333333333,
          77.3,
          55.6,
          60.2,
          68.3,
          44.2,
          50.3,
          57.7,
          57,
          55.4,
          64.6,
          48.4,
          59.7,
          52.3,
          77.6,
          78.9,
          76.8,
          68.6,
          53.3,
          56.4,
          25.9,
          55.3,
          60.76833333333333,
          53.6,
          40.4
         ],
         "yaxis": "y2"
        }
       ],
       "layout": {
        "annotations": [
         {
          "font": {
           "size": 16
          },
          "showarrow": false,
          "text": "Government dependent variables",
          "x": 0.225,
          "xanchor": "center",
          "xref": "paper",
          "y": 1,
          "yanchor": "bottom",
          "yref": "paper"
         },
         {
          "font": {
           "size": 16
          },
          "showarrow": false,
          "text": "Finance dependent variables",
          "x": 0.775,
          "xanchor": "center",
          "xref": "paper",
          "y": 1,
          "yanchor": "bottom",
          "yref": "paper"
         }
        ],
        "height": 800,
        "showlegend": true,
        "template": {
         "data": {
          "bar": [
           {
            "error_x": {
             "color": "#f2f5fa"
            },
            "error_y": {
             "color": "#f2f5fa"
            },
            "marker": {
             "line": {
              "color": "rgb(17,17,17)",
              "width": 0.5
             },
             "pattern": {
              "fillmode": "overlay",
              "size": 10,
              "solidity": 0.2
             }
            },
            "type": "bar"
           }
          ],
          "barpolar": [
           {
            "marker": {
             "line": {
              "color": "rgb(17,17,17)",
              "width": 0.5
             },
             "pattern": {
              "fillmode": "overlay",
              "size": 10,
              "solidity": 0.2
             }
            },
            "type": "barpolar"
           }
          ],
          "carpet": [
           {
            "aaxis": {
             "endlinecolor": "#A2B1C6",
             "gridcolor": "#506784",
             "linecolor": "#506784",
             "minorgridcolor": "#506784",
             "startlinecolor": "#A2B1C6"
            },
            "baxis": {
             "endlinecolor": "#A2B1C6",
             "gridcolor": "#506784",
             "linecolor": "#506784",
             "minorgridcolor": "#506784",
             "startlinecolor": "#A2B1C6"
            },
            "type": "carpet"
           }
          ],
          "choropleth": [
           {
            "colorbar": {
             "outlinewidth": 0,
             "ticks": ""
            },
            "type": "choropleth"
           }
          ],
          "contour": [
           {
            "colorbar": {
             "outlinewidth": 0,
             "ticks": ""
            },
            "colorscale": [
             [
              0,
              "#0d0887"
             ],
             [
              0.1111111111111111,
              "#46039f"
             ],
             [
              0.2222222222222222,
              "#7201a8"
             ],
             [
              0.3333333333333333,
              "#9c179e"
             ],
             [
              0.4444444444444444,
              "#bd3786"
             ],
             [
              0.5555555555555556,
              "#d8576b"
             ],
             [
              0.6666666666666666,
              "#ed7953"
             ],
             [
              0.7777777777777778,
              "#fb9f3a"
             ],
             [
              0.8888888888888888,
              "#fdca26"
             ],
             [
              1,
              "#f0f921"
             ]
            ],
            "type": "contour"
           }
          ],
          "contourcarpet": [
           {
            "colorbar": {
             "outlinewidth": 0,
             "ticks": ""
            },
            "type": "contourcarpet"
           }
          ],
          "heatmap": [
           {
            "colorbar": {
             "outlinewidth": 0,
             "ticks": ""
            },
            "colorscale": [
             [
              0,
              "#0d0887"
             ],
             [
              0.1111111111111111,
              "#46039f"
             ],
             [
              0.2222222222222222,
              "#7201a8"
             ],
             [
              0.3333333333333333,
              "#9c179e"
             ],
             [
              0.4444444444444444,
              "#bd3786"
             ],
             [
              0.5555555555555556,
              "#d8576b"
             ],
             [
              0.6666666666666666,
              "#ed7953"
             ],
             [
              0.7777777777777778,
              "#fb9f3a"
             ],
             [
              0.8888888888888888,
              "#fdca26"
             ],
             [
              1,
              "#f0f921"
             ]
            ],
            "type": "heatmap"
           }
          ],
          "heatmapgl": [
           {
            "colorbar": {
             "outlinewidth": 0,
             "ticks": ""
            },
            "colorscale": [
             [
              0,
              "#0d0887"
             ],
             [
              0.1111111111111111,
              "#46039f"
             ],
             [
              0.2222222222222222,
              "#7201a8"
             ],
             [
              0.3333333333333333,
              "#9c179e"
             ],
             [
              0.4444444444444444,
              "#bd3786"
             ],
             [
              0.5555555555555556,
              "#d8576b"
             ],
             [
              0.6666666666666666,
              "#ed7953"
             ],
             [
              0.7777777777777778,
              "#fb9f3a"
             ],
             [
              0.8888888888888888,
              "#fdca26"
             ],
             [
              1,
              "#f0f921"
             ]
            ],
            "type": "heatmapgl"
           }
          ],
          "histogram": [
           {
            "marker": {
             "pattern": {
              "fillmode": "overlay",
              "size": 10,
              "solidity": 0.2
             }
            },
            "type": "histogram"
           }
          ],
          "histogram2d": [
           {
            "colorbar": {
             "outlinewidth": 0,
             "ticks": ""
            },
            "colorscale": [
             [
              0,
              "#0d0887"
             ],
             [
              0.1111111111111111,
              "#46039f"
             ],
             [
              0.2222222222222222,
              "#7201a8"
             ],
             [
              0.3333333333333333,
              "#9c179e"
             ],
             [
              0.4444444444444444,
              "#bd3786"
             ],
             [
              0.5555555555555556,
              "#d8576b"
             ],
             [
              0.6666666666666666,
              "#ed7953"
             ],
             [
              0.7777777777777778,
              "#fb9f3a"
             ],
             [
              0.8888888888888888,
              "#fdca26"
             ],
             [
              1,
              "#f0f921"
             ]
            ],
            "type": "histogram2d"
           }
          ],
          "histogram2dcontour": [
           {
            "colorbar": {
             "outlinewidth": 0,
             "ticks": ""
            },
            "colorscale": [
             [
              0,
              "#0d0887"
             ],
             [
              0.1111111111111111,
              "#46039f"
             ],
             [
              0.2222222222222222,
              "#7201a8"
             ],
             [
              0.3333333333333333,
              "#9c179e"
             ],
             [
              0.4444444444444444,
              "#bd3786"
             ],
             [
              0.5555555555555556,
              "#d8576b"
             ],
             [
              0.6666666666666666,
              "#ed7953"
             ],
             [
              0.7777777777777778,
              "#fb9f3a"
             ],
             [
              0.8888888888888888,
              "#fdca26"
             ],
             [
              1,
              "#f0f921"
             ]
            ],
            "type": "histogram2dcontour"
           }
          ],
          "mesh3d": [
           {
            "colorbar": {
             "outlinewidth": 0,
             "ticks": ""
            },
            "type": "mesh3d"
           }
          ],
          "parcoords": [
           {
            "line": {
             "colorbar": {
              "outlinewidth": 0,
              "ticks": ""
             }
            },
            "type": "parcoords"
           }
          ],
          "pie": [
           {
            "automargin": true,
            "type": "pie"
           }
          ],
          "scatter": [
           {
            "marker": {
             "line": {
              "color": "#283442"
             }
            },
            "type": "scatter"
           }
          ],
          "scatter3d": [
           {
            "line": {
             "colorbar": {
              "outlinewidth": 0,
              "ticks": ""
             }
            },
            "marker": {
             "colorbar": {
              "outlinewidth": 0,
              "ticks": ""
             }
            },
            "type": "scatter3d"
           }
          ],
          "scattercarpet": [
           {
            "marker": {
             "colorbar": {
              "outlinewidth": 0,
              "ticks": ""
             }
            },
            "type": "scattercarpet"
           }
          ],
          "scattergeo": [
           {
            "marker": {
             "colorbar": {
              "outlinewidth": 0,
              "ticks": ""
             }
            },
            "type": "scattergeo"
           }
          ],
          "scattergl": [
           {
            "marker": {
             "line": {
              "color": "#283442"
             }
            },
            "type": "scattergl"
           }
          ],
          "scattermapbox": [
           {
            "marker": {
             "colorbar": {
              "outlinewidth": 0,
              "ticks": ""
             }
            },
            "type": "scattermapbox"
           }
          ],
          "scatterpolar": [
           {
            "marker": {
             "colorbar": {
              "outlinewidth": 0,
              "ticks": ""
             }
            },
            "type": "scatterpolar"
           }
          ],
          "scatterpolargl": [
           {
            "marker": {
             "colorbar": {
              "outlinewidth": 0,
              "ticks": ""
             }
            },
            "type": "scatterpolargl"
           }
          ],
          "scatterternary": [
           {
            "marker": {
             "colorbar": {
              "outlinewidth": 0,
              "ticks": ""
             }
            },
            "type": "scatterternary"
           }
          ],
          "surface": [
           {
            "colorbar": {
             "outlinewidth": 0,
             "ticks": ""
            },
            "colorscale": [
             [
              0,
              "#0d0887"
             ],
             [
              0.1111111111111111,
              "#46039f"
             ],
             [
              0.2222222222222222,
              "#7201a8"
             ],
             [
              0.3333333333333333,
              "#9c179e"
             ],
             [
              0.4444444444444444,
              "#bd3786"
             ],
             [
              0.5555555555555556,
              "#d8576b"
             ],
             [
              0.6666666666666666,
              "#ed7953"
             ],
             [
              0.7777777777777778,
              "#fb9f3a"
             ],
             [
              0.8888888888888888,
              "#fdca26"
             ],
             [
              1,
              "#f0f921"
             ]
            ],
            "type": "surface"
           }
          ],
          "table": [
           {
            "cells": {
             "fill": {
              "color": "#506784"
             },
             "line": {
              "color": "rgb(17,17,17)"
             }
            },
            "header": {
             "fill": {
              "color": "#2a3f5f"
             },
             "line": {
              "color": "rgb(17,17,17)"
             }
            },
            "type": "table"
           }
          ]
         },
         "layout": {
          "annotationdefaults": {
           "arrowcolor": "#f2f5fa",
           "arrowhead": 0,
           "arrowwidth": 1
          },
          "autotypenumbers": "strict",
          "coloraxis": {
           "colorbar": {
            "outlinewidth": 0,
            "ticks": ""
           }
          },
          "colorscale": {
           "diverging": [
            [
             0,
             "#8e0152"
            ],
            [
             0.1,
             "#c51b7d"
            ],
            [
             0.2,
             "#de77ae"
            ],
            [
             0.3,
             "#f1b6da"
            ],
            [
             0.4,
             "#fde0ef"
            ],
            [
             0.5,
             "#f7f7f7"
            ],
            [
             0.6,
             "#e6f5d0"
            ],
            [
             0.7,
             "#b8e186"
            ],
            [
             0.8,
             "#7fbc41"
            ],
            [
             0.9,
             "#4d9221"
            ],
            [
             1,
             "#276419"
            ]
           ],
           "sequential": [
            [
             0,
             "#0d0887"
            ],
            [
             0.1111111111111111,
             "#46039f"
            ],
            [
             0.2222222222222222,
             "#7201a8"
            ],
            [
             0.3333333333333333,
             "#9c179e"
            ],
            [
             0.4444444444444444,
             "#bd3786"
            ],
            [
             0.5555555555555556,
             "#d8576b"
            ],
            [
             0.6666666666666666,
             "#ed7953"
            ],
            [
             0.7777777777777778,
             "#fb9f3a"
            ],
            [
             0.8888888888888888,
             "#fdca26"
            ],
            [
             1,
             "#f0f921"
            ]
           ],
           "sequentialminus": [
            [
             0,
             "#0d0887"
            ],
            [
             0.1111111111111111,
             "#46039f"
            ],
            [
             0.2222222222222222,
             "#7201a8"
            ],
            [
             0.3333333333333333,
             "#9c179e"
            ],
            [
             0.4444444444444444,
             "#bd3786"
            ],
            [
             0.5555555555555556,
             "#d8576b"
            ],
            [
             0.6666666666666666,
             "#ed7953"
            ],
            [
             0.7777777777777778,
             "#fb9f3a"
            ],
            [
             0.8888888888888888,
             "#fdca26"
            ],
            [
             1,
             "#f0f921"
            ]
           ]
          },
          "colorway": [
           "#636efa",
           "#EF553B",
           "#00cc96",
           "#ab63fa",
           "#FFA15A",
           "#19d3f3",
           "#FF6692",
           "#B6E880",
           "#FF97FF",
           "#FECB52"
          ],
          "font": {
           "color": "#f2f5fa"
          },
          "geo": {
           "bgcolor": "rgb(17,17,17)",
           "lakecolor": "rgb(17,17,17)",
           "landcolor": "rgb(17,17,17)",
           "showlakes": true,
           "showland": true,
           "subunitcolor": "#506784"
          },
          "hoverlabel": {
           "align": "left"
          },
          "hovermode": "closest",
          "mapbox": {
           "style": "dark"
          },
          "paper_bgcolor": "rgb(17,17,17)",
          "plot_bgcolor": "rgb(17,17,17)",
          "polar": {
           "angularaxis": {
            "gridcolor": "#506784",
            "linecolor": "#506784",
            "ticks": ""
           },
           "bgcolor": "rgb(17,17,17)",
           "radialaxis": {
            "gridcolor": "#506784",
            "linecolor": "#506784",
            "ticks": ""
           }
          },
          "scene": {
           "xaxis": {
            "backgroundcolor": "rgb(17,17,17)",
            "gridcolor": "#506784",
            "gridwidth": 2,
            "linecolor": "#506784",
            "showbackground": true,
            "ticks": "",
            "zerolinecolor": "#C8D4E3"
           },
           "yaxis": {
            "backgroundcolor": "rgb(17,17,17)",
            "gridcolor": "#506784",
            "gridwidth": 2,
            "linecolor": "#506784",
            "showbackground": true,
            "ticks": "",
            "zerolinecolor": "#C8D4E3"
           },
           "zaxis": {
            "backgroundcolor": "rgb(17,17,17)",
            "gridcolor": "#506784",
            "gridwidth": 2,
            "linecolor": "#506784",
            "showbackground": true,
            "ticks": "",
            "zerolinecolor": "#C8D4E3"
           }
          },
          "shapedefaults": {
           "line": {
            "color": "#f2f5fa"
           }
          },
          "sliderdefaults": {
           "bgcolor": "#C8D4E3",
           "bordercolor": "rgb(17,17,17)",
           "borderwidth": 1,
           "tickwidth": 0
          },
          "ternary": {
           "aaxis": {
            "gridcolor": "#506784",
            "linecolor": "#506784",
            "ticks": ""
           },
           "baxis": {
            "gridcolor": "#506784",
            "linecolor": "#506784",
            "ticks": ""
           },
           "bgcolor": "rgb(17,17,17)",
           "caxis": {
            "gridcolor": "#506784",
            "linecolor": "#506784",
            "ticks": ""
           }
          },
          "title": {
           "x": 0.05
          },
          "updatemenudefaults": {
           "bgcolor": "#506784",
           "borderwidth": 0
          },
          "xaxis": {
           "automargin": true,
           "gridcolor": "#283442",
           "linecolor": "#506784",
           "ticks": "",
           "title": {
            "standoff": 15
           },
           "zerolinecolor": "#283442",
           "zerolinewidth": 2
          },
          "yaxis": {
           "automargin": true,
           "gridcolor": "#283442",
           "linecolor": "#506784",
           "ticks": "",
           "title": {
            "standoff": 15
           },
           "zerolinecolor": "#283442",
           "zerolinewidth": 2
          }
         }
        },
        "title": {
         "text": "Relationship between the 2019 score and dependent variables"
        },
        "width": 2000,
        "xaxis": {
         "anchor": "y2",
         "domain": [
          0,
          0.45
         ],
         "showgrid": true,
         "title": {
          "text": "Government dependent variables"
         },
         "zeroline": true
        },
        "xaxis2": {
         "anchor": "y2",
         "domain": [
          0.55,
          1
         ],
         "showgrid": true,
         "title": {
          "text": "Finance dependent variables"
         },
         "zeroline": true
        },
        "yaxis": {
         "anchor": "x",
         "domain": [
          0,
          1
         ],
         "showgrid": true,
         "title": {
          "text": "2019 Score"
         },
         "zeroline": true
        },
        "yaxis2": {
         "anchor": "x2",
         "domain": [
          0,
          1
         ]
        }
       }
      }
     },
     "metadata": {},
     "output_type": "display_data"
    }
   ],
   "source": [
    "# creamos un subplot para todas las variables relacionadas con el 2019 Score y las variables gubernamentales\n",
    "fig = make_subplots(rows=1, cols=2, specs=[[{\"type\": \"scatter\"},{\"type\": \"scatter\"}]], subplot_titles=(\"Government dependent variables\",\"Finance dependent variables\") )\n",
    "\n",
    "fig.add_trace(go.Scatter(x=df['Property Rights'], y=df['2019 Score'], mode='markers', marker=dict(symbol='square'), name='Property Rights', text=df['Country']), row = 1, col = 1)\n",
    "fig.add_trace(go.Scatter(x=df['Judical Effectiveness'], y=df['2019 Score'], mode='markers', marker=dict(symbol='triangle-up'), name='Judical Effectiveness', text=df['Country']), row = 1, col = 1)\n",
    "fig.add_trace(go.Scatter(x=df['Government Integrity'], y=df['2019 Score'], mode='markers', marker=dict(symbol='circle'), name='Government Integrity', text=df['Country']), row = 1, col = 1)\n",
    "fig.add_trace(go.Scatter(x=df['Tax Burden'], y=df['2019 Score'], mode='markers', marker=dict(symbol='cross'), name='Tax Burden', text=df['Country']), row = 1, col = 1)\n",
    "\n",
    "# añadimos un update para mejorar la visualización\n",
    "fig.update_layout(title='Relationship between the 2019 score and Goverment dependent variables.',\n",
    "                                xaxis_title='Government dependent variables',\n",
    "                                yaxis_title='2019 Score',\n",
    "                                showlegend=True, \n",
    "                                width=1600,\n",
    "                                height=700)\n",
    "# creamos un subplot para todas las variables relacionadas con el 2019 Score y las variables relacionadas con las finanzas\n",
    "fig.add_trace(go.Scatter(x=df['Business Freedom'], y=df['2019 Score'], mode='markers', marker=dict(symbol='x'), name='Business Freedom', text=df['Country']), row = 1, col = 2)\n",
    "fig.add_trace(go.Scatter(x=df['Trade Freedom'], y=df['2019 Score'], mode='markers', marker=dict(symbol='pentagon'), name='Trade Freedom', text=df['Country']), row = 1, col = 2)\n",
    "fig.add_trace(go.Scatter(x=df['Investment Freedom'], y=df['2019 Score'], mode='markers', marker=dict(symbol='star'), name='Investment Freedom', text=df['Country']), row = 1, col = 2)\n",
    "fig.add_trace(go.Scatter(x=df['Financial Freedom'], y=df['2019 Score'], mode='markers', marker=dict(symbol='triangle-down'), name='Financial Freedom', text=df['Country']), row = 1, col = 2)\n",
    "\n",
    "# añadimos un update para mejorar la visualización\n",
    "fig.update_layout(\n",
    "    title='Relationship between the 2019 score and dependent variables',\n",
    "    xaxis=dict(title='Government dependent variables', showgrid=True, zeroline=True, anchor='y2'),\n",
    "    xaxis2=dict(title='Finance dependent variables', showgrid=True, zeroline=True, anchor='y2'),\n",
    "    yaxis=dict(title='2019 Score', showgrid=True, zeroline=True),\n",
    "    showlegend=True, \n",
    "    width=2000,\n",
    "    height=800\n",
    ")\n",
    "fig.show()\n"
   ]
  },
  {
   "attachments": {},
   "cell_type": "markdown",
   "metadata": {},
   "source": [
    "<p style=\"color:white; font-size:20px;\">Business Freedom analysis </p>"
   ]
  },
  {
   "cell_type": "code",
   "execution_count": 30,
   "metadata": {},
   "outputs": [
    {
     "data": {
      "application/vnd.plotly.v1+json": {
       "config": {
        "plotlyServerURL": "https://plot.ly"
       },
       "data": [
        {
         "marker": {
          "size": [
           20.492634105241656,
           26.82194194091965,
           24.397281725261912,
           22.539425196381305,
           22.759848852350192,
           29.655960374805318,
           32.8048697457894,
           28.585331188670736,
           26.88492012833933,
           26.570029191240923,
           27.483212908826307,
           21.02794869830895,
           26.979387409468853,
           28.616820282380573,
           29.592982187385637,
           24.460259912681593,
           24.649194474940636,
           26.633007378660608,
           23.51558710138637,
           20.650079573790862,
           26.633007378660608,
           23.232185257997806,
           30.254253155292297,
           24.74366175607016,
           21.248372354277837,
           21.626241478795926,
           20.839014136049904,
           14.415239019242389,
           18.9811576071693,
           30.789567748359588,
           25.53088909881618,
           12.620360677781465,
           13.848435332465256,
           29.120645781738027,
           22.69687066493051,
           27.483212908826307,
           23.01176160202892,
           21.752197853635288,
           17.028833797159173,
           26.160670973012998,
           24.20834716300287,
           24.113879881873345,
           11.297818741968154,
           29.21511306286755,
           27.798103845924715,
           33.560607994825574,
           22.2245342592829,
           27.262789252857424,
           21.34283963540736,
           22.035599697023855,
           25.751312754785065,
           23.01176160202892,
           16.83989923490013,
           10.573569586641815,
           28.711287563510094,
           23.641543476225735,
           20.303699542982613,
           24.838129037199682,
           33.151249776597645,
           30.5691440923907,
           21.40581782282704,
           22.004110603314015,
           32.017642403043375,
           31.230415060297357,
           22.791337946060032,
           28.333418438992005,
           21.87815422847465,
           22.193045165573057,
           16.304584641832836,
           23.67303256993557,
           16.399051922962357,
           22.917294320899394,
           35.3554863362865,
           24.239836256712707,
           32.83635883949924,
           22.98027250831908,
           26.82194194091965,
           24.586216287520955,
           22.130066978153376,
           31.167436872877676,
           27.483212908826307,
           27.577680189955828,
           29.5614930936758,
           30.348720436421814,
           24.460259912681593,
           28.270440251572325,
           22.570914290091146,
           18.19393026442328,
           6.5744546854920385,
           33.74954255708462,
           28.238951157862484,
           23.0747397894486,
           28.112994783023126,
           23.924945319614302,
           29.404047625126594,
           20.083275887013727,
           21.783686947345128,
           20.93348141717943,
           17.65861567135599,
           25,
           28.679798469800257,
           26.664496472370445,
           23.89345622590446,
           30.254253155292297,
           19.89434132475468,
           18.1309520770036,
           31.419349622556403,
           29.655960374805318,
           21.94113241589433,
           26.129181879303154,
           24.491749006391434,
           30.12829678045293,
           26.34960553527204,
           23.0747397894486,
           26.09769278559331,
           25.782801848494906,
           28.081505689313282,
           27.136832878018055,
           22.98027250831908,
           25.719823661075225,
           24.460259912681593,
           30.632122279810385,
           33.6550752759551,
           22.633892477510827,
           22.72835975864035,
           21.122415979438472,
           33.151249776597645,
           28.679798469800257,
           22.66538157122067,
           28.1759729704428,
           24.586216287520955,
           24.36579263155207,
           26.34960553527204,
           24.302814444132387,
           25.593867286235863,
           30.09680768674309,
           27.420234721406626,
           24.869618130909522,
           29.68744946851516,
           22.69687066493051,
           29.026178500608502,
           29.089156688028183,
           29.24660215657739,
           25.499400005106338,
           27.766614752214874,
           21.783686947345128,
           27.95554931447392,
           24.932596318329203,
           19.138603075718503,
           33.59209708853541,
           24.302814444132387,
           29.970851311903726,
           26.601518284950764,
           14.982042706019524,
           25.24748725542761,
           26.034714598173633,
           28.648309376090417,
           21.40581782282704,
           20.20923226185309,
           32.71040246465987,
           28.742776657219938,
           20.61859048008102,
           34.347835337571595,
           26.192160066722835,
           19.673917668785798,
           30.97850231061863,
           24.050901694453664,
           20.870503229759745,
           28.711287563510094,
           26.34960553527204,
           29.152134875447867,
           25.782801848494906,
           14.44672811295223,
           19.579450387656273,
           25.814290942204746,
           30.159785874162775,
           34.25336805644207,
           31.387860528846563,
           28.396396626411686,
           27.82959293963455,
           21.50028510395656,
           15.67480276763602,
           24.995574505748884,
           19.201581263138188,
           27.388745627696785,
           15.517357299086816
          ],
          "sizemode": "diameter"
         },
         "mode": "markers",
         "name": "2019 Score",
         "text": [
          "Afghanistan",
          "Albania",
          "Algeria",
          "Angola",
          "Argentina",
          "Armenia",
          "Australia",
          "Austria",
          "Azerbaijan",
          "Bahamas",
          "Bahrain",
          "Bangladesh",
          "Barbados",
          "Belarus",
          "Belgium",
          "Belize",
          "Benin",
          "Bhutan",
          "Bolivia",
          "Bosnia and Herzegovina",
          "Botswana",
          "Brazil",
          "Brunei Darussalam",
          "Bulgaria",
          "Burkina Faso",
          "Burma",
          "Burundi",
          "Cambodia",
          "Cameroon",
          "Canada",
          "Cabo Verde",
          "Central African Republic",
          "Chad",
          "Chile",
          "China",
          "Colombia",
          "Comoros",
          "Congo, Democratic Republic of the Congo",
          "Congo, Republic of",
          "Costa Rica",
          "Cï¿½te d'Ivoire",
          "Croatia",
          "Cuba",
          "Cyprus",
          "Czech Republic",
          "Denmark",
          "Djibouti",
          "Dominica",
          "Dominican Republic",
          "Ecuador",
          "Egypt",
          "El Salvador",
          "Equatorial Guinea",
          "Eritrea",
          "Estonia",
          "Eswatini",
          "Ethiopia",
          "Fiji",
          "Finland",
          "France",
          "Gabon",
          "Gambia",
          "Georgia",
          "Germany",
          "Ghana",
          "Greece",
          "Guatemala",
          "Guinea",
          "Guinea-Bissau",
          "Guyana",
          "Haiti",
          "Honduras",
          "Hong Kong",
          "Hungary",
          "Iceland",
          "India",
          "Indonesia",
          "Iran",
          "Iraq",
          "Ireland",
          "Israel",
          "Italy",
          "Jamaica",
          "Japan",
          "Jordan",
          "Kazakhstan",
          "Kenya",
          "Kiribati",
          "Korea, North ",
          "Korea, South",
          "Kosovo",
          "Kuwait",
          "Kyrgyz Republic",
          "Laos",
          "Latvia",
          "Lebanon",
          "Lesotho",
          "Liberia",
          "Libya",
          "Liechtenstein",
          "Lithuania",
          "Luxembourg",
          "Macau",
          "Macedonia",
          "Madagascar",
          "Malawi",
          "Malaysia",
          "Maldives",
          "Mali",
          "Malta",
          "Mauritania",
          "Mauritius",
          "Mexico",
          "Micronesia",
          "Moldova",
          "Mongolia",
          "Montenegro",
          "Morocco",
          "Mozambique",
          "Namibia",
          "Nepal",
          "Netherlands",
          "New Zealand",
          "Nicaragua",
          "Niger",
          "Nigeria",
          "Norway",
          "Oman",
          "Pakistan",
          "Panama",
          "Papua New Guinea",
          "Paraguay",
          "Peru",
          "Philippines",
          "Poland",
          "Portugal",
          "Qatar",
          "Romania",
          "Russia",
          "Rwanda",
          "Saint Lucia",
          "Saint Vincent and the Grenadines",
          "Samoa",
          "Sï¿½o Tomï¿½ and Prï¿½ncipe",
          "Saudi Arabia",
          "Senegal",
          "Serbia",
          "Seychelles",
          "Sierra Leone",
          "Singapore",
          "Slovakia",
          "Slovenia",
          "Solomon Islands",
          "Somalia",
          "South Africa",
          "Spain",
          "Sri Lanka",
          "Sudan",
          "Suriname",
          "Sweden",
          "Switzerland",
          "Syria",
          "Taiwan ",
          "Tajikistan",
          "Tanzania",
          "Thailand",
          "Timor-Leste",
          "Togo",
          "Tonga",
          "Trinidad and Tobago",
          "Tunisia",
          "Turkey",
          "Turkmenistan",
          "Uganda",
          "Ukraine",
          "United Arab Emirates",
          "United Kingdom",
          "United States",
          "Uruguay",
          "Uzbekistan",
          "Vanuatu",
          "Venezuela",
          "Vietnam",
          "Yemen",
          "Zambia",
          "Zimbabwe"
         ],
         "type": "scatter",
         "x": [
          51.5,
          66.5,
          46.2,
          50.6,
          52.2,
          67.7,
          80.9,
          72,
          65.4,
          62.9,
          66.4,
          55.6,
          64.7,
          57.9,
          67.3,
          55.4,
          55.3,
          62.9,
          42.3,
          61.9,
          69.5,
          51.9,
          65.1,
          69,
          59.4,
          53.6,
          48.9,
          57.8,
          52.4,
          77.7,
          63.1,
          49.1,
          49.9,
          75.4,
          58.4,
          67.3,
          55.4,
          50.3,
          39.7,
          65.3,
          62.4,
          61.4,
          27.8,
          68.1,
          73.7,
          76.7,
          47.1,
          63.6,
          61,
          46.9,
          52.5,
          61.8,
          41,
          38.9,
          76.6,
          54.7,
          53.6,
          62.2,
          74.9,
          63.8,
          56.3,
          52.4,
          75.9,
          73.5,
          57.5,
          57.7,
          62.6,
          55.7,
          54,
          56.8,
          52.7,
          60.2,
          90.2,
          65,
          77.1,
          55.2,
          65.8,
          51.1,
          60.76833333333333,
          80.5,
          72.8,
          62.2,
          68.6,
          72.1,
          66.5,
          65.4,
          55.1,
          47.3,
          5.9,
          72.3,
          67,
          60.8,
          62.3,
          57.4,
          70.4,
          51.1,
          53.1,
          49.7,
          60.76833333333333,
          60.76833333333333,
          74.2,
          75.9,
          71,
          71.1,
          56.6,
          51.4,
          74,
          53.2,
          58.1,
          68.6,
          55.7,
          73,
          64.7,
          51.9,
          59.1,
          55.4,
          60.5,
          62.9,
          48.6,
          58.7,
          53.8,
          76.8,
          84.4,
          57.7,
          51.6,
          57.3,
          73,
          61,
          55,
          67.2,
          58.4,
          61.8,
          67.8,
          63.8,
          67.8,
          65.3,
          72.6,
          68.6,
          58.9,
          71.1,
          68.7,
          65.8,
          62.2,
          54,
          60.7,
          56.3,
          63.9,
          61.4,
          47.5,
          89.4,
          65,
          65.5,
          54.6,
          60.76833333333333,
          58.3,
          65.7,
          56.4,
          47.7,
          48.1,
          75.2,
          81.9,
          60.76833333333333,
          77.3,
          55.6,
          60.2,
          68.3,
          44.2,
          50.3,
          57.7,
          57,
          55.4,
          64.6,
          48.4,
          59.7,
          52.3,
          77.6,
          78.9,
          76.8,
          68.6,
          53.3,
          56.4,
          25.9,
          55.3,
          60.76833333333333,
          53.6,
          40.4
         ],
         "y": [
          49.2,
          69.3,
          61.6,
          55.7,
          56.4,
          78.3,
          88.3,
          74.9,
          69.5,
          68.5,
          71.4,
          50.9,
          69.8,
          75,
          78.1,
          61.8,
          62.4,
          68.7,
          58.8,
          49.7,
          68.7,
          57.9,
          80.2,
          62.7,
          51.6,
          52.8,
          50.3,
          29.9,
          44.4,
          81.9,
          65.2,
          24.2,
          28.1,
          76.6,
          56.2,
          71.4,
          57.2,
          53.2,
          38.2,
          67.2,
          61,
          60.7,
          20,
          76.9,
          72.4,
          90.7,
          54.7,
          70.7,
          51.9,
          54.1,
          65.9,
          57.2,
          37.6,
          17.7,
          75.3,
          59.2,
          48.6,
          63,
          89.4,
          81.2,
          52.1,
          54,
          85.8,
          83.3,
          56.5,
          74.1,
          53.6,
          54.6,
          35.9,
          59.3,
          36.2,
          56.9,
          96.4,
          61.1,
          88.4,
          57.1,
          69.3,
          62.2,
          54.4,
          83.1,
          71.4,
          71.7,
          78,
          80.5,
          61.8,
          73.9,
          55.8,
          41.9,
          5,
          91.3,
          73.8,
          57.4,
          73.4,
          60.1,
          77.5,
          47.9,
          53.3,
          50.6,
          40.2,
          63.51405405405406,
          75.2,
          68.8,
          60,
          80.2,
          47.3,
          41.7,
          83.9,
          78.3,
          53.8,
          67.1,
          61.9,
          79.8,
          67.8,
          57.4,
          67,
          66,
          73.3,
          70.3,
          57.1,
          65.8,
          61.8,
          81.4,
          91,
          56,
          56.3,
          51.2,
          89.4,
          75.2,
          56.1,
          73.6,
          62.2,
          61.5,
          67.8,
          61.3,
          65.4,
          79.7,
          71.2,
          63.1,
          78.4,
          56.2,
          76.3,
          76.5,
          77,
          65.1,
          72.3,
          53.3,
          72.9,
          63.3,
          44.9,
          90.8,
          61.3,
          79.3,
          68.6,
          31.7,
          64.3,
          66.8,
          75.1,
          52.1,
          48.3,
          88,
          75.4,
          49.6,
          93.2,
          67.3,
          46.6,
          82.5,
          60.5,
          50.4,
          75.3,
          67.8,
          76.7,
          66,
          30,
          46.3,
          66.1,
          79.9,
          92.9,
          83.8,
          74.3,
          72.5,
          52.4,
          33.9,
          63.5,
          45.1,
          71.1,
          33.4
         ]
        },
        {
         "marker": {
          "size": [
           20.492634105241656,
           26.82194194091965,
           24.397281725261912,
           22.539425196381305,
           22.759848852350192,
           29.655960374805318,
           32.8048697457894,
           28.585331188670736,
           26.88492012833933,
           26.570029191240923,
           27.483212908826307,
           21.02794869830895,
           26.979387409468853,
           28.616820282380573,
           29.592982187385637,
           24.460259912681593,
           24.649194474940636,
           26.633007378660608,
           23.51558710138637,
           20.650079573790862,
           26.633007378660608,
           23.232185257997806,
           30.254253155292297,
           24.74366175607016,
           21.248372354277837,
           21.626241478795926,
           20.839014136049904,
           14.415239019242389,
           18.9811576071693,
           30.789567748359588,
           25.53088909881618,
           12.620360677781465,
           13.848435332465256,
           29.120645781738027,
           22.69687066493051,
           27.483212908826307,
           23.01176160202892,
           21.752197853635288,
           17.028833797159173,
           26.160670973012998,
           24.20834716300287,
           24.113879881873345,
           11.297818741968154,
           29.21511306286755,
           27.798103845924715,
           33.560607994825574,
           22.2245342592829,
           27.262789252857424,
           21.34283963540736,
           22.035599697023855,
           25.751312754785065,
           23.01176160202892,
           16.83989923490013,
           10.573569586641815,
           28.711287563510094,
           23.641543476225735,
           20.303699542982613,
           24.838129037199682,
           33.151249776597645,
           30.5691440923907,
           21.40581782282704,
           22.004110603314015,
           32.017642403043375,
           31.230415060297357,
           22.791337946060032,
           28.333418438992005,
           21.87815422847465,
           22.193045165573057,
           16.304584641832836,
           23.67303256993557,
           16.399051922962357,
           22.917294320899394,
           35.3554863362865,
           24.239836256712707,
           32.83635883949924,
           22.98027250831908,
           26.82194194091965,
           24.586216287520955,
           22.130066978153376,
           31.167436872877676,
           27.483212908826307,
           27.577680189955828,
           29.5614930936758,
           30.348720436421814,
           24.460259912681593,
           28.270440251572325,
           22.570914290091146,
           18.19393026442328,
           6.5744546854920385,
           33.74954255708462,
           28.238951157862484,
           23.0747397894486,
           28.112994783023126,
           23.924945319614302,
           29.404047625126594,
           20.083275887013727,
           21.783686947345128,
           20.93348141717943,
           17.65861567135599,
           25,
           28.679798469800257,
           26.664496472370445,
           23.89345622590446,
           30.254253155292297,
           19.89434132475468,
           18.1309520770036,
           31.419349622556403,
           29.655960374805318,
           21.94113241589433,
           26.129181879303154,
           24.491749006391434,
           30.12829678045293,
           26.34960553527204,
           23.0747397894486,
           26.09769278559331,
           25.782801848494906,
           28.081505689313282,
           27.136832878018055,
           22.98027250831908,
           25.719823661075225,
           24.460259912681593,
           30.632122279810385,
           33.6550752759551,
           22.633892477510827,
           22.72835975864035,
           21.122415979438472,
           33.151249776597645,
           28.679798469800257,
           22.66538157122067,
           28.1759729704428,
           24.586216287520955,
           24.36579263155207,
           26.34960553527204,
           24.302814444132387,
           25.593867286235863,
           30.09680768674309,
           27.420234721406626,
           24.869618130909522,
           29.68744946851516,
           22.69687066493051,
           29.026178500608502,
           29.089156688028183,
           29.24660215657739,
           25.499400005106338,
           27.766614752214874,
           21.783686947345128,
           27.95554931447392,
           24.932596318329203,
           19.138603075718503,
           33.59209708853541,
           24.302814444132387,
           29.970851311903726,
           26.601518284950764,
           14.982042706019524,
           25.24748725542761,
           26.034714598173633,
           28.648309376090417,
           21.40581782282704,
           20.20923226185309,
           32.71040246465987,
           28.742776657219938,
           20.61859048008102,
           34.347835337571595,
           26.192160066722835,
           19.673917668785798,
           30.97850231061863,
           24.050901694453664,
           20.870503229759745,
           28.711287563510094,
           26.34960553527204,
           29.152134875447867,
           25.782801848494906,
           14.44672811295223,
           19.579450387656273,
           25.814290942204746,
           30.159785874162775,
           34.25336805644207,
           31.387860528846563,
           28.396396626411686,
           27.82959293963455,
           21.50028510395656,
           15.67480276763602,
           24.995574505748884,
           19.201581263138188,
           27.388745627696785,
           15.517357299086816
          ],
          "sizemode": "diameter"
         },
         "mode": "markers",
         "name": "Property Rights",
         "text": [
          "Afghanistan",
          "Albania",
          "Algeria",
          "Angola",
          "Argentina",
          "Armenia",
          "Australia",
          "Austria",
          "Azerbaijan",
          "Bahamas",
          "Bahrain",
          "Bangladesh",
          "Barbados",
          "Belarus",
          "Belgium",
          "Belize",
          "Benin",
          "Bhutan",
          "Bolivia",
          "Bosnia and Herzegovina",
          "Botswana",
          "Brazil",
          "Brunei Darussalam",
          "Bulgaria",
          "Burkina Faso",
          "Burma",
          "Burundi",
          "Cambodia",
          "Cameroon",
          "Canada",
          "Cabo Verde",
          "Central African Republic",
          "Chad",
          "Chile",
          "China",
          "Colombia",
          "Comoros",
          "Congo, Democratic Republic of the Congo",
          "Congo, Republic of",
          "Costa Rica",
          "Cï¿½te d'Ivoire",
          "Croatia",
          "Cuba",
          "Cyprus",
          "Czech Republic",
          "Denmark",
          "Djibouti",
          "Dominica",
          "Dominican Republic",
          "Ecuador",
          "Egypt",
          "El Salvador",
          "Equatorial Guinea",
          "Eritrea",
          "Estonia",
          "Eswatini",
          "Ethiopia",
          "Fiji",
          "Finland",
          "France",
          "Gabon",
          "Gambia",
          "Georgia",
          "Germany",
          "Ghana",
          "Greece",
          "Guatemala",
          "Guinea",
          "Guinea-Bissau",
          "Guyana",
          "Haiti",
          "Honduras",
          "Hong Kong",
          "Hungary",
          "Iceland",
          "India",
          "Indonesia",
          "Iran",
          "Iraq",
          "Ireland",
          "Israel",
          "Italy",
          "Jamaica",
          "Japan",
          "Jordan",
          "Kazakhstan",
          "Kenya",
          "Kiribati",
          "Korea, North ",
          "Korea, South",
          "Kosovo",
          "Kuwait",
          "Kyrgyz Republic",
          "Laos",
          "Latvia",
          "Lebanon",
          "Lesotho",
          "Liberia",
          "Libya",
          "Liechtenstein",
          "Lithuania",
          "Luxembourg",
          "Macau",
          "Macedonia",
          "Madagascar",
          "Malawi",
          "Malaysia",
          "Maldives",
          "Mali",
          "Malta",
          "Mauritania",
          "Mauritius",
          "Mexico",
          "Micronesia",
          "Moldova",
          "Mongolia",
          "Montenegro",
          "Morocco",
          "Mozambique",
          "Namibia",
          "Nepal",
          "Netherlands",
          "New Zealand",
          "Nicaragua",
          "Niger",
          "Nigeria",
          "Norway",
          "Oman",
          "Pakistan",
          "Panama",
          "Papua New Guinea",
          "Paraguay",
          "Peru",
          "Philippines",
          "Poland",
          "Portugal",
          "Qatar",
          "Romania",
          "Russia",
          "Rwanda",
          "Saint Lucia",
          "Saint Vincent and the Grenadines",
          "Samoa",
          "Sï¿½o Tomï¿½ and Prï¿½ncipe",
          "Saudi Arabia",
          "Senegal",
          "Serbia",
          "Seychelles",
          "Sierra Leone",
          "Singapore",
          "Slovakia",
          "Slovenia",
          "Solomon Islands",
          "Somalia",
          "South Africa",
          "Spain",
          "Sri Lanka",
          "Sudan",
          "Suriname",
          "Sweden",
          "Switzerland",
          "Syria",
          "Taiwan ",
          "Tajikistan",
          "Tanzania",
          "Thailand",
          "Timor-Leste",
          "Togo",
          "Tonga",
          "Trinidad and Tobago",
          "Tunisia",
          "Turkey",
          "Turkmenistan",
          "Uganda",
          "Ukraine",
          "United Arab Emirates",
          "United Kingdom",
          "United States",
          "Uruguay",
          "Uzbekistan",
          "Vanuatu",
          "Venezuela",
          "Vietnam",
          "Yemen",
          "Zambia",
          "Zimbabwe"
         ],
         "type": "scatter",
         "x": [
          19.6,
          54.8,
          31.6,
          35.9,
          47.8,
          57.2,
          79.1,
          84.2,
          59.1,
          42.2,
          63.5,
          36.1,
          52.9,
          55.2,
          81.3,
          41.7,
          37.2,
          62.5,
          20.5,
          40.2,
          58.1,
          57.3,
          64,
          62.5,
          49.1,
          34.7,
          20.6,
          37.4,
          42.5,
          87,
          44.1,
          19.6,
          26.7,
          68.7,
          49.9,
          59.2,
          36.5,
          25.3,
          33.2,
          58.3,
          40.9,
          66,
          31.6,
          73.1,
          74.8,
          86.2,
          29.7,
          49.2,
          50.6,
          35.9,
          37,
          37.6,
          29.7,
          35.5,
          81.5,
          41.7,
          32.6,
          67.3,
          89.6,
          82.5,
          28.1,
          39.9,
          65.9,
          79.9,
          49.1,
          52.4,
          40.3,
          34.7,
          32.6,
          41.7,
          10.4,
          43.4,
          93.3,
          60.9,
          87.4,
          57.3,
          52.2,
          33.5,
          37,
          85.8,
          80,
          71.7,
          60.7,
          84.1,
          58.4,
          59.3,
          53.8,
          44.1,
          31.6,
          79.3,
          57.2,
          52.9,
          49.9,
          38.8,
          67.3,
          39.5,
          41.5,
          26.7,
          7.6,
          52.32756756756756,
          73.6,
          83,
          60,
          65.1,
          33.2,
          35.8,
          84.1,
          43.9,
          33.7,
          69.8,
          27.5,
          69.5,
          59.1,
          7.6,
          55.2,
          48.2,
          55.4,
          57.2,
          33.9,
          55.9,
          39.2,
          88,
          95,
          33.4,
          37.2,
          36.5,
          86.1,
          58.1,
          41.5,
          60.4,
          37.4,
          39.5,
          56.1,
          48.7,
          62.3,
          71.5,
          64.5,
          66.7,
          52.4,
          72.2,
          65.9,
          36.5,
          53.8,
          37.4,
          55,
          47.8,
          50.1,
          58.2,
          35.5,
          97.4,
          68.5,
          76.4,
          49.9,
          33.7,
          58.8,
          72.9,
          44.7,
          27.5,
          49.1,
          89.5,
          85.3,
          37,
          85.4,
          47.8,
          35.4,
          53.7,
          29.7,
          35.5,
          59.2,
          52.3,
          49.2,
          55.8,
          31.6,
          42.2,
          43.9,
          81.8,
          92.3,
          79.3,
          68.3,
          49.8,
          65.9,
          7.6,
          49.8,
          19.6,
          45,
          29.7
         ],
         "y": [
          49.2,
          69.3,
          61.6,
          55.7,
          56.4,
          78.3,
          88.3,
          74.9,
          69.5,
          68.5,
          71.4,
          50.9,
          69.8,
          75,
          78.1,
          61.8,
          62.4,
          68.7,
          58.8,
          49.7,
          68.7,
          57.9,
          80.2,
          62.7,
          51.6,
          52.8,
          50.3,
          29.9,
          44.4,
          81.9,
          65.2,
          24.2,
          28.1,
          76.6,
          56.2,
          71.4,
          57.2,
          53.2,
          38.2,
          67.2,
          61,
          60.7,
          20,
          76.9,
          72.4,
          90.7,
          54.7,
          70.7,
          51.9,
          54.1,
          65.9,
          57.2,
          37.6,
          17.7,
          75.3,
          59.2,
          48.6,
          63,
          89.4,
          81.2,
          52.1,
          54,
          85.8,
          83.3,
          56.5,
          74.1,
          53.6,
          54.6,
          35.9,
          59.3,
          36.2,
          56.9,
          96.4,
          61.1,
          88.4,
          57.1,
          69.3,
          62.2,
          54.4,
          83.1,
          71.4,
          71.7,
          78,
          80.5,
          61.8,
          73.9,
          55.8,
          41.9,
          5,
          91.3,
          73.8,
          57.4,
          73.4,
          60.1,
          77.5,
          47.9,
          53.3,
          50.6,
          40.2,
          63.51405405405406,
          75.2,
          68.8,
          60,
          80.2,
          47.3,
          41.7,
          83.9,
          78.3,
          53.8,
          67.1,
          61.9,
          79.8,
          67.8,
          57.4,
          67,
          66,
          73.3,
          70.3,
          57.1,
          65.8,
          61.8,
          81.4,
          91,
          56,
          56.3,
          51.2,
          89.4,
          75.2,
          56.1,
          73.6,
          62.2,
          61.5,
          67.8,
          61.3,
          65.4,
          79.7,
          71.2,
          63.1,
          78.4,
          56.2,
          76.3,
          76.5,
          77,
          65.1,
          72.3,
          53.3,
          72.9,
          63.3,
          44.9,
          90.8,
          61.3,
          79.3,
          68.6,
          31.7,
          64.3,
          66.8,
          75.1,
          52.1,
          48.3,
          88,
          75.4,
          49.6,
          93.2,
          67.3,
          46.6,
          82.5,
          60.5,
          50.4,
          75.3,
          67.8,
          76.7,
          66,
          30,
          46.3,
          66.1,
          79.9,
          92.9,
          83.8,
          74.3,
          72.5,
          52.4,
          33.9,
          63.5,
          45.1,
          71.1,
          33.4
         ]
        },
        {
         "marker": {
          "size": [
           20.492634105241656,
           26.82194194091965,
           24.397281725261912,
           22.539425196381305,
           22.759848852350192,
           29.655960374805318,
           32.8048697457894,
           28.585331188670736,
           26.88492012833933,
           26.570029191240923,
           27.483212908826307,
           21.02794869830895,
           26.979387409468853,
           28.616820282380573,
           29.592982187385637,
           24.460259912681593,
           24.649194474940636,
           26.633007378660608,
           23.51558710138637,
           20.650079573790862,
           26.633007378660608,
           23.232185257997806,
           30.254253155292297,
           24.74366175607016,
           21.248372354277837,
           21.626241478795926,
           20.839014136049904,
           14.415239019242389,
           18.9811576071693,
           30.789567748359588,
           25.53088909881618,
           12.620360677781465,
           13.848435332465256,
           29.120645781738027,
           22.69687066493051,
           27.483212908826307,
           23.01176160202892,
           21.752197853635288,
           17.028833797159173,
           26.160670973012998,
           24.20834716300287,
           24.113879881873345,
           11.297818741968154,
           29.21511306286755,
           27.798103845924715,
           33.560607994825574,
           22.2245342592829,
           27.262789252857424,
           21.34283963540736,
           22.035599697023855,
           25.751312754785065,
           23.01176160202892,
           16.83989923490013,
           10.573569586641815,
           28.711287563510094,
           23.641543476225735,
           20.303699542982613,
           24.838129037199682,
           33.151249776597645,
           30.5691440923907,
           21.40581782282704,
           22.004110603314015,
           32.017642403043375,
           31.230415060297357,
           22.791337946060032,
           28.333418438992005,
           21.87815422847465,
           22.193045165573057,
           16.304584641832836,
           23.67303256993557,
           16.399051922962357,
           22.917294320899394,
           35.3554863362865,
           24.239836256712707,
           32.83635883949924,
           22.98027250831908,
           26.82194194091965,
           24.586216287520955,
           22.130066978153376,
           31.167436872877676,
           27.483212908826307,
           27.577680189955828,
           29.5614930936758,
           30.348720436421814,
           24.460259912681593,
           28.270440251572325,
           22.570914290091146,
           18.19393026442328,
           6.5744546854920385,
           33.74954255708462,
           28.238951157862484,
           23.0747397894486,
           28.112994783023126,
           23.924945319614302,
           29.404047625126594,
           20.083275887013727,
           21.783686947345128,
           20.93348141717943,
           17.65861567135599,
           25,
           28.679798469800257,
           26.664496472370445,
           23.89345622590446,
           30.254253155292297,
           19.89434132475468,
           18.1309520770036,
           31.419349622556403,
           29.655960374805318,
           21.94113241589433,
           26.129181879303154,
           24.491749006391434,
           30.12829678045293,
           26.34960553527204,
           23.0747397894486,
           26.09769278559331,
           25.782801848494906,
           28.081505689313282,
           27.136832878018055,
           22.98027250831908,
           25.719823661075225,
           24.460259912681593,
           30.632122279810385,
           33.6550752759551,
           22.633892477510827,
           22.72835975864035,
           21.122415979438472,
           33.151249776597645,
           28.679798469800257,
           22.66538157122067,
           28.1759729704428,
           24.586216287520955,
           24.36579263155207,
           26.34960553527204,
           24.302814444132387,
           25.593867286235863,
           30.09680768674309,
           27.420234721406626,
           24.869618130909522,
           29.68744946851516,
           22.69687066493051,
           29.026178500608502,
           29.089156688028183,
           29.24660215657739,
           25.499400005106338,
           27.766614752214874,
           21.783686947345128,
           27.95554931447392,
           24.932596318329203,
           19.138603075718503,
           33.59209708853541,
           24.302814444132387,
           29.970851311903726,
           26.601518284950764,
           14.982042706019524,
           25.24748725542761,
           26.034714598173633,
           28.648309376090417,
           21.40581782282704,
           20.20923226185309,
           32.71040246465987,
           28.742776657219938,
           20.61859048008102,
           34.347835337571595,
           26.192160066722835,
           19.673917668785798,
           30.97850231061863,
           24.050901694453664,
           20.870503229759745,
           28.711287563510094,
           26.34960553527204,
           29.152134875447867,
           25.782801848494906,
           14.44672811295223,
           19.579450387656273,
           25.814290942204746,
           30.159785874162775,
           34.25336805644207,
           31.387860528846563,
           28.396396626411686,
           27.82959293963455,
           21.50028510395656,
           15.67480276763602,
           24.995574505748884,
           19.201581263138188,
           27.388745627696785,
           15.517357299086816
          ],
          "sizemode": "diameter"
         },
         "mode": "markers",
         "name": "Judical Effectiveness",
         "text": [
          "Afghanistan",
          "Albania",
          "Algeria",
          "Angola",
          "Argentina",
          "Armenia",
          "Australia",
          "Austria",
          "Azerbaijan",
          "Bahamas",
          "Bahrain",
          "Bangladesh",
          "Barbados",
          "Belarus",
          "Belgium",
          "Belize",
          "Benin",
          "Bhutan",
          "Bolivia",
          "Bosnia and Herzegovina",
          "Botswana",
          "Brazil",
          "Brunei Darussalam",
          "Bulgaria",
          "Burkina Faso",
          "Burma",
          "Burundi",
          "Cambodia",
          "Cameroon",
          "Canada",
          "Cabo Verde",
          "Central African Republic",
          "Chad",
          "Chile",
          "China",
          "Colombia",
          "Comoros",
          "Congo, Democratic Republic of the Congo",
          "Congo, Republic of",
          "Costa Rica",
          "Cï¿½te d'Ivoire",
          "Croatia",
          "Cuba",
          "Cyprus",
          "Czech Republic",
          "Denmark",
          "Djibouti",
          "Dominica",
          "Dominican Republic",
          "Ecuador",
          "Egypt",
          "El Salvador",
          "Equatorial Guinea",
          "Eritrea",
          "Estonia",
          "Eswatini",
          "Ethiopia",
          "Fiji",
          "Finland",
          "France",
          "Gabon",
          "Gambia",
          "Georgia",
          "Germany",
          "Ghana",
          "Greece",
          "Guatemala",
          "Guinea",
          "Guinea-Bissau",
          "Guyana",
          "Haiti",
          "Honduras",
          "Hong Kong",
          "Hungary",
          "Iceland",
          "India",
          "Indonesia",
          "Iran",
          "Iraq",
          "Ireland",
          "Israel",
          "Italy",
          "Jamaica",
          "Japan",
          "Jordan",
          "Kazakhstan",
          "Kenya",
          "Kiribati",
          "Korea, North ",
          "Korea, South",
          "Kosovo",
          "Kuwait",
          "Kyrgyz Republic",
          "Laos",
          "Latvia",
          "Lebanon",
          "Lesotho",
          "Liberia",
          "Libya",
          "Liechtenstein",
          "Lithuania",
          "Luxembourg",
          "Macau",
          "Macedonia",
          "Madagascar",
          "Malawi",
          "Malaysia",
          "Maldives",
          "Mali",
          "Malta",
          "Mauritania",
          "Mauritius",
          "Mexico",
          "Micronesia",
          "Moldova",
          "Mongolia",
          "Montenegro",
          "Morocco",
          "Mozambique",
          "Namibia",
          "Nepal",
          "Netherlands",
          "New Zealand",
          "Nicaragua",
          "Niger",
          "Nigeria",
          "Norway",
          "Oman",
          "Pakistan",
          "Panama",
          "Papua New Guinea",
          "Paraguay",
          "Peru",
          "Philippines",
          "Poland",
          "Portugal",
          "Qatar",
          "Romania",
          "Russia",
          "Rwanda",
          "Saint Lucia",
          "Saint Vincent and the Grenadines",
          "Samoa",
          "Sï¿½o Tomï¿½ and Prï¿½ncipe",
          "Saudi Arabia",
          "Senegal",
          "Serbia",
          "Seychelles",
          "Sierra Leone",
          "Singapore",
          "Slovakia",
          "Slovenia",
          "Solomon Islands",
          "Somalia",
          "South Africa",
          "Spain",
          "Sri Lanka",
          "Sudan",
          "Suriname",
          "Sweden",
          "Switzerland",
          "Syria",
          "Taiwan ",
          "Tajikistan",
          "Tanzania",
          "Thailand",
          "Timor-Leste",
          "Togo",
          "Tonga",
          "Trinidad and Tobago",
          "Tunisia",
          "Turkey",
          "Turkmenistan",
          "Uganda",
          "Ukraine",
          "United Arab Emirates",
          "United Kingdom",
          "United States",
          "Uruguay",
          "Uzbekistan",
          "Vanuatu",
          "Venezuela",
          "Vietnam",
          "Yemen",
          "Zambia",
          "Zimbabwe"
         ],
         "type": "scatter",
         "x": [
          29.6,
          30.6,
          36.2,
          26.6,
          44.5,
          46.3,
          86.5,
          71.3,
          53.1,
          46.9,
          50.7,
          34.5,
          59.9,
          51.7,
          61.6,
          46.9,
          32.8,
          55.4,
          12.3,
          37.9,
          45.7,
          51.7,
          56,
          41.9,
          42.9,
          18.1,
          31,
          27.6,
          31.3,
          69.4,
          49,
          29.6,
          24.6,
          56.3,
          75.2,
          34.3,
          29.6,
          30.7,
          29.6,
          54,
          47.8,
          42.9,
          10,
          48.1,
          47.6,
          77.8,
          18.1,
          63.8,
          18.1,
          20.2,
          48.3,
          29.1,
          18.1,
          18.1,
          76,
          42.9,
          40.9,
          42.9,
          81.2,
          66.1,
          30.6,
          42.5,
          54.6,
          75.4,
          44.2,
          49.5,
          32.3,
          32.6,
          42.9,
          42.9,
          25.3,
          31,
          75.3,
          45.2,
          63.8,
          61.6,
          53.5,
          41.3,
          12.3,
          68.4,
          73.4,
          49.8,
          49.2,
          68.5,
          52.6,
          56.1,
          46.9,
          34.3,
          5,
          57.5,
          53.5,
          43.3,
          27.9,
          42.5,
          48.4,
          26.6,
          45.7,
          39,
          24.4,
          44.89945945945946,
          61.2,
          72.4,
          60,
          60.7,
          24.4,
          40.1,
          68.2,
          36.4,
          33.4,
          50.4,
          30.6,
          62.1,
          34.9,
          26.6,
          29.6,
          23.8,
          51.8,
          47.1,
          35.2,
          54.7,
          34.7,
          74.7,
          83.5,
          18.7,
          31,
          34.3,
          81.2,
          51.6,
          40.2,
          30.1,
          49,
          30,
          34,
          36.4,
          44,
          64.3,
          60,
          51.9,
          45.1,
          83.2,
          63.8,
          63.8,
          31,
          26.6,
          62.7,
          40.4,
          44.8,
          37.5,
          34.5,
          92.4,
          37.2,
          46.5,
          51.7,
          26.6,
          39.3,
          51.4,
          39.4,
          22.2,
          22.2,
          84,
          82,
          24.4,
          70.1,
          52.1,
          41.4,
          45.9,
          13.1,
          29.6,
          26.6,
          40.6,
          42.7,
          49.8,
          29.8,
          38.5,
          31.5,
          87.1,
          85.9,
          78.6,
          58.9,
          34.3,
          36.4,
          13.1,
          40.3,
          22.2,
          35.6,
          24.8
         ],
         "y": [
          49.2,
          69.3,
          61.6,
          55.7,
          56.4,
          78.3,
          88.3,
          74.9,
          69.5,
          68.5,
          71.4,
          50.9,
          69.8,
          75,
          78.1,
          61.8,
          62.4,
          68.7,
          58.8,
          49.7,
          68.7,
          57.9,
          80.2,
          62.7,
          51.6,
          52.8,
          50.3,
          29.9,
          44.4,
          81.9,
          65.2,
          24.2,
          28.1,
          76.6,
          56.2,
          71.4,
          57.2,
          53.2,
          38.2,
          67.2,
          61,
          60.7,
          20,
          76.9,
          72.4,
          90.7,
          54.7,
          70.7,
          51.9,
          54.1,
          65.9,
          57.2,
          37.6,
          17.7,
          75.3,
          59.2,
          48.6,
          63,
          89.4,
          81.2,
          52.1,
          54,
          85.8,
          83.3,
          56.5,
          74.1,
          53.6,
          54.6,
          35.9,
          59.3,
          36.2,
          56.9,
          96.4,
          61.1,
          88.4,
          57.1,
          69.3,
          62.2,
          54.4,
          83.1,
          71.4,
          71.7,
          78,
          80.5,
          61.8,
          73.9,
          55.8,
          41.9,
          5,
          91.3,
          73.8,
          57.4,
          73.4,
          60.1,
          77.5,
          47.9,
          53.3,
          50.6,
          40.2,
          63.51405405405406,
          75.2,
          68.8,
          60,
          80.2,
          47.3,
          41.7,
          83.9,
          78.3,
          53.8,
          67.1,
          61.9,
          79.8,
          67.8,
          57.4,
          67,
          66,
          73.3,
          70.3,
          57.1,
          65.8,
          61.8,
          81.4,
          91,
          56,
          56.3,
          51.2,
          89.4,
          75.2,
          56.1,
          73.6,
          62.2,
          61.5,
          67.8,
          61.3,
          65.4,
          79.7,
          71.2,
          63.1,
          78.4,
          56.2,
          76.3,
          76.5,
          77,
          65.1,
          72.3,
          53.3,
          72.9,
          63.3,
          44.9,
          90.8,
          61.3,
          79.3,
          68.6,
          31.7,
          64.3,
          66.8,
          75.1,
          52.1,
          48.3,
          88,
          75.4,
          49.6,
          93.2,
          67.3,
          46.6,
          82.5,
          60.5,
          50.4,
          75.3,
          67.8,
          76.7,
          66,
          30,
          46.3,
          66.1,
          79.9,
          92.9,
          83.8,
          74.3,
          72.5,
          52.4,
          33.9,
          63.5,
          45.1,
          71.1,
          33.4
         ]
        },
        {
         "marker": {
          "size": [
           20.492634105241656,
           26.82194194091965,
           24.397281725261912,
           22.539425196381305,
           22.759848852350192,
           29.655960374805318,
           32.8048697457894,
           28.585331188670736,
           26.88492012833933,
           26.570029191240923,
           27.483212908826307,
           21.02794869830895,
           26.979387409468853,
           28.616820282380573,
           29.592982187385637,
           24.460259912681593,
           24.649194474940636,
           26.633007378660608,
           23.51558710138637,
           20.650079573790862,
           26.633007378660608,
           23.232185257997806,
           30.254253155292297,
           24.74366175607016,
           21.248372354277837,
           21.626241478795926,
           20.839014136049904,
           14.415239019242389,
           18.9811576071693,
           30.789567748359588,
           25.53088909881618,
           12.620360677781465,
           13.848435332465256,
           29.120645781738027,
           22.69687066493051,
           27.483212908826307,
           23.01176160202892,
           21.752197853635288,
           17.028833797159173,
           26.160670973012998,
           24.20834716300287,
           24.113879881873345,
           11.297818741968154,
           29.21511306286755,
           27.798103845924715,
           33.560607994825574,
           22.2245342592829,
           27.262789252857424,
           21.34283963540736,
           22.035599697023855,
           25.751312754785065,
           23.01176160202892,
           16.83989923490013,
           10.573569586641815,
           28.711287563510094,
           23.641543476225735,
           20.303699542982613,
           24.838129037199682,
           33.151249776597645,
           30.5691440923907,
           21.40581782282704,
           22.004110603314015,
           32.017642403043375,
           31.230415060297357,
           22.791337946060032,
           28.333418438992005,
           21.87815422847465,
           22.193045165573057,
           16.304584641832836,
           23.67303256993557,
           16.399051922962357,
           22.917294320899394,
           35.3554863362865,
           24.239836256712707,
           32.83635883949924,
           22.98027250831908,
           26.82194194091965,
           24.586216287520955,
           22.130066978153376,
           31.167436872877676,
           27.483212908826307,
           27.577680189955828,
           29.5614930936758,
           30.348720436421814,
           24.460259912681593,
           28.270440251572325,
           22.570914290091146,
           18.19393026442328,
           6.5744546854920385,
           33.74954255708462,
           28.238951157862484,
           23.0747397894486,
           28.112994783023126,
           23.924945319614302,
           29.404047625126594,
           20.083275887013727,
           21.783686947345128,
           20.93348141717943,
           17.65861567135599,
           25,
           28.679798469800257,
           26.664496472370445,
           23.89345622590446,
           30.254253155292297,
           19.89434132475468,
           18.1309520770036,
           31.419349622556403,
           29.655960374805318,
           21.94113241589433,
           26.129181879303154,
           24.491749006391434,
           30.12829678045293,
           26.34960553527204,
           23.0747397894486,
           26.09769278559331,
           25.782801848494906,
           28.081505689313282,
           27.136832878018055,
           22.98027250831908,
           25.719823661075225,
           24.460259912681593,
           30.632122279810385,
           33.6550752759551,
           22.633892477510827,
           22.72835975864035,
           21.122415979438472,
           33.151249776597645,
           28.679798469800257,
           22.66538157122067,
           28.1759729704428,
           24.586216287520955,
           24.36579263155207,
           26.34960553527204,
           24.302814444132387,
           25.593867286235863,
           30.09680768674309,
           27.420234721406626,
           24.869618130909522,
           29.68744946851516,
           22.69687066493051,
           29.026178500608502,
           29.089156688028183,
           29.24660215657739,
           25.499400005106338,
           27.766614752214874,
           21.783686947345128,
           27.95554931447392,
           24.932596318329203,
           19.138603075718503,
           33.59209708853541,
           24.302814444132387,
           29.970851311903726,
           26.601518284950764,
           14.982042706019524,
           25.24748725542761,
           26.034714598173633,
           28.648309376090417,
           21.40581782282704,
           20.20923226185309,
           32.71040246465987,
           28.742776657219938,
           20.61859048008102,
           34.347835337571595,
           26.192160066722835,
           19.673917668785798,
           30.97850231061863,
           24.050901694453664,
           20.870503229759745,
           28.711287563510094,
           26.34960553527204,
           29.152134875447867,
           25.782801848494906,
           14.44672811295223,
           19.579450387656273,
           25.814290942204746,
           30.159785874162775,
           34.25336805644207,
           31.387860528846563,
           28.396396626411686,
           27.82959293963455,
           21.50028510395656,
           15.67480276763602,
           24.995574505748884,
           19.201581263138188,
           27.388745627696785,
           15.517357299086816
          ],
          "sizemode": "diameter"
         },
         "mode": "markers",
         "name": "Government Integrity",
         "text": [
          "Afghanistan",
          "Albania",
          "Algeria",
          "Angola",
          "Argentina",
          "Armenia",
          "Australia",
          "Austria",
          "Azerbaijan",
          "Bahamas",
          "Bahrain",
          "Bangladesh",
          "Barbados",
          "Belarus",
          "Belgium",
          "Belize",
          "Benin",
          "Bhutan",
          "Bolivia",
          "Bosnia and Herzegovina",
          "Botswana",
          "Brazil",
          "Brunei Darussalam",
          "Bulgaria",
          "Burkina Faso",
          "Burma",
          "Burundi",
          "Cambodia",
          "Cameroon",
          "Canada",
          "Cabo Verde",
          "Central African Republic",
          "Chad",
          "Chile",
          "China",
          "Colombia",
          "Comoros",
          "Congo, Democratic Republic of the Congo",
          "Congo, Republic of",
          "Costa Rica",
          "Cï¿½te d'Ivoire",
          "Croatia",
          "Cuba",
          "Cyprus",
          "Czech Republic",
          "Denmark",
          "Djibouti",
          "Dominica",
          "Dominican Republic",
          "Ecuador",
          "Egypt",
          "El Salvador",
          "Equatorial Guinea",
          "Eritrea",
          "Estonia",
          "Eswatini",
          "Ethiopia",
          "Fiji",
          "Finland",
          "France",
          "Gabon",
          "Gambia",
          "Georgia",
          "Germany",
          "Ghana",
          "Greece",
          "Guatemala",
          "Guinea",
          "Guinea-Bissau",
          "Guyana",
          "Haiti",
          "Honduras",
          "Hong Kong",
          "Hungary",
          "Iceland",
          "India",
          "Indonesia",
          "Iran",
          "Iraq",
          "Ireland",
          "Israel",
          "Italy",
          "Jamaica",
          "Japan",
          "Jordan",
          "Kazakhstan",
          "Kenya",
          "Kiribati",
          "Korea, North ",
          "Korea, South",
          "Kosovo",
          "Kuwait",
          "Kyrgyz Republic",
          "Laos",
          "Latvia",
          "Lebanon",
          "Lesotho",
          "Liberia",
          "Libya",
          "Liechtenstein",
          "Lithuania",
          "Luxembourg",
          "Macau",
          "Macedonia",
          "Madagascar",
          "Malawi",
          "Malaysia",
          "Maldives",
          "Mali",
          "Malta",
          "Mauritania",
          "Mauritius",
          "Mexico",
          "Micronesia",
          "Moldova",
          "Mongolia",
          "Montenegro",
          "Morocco",
          "Mozambique",
          "Namibia",
          "Nepal",
          "Netherlands",
          "New Zealand",
          "Nicaragua",
          "Niger",
          "Nigeria",
          "Norway",
          "Oman",
          "Pakistan",
          "Panama",
          "Papua New Guinea",
          "Paraguay",
          "Peru",
          "Philippines",
          "Poland",
          "Portugal",
          "Qatar",
          "Romania",
          "Russia",
          "Rwanda",
          "Saint Lucia",
          "Saint Vincent and the Grenadines",
          "Samoa",
          "Sï¿½o Tomï¿½ and Prï¿½ncipe",
          "Saudi Arabia",
          "Senegal",
          "Serbia",
          "Seychelles",
          "Sierra Leone",
          "Singapore",
          "Slovakia",
          "Slovenia",
          "Solomon Islands",
          "Somalia",
          "South Africa",
          "Spain",
          "Sri Lanka",
          "Sudan",
          "Suriname",
          "Sweden",
          "Switzerland",
          "Syria",
          "Taiwan ",
          "Tajikistan",
          "Tanzania",
          "Thailand",
          "Timor-Leste",
          "Togo",
          "Tonga",
          "Trinidad and Tobago",
          "Tunisia",
          "Turkey",
          "Turkmenistan",
          "Uganda",
          "Ukraine",
          "United Arab Emirates",
          "United Kingdom",
          "United States",
          "Uruguay",
          "Uzbekistan",
          "Vanuatu",
          "Venezuela",
          "Vietnam",
          "Yemen",
          "Zambia",
          "Zimbabwe"
         ],
         "type": "scatter",
         "x": [
          25.2,
          40.4,
          28.9,
          20.5,
          33.5,
          38.6,
          79.9,
          77.4,
          44.7,
          43.7,
          53.6,
          24.4,
          53.8,
          37.7,
          72.5,
          27.2,
          28.1,
          54.5,
          19.7,
          30.2,
          52.4,
          28.1,
          43.7,
          35.1,
          36.6,
          30.6,
          26.2,
          16.7,
          25.5,
          84.6,
          43.7,
          23.2,
          23.2,
          62.3,
          49.1,
          33.5,
          24.4,
          26.2,
          25.3,
          54.5,
          38.1,
          38.6,
          37.7,
          43.7,
          52.1,
          85.8,
          28.1,
          54.5,
          23.2,
          25.3,
          29.2,
          23.4,
          15.8,
          19.7,
          73.1,
          35,
          35.1,
          23.4,
          92.5,
          67.9,
          35.5,
          41.2,
          58.5,
          81.3,
          35.5,
          37.7,
          26.4,
          25.5,
          25.3,
          33.2,
          20.3,
          25.3,
          83.8,
          35.3,
          83.8,
          47.8,
          39.5,
          35,
          20.3,
          78,
          67.9,
          43.7,
          45,
          78,
          50.3,
          40.3,
          32.1,
          35.1,
          24.4,
          50.5,
          44.7,
          35.3,
          27.2,
          33.5,
          35.5,
          18.2,
          30.9,
          24.2,
          15.8,
          41.47027027027027,
          47.8,
          85.8,
          33.2,
          44.7,
          14.3,
          25.2,
          55.4,
          33.5,
          29.6,
          50.3,
          30.6,
          40.3,
          26.3,
          36.6,
          25.4,
          29.8,
          39.5,
          39.2,
          28.1,
          49.8,
          26.2,
          89.1,
          96.7,
          20.3,
          34.1,
          20.5,
          92.3,
          53.8,
          30.6,
          34.1,
          37.2,
          25.5,
          31.8,
          30.9,
          49.8,
          59.5,
          77.4,
          39.8,
          36.6,
          67.9,
          50.3,
          50.5,
          37.7,
          35.5,
          49.8,
          40.3,
          37.2,
          39.2,
          26.2,
          95.1,
          37.7,
          53.6,
          33.5,
          7.9,
          39.7,
          51.9,
          28.9,
          26.2,
          35.5,
          88,
          88,
          20.3,
          69.2,
          36.4,
          33.2,
          36.4,
          32.1,
          28.1,
          38.1,
          32.9,
          36.6,
          41.2,
          20.3,
          25.4,
          29.6,
          78.8,
          83.8,
          77.4,
          69.2,
          25.2,
          51.9,
          7.9,
          34,
          20.3,
          32.3,
          15.8
         ],
         "y": [
          49.2,
          69.3,
          61.6,
          55.7,
          56.4,
          78.3,
          88.3,
          74.9,
          69.5,
          68.5,
          71.4,
          50.9,
          69.8,
          75,
          78.1,
          61.8,
          62.4,
          68.7,
          58.8,
          49.7,
          68.7,
          57.9,
          80.2,
          62.7,
          51.6,
          52.8,
          50.3,
          29.9,
          44.4,
          81.9,
          65.2,
          24.2,
          28.1,
          76.6,
          56.2,
          71.4,
          57.2,
          53.2,
          38.2,
          67.2,
          61,
          60.7,
          20,
          76.9,
          72.4,
          90.7,
          54.7,
          70.7,
          51.9,
          54.1,
          65.9,
          57.2,
          37.6,
          17.7,
          75.3,
          59.2,
          48.6,
          63,
          89.4,
          81.2,
          52.1,
          54,
          85.8,
          83.3,
          56.5,
          74.1,
          53.6,
          54.6,
          35.9,
          59.3,
          36.2,
          56.9,
          96.4,
          61.1,
          88.4,
          57.1,
          69.3,
          62.2,
          54.4,
          83.1,
          71.4,
          71.7,
          78,
          80.5,
          61.8,
          73.9,
          55.8,
          41.9,
          5,
          91.3,
          73.8,
          57.4,
          73.4,
          60.1,
          77.5,
          47.9,
          53.3,
          50.6,
          40.2,
          63.51405405405406,
          75.2,
          68.8,
          60,
          80.2,
          47.3,
          41.7,
          83.9,
          78.3,
          53.8,
          67.1,
          61.9,
          79.8,
          67.8,
          57.4,
          67,
          66,
          73.3,
          70.3,
          57.1,
          65.8,
          61.8,
          81.4,
          91,
          56,
          56.3,
          51.2,
          89.4,
          75.2,
          56.1,
          73.6,
          62.2,
          61.5,
          67.8,
          61.3,
          65.4,
          79.7,
          71.2,
          63.1,
          78.4,
          56.2,
          76.3,
          76.5,
          77,
          65.1,
          72.3,
          53.3,
          72.9,
          63.3,
          44.9,
          90.8,
          61.3,
          79.3,
          68.6,
          31.7,
          64.3,
          66.8,
          75.1,
          52.1,
          48.3,
          88,
          75.4,
          49.6,
          93.2,
          67.3,
          46.6,
          82.5,
          60.5,
          50.4,
          75.3,
          67.8,
          76.7,
          66,
          30,
          46.3,
          66.1,
          79.9,
          92.9,
          83.8,
          74.3,
          72.5,
          52.4,
          33.9,
          63.5,
          45.1,
          71.1,
          33.4
         ]
        }
       ],
       "layout": {
        "height": 800,
        "template": {
         "data": {
          "bar": [
           {
            "error_x": {
             "color": "#f2f5fa"
            },
            "error_y": {
             "color": "#f2f5fa"
            },
            "marker": {
             "line": {
              "color": "rgb(17,17,17)",
              "width": 0.5
             },
             "pattern": {
              "fillmode": "overlay",
              "size": 10,
              "solidity": 0.2
             }
            },
            "type": "bar"
           }
          ],
          "barpolar": [
           {
            "marker": {
             "line": {
              "color": "rgb(17,17,17)",
              "width": 0.5
             },
             "pattern": {
              "fillmode": "overlay",
              "size": 10,
              "solidity": 0.2
             }
            },
            "type": "barpolar"
           }
          ],
          "carpet": [
           {
            "aaxis": {
             "endlinecolor": "#A2B1C6",
             "gridcolor": "#506784",
             "linecolor": "#506784",
             "minorgridcolor": "#506784",
             "startlinecolor": "#A2B1C6"
            },
            "baxis": {
             "endlinecolor": "#A2B1C6",
             "gridcolor": "#506784",
             "linecolor": "#506784",
             "minorgridcolor": "#506784",
             "startlinecolor": "#A2B1C6"
            },
            "type": "carpet"
           }
          ],
          "choropleth": [
           {
            "colorbar": {
             "outlinewidth": 0,
             "ticks": ""
            },
            "type": "choropleth"
           }
          ],
          "contour": [
           {
            "colorbar": {
             "outlinewidth": 0,
             "ticks": ""
            },
            "colorscale": [
             [
              0,
              "#0d0887"
             ],
             [
              0.1111111111111111,
              "#46039f"
             ],
             [
              0.2222222222222222,
              "#7201a8"
             ],
             [
              0.3333333333333333,
              "#9c179e"
             ],
             [
              0.4444444444444444,
              "#bd3786"
             ],
             [
              0.5555555555555556,
              "#d8576b"
             ],
             [
              0.6666666666666666,
              "#ed7953"
             ],
             [
              0.7777777777777778,
              "#fb9f3a"
             ],
             [
              0.8888888888888888,
              "#fdca26"
             ],
             [
              1,
              "#f0f921"
             ]
            ],
            "type": "contour"
           }
          ],
          "contourcarpet": [
           {
            "colorbar": {
             "outlinewidth": 0,
             "ticks": ""
            },
            "type": "contourcarpet"
           }
          ],
          "heatmap": [
           {
            "colorbar": {
             "outlinewidth": 0,
             "ticks": ""
            },
            "colorscale": [
             [
              0,
              "#0d0887"
             ],
             [
              0.1111111111111111,
              "#46039f"
             ],
             [
              0.2222222222222222,
              "#7201a8"
             ],
             [
              0.3333333333333333,
              "#9c179e"
             ],
             [
              0.4444444444444444,
              "#bd3786"
             ],
             [
              0.5555555555555556,
              "#d8576b"
             ],
             [
              0.6666666666666666,
              "#ed7953"
             ],
             [
              0.7777777777777778,
              "#fb9f3a"
             ],
             [
              0.8888888888888888,
              "#fdca26"
             ],
             [
              1,
              "#f0f921"
             ]
            ],
            "type": "heatmap"
           }
          ],
          "heatmapgl": [
           {
            "colorbar": {
             "outlinewidth": 0,
             "ticks": ""
            },
            "colorscale": [
             [
              0,
              "#0d0887"
             ],
             [
              0.1111111111111111,
              "#46039f"
             ],
             [
              0.2222222222222222,
              "#7201a8"
             ],
             [
              0.3333333333333333,
              "#9c179e"
             ],
             [
              0.4444444444444444,
              "#bd3786"
             ],
             [
              0.5555555555555556,
              "#d8576b"
             ],
             [
              0.6666666666666666,
              "#ed7953"
             ],
             [
              0.7777777777777778,
              "#fb9f3a"
             ],
             [
              0.8888888888888888,
              "#fdca26"
             ],
             [
              1,
              "#f0f921"
             ]
            ],
            "type": "heatmapgl"
           }
          ],
          "histogram": [
           {
            "marker": {
             "pattern": {
              "fillmode": "overlay",
              "size": 10,
              "solidity": 0.2
             }
            },
            "type": "histogram"
           }
          ],
          "histogram2d": [
           {
            "colorbar": {
             "outlinewidth": 0,
             "ticks": ""
            },
            "colorscale": [
             [
              0,
              "#0d0887"
             ],
             [
              0.1111111111111111,
              "#46039f"
             ],
             [
              0.2222222222222222,
              "#7201a8"
             ],
             [
              0.3333333333333333,
              "#9c179e"
             ],
             [
              0.4444444444444444,
              "#bd3786"
             ],
             [
              0.5555555555555556,
              "#d8576b"
             ],
             [
              0.6666666666666666,
              "#ed7953"
             ],
             [
              0.7777777777777778,
              "#fb9f3a"
             ],
             [
              0.8888888888888888,
              "#fdca26"
             ],
             [
              1,
              "#f0f921"
             ]
            ],
            "type": "histogram2d"
           }
          ],
          "histogram2dcontour": [
           {
            "colorbar": {
             "outlinewidth": 0,
             "ticks": ""
            },
            "colorscale": [
             [
              0,
              "#0d0887"
             ],
             [
              0.1111111111111111,
              "#46039f"
             ],
             [
              0.2222222222222222,
              "#7201a8"
             ],
             [
              0.3333333333333333,
              "#9c179e"
             ],
             [
              0.4444444444444444,
              "#bd3786"
             ],
             [
              0.5555555555555556,
              "#d8576b"
             ],
             [
              0.6666666666666666,
              "#ed7953"
             ],
             [
              0.7777777777777778,
              "#fb9f3a"
             ],
             [
              0.8888888888888888,
              "#fdca26"
             ],
             [
              1,
              "#f0f921"
             ]
            ],
            "type": "histogram2dcontour"
           }
          ],
          "mesh3d": [
           {
            "colorbar": {
             "outlinewidth": 0,
             "ticks": ""
            },
            "type": "mesh3d"
           }
          ],
          "parcoords": [
           {
            "line": {
             "colorbar": {
              "outlinewidth": 0,
              "ticks": ""
             }
            },
            "type": "parcoords"
           }
          ],
          "pie": [
           {
            "automargin": true,
            "type": "pie"
           }
          ],
          "scatter": [
           {
            "marker": {
             "line": {
              "color": "#283442"
             }
            },
            "type": "scatter"
           }
          ],
          "scatter3d": [
           {
            "line": {
             "colorbar": {
              "outlinewidth": 0,
              "ticks": ""
             }
            },
            "marker": {
             "colorbar": {
              "outlinewidth": 0,
              "ticks": ""
             }
            },
            "type": "scatter3d"
           }
          ],
          "scattercarpet": [
           {
            "marker": {
             "colorbar": {
              "outlinewidth": 0,
              "ticks": ""
             }
            },
            "type": "scattercarpet"
           }
          ],
          "scattergeo": [
           {
            "marker": {
             "colorbar": {
              "outlinewidth": 0,
              "ticks": ""
             }
            },
            "type": "scattergeo"
           }
          ],
          "scattergl": [
           {
            "marker": {
             "line": {
              "color": "#283442"
             }
            },
            "type": "scattergl"
           }
          ],
          "scattermapbox": [
           {
            "marker": {
             "colorbar": {
              "outlinewidth": 0,
              "ticks": ""
             }
            },
            "type": "scattermapbox"
           }
          ],
          "scatterpolar": [
           {
            "marker": {
             "colorbar": {
              "outlinewidth": 0,
              "ticks": ""
             }
            },
            "type": "scatterpolar"
           }
          ],
          "scatterpolargl": [
           {
            "marker": {
             "colorbar": {
              "outlinewidth": 0,
              "ticks": ""
             }
            },
            "type": "scatterpolargl"
           }
          ],
          "scatterternary": [
           {
            "marker": {
             "colorbar": {
              "outlinewidth": 0,
              "ticks": ""
             }
            },
            "type": "scatterternary"
           }
          ],
          "surface": [
           {
            "colorbar": {
             "outlinewidth": 0,
             "ticks": ""
            },
            "colorscale": [
             [
              0,
              "#0d0887"
             ],
             [
              0.1111111111111111,
              "#46039f"
             ],
             [
              0.2222222222222222,
              "#7201a8"
             ],
             [
              0.3333333333333333,
              "#9c179e"
             ],
             [
              0.4444444444444444,
              "#bd3786"
             ],
             [
              0.5555555555555556,
              "#d8576b"
             ],
             [
              0.6666666666666666,
              "#ed7953"
             ],
             [
              0.7777777777777778,
              "#fb9f3a"
             ],
             [
              0.8888888888888888,
              "#fdca26"
             ],
             [
              1,
              "#f0f921"
             ]
            ],
            "type": "surface"
           }
          ],
          "table": [
           {
            "cells": {
             "fill": {
              "color": "#506784"
             },
             "line": {
              "color": "rgb(17,17,17)"
             }
            },
            "header": {
             "fill": {
              "color": "#2a3f5f"
             },
             "line": {
              "color": "rgb(17,17,17)"
             }
            },
            "type": "table"
           }
          ]
         },
         "layout": {
          "annotationdefaults": {
           "arrowcolor": "#f2f5fa",
           "arrowhead": 0,
           "arrowwidth": 1
          },
          "autotypenumbers": "strict",
          "coloraxis": {
           "colorbar": {
            "outlinewidth": 0,
            "ticks": ""
           }
          },
          "colorscale": {
           "diverging": [
            [
             0,
             "#8e0152"
            ],
            [
             0.1,
             "#c51b7d"
            ],
            [
             0.2,
             "#de77ae"
            ],
            [
             0.3,
             "#f1b6da"
            ],
            [
             0.4,
             "#fde0ef"
            ],
            [
             0.5,
             "#f7f7f7"
            ],
            [
             0.6,
             "#e6f5d0"
            ],
            [
             0.7,
             "#b8e186"
            ],
            [
             0.8,
             "#7fbc41"
            ],
            [
             0.9,
             "#4d9221"
            ],
            [
             1,
             "#276419"
            ]
           ],
           "sequential": [
            [
             0,
             "#0d0887"
            ],
            [
             0.1111111111111111,
             "#46039f"
            ],
            [
             0.2222222222222222,
             "#7201a8"
            ],
            [
             0.3333333333333333,
             "#9c179e"
            ],
            [
             0.4444444444444444,
             "#bd3786"
            ],
            [
             0.5555555555555556,
             "#d8576b"
            ],
            [
             0.6666666666666666,
             "#ed7953"
            ],
            [
             0.7777777777777778,
             "#fb9f3a"
            ],
            [
             0.8888888888888888,
             "#fdca26"
            ],
            [
             1,
             "#f0f921"
            ]
           ],
           "sequentialminus": [
            [
             0,
             "#0d0887"
            ],
            [
             0.1111111111111111,
             "#46039f"
            ],
            [
             0.2222222222222222,
             "#7201a8"
            ],
            [
             0.3333333333333333,
             "#9c179e"
            ],
            [
             0.4444444444444444,
             "#bd3786"
            ],
            [
             0.5555555555555556,
             "#d8576b"
            ],
            [
             0.6666666666666666,
             "#ed7953"
            ],
            [
             0.7777777777777778,
             "#fb9f3a"
            ],
            [
             0.8888888888888888,
             "#fdca26"
            ],
            [
             1,
             "#f0f921"
            ]
           ]
          },
          "colorway": [
           "#636efa",
           "#EF553B",
           "#00cc96",
           "#ab63fa",
           "#FFA15A",
           "#19d3f3",
           "#FF6692",
           "#B6E880",
           "#FF97FF",
           "#FECB52"
          ],
          "font": {
           "color": "#f2f5fa"
          },
          "geo": {
           "bgcolor": "rgb(17,17,17)",
           "lakecolor": "rgb(17,17,17)",
           "landcolor": "rgb(17,17,17)",
           "showlakes": true,
           "showland": true,
           "subunitcolor": "#506784"
          },
          "hoverlabel": {
           "align": "left"
          },
          "hovermode": "closest",
          "mapbox": {
           "style": "dark"
          },
          "paper_bgcolor": "rgb(17,17,17)",
          "plot_bgcolor": "rgb(17,17,17)",
          "polar": {
           "angularaxis": {
            "gridcolor": "#506784",
            "linecolor": "#506784",
            "ticks": ""
           },
           "bgcolor": "rgb(17,17,17)",
           "radialaxis": {
            "gridcolor": "#506784",
            "linecolor": "#506784",
            "ticks": ""
           }
          },
          "scene": {
           "xaxis": {
            "backgroundcolor": "rgb(17,17,17)",
            "gridcolor": "#506784",
            "gridwidth": 2,
            "linecolor": "#506784",
            "showbackground": true,
            "ticks": "",
            "zerolinecolor": "#C8D4E3"
           },
           "yaxis": {
            "backgroundcolor": "rgb(17,17,17)",
            "gridcolor": "#506784",
            "gridwidth": 2,
            "linecolor": "#506784",
            "showbackground": true,
            "ticks": "",
            "zerolinecolor": "#C8D4E3"
           },
           "zaxis": {
            "backgroundcolor": "rgb(17,17,17)",
            "gridcolor": "#506784",
            "gridwidth": 2,
            "linecolor": "#506784",
            "showbackground": true,
            "ticks": "",
            "zerolinecolor": "#C8D4E3"
           }
          },
          "shapedefaults": {
           "line": {
            "color": "#f2f5fa"
           }
          },
          "sliderdefaults": {
           "bgcolor": "#C8D4E3",
           "bordercolor": "rgb(17,17,17)",
           "borderwidth": 1,
           "tickwidth": 0
          },
          "ternary": {
           "aaxis": {
            "gridcolor": "#506784",
            "linecolor": "#506784",
            "ticks": ""
           },
           "baxis": {
            "gridcolor": "#506784",
            "linecolor": "#506784",
            "ticks": ""
           },
           "bgcolor": "rgb(17,17,17)",
           "caxis": {
            "gridcolor": "#506784",
            "linecolor": "#506784",
            "ticks": ""
           }
          },
          "title": {
           "x": 0.05
          },
          "updatemenudefaults": {
           "bgcolor": "#506784",
           "borderwidth": 0
          },
          "xaxis": {
           "automargin": true,
           "gridcolor": "#283442",
           "linecolor": "#506784",
           "ticks": "",
           "title": {
            "standoff": 15
           },
           "zerolinecolor": "#283442",
           "zerolinewidth": 2
          },
          "yaxis": {
           "automargin": true,
           "gridcolor": "#283442",
           "linecolor": "#506784",
           "ticks": "",
           "title": {
            "standoff": 15
           },
           "zerolinecolor": "#283442",
           "zerolinewidth": 2
          }
         }
        },
        "title": {
         "text": "Relationship of business fredooom with governmental variables and 2019 Score"
        },
        "width": 2000,
        "xaxis": {
         "title": {
          "text": "2019 Score, Property Rights, Judical Effectiveness, Government Integrity"
         }
        },
        "yaxis": {
         "title": {
          "text": "Business Freedom"
         }
        }
       }
      }
     },
     "metadata": {},
     "output_type": "display_data"
    }
   ],
   "source": [
    "# hacemos un plot relacionando la variable business freedom con otras variables gubernamentales por ciudades\n",
    "size = df['Business Freedom'] / df['Business Freedom'].mean() * 20 + 5 #  toma el valor de \"Business Freedom\" para cada país y lo normaliza dividiéndolo por la media de todos los valores de \"Business Freedom\". Luego, se multiplica por 20 para obtener un valor adecuado para el tamaño del marcador y se agrega 5 para asegurarse de que los marcadores sean lo suficientemente grandes para ser visibles en el gráfico\n",
    "fig = go.Figure()\n",
    "for col in ['2019 Score','Property Rights', 'Judical Effectiveness', 'Government Integrity']:\n",
    "    fig.add_scatter(x=df[col], y=df['Business Freedom'], name=col, mode='markers', text=df['Country'],\n",
    "                    marker=dict(size=size, sizemode='diameter'))\n",
    "fig.update_layout(title = 'Relationship of business fredooom with governmental variables and 2019 Score',xaxis_title=\"2019 Score, Property Rights, Judical Effectiveness, Government Integrity\",\n",
    "                  yaxis_title=\"Business Freedom\" , width=2000, height=800)\n",
    "\n",
    "fig.show()"
   ]
  },
  {
   "attachments": {},
   "cell_type": "markdown",
   "metadata": {},
   "source": [
    "**Se puede observar que la libertad empresarial esta estrechamente relacionada con el 2019 Score, los derechos de propiedad, la eficacia judicial y la integridad del gobierno**"
   ]
  },
  {
   "attachments": {},
   "cell_type": "markdown",
   "metadata": {},
   "source": [
    "<p style=\"color:white; font-size:20px;\">Invest Freedom analysis </p>"
   ]
  },
  {
   "cell_type": "code",
   "execution_count": 49,
   "metadata": {},
   "outputs": [
    {
     "data": {
      "application/vnd.plotly.v1+json": {
       "config": {
        "plotlyServerURL": "https://plot.ly"
       },
       "data": [
        {
         "marker": {
          "color": [
           10,
           70,
           30,
           30,
           55,
           75,
           80,
           90,
           60,
           50,
           75,
           45,
           70,
           30,
           85,
           55,
           70,
           20,
           15,
           65,
           65,
           50,
           65,
           70,
           65,
           30,
           50,
           60,
           30,
           80,
           80,
           45,
           60,
           85,
           25,
           80,
           45,
           30,
           45,
           70,
           75,
           75,
           10,
           75,
           80,
           90,
           80,
           70,
           70,
           35,
           60,
           75,
           40,
           0,
           90,
           50,
           35,
           55,
           85,
           75,
           60,
           65,
           80,
           80,
           70,
           55,
           70,
           50,
           30,
           55,
           45,
           65,
           90,
           80,
           85,
           40,
           45,
           5,
           57.255434782608695,
           90,
           75,
           85,
           80,
           70,
           70,
           50,
           55,
           25,
           0,
           70,
           65,
           55,
           60,
           35,
           85,
           60,
           55,
           55,
           5,
           85,
           80,
           95,
           85,
           65,
           55,
           50,
           60,
           35,
           65,
           85,
           50,
           80,
           75,
           35,
           55,
           50,
           75,
           65,
           35,
           65,
           10,
           90,
           80,
           60,
           55,
           45,
           75,
           65,
           55,
           75,
           25,
           75,
           75,
           60,
           80,
           70,
           60,
           70,
           30,
           60,
           65,
           70,
           55,
           60,
           45,
           60,
           70,
           55,
           60,
           85,
           75,
           70,
           15,
           57.255434782608695,
           45,
           85,
           40,
           5,
           40,
           85,
           85,
           0,
           60,
           25,
           55,
           55,
           45,
           65,
           40,
           60,
           45,
           70,
           10,
           55,
           35,
           40,
           90,
           85,
           85,
           10,
           65,
           0,
           30,
           50,
           55,
           25
          ],
          "colorscale": [
           [
            0,
            "#0d0887"
           ],
           [
            0.1111111111111111,
            "#46039f"
           ],
           [
            0.2222222222222222,
            "#7201a8"
           ],
           [
            0.3333333333333333,
            "#9c179e"
           ],
           [
            0.4444444444444444,
            "#bd3786"
           ],
           [
            0.5555555555555556,
            "#d8576b"
           ],
           [
            0.6666666666666666,
            "#ed7953"
           ],
           [
            0.7777777777777778,
            "#fb9f3a"
           ],
           [
            0.8888888888888888,
            "#fdca26"
           ],
           [
            1,
            "#f0f921"
           ]
          ],
          "size": [
           10,
           70,
           30,
           30,
           55,
           75,
           80,
           90,
           60,
           50,
           75,
           45,
           70,
           30,
           85,
           55,
           70,
           20,
           15,
           65,
           65,
           50,
           65,
           70,
           65,
           30,
           50,
           60,
           30,
           80,
           80,
           45,
           60,
           85,
           25,
           80,
           45,
           30,
           45,
           70,
           75,
           75,
           10,
           75,
           80,
           90,
           80,
           70,
           70,
           35,
           60,
           75,
           40,
           0,
           90,
           50,
           35,
           55,
           85,
           75,
           60,
           65,
           80,
           80,
           70,
           55,
           70,
           50,
           30,
           55,
           45,
           65,
           90,
           80,
           85,
           40,
           45,
           5,
           57.255434782608695,
           90,
           75,
           85,
           80,
           70,
           70,
           50,
           55,
           25,
           0,
           70,
           65,
           55,
           60,
           35,
           85,
           60,
           55,
           55,
           5,
           85,
           80,
           95,
           85,
           65,
           55,
           50,
           60,
           35,
           65,
           85,
           50,
           80,
           75,
           35,
           55,
           50,
           75,
           65,
           35,
           65,
           10,
           90,
           80,
           60,
           55,
           45,
           75,
           65,
           55,
           75,
           25,
           75,
           75,
           60,
           80,
           70,
           60,
           70,
           30,
           60,
           65,
           70,
           55,
           60,
           45,
           60,
           70,
           55,
           60,
           85,
           75,
           70,
           15,
           57.255434782608695,
           45,
           85,
           40,
           5,
           40,
           85,
           85,
           0,
           60,
           25,
           55,
           55,
           45,
           65,
           40,
           60,
           45,
           70,
           10,
           55,
           35,
           40,
           90,
           85,
           85,
           10,
           65,
           0,
           30,
           50,
           55,
           25
          ],
          "sizemode": "diameter"
         },
         "mode": "markers",
         "text": [
          "Afghanistan",
          "Albania",
          "Algeria",
          "Angola",
          "Argentina",
          "Armenia",
          "Australia",
          "Austria",
          "Azerbaijan",
          "Bahamas",
          "Bahrain",
          "Bangladesh",
          "Barbados",
          "Belarus",
          "Belgium",
          "Belize",
          "Benin",
          "Bhutan",
          "Bolivia",
          "Bosnia and Herzegovina",
          "Botswana",
          "Brazil",
          "Brunei Darussalam",
          "Bulgaria",
          "Burkina Faso",
          "Burma",
          "Burundi",
          "Cambodia",
          "Cameroon",
          "Canada",
          "Cabo Verde",
          "Central African Republic",
          "Chad",
          "Chile",
          "China",
          "Colombia",
          "Comoros",
          "Congo, Democratic Republic of the Congo",
          "Congo, Republic of",
          "Costa Rica",
          "Cï¿½te d'Ivoire",
          "Croatia",
          "Cuba",
          "Cyprus",
          "Czech Republic",
          "Denmark",
          "Djibouti",
          "Dominica",
          "Dominican Republic",
          "Ecuador",
          "Egypt",
          "El Salvador",
          "Equatorial Guinea",
          "Eritrea",
          "Estonia",
          "Eswatini",
          "Ethiopia",
          "Fiji",
          "Finland",
          "France",
          "Gabon",
          "Gambia",
          "Georgia",
          "Germany",
          "Ghana",
          "Greece",
          "Guatemala",
          "Guinea",
          "Guinea-Bissau",
          "Guyana",
          "Haiti",
          "Honduras",
          "Hong Kong",
          "Hungary",
          "Iceland",
          "India",
          "Indonesia",
          "Iran",
          "Iraq",
          "Ireland",
          "Israel",
          "Italy",
          "Jamaica",
          "Japan",
          "Jordan",
          "Kazakhstan",
          "Kenya",
          "Kiribati",
          "Korea, North ",
          "Korea, South",
          "Kosovo",
          "Kuwait",
          "Kyrgyz Republic",
          "Laos",
          "Latvia",
          "Lebanon",
          "Lesotho",
          "Liberia",
          "Libya",
          "Liechtenstein",
          "Lithuania",
          "Luxembourg",
          "Macau",
          "Macedonia",
          "Madagascar",
          "Malawi",
          "Malaysia",
          "Maldives",
          "Mali",
          "Malta",
          "Mauritania",
          "Mauritius",
          "Mexico",
          "Micronesia",
          "Moldova",
          "Mongolia",
          "Montenegro",
          "Morocco",
          "Mozambique",
          "Namibia",
          "Nepal",
          "Netherlands",
          "New Zealand",
          "Nicaragua",
          "Niger",
          "Nigeria",
          "Norway",
          "Oman",
          "Pakistan",
          "Panama",
          "Papua New Guinea",
          "Paraguay",
          "Peru",
          "Philippines",
          "Poland",
          "Portugal",
          "Qatar",
          "Romania",
          "Russia",
          "Rwanda",
          "Saint Lucia",
          "Saint Vincent and the Grenadines",
          "Samoa",
          "Sï¿½o Tomï¿½ and Prï¿½ncipe",
          "Saudi Arabia",
          "Senegal",
          "Serbia",
          "Seychelles",
          "Sierra Leone",
          "Singapore",
          "Slovakia",
          "Slovenia",
          "Solomon Islands",
          "Somalia",
          "South Africa",
          "Spain",
          "Sri Lanka",
          "Sudan",
          "Suriname",
          "Sweden",
          "Switzerland",
          "Syria",
          "Taiwan ",
          "Tajikistan",
          "Tanzania",
          "Thailand",
          "Timor-Leste",
          "Togo",
          "Tonga",
          "Trinidad and Tobago",
          "Tunisia",
          "Turkey",
          "Turkmenistan",
          "Uganda",
          "Ukraine",
          "United Arab Emirates",
          "United Kingdom",
          "United States",
          "Uruguay",
          "Uzbekistan",
          "Vanuatu",
          "Venezuela",
          "Vietnam",
          "Yemen",
          "Zambia",
          "Zimbabwe"
         ],
         "type": "scatter",
         "x": [
          10,
          70,
          30,
          40,
          60,
          70,
          90,
          70,
          60,
          60,
          80,
          30,
          60,
          10,
          70,
          50,
          50,
          30,
          40,
          60,
          70,
          50,
          50,
          60,
          40,
          20,
          30,
          50,
          50,
          80,
          60,
          30,
          40,
          70,
          20,
          70,
          30,
          20,
          30,
          50,
          50,
          60,
          10,
          60,
          80,
          80,
          50,
          30,
          40,
          40,
          50,
          60,
          30,
          20,
          70,
          40,
          20,
          50,
          80,
          70,
          40,
          50,
          70,
          70,
          60,
          50,
          50,
          40,
          30,
          30,
          30,
          60,
          90,
          70,
          70,
          40,
          60,
          10,
          48.78453038674033,
          70,
          70,
          50,
          50,
          60,
          60,
          50,
          50,
          30,
          0,
          70,
          30,
          60,
          50,
          20,
          60,
          50,
          40,
          20,
          48.78453038674033,
          80,
          70,
          80,
          70,
          60,
          50,
          50,
          50,
          30,
          40,
          60,
          40,
          70,
          60,
          30,
          50,
          60,
          50,
          70,
          50,
          40,
          30,
          80,
          80,
          50,
          40,
          40,
          60,
          60,
          40,
          70,
          30,
          60,
          60,
          60,
          70,
          60,
          60,
          50,
          30,
          40,
          40,
          40,
          30,
          30,
          50,
          40,
          50,
          30,
          20,
          80,
          70,
          50,
          30,
          48.78453038674033,
          50,
          70,
          40,
          20,
          30,
          80,
          90,
          48.78453038674033,
          60,
          30,
          50,
          60,
          20,
          30,
          20,
          50,
          30,
          60,
          10,
          40,
          30,
          60,
          80,
          80,
          30,
          10,
          40,
          10,
          40,
          48.78453038674033,
          50,
          10
         ],
         "y": [
          10,
          70,
          30,
          30,
          55,
          75,
          80,
          90,
          60,
          50,
          75,
          45,
          70,
          30,
          85,
          55,
          70,
          20,
          15,
          65,
          65,
          50,
          65,
          70,
          65,
          30,
          50,
          60,
          30,
          80,
          80,
          45,
          60,
          85,
          25,
          80,
          45,
          30,
          45,
          70,
          75,
          75,
          10,
          75,
          80,
          90,
          80,
          70,
          70,
          35,
          60,
          75,
          40,
          0,
          90,
          50,
          35,
          55,
          85,
          75,
          60,
          65,
          80,
          80,
          70,
          55,
          70,
          50,
          30,
          55,
          45,
          65,
          90,
          80,
          85,
          40,
          45,
          5,
          57.255434782608695,
          90,
          75,
          85,
          80,
          70,
          70,
          50,
          55,
          25,
          0,
          70,
          65,
          55,
          60,
          35,
          85,
          60,
          55,
          55,
          5,
          85,
          80,
          95,
          85,
          65,
          55,
          50,
          60,
          35,
          65,
          85,
          50,
          80,
          75,
          35,
          55,
          50,
          75,
          65,
          35,
          65,
          10,
          90,
          80,
          60,
          55,
          45,
          75,
          65,
          55,
          75,
          25,
          75,
          75,
          60,
          80,
          70,
          60,
          70,
          30,
          60,
          65,
          70,
          55,
          60,
          45,
          60,
          70,
          55,
          60,
          85,
          75,
          70,
          15,
          57.255434782608695,
          45,
          85,
          40,
          5,
          40,
          85,
          85,
          0,
          60,
          25,
          55,
          55,
          45,
          65,
          40,
          60,
          45,
          70,
          10,
          55,
          35,
          40,
          90,
          85,
          85,
          10,
          65,
          0,
          30,
          50,
          55,
          25
         ]
        }
       ],
       "layout": {
        "height": 800,
        "template": {
         "data": {
          "bar": [
           {
            "error_x": {
             "color": "#f2f5fa"
            },
            "error_y": {
             "color": "#f2f5fa"
            },
            "marker": {
             "line": {
              "color": "rgb(17,17,17)",
              "width": 0.5
             },
             "pattern": {
              "fillmode": "overlay",
              "size": 10,
              "solidity": 0.2
             }
            },
            "type": "bar"
           }
          ],
          "barpolar": [
           {
            "marker": {
             "line": {
              "color": "rgb(17,17,17)",
              "width": 0.5
             },
             "pattern": {
              "fillmode": "overlay",
              "size": 10,
              "solidity": 0.2
             }
            },
            "type": "barpolar"
           }
          ],
          "carpet": [
           {
            "aaxis": {
             "endlinecolor": "#A2B1C6",
             "gridcolor": "#506784",
             "linecolor": "#506784",
             "minorgridcolor": "#506784",
             "startlinecolor": "#A2B1C6"
            },
            "baxis": {
             "endlinecolor": "#A2B1C6",
             "gridcolor": "#506784",
             "linecolor": "#506784",
             "minorgridcolor": "#506784",
             "startlinecolor": "#A2B1C6"
            },
            "type": "carpet"
           }
          ],
          "choropleth": [
           {
            "colorbar": {
             "outlinewidth": 0,
             "ticks": ""
            },
            "type": "choropleth"
           }
          ],
          "contour": [
           {
            "colorbar": {
             "outlinewidth": 0,
             "ticks": ""
            },
            "colorscale": [
             [
              0,
              "#0d0887"
             ],
             [
              0.1111111111111111,
              "#46039f"
             ],
             [
              0.2222222222222222,
              "#7201a8"
             ],
             [
              0.3333333333333333,
              "#9c179e"
             ],
             [
              0.4444444444444444,
              "#bd3786"
             ],
             [
              0.5555555555555556,
              "#d8576b"
             ],
             [
              0.6666666666666666,
              "#ed7953"
             ],
             [
              0.7777777777777778,
              "#fb9f3a"
             ],
             [
              0.8888888888888888,
              "#fdca26"
             ],
             [
              1,
              "#f0f921"
             ]
            ],
            "type": "contour"
           }
          ],
          "contourcarpet": [
           {
            "colorbar": {
             "outlinewidth": 0,
             "ticks": ""
            },
            "type": "contourcarpet"
           }
          ],
          "heatmap": [
           {
            "colorbar": {
             "outlinewidth": 0,
             "ticks": ""
            },
            "colorscale": [
             [
              0,
              "#0d0887"
             ],
             [
              0.1111111111111111,
              "#46039f"
             ],
             [
              0.2222222222222222,
              "#7201a8"
             ],
             [
              0.3333333333333333,
              "#9c179e"
             ],
             [
              0.4444444444444444,
              "#bd3786"
             ],
             [
              0.5555555555555556,
              "#d8576b"
             ],
             [
              0.6666666666666666,
              "#ed7953"
             ],
             [
              0.7777777777777778,
              "#fb9f3a"
             ],
             [
              0.8888888888888888,
              "#fdca26"
             ],
             [
              1,
              "#f0f921"
             ]
            ],
            "type": "heatmap"
           }
          ],
          "heatmapgl": [
           {
            "colorbar": {
             "outlinewidth": 0,
             "ticks": ""
            },
            "colorscale": [
             [
              0,
              "#0d0887"
             ],
             [
              0.1111111111111111,
              "#46039f"
             ],
             [
              0.2222222222222222,
              "#7201a8"
             ],
             [
              0.3333333333333333,
              "#9c179e"
             ],
             [
              0.4444444444444444,
              "#bd3786"
             ],
             [
              0.5555555555555556,
              "#d8576b"
             ],
             [
              0.6666666666666666,
              "#ed7953"
             ],
             [
              0.7777777777777778,
              "#fb9f3a"
             ],
             [
              0.8888888888888888,
              "#fdca26"
             ],
             [
              1,
              "#f0f921"
             ]
            ],
            "type": "heatmapgl"
           }
          ],
          "histogram": [
           {
            "marker": {
             "pattern": {
              "fillmode": "overlay",
              "size": 10,
              "solidity": 0.2
             }
            },
            "type": "histogram"
           }
          ],
          "histogram2d": [
           {
            "colorbar": {
             "outlinewidth": 0,
             "ticks": ""
            },
            "colorscale": [
             [
              0,
              "#0d0887"
             ],
             [
              0.1111111111111111,
              "#46039f"
             ],
             [
              0.2222222222222222,
              "#7201a8"
             ],
             [
              0.3333333333333333,
              "#9c179e"
             ],
             [
              0.4444444444444444,
              "#bd3786"
             ],
             [
              0.5555555555555556,
              "#d8576b"
             ],
             [
              0.6666666666666666,
              "#ed7953"
             ],
             [
              0.7777777777777778,
              "#fb9f3a"
             ],
             [
              0.8888888888888888,
              "#fdca26"
             ],
             [
              1,
              "#f0f921"
             ]
            ],
            "type": "histogram2d"
           }
          ],
          "histogram2dcontour": [
           {
            "colorbar": {
             "outlinewidth": 0,
             "ticks": ""
            },
            "colorscale": [
             [
              0,
              "#0d0887"
             ],
             [
              0.1111111111111111,
              "#46039f"
             ],
             [
              0.2222222222222222,
              "#7201a8"
             ],
             [
              0.3333333333333333,
              "#9c179e"
             ],
             [
              0.4444444444444444,
              "#bd3786"
             ],
             [
              0.5555555555555556,
              "#d8576b"
             ],
             [
              0.6666666666666666,
              "#ed7953"
             ],
             [
              0.7777777777777778,
              "#fb9f3a"
             ],
             [
              0.8888888888888888,
              "#fdca26"
             ],
             [
              1,
              "#f0f921"
             ]
            ],
            "type": "histogram2dcontour"
           }
          ],
          "mesh3d": [
           {
            "colorbar": {
             "outlinewidth": 0,
             "ticks": ""
            },
            "type": "mesh3d"
           }
          ],
          "parcoords": [
           {
            "line": {
             "colorbar": {
              "outlinewidth": 0,
              "ticks": ""
             }
            },
            "type": "parcoords"
           }
          ],
          "pie": [
           {
            "automargin": true,
            "type": "pie"
           }
          ],
          "scatter": [
           {
            "marker": {
             "line": {
              "color": "#283442"
             }
            },
            "type": "scatter"
           }
          ],
          "scatter3d": [
           {
            "line": {
             "colorbar": {
              "outlinewidth": 0,
              "ticks": ""
             }
            },
            "marker": {
             "colorbar": {
              "outlinewidth": 0,
              "ticks": ""
             }
            },
            "type": "scatter3d"
           }
          ],
          "scattercarpet": [
           {
            "marker": {
             "colorbar": {
              "outlinewidth": 0,
              "ticks": ""
             }
            },
            "type": "scattercarpet"
           }
          ],
          "scattergeo": [
           {
            "marker": {
             "colorbar": {
              "outlinewidth": 0,
              "ticks": ""
             }
            },
            "type": "scattergeo"
           }
          ],
          "scattergl": [
           {
            "marker": {
             "line": {
              "color": "#283442"
             }
            },
            "type": "scattergl"
           }
          ],
          "scattermapbox": [
           {
            "marker": {
             "colorbar": {
              "outlinewidth": 0,
              "ticks": ""
             }
            },
            "type": "scattermapbox"
           }
          ],
          "scatterpolar": [
           {
            "marker": {
             "colorbar": {
              "outlinewidth": 0,
              "ticks": ""
             }
            },
            "type": "scatterpolar"
           }
          ],
          "scatterpolargl": [
           {
            "marker": {
             "colorbar": {
              "outlinewidth": 0,
              "ticks": ""
             }
            },
            "type": "scatterpolargl"
           }
          ],
          "scatterternary": [
           {
            "marker": {
             "colorbar": {
              "outlinewidth": 0,
              "ticks": ""
             }
            },
            "type": "scatterternary"
           }
          ],
          "surface": [
           {
            "colorbar": {
             "outlinewidth": 0,
             "ticks": ""
            },
            "colorscale": [
             [
              0,
              "#0d0887"
             ],
             [
              0.1111111111111111,
              "#46039f"
             ],
             [
              0.2222222222222222,
              "#7201a8"
             ],
             [
              0.3333333333333333,
              "#9c179e"
             ],
             [
              0.4444444444444444,
              "#bd3786"
             ],
             [
              0.5555555555555556,
              "#d8576b"
             ],
             [
              0.6666666666666666,
              "#ed7953"
             ],
             [
              0.7777777777777778,
              "#fb9f3a"
             ],
             [
              0.8888888888888888,
              "#fdca26"
             ],
             [
              1,
              "#f0f921"
             ]
            ],
            "type": "surface"
           }
          ],
          "table": [
           {
            "cells": {
             "fill": {
              "color": "#506784"
             },
             "line": {
              "color": "rgb(17,17,17)"
             }
            },
            "header": {
             "fill": {
              "color": "#2a3f5f"
             },
             "line": {
              "color": "rgb(17,17,17)"
             }
            },
            "type": "table"
           }
          ]
         },
         "layout": {
          "annotationdefaults": {
           "arrowcolor": "#f2f5fa",
           "arrowhead": 0,
           "arrowwidth": 1
          },
          "autotypenumbers": "strict",
          "coloraxis": {
           "colorbar": {
            "outlinewidth": 0,
            "ticks": ""
           }
          },
          "colorscale": {
           "diverging": [
            [
             0,
             "#8e0152"
            ],
            [
             0.1,
             "#c51b7d"
            ],
            [
             0.2,
             "#de77ae"
            ],
            [
             0.3,
             "#f1b6da"
            ],
            [
             0.4,
             "#fde0ef"
            ],
            [
             0.5,
             "#f7f7f7"
            ],
            [
             0.6,
             "#e6f5d0"
            ],
            [
             0.7,
             "#b8e186"
            ],
            [
             0.8,
             "#7fbc41"
            ],
            [
             0.9,
             "#4d9221"
            ],
            [
             1,
             "#276419"
            ]
           ],
           "sequential": [
            [
             0,
             "#0d0887"
            ],
            [
             0.1111111111111111,
             "#46039f"
            ],
            [
             0.2222222222222222,
             "#7201a8"
            ],
            [
             0.3333333333333333,
             "#9c179e"
            ],
            [
             0.4444444444444444,
             "#bd3786"
            ],
            [
             0.5555555555555556,
             "#d8576b"
            ],
            [
             0.6666666666666666,
             "#ed7953"
            ],
            [
             0.7777777777777778,
             "#fb9f3a"
            ],
            [
             0.8888888888888888,
             "#fdca26"
            ],
            [
             1,
             "#f0f921"
            ]
           ],
           "sequentialminus": [
            [
             0,
             "#0d0887"
            ],
            [
             0.1111111111111111,
             "#46039f"
            ],
            [
             0.2222222222222222,
             "#7201a8"
            ],
            [
             0.3333333333333333,
             "#9c179e"
            ],
            [
             0.4444444444444444,
             "#bd3786"
            ],
            [
             0.5555555555555556,
             "#d8576b"
            ],
            [
             0.6666666666666666,
             "#ed7953"
            ],
            [
             0.7777777777777778,
             "#fb9f3a"
            ],
            [
             0.8888888888888888,
             "#fdca26"
            ],
            [
             1,
             "#f0f921"
            ]
           ]
          },
          "colorway": [
           "#636efa",
           "#EF553B",
           "#00cc96",
           "#ab63fa",
           "#FFA15A",
           "#19d3f3",
           "#FF6692",
           "#B6E880",
           "#FF97FF",
           "#FECB52"
          ],
          "font": {
           "color": "#f2f5fa"
          },
          "geo": {
           "bgcolor": "rgb(17,17,17)",
           "lakecolor": "rgb(17,17,17)",
           "landcolor": "rgb(17,17,17)",
           "showlakes": true,
           "showland": true,
           "subunitcolor": "#506784"
          },
          "hoverlabel": {
           "align": "left"
          },
          "hovermode": "closest",
          "mapbox": {
           "style": "dark"
          },
          "paper_bgcolor": "rgb(17,17,17)",
          "plot_bgcolor": "rgb(17,17,17)",
          "polar": {
           "angularaxis": {
            "gridcolor": "#506784",
            "linecolor": "#506784",
            "ticks": ""
           },
           "bgcolor": "rgb(17,17,17)",
           "radialaxis": {
            "gridcolor": "#506784",
            "linecolor": "#506784",
            "ticks": ""
           }
          },
          "scene": {
           "xaxis": {
            "backgroundcolor": "rgb(17,17,17)",
            "gridcolor": "#506784",
            "gridwidth": 2,
            "linecolor": "#506784",
            "showbackground": true,
            "ticks": "",
            "zerolinecolor": "#C8D4E3"
           },
           "yaxis": {
            "backgroundcolor": "rgb(17,17,17)",
            "gridcolor": "#506784",
            "gridwidth": 2,
            "linecolor": "#506784",
            "showbackground": true,
            "ticks": "",
            "zerolinecolor": "#C8D4E3"
           },
           "zaxis": {
            "backgroundcolor": "rgb(17,17,17)",
            "gridcolor": "#506784",
            "gridwidth": 2,
            "linecolor": "#506784",
            "showbackground": true,
            "ticks": "",
            "zerolinecolor": "#C8D4E3"
           }
          },
          "shapedefaults": {
           "line": {
            "color": "#f2f5fa"
           }
          },
          "sliderdefaults": {
           "bgcolor": "#C8D4E3",
           "bordercolor": "rgb(17,17,17)",
           "borderwidth": 1,
           "tickwidth": 0
          },
          "ternary": {
           "aaxis": {
            "gridcolor": "#506784",
            "linecolor": "#506784",
            "ticks": ""
           },
           "baxis": {
            "gridcolor": "#506784",
            "linecolor": "#506784",
            "ticks": ""
           },
           "bgcolor": "rgb(17,17,17)",
           "caxis": {
            "gridcolor": "#506784",
            "linecolor": "#506784",
            "ticks": ""
           }
          },
          "title": {
           "x": 0.05
          },
          "updatemenudefaults": {
           "bgcolor": "#506784",
           "borderwidth": 0
          },
          "xaxis": {
           "automargin": true,
           "gridcolor": "#283442",
           "linecolor": "#506784",
           "ticks": "",
           "title": {
            "standoff": 15
           },
           "zerolinecolor": "#283442",
           "zerolinewidth": 2
          },
          "yaxis": {
           "automargin": true,
           "gridcolor": "#283442",
           "linecolor": "#506784",
           "ticks": "",
           "title": {
            "standoff": 15
           },
           "zerolinecolor": "#283442",
           "zerolinewidth": 2
          }
         }
        },
        "title": {
         "text": "Relationship of Financial Freedom and Investment Freedom"
        },
        "width": 2000,
        "xaxis": {
         "title": {
          "text": "Financial Freedom"
         }
        },
        "yaxis": {
         "title": {
          "text": "Investment Freedom"
         }
        }
       }
      }
     },
     "metadata": {},
     "output_type": "display_data"
    }
   ],
   "source": [
    "# relacionamos Financial Freedom con Investmen Freedom por ciudades \n",
    "fig = go.Figure()\n",
    "fig.add_scatter(x=df['Financial Freedom'], y=df['Investment Freedom'], mode='markers',\n",
    "                text=df['Country'], marker=dict(size=df['Investment Freedom'], sizemode='diameter'),\n",
    "                marker_color=df['Investment Freedom'], marker_colorscale='Plasma')\n",
    "\n",
    "fig.update_layout(title = \"Relationship of Financial Freedom and Investment Freedom\", xaxis_title=\"Financial Freedom\", yaxis_title=\"Investment Freedom\", width=2000, height=800,  showlegend=True)\n",
    "fig.show()"
   ]
  },
  {
   "attachments": {},
   "cell_type": "markdown",
   "metadata": {},
   "source": [
    "<p style=\"color:white; font-size:20px;\">GPD analysis </p>"
   ]
  },
  {
   "cell_type": "code",
   "execution_count": null,
   "metadata": {},
   "outputs": [
    {
     "data": {
      "application/vnd.plotly.v1+json": {
       "config": {
        "plotlyServerURL": "https://plot.ly"
       },
       "data": [
        {
         "marker": {
          "color": "#19D3F3",
          "opacity": 0.8,
          "reversescale": true,
          "size": [
           0.030052981333471507,
           0.01554464551731285,
           0.2732835041085362,
           0.08217072338735099,
           0.397338411250869,
           0.012219818559443157,
           0.5382333510369574,
           0.18981739359474248,
           0.07418250277428742,
           0.0050088302222452506,
           0.030398417900522907,
           0.2966868315262683,
           0.002245337685834078,
           0.07724825230686858,
           0.22820403210832893,
           0.0013817462682055867,
           0.01092443143300042,
           0.003022569961699721,
           0.03609812125687095,
           0.019258088613115364,
           0.016796853072874162,
           1.3991476352708008,
           0.014465156245277234,
           0.06610792301946103,
           0.01545828637555,
           0.14193124948724262,
           0.0034543656705139664,
           0.027764464076756003,
           0.03838663851358645,
           0.7639761476050451,
           0.0015976441226127095,
           0.0014681054099684359,
           0.01234935727208743,
           0.1947830442461063,
           10,
           0.3083021360933715,
           0.0005613344214585195,
           0.029578006053775835,
           0.012478895984731704,
           0.03622765996951522,
           0.04184100418410042,
           0.043740905302883104,
           0.06390576490450839,
           0.013644744398530168,
           0.16222564780151216,
           0.12383900928792571,
           0.001554464551731285,
           0.0003454365670513967,
           0.07444158019957597,
           0.08316385351762373,
           0.518673005427672,
           0.024612355402412012,
           0.013126589547953073,
           0.00405887966285391,
           0.017962701486672623,
           0.004879291509600978,
           0.086445500904612,
           0.0037566226666839383,
           0.10535815295067598,
           1.2244862710554383,
           0.015846902513482822,
           0.001554464551731285,
           0.01714228963992556,
           1.8009335423224564,
           0.05773108626846466,
           0.12897737822281521,
           0.059501448674603066,
           0.011442586283577515,
           0.0013385666973241618,
           0.002720312965529749,
           0.008592734605403492,
           0.019948961747218157,
           0.19642386793960043,
           0.12478895984731704,
           0.007599604475130727,
           4.084355609673951,
           1.4002271245428364,
           0.7101744022867901,
           0.28446701296682514,
           0.1542374271884486,
           0.1366633418397088,
           0.9978367034988406,
           0.011269868000051817,
           2.344132544010778,
           0.0384729976553493,
           0.2062256305296838,
           0.07042588010760349,
           0.00008635914176284917,
           0.01727182835256983,
           0.8761134931841047,
           0.008463195892759217,
           0.12586844911935266,
           0.009931301302727652,
           0.02124434887366089,
           0.02327378870508785,
           0.03786848366300936,
           0.003022569961699721,
           0.002633953823766899,
           0.02780764364763743,
           0.002633953823766899,
           0.03937976864385921,
           0.02707359094265321,
           0.03100293189286285,
           0.01338566697324162,
           0.01714228963992556,
           0.009672223877439105,
           0.40191544576429994,
           0.0029793903908182963,
           0.01770362406138408,
           0.008333657180114945,
           0.007470065762486452,
           0.01187438199239176,
           1.0615265705489418,
           0.00012953871264427373,
           0.008679093747166342,
           0.01714228963992556,
           0.004749752796956703,
           0.1289341986519338,
           0.015846902513482822,
           0.011442586283577515,
           0.03393914271279972,
           0.39556804884473057,
           0.08143667068236675,
           0.015717363800838546,
           0.009413146452150557,
           0.48309303902137823,
           0.1640823693494134,
           0.08057307926473826,
           0.45640806421665786,
           0.04486357414580014,
           0.013083409977071648,
           0.029491646912012986,
           0.18325409882076593,
           0.3780803226377536,
           0.4840429895807696,
           0.13532477514238464,
           0.14706961842213212,
           0.20790963379405936,
           1.7305508417857343,
           0.010622174436830445,
           0.0010794892720356144,
           0.0005613344214585195,
           0.0004749752796956704,
           0.000302256996169972,
           0.7658328691529463,
           0.018653574620775416,
           0.04555444727990293,
           0.0011658484137984635,
           0.004965650651363826,
           0.22755633854510754,
           0.0774641501612757,
           0.030700674896692877,
           0.0005613344214585195,
           0.08074579754826396,
           0.3305827946681866,
           0.7659624078655907,
           0.11861428121127332,
           0.08074579754826396,
           0.0036702635249210892,
           0.22492238472134063,
           0.22332474059872792,
           0.2970266664192594,
           0.5118938127992885,
           0.012262998130324582,
           0.07003726396967067,
           0.532706365964135,
           0.0029362108199368717,
           0.0055701646437037716,
           0.00025907742528854746,
           0.01856721547901257,
           0.05846513897344888,
           0.938378434395119,
           0.04469085586227445,
           0.0383002793718236,
           0.15924625741069384,
           0.29655729281362403,
           1.2582526954847122,
           8.372777871333515,
           0.0337232448583926,
           0.09611772478205112,
           0.0003454365670513967,
           0.16438462634558337,
           0.27954454188634276,
           0.01666731436022989,
           0.029750724337301533,
           0.014681054099684357
          ],
          "sizemode": "diameter",
          "sizeref": 0.1
         },
         "mode": "markers",
         "name": "Population (Millions)",
         "text": [
          "Afghanistan",
          "Albania",
          "Algeria",
          "Angola",
          "Argentina",
          "Armenia",
          "Australia",
          "Austria",
          "Azerbaijan",
          "Bahamas",
          "Bahrain",
          "Bangladesh",
          "Barbados",
          "Belarus",
          "Belgium",
          "Belize",
          "Benin",
          "Bhutan",
          "Bolivia",
          "Bosnia and Herzegovina",
          "Botswana",
          "Brazil",
          "Brunei Darussalam",
          "Bulgaria",
          "Burkina Faso",
          "Burma",
          "Burundi",
          "Cambodia",
          "Cameroon",
          "Canada",
          "Cabo Verde",
          "Central African Republic",
          "Chad",
          "Chile",
          "China",
          "Colombia",
          "Comoros",
          "Congo, Democratic Republic of the Congo",
          "Congo, Republic of",
          "Costa Rica",
          "Cï¿½te d'Ivoire",
          "Croatia",
          "Cuba",
          "Cyprus",
          "Czech Republic",
          "Denmark",
          "Djibouti",
          "Dominica",
          "Dominican Republic",
          "Ecuador",
          "Egypt",
          "El Salvador",
          "Equatorial Guinea",
          "Eritrea",
          "Estonia",
          "Eswatini",
          "Ethiopia",
          "Fiji",
          "Finland",
          "France",
          "Gabon",
          "Gambia",
          "Georgia",
          "Germany",
          "Ghana",
          "Greece",
          "Guatemala",
          "Guinea",
          "Guinea-Bissau",
          "Guyana",
          "Haiti",
          "Honduras",
          "Hong Kong",
          "Hungary",
          "Iceland",
          "India",
          "Indonesia",
          "Iran",
          "Iraq",
          "Ireland",
          "Israel",
          "Italy",
          "Jamaica",
          "Japan",
          "Jordan",
          "Kazakhstan",
          "Kenya",
          "Kiribati",
          "Korea, North ",
          "Korea, South",
          "Kosovo",
          "Kuwait",
          "Kyrgyz Republic",
          "Laos",
          "Latvia",
          "Lebanon",
          "Lesotho",
          "Liberia",
          "Libya",
          "Liechtenstein",
          "Lithuania",
          "Luxembourg",
          "Macau",
          "Macedonia",
          "Madagascar",
          "Malawi",
          "Malaysia",
          "Maldives",
          "Mali",
          "Malta",
          "Mauritania",
          "Mauritius",
          "Mexico",
          "Micronesia",
          "Moldova",
          "Mongolia",
          "Montenegro",
          "Morocco",
          "Mozambique",
          "Namibia",
          "Nepal",
          "Netherlands",
          "New Zealand",
          "Nicaragua",
          "Niger",
          "Nigeria",
          "Norway",
          "Oman",
          "Pakistan",
          "Panama",
          "Papua New Guinea",
          "Paraguay",
          "Peru",
          "Philippines",
          "Poland",
          "Portugal",
          "Qatar",
          "Romania",
          "Russia",
          "Rwanda",
          "Saint Lucia",
          "Saint Vincent and the Grenadines",
          "Samoa",
          "Sï¿½o Tomï¿½ and Prï¿½ncipe",
          "Saudi Arabia",
          "Senegal",
          "Serbia",
          "Seychelles",
          "Sierra Leone",
          "Singapore",
          "Slovakia",
          "Slovenia",
          "Solomon Islands",
          "Somalia",
          "South Africa",
          "Spain",
          "Sri Lanka",
          "Sudan",
          "Suriname",
          "Sweden",
          "Switzerland",
          "Syria",
          "Taiwan ",
          "Tajikistan",
          "Tanzania",
          "Thailand",
          "Timor-Leste",
          "Togo",
          "Tonga",
          "Trinidad and Tobago",
          "Tunisia",
          "Turkey",
          "Turkmenistan",
          "Uganda",
          "Ukraine",
          "United Arab Emirates",
          "United Kingdom",
          "United States",
          "Uruguay",
          "Uzbekistan",
          "Vanuatu",
          "Venezuela",
          "Vietnam",
          "Yemen",
          "Zambia",
          "Zimbabwe"
         ],
         "type": "scatter",
         "x": [
          355,
          29,
          415,
          282,
          441,
          30,
          248,
          88,
          98,
          4,
          15,
          1632,
          3,
          95,
          114,
          4,
          111,
          8,
          111,
          35,
          22,
          2077,
          4,
          71,
          189,
          526,
          109,
          160,
          243,
          367,
          5,
          50,
          122,
          184,
          13901,
          493,
          8,
          867,
          43,
          50,
          250,
          41,
          115,
          9,
          106,
          57,
          10,
          1,
          102,
          168,
          948,
          64,
          8,
          59,
          13,
          11,
          927,
          9,
          55,
          648,
          19,
          21,
          37,
          827,
          283,
          108,
          169,
          130,
          17,
          8,
          110,
          83,
          74,
          98,
          3,
          13169,
          2620,
          814,
          389,
          47,
          87,
          606,
          28,
          1267,
          71,
          182,
          467,
          1,
          254,
          515,
          19,
          44,
          63,
          67,
          20,
          45,
          19,
          45,
          64,
          39,
          28,
          6,
          6,
          21,
          256,
          192,
          321,
          4,
          189,
          5,
          39,
          13,
          1235,
          1,
          35,
          31,
          6,
          349,
          295,
          23,
          293,
          171,
          48,
          62,
          188,
          1887,
          53,
          41,
          1973,
          41,
          83,
          70,
          318,
          1053,
          380,
          103,
          27,
          196,
          1440,
          118,
          2,
          1,
          2,
          2,
          324,
          159,
          70,
          1,
          74,
          56,
          54,
          21,
          6,
          143,
          565,
          463,
          214,
          408,
          6,
          101,
          84,
          184,
          236,
          88,
          500,
          691,
          12,
          78,
          1,
          14,
          115,
          808,
          57,
          377,
          423,
          101,
          661,
          3259,
          35,
          321,
          3,
          314,
          936,
          300,
          172,
          149
         ],
         "y": [
          696,
          360,
          6329,
          1903,
          9202,
          283,
          12465,
          4396,
          1718,
          116,
          704,
          6871,
          52,
          1789,
          5285,
          32,
          253,
          70,
          836,
          446,
          389,
          32403,
          335,
          1531,
          358,
          3287,
          80,
          643,
          889,
          17693,
          37,
          34,
          286,
          4511,
          231591,
          7140,
          13,
          685,
          289,
          839,
          969,
          1013,
          1480,
          316,
          3757,
          2868,
          36,
          8,
          1724,
          1926,
          12012,
          570,
          304,
          94,
          416,
          113,
          2002,
          87,
          2440,
          28358,
          367,
          36,
          397,
          41708,
          1337,
          2987,
          1378,
          265,
          31,
          63,
          199,
          462,
          4549,
          2890,
          176,
          94590,
          32428,
          16447,
          6588,
          3572,
          3165,
          23109,
          261,
          54288,
          891,
          4776,
          1631,
          2,
          400,
          20290,
          196,
          2915,
          230,
          492,
          539,
          877,
          70,
          61,
          644,
          61,
          912,
          627,
          718,
          310,
          397,
          224,
          9308,
          69,
          410,
          193,
          173,
          275,
          24584,
          3,
          201,
          397,
          110,
          2986,
          367,
          265,
          786,
          9161,
          1886,
          364,
          218,
          11188,
          3800,
          1866,
          10570,
          1039,
          303,
          683,
          4244,
          8756,
          11210,
          3134,
          3406,
          4815,
          40078,
          246,
          25,
          13,
          11,
          7,
          17736,
          432,
          1055,
          27,
          115,
          5270,
          1794,
          711,
          13,
          1870,
          7656,
          17739,
          2747,
          1870,
          85,
          5209,
          5172,
          6878.87027027027,
          11855,
          284,
          1622,
          12337,
          68,
          129,
          6,
          430,
          1354,
          21732,
          1035,
          887,
          3688,
          6868,
          29140,
          193906,
          781,
          2226,
          8,
          3807,
          6474,
          386,
          689,
          340
         ]
        },
        {
         "marker": {
          "color": "#FF6692",
          "opacity": 0.8,
          "reversescale": true,
          "size": [
           0.030052981333471507,
           0.01554464551731285,
           0.2732835041085362,
           0.08217072338735099,
           0.397338411250869,
           0.012219818559443157,
           0.5382333510369574,
           0.18981739359474248,
           0.07418250277428742,
           0.0050088302222452506,
           0.030398417900522907,
           0.2966868315262683,
           0.002245337685834078,
           0.07724825230686858,
           0.22820403210832893,
           0.0013817462682055867,
           0.01092443143300042,
           0.003022569961699721,
           0.03609812125687095,
           0.019258088613115364,
           0.016796853072874162,
           1.3991476352708008,
           0.014465156245277234,
           0.06610792301946103,
           0.01545828637555,
           0.14193124948724262,
           0.0034543656705139664,
           0.027764464076756003,
           0.03838663851358645,
           0.7639761476050451,
           0.0015976441226127095,
           0.0014681054099684359,
           0.01234935727208743,
           0.1947830442461063,
           10,
           0.3083021360933715,
           0.0005613344214585195,
           0.029578006053775835,
           0.012478895984731704,
           0.03622765996951522,
           0.04184100418410042,
           0.043740905302883104,
           0.06390576490450839,
           0.013644744398530168,
           0.16222564780151216,
           0.12383900928792571,
           0.001554464551731285,
           0.0003454365670513967,
           0.07444158019957597,
           0.08316385351762373,
           0.518673005427672,
           0.024612355402412012,
           0.013126589547953073,
           0.00405887966285391,
           0.017962701486672623,
           0.004879291509600978,
           0.086445500904612,
           0.0037566226666839383,
           0.10535815295067598,
           1.2244862710554383,
           0.015846902513482822,
           0.001554464551731285,
           0.01714228963992556,
           1.8009335423224564,
           0.05773108626846466,
           0.12897737822281521,
           0.059501448674603066,
           0.011442586283577515,
           0.0013385666973241618,
           0.002720312965529749,
           0.008592734605403492,
           0.019948961747218157,
           0.19642386793960043,
           0.12478895984731704,
           0.007599604475130727,
           4.084355609673951,
           1.4002271245428364,
           0.7101744022867901,
           0.28446701296682514,
           0.1542374271884486,
           0.1366633418397088,
           0.9978367034988406,
           0.011269868000051817,
           2.344132544010778,
           0.0384729976553493,
           0.2062256305296838,
           0.07042588010760349,
           0.00008635914176284917,
           0.01727182835256983,
           0.8761134931841047,
           0.008463195892759217,
           0.12586844911935266,
           0.009931301302727652,
           0.02124434887366089,
           0.02327378870508785,
           0.03786848366300936,
           0.003022569961699721,
           0.002633953823766899,
           0.02780764364763743,
           0.002633953823766899,
           0.03937976864385921,
           0.02707359094265321,
           0.03100293189286285,
           0.01338566697324162,
           0.01714228963992556,
           0.009672223877439105,
           0.40191544576429994,
           0.0029793903908182963,
           0.01770362406138408,
           0.008333657180114945,
           0.007470065762486452,
           0.01187438199239176,
           1.0615265705489418,
           0.00012953871264427373,
           0.008679093747166342,
           0.01714228963992556,
           0.004749752796956703,
           0.1289341986519338,
           0.015846902513482822,
           0.011442586283577515,
           0.03393914271279972,
           0.39556804884473057,
           0.08143667068236675,
           0.015717363800838546,
           0.009413146452150557,
           0.48309303902137823,
           0.1640823693494134,
           0.08057307926473826,
           0.45640806421665786,
           0.04486357414580014,
           0.013083409977071648,
           0.029491646912012986,
           0.18325409882076593,
           0.3780803226377536,
           0.4840429895807696,
           0.13532477514238464,
           0.14706961842213212,
           0.20790963379405936,
           1.7305508417857343,
           0.010622174436830445,
           0.0010794892720356144,
           0.0005613344214585195,
           0.0004749752796956704,
           0.000302256996169972,
           0.7658328691529463,
           0.018653574620775416,
           0.04555444727990293,
           0.0011658484137984635,
           0.004965650651363826,
           0.22755633854510754,
           0.0774641501612757,
           0.030700674896692877,
           0.0005613344214585195,
           0.08074579754826396,
           0.3305827946681866,
           0.7659624078655907,
           0.11861428121127332,
           0.08074579754826396,
           0.0036702635249210892,
           0.22492238472134063,
           0.22332474059872792,
           0.2970266664192594,
           0.5118938127992885,
           0.012262998130324582,
           0.07003726396967067,
           0.532706365964135,
           0.0029362108199368717,
           0.0055701646437037716,
           0.00025907742528854746,
           0.01856721547901257,
           0.05846513897344888,
           0.938378434395119,
           0.04469085586227445,
           0.0383002793718236,
           0.15924625741069384,
           0.29655729281362403,
           1.2582526954847122,
           8.372777871333515,
           0.0337232448583926,
           0.09611772478205112,
           0.0003454365670513967,
           0.16438462634558337,
           0.27954454188634276,
           0.01666731436022989,
           0.029750724337301533,
           0.014681054099684357
          ],
          "sizemode": "diameter",
          "sizeref": 0.1
         },
         "mode": "markers",
         "name": "FDI Inflow (Millions)",
         "text": [
          "Afghanistan",
          "Albania",
          "Algeria",
          "Angola",
          "Argentina",
          "Armenia",
          "Australia",
          "Austria",
          "Azerbaijan",
          "Bahamas",
          "Bahrain",
          "Bangladesh",
          "Barbados",
          "Belarus",
          "Belgium",
          "Belize",
          "Benin",
          "Bhutan",
          "Bolivia",
          "Bosnia and Herzegovina",
          "Botswana",
          "Brazil",
          "Brunei Darussalam",
          "Bulgaria",
          "Burkina Faso",
          "Burma",
          "Burundi",
          "Cambodia",
          "Cameroon",
          "Canada",
          "Cabo Verde",
          "Central African Republic",
          "Chad",
          "Chile",
          "China",
          "Colombia",
          "Comoros",
          "Congo, Democratic Republic of the Congo",
          "Congo, Republic of",
          "Costa Rica",
          "Cï¿½te d'Ivoire",
          "Croatia",
          "Cuba",
          "Cyprus",
          "Czech Republic",
          "Denmark",
          "Djibouti",
          "Dominica",
          "Dominican Republic",
          "Ecuador",
          "Egypt",
          "El Salvador",
          "Equatorial Guinea",
          "Eritrea",
          "Estonia",
          "Eswatini",
          "Ethiopia",
          "Fiji",
          "Finland",
          "France",
          "Gabon",
          "Gambia",
          "Georgia",
          "Germany",
          "Ghana",
          "Greece",
          "Guatemala",
          "Guinea",
          "Guinea-Bissau",
          "Guyana",
          "Haiti",
          "Honduras",
          "Hong Kong",
          "Hungary",
          "Iceland",
          "India",
          "Indonesia",
          "Iran",
          "Iraq",
          "Ireland",
          "Israel",
          "Italy",
          "Jamaica",
          "Japan",
          "Jordan",
          "Kazakhstan",
          "Kenya",
          "Kiribati",
          "Korea, North ",
          "Korea, South",
          "Kosovo",
          "Kuwait",
          "Kyrgyz Republic",
          "Laos",
          "Latvia",
          "Lebanon",
          "Lesotho",
          "Liberia",
          "Libya",
          "Liechtenstein",
          "Lithuania",
          "Luxembourg",
          "Macau",
          "Macedonia",
          "Madagascar",
          "Malawi",
          "Malaysia",
          "Maldives",
          "Mali",
          "Malta",
          "Mauritania",
          "Mauritius",
          "Mexico",
          "Micronesia",
          "Moldova",
          "Mongolia",
          "Montenegro",
          "Morocco",
          "Mozambique",
          "Namibia",
          "Nepal",
          "Netherlands",
          "New Zealand",
          "Nicaragua",
          "Niger",
          "Nigeria",
          "Norway",
          "Oman",
          "Pakistan",
          "Panama",
          "Papua New Guinea",
          "Paraguay",
          "Peru",
          "Philippines",
          "Poland",
          "Portugal",
          "Qatar",
          "Romania",
          "Russia",
          "Rwanda",
          "Saint Lucia",
          "Saint Vincent and the Grenadines",
          "Samoa",
          "Sï¿½o Tomï¿½ and Prï¿½ncipe",
          "Saudi Arabia",
          "Senegal",
          "Serbia",
          "Seychelles",
          "Sierra Leone",
          "Singapore",
          "Slovakia",
          "Slovenia",
          "Solomon Islands",
          "Somalia",
          "South Africa",
          "Spain",
          "Sri Lanka",
          "Sudan",
          "Suriname",
          "Sweden",
          "Switzerland",
          "Syria",
          "Taiwan ",
          "Tajikistan",
          "Tanzania",
          "Thailand",
          "Timor-Leste",
          "Togo",
          "Tonga",
          "Trinidad and Tobago",
          "Tunisia",
          "Turkey",
          "Turkmenistan",
          "Uganda",
          "Ukraine",
          "United Arab Emirates",
          "United Kingdom",
          "United States",
          "Uruguay",
          "Uzbekistan",
          "Vanuatu",
          "Venezuela",
          "Vietnam",
          "Yemen",
          "Zambia",
          "Zimbabwe"
         ],
         "type": "scatter",
         "x": [
          539,
          11191,
          12030,
          22545,
          118570,
          2457,
          463680,
          96296,
          28670,
          9277,
          5189,
          21516,
          2862,
          12764,
          7404,
          770,
          1844,
          103,
          7247,
          4252,
          4006,
          627126,
          463,
          10707,
          4859,
          43410,
          3,
          27844,
          6725,
          242438,
          1086,
          172,
          3350,
          67296,
          1363200,
          145180,
          86,
          13402,
          11588,
          30071,
          6747,
          21042,
          81281.39779005524,
          63433,
          74122,
          31147,
          1650,
          189,
          35700,
          6064,
          73917,
          7919,
          3041,
          555,
          7844,
          1368,
          35864,
          2990,
          13279,
          497949,
          14980,
          875,
          18619,
          347263,
          32550,
          40460,
          11467,
          5765,
          166,
          2122,
          3749,
          11857,
          1043330,
          24916,
          54,
          399161,
          230631,
          50190,
          50324,
          289746,
          189540,
          170771,
          8880,
          104298,
          16648,
          46337,
          6717,
          14,
          634,
          170528,
          36,
          3005,
          938,
          8130,
          7212,
          26280,
          1350,
          2478,
          81281.39779005524,
          81281.39779005524,
          5954,
          66227,
          19968,
          2563,
          3891,
          2771,
          95434,
          5175,
          2656,
          31852,
          3296,
          2927,
          296950,
          81281.39779005524,
          2138,
          14944,
          5459,
          26514,
          22931,
          4160,
          1980,
          579567,
          35720,
          8966,
          3343,
          35030,
          82969,
          18674,
          28060,
          53192,
          2005,
          3558,
          67695,
          95243,
          64335,
          69456,
          9860,
          51600,
          252840,
          3662,
          924,
          871,
          90,
          410,
          14210,
          5323,
          28667,
          1919,
          5600,
          620060,
          22767,
          7020,
          365,
          3840,
          13247,
          190861,
          13749,
          10653,
          873,
          153957,
          409861,
          81281.39779005524,
          32550,
          1413,
          11804,
          76352,
          67,
          1456,
          138,
          1787,
          8795,
          108640,
          23135,
          6997,
          22020,
          103542,
          150900,
          2753810,
          1246,
          958,
          247,
          680,
          141000,
          2699,
          10912,
          2894
         ],
         "y": [
          696,
          360,
          6329,
          1903,
          9202,
          283,
          12465,
          4396,
          1718,
          116,
          704,
          6871,
          52,
          1789,
          5285,
          32,
          253,
          70,
          836,
          446,
          389,
          32403,
          335,
          1531,
          358,
          3287,
          80,
          643,
          889,
          17693,
          37,
          34,
          286,
          4511,
          231591,
          7140,
          13,
          685,
          289,
          839,
          969,
          1013,
          1480,
          316,
          3757,
          2868,
          36,
          8,
          1724,
          1926,
          12012,
          570,
          304,
          94,
          416,
          113,
          2002,
          87,
          2440,
          28358,
          367,
          36,
          397,
          41708,
          1337,
          2987,
          1378,
          265,
          31,
          63,
          199,
          462,
          4549,
          2890,
          176,
          94590,
          32428,
          16447,
          6588,
          3572,
          3165,
          23109,
          261,
          54288,
          891,
          4776,
          1631,
          2,
          400,
          20290,
          196,
          2915,
          230,
          492,
          539,
          877,
          70,
          61,
          644,
          61,
          912,
          627,
          718,
          310,
          397,
          224,
          9308,
          69,
          410,
          193,
          173,
          275,
          24584,
          3,
          201,
          397,
          110,
          2986,
          367,
          265,
          786,
          9161,
          1886,
          364,
          218,
          11188,
          3800,
          1866,
          10570,
          1039,
          303,
          683,
          4244,
          8756,
          11210,
          3134,
          3406,
          4815,
          40078,
          246,
          25,
          13,
          11,
          7,
          17736,
          432,
          1055,
          27,
          115,
          5270,
          1794,
          711,
          13,
          1870,
          7656,
          17739,
          2747,
          1870,
          85,
          5209,
          5172,
          6878.87027027027,
          11855,
          284,
          1622,
          12337,
          68,
          129,
          6,
          430,
          1354,
          21732,
          1035,
          887,
          3688,
          6868,
          29140,
          193906,
          781,
          2226,
          8,
          3807,
          6474,
          386,
          689,
          340
         ]
        }
       ],
       "layout": {
        "height": 600,
        "legend": {
         "title": {
          "text": "Variable"
         }
        },
        "template": {
         "data": {
          "bar": [
           {
            "error_x": {
             "color": "#f2f5fa"
            },
            "error_y": {
             "color": "#f2f5fa"
            },
            "marker": {
             "line": {
              "color": "rgb(17,17,17)",
              "width": 0.5
             },
             "pattern": {
              "fillmode": "overlay",
              "size": 10,
              "solidity": 0.2
             }
            },
            "type": "bar"
           }
          ],
          "barpolar": [
           {
            "marker": {
             "line": {
              "color": "rgb(17,17,17)",
              "width": 0.5
             },
             "pattern": {
              "fillmode": "overlay",
              "size": 10,
              "solidity": 0.2
             }
            },
            "type": "barpolar"
           }
          ],
          "carpet": [
           {
            "aaxis": {
             "endlinecolor": "#A2B1C6",
             "gridcolor": "#506784",
             "linecolor": "#506784",
             "minorgridcolor": "#506784",
             "startlinecolor": "#A2B1C6"
            },
            "baxis": {
             "endlinecolor": "#A2B1C6",
             "gridcolor": "#506784",
             "linecolor": "#506784",
             "minorgridcolor": "#506784",
             "startlinecolor": "#A2B1C6"
            },
            "type": "carpet"
           }
          ],
          "choropleth": [
           {
            "colorbar": {
             "outlinewidth": 0,
             "ticks": ""
            },
            "type": "choropleth"
           }
          ],
          "contour": [
           {
            "colorbar": {
             "outlinewidth": 0,
             "ticks": ""
            },
            "colorscale": [
             [
              0,
              "#0d0887"
             ],
             [
              0.1111111111111111,
              "#46039f"
             ],
             [
              0.2222222222222222,
              "#7201a8"
             ],
             [
              0.3333333333333333,
              "#9c179e"
             ],
             [
              0.4444444444444444,
              "#bd3786"
             ],
             [
              0.5555555555555556,
              "#d8576b"
             ],
             [
              0.6666666666666666,
              "#ed7953"
             ],
             [
              0.7777777777777778,
              "#fb9f3a"
             ],
             [
              0.8888888888888888,
              "#fdca26"
             ],
             [
              1,
              "#f0f921"
             ]
            ],
            "type": "contour"
           }
          ],
          "contourcarpet": [
           {
            "colorbar": {
             "outlinewidth": 0,
             "ticks": ""
            },
            "type": "contourcarpet"
           }
          ],
          "heatmap": [
           {
            "colorbar": {
             "outlinewidth": 0,
             "ticks": ""
            },
            "colorscale": [
             [
              0,
              "#0d0887"
             ],
             [
              0.1111111111111111,
              "#46039f"
             ],
             [
              0.2222222222222222,
              "#7201a8"
             ],
             [
              0.3333333333333333,
              "#9c179e"
             ],
             [
              0.4444444444444444,
              "#bd3786"
             ],
             [
              0.5555555555555556,
              "#d8576b"
             ],
             [
              0.6666666666666666,
              "#ed7953"
             ],
             [
              0.7777777777777778,
              "#fb9f3a"
             ],
             [
              0.8888888888888888,
              "#fdca26"
             ],
             [
              1,
              "#f0f921"
             ]
            ],
            "type": "heatmap"
           }
          ],
          "heatmapgl": [
           {
            "colorbar": {
             "outlinewidth": 0,
             "ticks": ""
            },
            "colorscale": [
             [
              0,
              "#0d0887"
             ],
             [
              0.1111111111111111,
              "#46039f"
             ],
             [
              0.2222222222222222,
              "#7201a8"
             ],
             [
              0.3333333333333333,
              "#9c179e"
             ],
             [
              0.4444444444444444,
              "#bd3786"
             ],
             [
              0.5555555555555556,
              "#d8576b"
             ],
             [
              0.6666666666666666,
              "#ed7953"
             ],
             [
              0.7777777777777778,
              "#fb9f3a"
             ],
             [
              0.8888888888888888,
              "#fdca26"
             ],
             [
              1,
              "#f0f921"
             ]
            ],
            "type": "heatmapgl"
           }
          ],
          "histogram": [
           {
            "marker": {
             "pattern": {
              "fillmode": "overlay",
              "size": 10,
              "solidity": 0.2
             }
            },
            "type": "histogram"
           }
          ],
          "histogram2d": [
           {
            "colorbar": {
             "outlinewidth": 0,
             "ticks": ""
            },
            "colorscale": [
             [
              0,
              "#0d0887"
             ],
             [
              0.1111111111111111,
              "#46039f"
             ],
             [
              0.2222222222222222,
              "#7201a8"
             ],
             [
              0.3333333333333333,
              "#9c179e"
             ],
             [
              0.4444444444444444,
              "#bd3786"
             ],
             [
              0.5555555555555556,
              "#d8576b"
             ],
             [
              0.6666666666666666,
              "#ed7953"
             ],
             [
              0.7777777777777778,
              "#fb9f3a"
             ],
             [
              0.8888888888888888,
              "#fdca26"
             ],
             [
              1,
              "#f0f921"
             ]
            ],
            "type": "histogram2d"
           }
          ],
          "histogram2dcontour": [
           {
            "colorbar": {
             "outlinewidth": 0,
             "ticks": ""
            },
            "colorscale": [
             [
              0,
              "#0d0887"
             ],
             [
              0.1111111111111111,
              "#46039f"
             ],
             [
              0.2222222222222222,
              "#7201a8"
             ],
             [
              0.3333333333333333,
              "#9c179e"
             ],
             [
              0.4444444444444444,
              "#bd3786"
             ],
             [
              0.5555555555555556,
              "#d8576b"
             ],
             [
              0.6666666666666666,
              "#ed7953"
             ],
             [
              0.7777777777777778,
              "#fb9f3a"
             ],
             [
              0.8888888888888888,
              "#fdca26"
             ],
             [
              1,
              "#f0f921"
             ]
            ],
            "type": "histogram2dcontour"
           }
          ],
          "mesh3d": [
           {
            "colorbar": {
             "outlinewidth": 0,
             "ticks": ""
            },
            "type": "mesh3d"
           }
          ],
          "parcoords": [
           {
            "line": {
             "colorbar": {
              "outlinewidth": 0,
              "ticks": ""
             }
            },
            "type": "parcoords"
           }
          ],
          "pie": [
           {
            "automargin": true,
            "type": "pie"
           }
          ],
          "scatter": [
           {
            "marker": {
             "line": {
              "color": "#283442"
             }
            },
            "type": "scatter"
           }
          ],
          "scatter3d": [
           {
            "line": {
             "colorbar": {
              "outlinewidth": 0,
              "ticks": ""
             }
            },
            "marker": {
             "colorbar": {
              "outlinewidth": 0,
              "ticks": ""
             }
            },
            "type": "scatter3d"
           }
          ],
          "scattercarpet": [
           {
            "marker": {
             "colorbar": {
              "outlinewidth": 0,
              "ticks": ""
             }
            },
            "type": "scattercarpet"
           }
          ],
          "scattergeo": [
           {
            "marker": {
             "colorbar": {
              "outlinewidth": 0,
              "ticks": ""
             }
            },
            "type": "scattergeo"
           }
          ],
          "scattergl": [
           {
            "marker": {
             "line": {
              "color": "#283442"
             }
            },
            "type": "scattergl"
           }
          ],
          "scattermapbox": [
           {
            "marker": {
             "colorbar": {
              "outlinewidth": 0,
              "ticks": ""
             }
            },
            "type": "scattermapbox"
           }
          ],
          "scatterpolar": [
           {
            "marker": {
             "colorbar": {
              "outlinewidth": 0,
              "ticks": ""
             }
            },
            "type": "scatterpolar"
           }
          ],
          "scatterpolargl": [
           {
            "marker": {
             "colorbar": {
              "outlinewidth": 0,
              "ticks": ""
             }
            },
            "type": "scatterpolargl"
           }
          ],
          "scatterternary": [
           {
            "marker": {
             "colorbar": {
              "outlinewidth": 0,
              "ticks": ""
             }
            },
            "type": "scatterternary"
           }
          ],
          "surface": [
           {
            "colorbar": {
             "outlinewidth": 0,
             "ticks": ""
            },
            "colorscale": [
             [
              0,
              "#0d0887"
             ],
             [
              0.1111111111111111,
              "#46039f"
             ],
             [
              0.2222222222222222,
              "#7201a8"
             ],
             [
              0.3333333333333333,
              "#9c179e"
             ],
             [
              0.4444444444444444,
              "#bd3786"
             ],
             [
              0.5555555555555556,
              "#d8576b"
             ],
             [
              0.6666666666666666,
              "#ed7953"
             ],
             [
              0.7777777777777778,
              "#fb9f3a"
             ],
             [
              0.8888888888888888,
              "#fdca26"
             ],
             [
              1,
              "#f0f921"
             ]
            ],
            "type": "surface"
           }
          ],
          "table": [
           {
            "cells": {
             "fill": {
              "color": "#506784"
             },
             "line": {
              "color": "rgb(17,17,17)"
             }
            },
            "header": {
             "fill": {
              "color": "#2a3f5f"
             },
             "line": {
              "color": "rgb(17,17,17)"
             }
            },
            "type": "table"
           }
          ]
         },
         "layout": {
          "annotationdefaults": {
           "arrowcolor": "#f2f5fa",
           "arrowhead": 0,
           "arrowwidth": 1
          },
          "autotypenumbers": "strict",
          "coloraxis": {
           "colorbar": {
            "outlinewidth": 0,
            "ticks": ""
           }
          },
          "colorscale": {
           "diverging": [
            [
             0,
             "#8e0152"
            ],
            [
             0.1,
             "#c51b7d"
            ],
            [
             0.2,
             "#de77ae"
            ],
            [
             0.3,
             "#f1b6da"
            ],
            [
             0.4,
             "#fde0ef"
            ],
            [
             0.5,
             "#f7f7f7"
            ],
            [
             0.6,
             "#e6f5d0"
            ],
            [
             0.7,
             "#b8e186"
            ],
            [
             0.8,
             "#7fbc41"
            ],
            [
             0.9,
             "#4d9221"
            ],
            [
             1,
             "#276419"
            ]
           ],
           "sequential": [
            [
             0,
             "#0d0887"
            ],
            [
             0.1111111111111111,
             "#46039f"
            ],
            [
             0.2222222222222222,
             "#7201a8"
            ],
            [
             0.3333333333333333,
             "#9c179e"
            ],
            [
             0.4444444444444444,
             "#bd3786"
            ],
            [
             0.5555555555555556,
             "#d8576b"
            ],
            [
             0.6666666666666666,
             "#ed7953"
            ],
            [
             0.7777777777777778,
             "#fb9f3a"
            ],
            [
             0.8888888888888888,
             "#fdca26"
            ],
            [
             1,
             "#f0f921"
            ]
           ],
           "sequentialminus": [
            [
             0,
             "#0d0887"
            ],
            [
             0.1111111111111111,
             "#46039f"
            ],
            [
             0.2222222222222222,
             "#7201a8"
            ],
            [
             0.3333333333333333,
             "#9c179e"
            ],
            [
             0.4444444444444444,
             "#bd3786"
            ],
            [
             0.5555555555555556,
             "#d8576b"
            ],
            [
             0.6666666666666666,
             "#ed7953"
            ],
            [
             0.7777777777777778,
             "#fb9f3a"
            ],
            [
             0.8888888888888888,
             "#fdca26"
            ],
            [
             1,
             "#f0f921"
            ]
           ]
          },
          "colorway": [
           "#636efa",
           "#EF553B",
           "#00cc96",
           "#ab63fa",
           "#FFA15A",
           "#19d3f3",
           "#FF6692",
           "#B6E880",
           "#FF97FF",
           "#FECB52"
          ],
          "font": {
           "color": "#f2f5fa"
          },
          "geo": {
           "bgcolor": "rgb(17,17,17)",
           "lakecolor": "rgb(17,17,17)",
           "landcolor": "rgb(17,17,17)",
           "showlakes": true,
           "showland": true,
           "subunitcolor": "#506784"
          },
          "hoverlabel": {
           "align": "left"
          },
          "hovermode": "closest",
          "mapbox": {
           "style": "dark"
          },
          "paper_bgcolor": "rgb(17,17,17)",
          "plot_bgcolor": "rgb(17,17,17)",
          "polar": {
           "angularaxis": {
            "gridcolor": "#506784",
            "linecolor": "#506784",
            "ticks": ""
           },
           "bgcolor": "rgb(17,17,17)",
           "radialaxis": {
            "gridcolor": "#506784",
            "linecolor": "#506784",
            "ticks": ""
           }
          },
          "scene": {
           "xaxis": {
            "backgroundcolor": "rgb(17,17,17)",
            "gridcolor": "#506784",
            "gridwidth": 2,
            "linecolor": "#506784",
            "showbackground": true,
            "ticks": "",
            "zerolinecolor": "#C8D4E3"
           },
           "yaxis": {
            "backgroundcolor": "rgb(17,17,17)",
            "gridcolor": "#506784",
            "gridwidth": 2,
            "linecolor": "#506784",
            "showbackground": true,
            "ticks": "",
            "zerolinecolor": "#C8D4E3"
           },
           "zaxis": {
            "backgroundcolor": "rgb(17,17,17)",
            "gridcolor": "#506784",
            "gridwidth": 2,
            "linecolor": "#506784",
            "showbackground": true,
            "ticks": "",
            "zerolinecolor": "#C8D4E3"
           }
          },
          "shapedefaults": {
           "line": {
            "color": "#f2f5fa"
           }
          },
          "sliderdefaults": {
           "bgcolor": "#C8D4E3",
           "bordercolor": "rgb(17,17,17)",
           "borderwidth": 1,
           "tickwidth": 0
          },
          "ternary": {
           "aaxis": {
            "gridcolor": "#506784",
            "linecolor": "#506784",
            "ticks": ""
           },
           "baxis": {
            "gridcolor": "#506784",
            "linecolor": "#506784",
            "ticks": ""
           },
           "bgcolor": "rgb(17,17,17)",
           "caxis": {
            "gridcolor": "#506784",
            "linecolor": "#506784",
            "ticks": ""
           }
          },
          "title": {
           "x": 0.05
          },
          "updatemenudefaults": {
           "bgcolor": "#506784",
           "borderwidth": 0
          },
          "xaxis": {
           "automargin": true,
           "gridcolor": "#283442",
           "linecolor": "#506784",
           "ticks": "",
           "title": {
            "standoff": 15
           },
           "zerolinecolor": "#283442",
           "zerolinewidth": 2
          },
          "yaxis": {
           "automargin": true,
           "gridcolor": "#283442",
           "linecolor": "#506784",
           "ticks": "",
           "title": {
            "standoff": 15
           },
           "zerolinecolor": "#283442",
           "zerolinewidth": 2
          }
         }
        },
        "width": 1200,
        "xaxis": {
         "title": {
          "text": "'Population (Millions)'/'FDI Inflow (Millions)'"
         }
        },
        "yaxis": {
         "title": {
          "text": "GDP (Billions, PPP)$"
         }
        }
       }
      }
     },
     "metadata": {},
     "output_type": "display_data"
    }
   ],
   "source": [
    "fig = go.Figure()\n",
    "\n",
    "for col, color, name in zip(['Population (Millions)', 'FDI Inflow (Millions)'], ['#19D3F3', '#FF6692'], ['Population (Millions)', 'FDI Inflow (Millions)']):\n",
    "    fig.add_trace(go.Scatter(\n",
    "        x=df[col],\n",
    "        y=df['GDP (Billions, PPP)$'],\n",
    "        mode='markers',\n",
    "        marker=dict(\n",
    "            size=10*(df['GDP (Billions, PPP)$'] / df['GDP (Billions, PPP)$'].max()),\n",
    "            sizemode='diameter',\n",
    "            sizeref=0.5,\n",
    "            color=color,\n",
    "            reversescale=True,\n",
    "            opacity=0.8\n",
    "        ),\n",
    "        text=df['Country'],\n",
    "        name=name\n",
    "    ))\n",
    "\n",
    "fig.update_layout(\n",
    "    width=1200,\n",
    "    height=600,\n",
    "    xaxis_title=\"'Population (Millions)'/'FDI Inflow (Millions)'\",\n",
    "    yaxis_title=\"GDP (Billions, PPP)$\",\n",
    "    legend_title_text='Variable',\n",
    ")\n",
    "\n",
    "fig.show()\n",
    "\n"
   ]
  }
 ],
 "metadata": {
  "kernelspec": {
   "display_name": "venv_analytics",
   "language": "python",
   "name": "python3"
  },
  "language_info": {
   "codemirror_mode": {
    "name": "ipython",
    "version": 3
   },
   "file_extension": ".py",
   "mimetype": "text/x-python",
   "name": "python",
   "nbconvert_exporter": "python",
   "pygments_lexer": "ipython3",
   "version": "3.9.13"
  },
  "orig_nbformat": 4,
  "vscode": {
   "interpreter": {
    "hash": "c42c148c92dad5bebfdc2b48c1563fb28ec608767a5dfadb06d58c80b49c2fbf"
   }
  }
 },
 "nbformat": 4,
 "nbformat_minor": 2
}
