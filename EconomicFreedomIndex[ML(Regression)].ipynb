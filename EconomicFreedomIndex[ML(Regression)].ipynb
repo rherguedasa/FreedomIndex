{
 "cells": [
  {
   "attachments": {},
   "cell_type": "markdown",
   "metadata": {},
   "source": [
    "<p style=\"text-align: center; font-size: 100px; color: white; font-weight: bold;\">INDEX OF ECONOMIC FREEDOM</p>\n",
    "<center><img src=\"heritage.png\"></center>\n",
    "<center>[En línea: www.northafricapost.com]</center>\n",
    "<p style=\"text-align: center; color:white; font-size:50px;\">COMPLETE EDA AND MACHINE LEARNING MODEL</p>\n"
   ]
  },
  {
   "cell_type": "code",
   "execution_count": 15,
   "metadata": {},
   "outputs": [],
   "source": [
    "# librerias básicas\n",
    "import numpy as np \n",
    "import pandas as pd\n",
    "from math import sqrt\n",
    "\n",
    "# ML\n",
    "import sklearn as sklearn\n",
    "from sklearn.impute import KNNImputer\n",
    "from sklearn.preprocessing import StandardScaler\n",
    "from sklearn.linear_model import LinearRegression\n",
    "from sklearn.linear_model import Ridge\n",
    "from sklearn.linear_model import Lasso\n",
    "from sklearn.linear_model import BayesianRidge\n",
    "from sklearn.linear_model import ElasticNet\n",
    "from sklearn.model_selection import train_test_split\n",
    "from sklearn.metrics import mean_absolute_error, mean_squared_error, mean_squared_log_error, r2_score, explained_variance_score, mean_absolute_percentage_error\n",
    "import pycaret\n",
    "from pycaret.regression import *\n",
    "\n",
    "# importamos librerias graficación \n",
    "import plotly.express as px\n",
    "import plotly.graph_objects as go\n",
    "import plotly.io as pio\n",
    "from plotly.subplots import make_subplots\n",
    "pio.templates.default = 'plotly_dark'\n",
    "import folium\n",
    "import matplotlib.pyplot as plt\n",
    "import streamlit as st\n",
    "from geopy.geocoders import Nominatim\n",
    "\n",
    "# quitamos warnings que nos puedan aparecer en las celdas\n",
    "import warnings\n",
    "warnings.filterwarnings('ignore')"
   ]
  },
  {
   "attachments": {},
   "cell_type": "markdown",
   "metadata": {},
   "source": [
    "<p style=\"color:white; font-size:40px;\">MACHINE LEARNING (LR, RIDGE, LASSO)</p>"
   ]
  },
  {
   "cell_type": "code",
   "execution_count": 2,
   "metadata": {},
   "outputs": [],
   "source": [
    "df = pd.read_csv('freedomeconomicindex.csv')"
   ]
  },
  {
   "cell_type": "code",
   "execution_count": 16,
   "metadata": {},
   "outputs": [],
   "source": [
    "# seleccionamos las columnas que vamos a usar para el proyecto y además creamos un nuevo dataframe df2\n",
    "df2 = df[['Property Rights', 'Judical Effectiveness', 'Government Integrity', 'Tax Burden', 'Business Freedom', 'Trade Freedom', 'Investment Freedom', 'Financial Freedom', '2019 Score']]\n",
    "\n",
    "# guardamos una copia de seguridad\n",
    "df2.to_csv(\"mldfeconomic.csv\", index=False)"
   ]
  },
  {
   "cell_type": "code",
   "execution_count": 17,
   "metadata": {},
   "outputs": [],
   "source": [
    "# seleccionamos las variables predictoras\n",
    "X = df2[['Property Rights', 'Judical Effectiveness', 'Government Integrity', 'Tax Burden', 'Business Freedom', 'Trade Freedom', 'Investment Freedom', 'Financial Freedom']]\n",
    "# seleccionamos las variables independientes\n",
    "y = df2['2019 Score']"
   ]
  },
  {
   "cell_type": "code",
   "execution_count": 18,
   "metadata": {},
   "outputs": [],
   "source": [
    "# realizamos una sepración de nuestro dataset con un train_test_split\n",
    "X_train, X_test, y_train, y_test = train_test_split(X, y, test_size=0.3, random_state=123)"
   ]
  },
  {
   "attachments": {},
   "cell_type": "markdown",
   "metadata": {},
   "source": [
    "<p style=\"color:white; font-size:20px;\">LINEAR REGRESSION</p>"
   ]
  },
  {
   "cell_type": "code",
   "execution_count": 19,
   "metadata": {},
   "outputs": [],
   "source": [
    "# Realizar una Regresión Lineal Múltiple\n",
    "lin = LinearRegression().fit(X_train, y_train)\n",
    "\n",
    "# Hacer predicciones utilizando el modelo de regresión en el conjunto de pruebas\n",
    "y_pred = lin.predict(X_test)\n",
    "\n",
    "# Crear un dataframe con los datos reales y las predicciones\n",
    "df_linear = pd.DataFrame({'y_test': y_test, 'y_pred': y_pred})\n",
    "\n",
    "# calculamos las métricas de error\n",
    "mae_lin = mean_absolute_error(y_test, y_pred)\n",
    "mse_lin = mean_squared_error(y_test, y_pred)\n",
    "rmse_lin = sqrt(mse_lin)\n",
    "r2_lin = r2_score(y_test, y_pred)\n",
    "rmsle_lin = sqrt(mean_squared_log_error(y_test, y_pred))\n",
    "mape_lin = np.mean(np.abs((y_test - y_pred) / y_test)) * 100"
   ]
  },
  {
   "attachments": {},
   "cell_type": "markdown",
   "metadata": {},
   "source": [
    "<p style=\"color:white; font-size:20px;\">RIDGE REGRESSION</p>"
   ]
  },
  {
   "cell_type": "code",
   "execution_count": 20,
   "metadata": {},
   "outputs": [],
   "source": [
    "# Realizar una Regresión Lineal Múltiple con Ridge Regression\n",
    "rid = Ridge(alpha=1.0).fit(X_train, y_train)\n",
    "\n",
    "# Hacer predicciones utilizando el modelo de regresión en el conjunto de pruebas\n",
    "y_pred = rid.predict(X_test)\n",
    "\n",
    "# Crear un dataframe con los datos reales y las predicciones\n",
    "df_ridge = pd.DataFrame({'y_test': y_test, 'y_pred': y_pred})\n",
    "\n",
    "# calculamos las métricas de error\n",
    "mae_rid = mean_absolute_error(y_test, y_pred)\n",
    "mse_rid = mean_squared_error(y_test, y_pred)\n",
    "rmse_rid = sqrt(mse_rid)\n",
    "r2_rid = r2_score(y_test, y_pred)\n",
    "rmsle_rid = sqrt(mean_squared_log_error(y_test, y_pred))\n",
    "mape_rid = np.mean(np.abs((y_test - y_pred) / y_test)) * 100"
   ]
  },
  {
   "attachments": {},
   "cell_type": "markdown",
   "metadata": {},
   "source": [
    "<p style=\"color:white; font-size:20px;\">LASSO</p>"
   ]
  },
  {
   "cell_type": "code",
   "execution_count": 21,
   "metadata": {},
   "outputs": [],
   "source": [
    "# realiamos una regresión lasso\n",
    "las = Lasso(alpha=0.1).fit(X_train, y_train)\n",
    "\n",
    "# hacemos las predicciones de nuestro test\n",
    "y_pred = las.predict(X_test)\n",
    "\n",
    "# creamos un dataframe para guardar estas predicciones\n",
    "df_lasso = pd.DataFrame({'y_test': y_test, 'y_pred': y_pred})\n",
    "\n",
    "# calculamos las métricas de error\n",
    "mae_las = mean_absolute_error(y_test, y_pred)\n",
    "mse_las = mean_squared_error(y_test, y_pred)\n",
    "rmse_las = sqrt(mse_las)\n",
    "r2_las = r2_score(y_test, y_pred)\n",
    "rmsle_las = sqrt(mean_squared_log_error(y_test, y_pred))\n",
    "mape_las = np.mean(np.abs((y_test - y_pred) / y_test)) * 100"
   ]
  },
  {
   "attachments": {},
   "cell_type": "markdown",
   "metadata": {},
   "source": [
    "<p style=\"color:white; font-size:20px;\">ML PLOTS</p>"
   ]
  },
  {
   "cell_type": "code",
   "execution_count": 22,
   "metadata": {},
   "outputs": [
    {
     "data": {
      "application/vnd.plotly.v1+json": {
       "config": {
        "plotlyServerURL": "https://plot.ly"
       },
       "data": [
        {
         "name": "Linear Regression",
         "type": "scatter",
         "x": [
          "Property Rights",
          "Judical Effectiveness",
          "Government Integrity",
          "Tax Burden",
          "Business Freedom",
          "Trade Freedom",
          "Investment Freedom",
          "Financial Freedom"
         ],
         "xaxis": "x",
         "y": [
          0.09095377761038571,
          0.11165642495958941,
          0.06784991052630988,
          0.13650763156120707,
          0.0192718304935725,
          0.1538613843611683,
          0.07095354496242647,
          0.14443725821930684
         ],
         "yaxis": "y"
        },
        {
         "name": "Ridge Regression",
         "type": "scatter",
         "x": [
          "Property Rights",
          "Judical Effectiveness",
          "Government Integrity",
          "Tax Burden",
          "Business Freedom",
          "Trade Freedom",
          "Investment Freedom",
          "Financial Freedom"
         ],
         "xaxis": "x2",
         "y": [
          0.09095329119784755,
          0.11165016588459019,
          0.06785005433513991,
          0.13649629941802902,
          0.01928335889174181,
          0.1538464374028359,
          0.0709558293144426,
          0.1444334446882812
         ],
         "yaxis": "y2"
        },
        {
         "name": "Lasso Regression",
         "type": "scatter",
         "x": [
          "Property Rights",
          "Judical Effectiveness",
          "Government Integrity",
          "Tax Burden",
          "Business Freedom",
          "Trade Freedom",
          "Investment Freedom",
          "Financial Freedom"
         ],
         "xaxis": "x3",
         "y": [
          0.09130481013349116,
          0.11132496911136279,
          0.0676790472150804,
          0.13547265298491046,
          0.01924930649846002,
          0.1530631917729551,
          0.07079063491331619,
          0.14439940269698864
         ],
         "yaxis": "y3"
        }
       ],
       "layout": {
        "annotations": [
         {
          "font": {
           "size": 16
          },
          "showarrow": false,
          "text": "Linear Regression",
          "x": 0.5,
          "xanchor": "center",
          "xref": "paper",
          "y": 1,
          "yanchor": "bottom",
          "yref": "paper"
         },
         {
          "font": {
           "size": 16
          },
          "showarrow": false,
          "text": "Ridge Regression",
          "x": 0.5,
          "xanchor": "center",
          "xref": "paper",
          "y": 0.7375,
          "yanchor": "bottom",
          "yref": "paper"
         },
         {
          "font": {
           "size": 16
          },
          "showarrow": false,
          "text": "Lasso Regression",
          "x": 0.5,
          "xanchor": "center",
          "xref": "paper",
          "y": 0.475,
          "yanchor": "bottom",
          "yref": "paper"
         }
        ],
        "height": 1600,
        "template": {
         "data": {
          "bar": [
           {
            "error_x": {
             "color": "#f2f5fa"
            },
            "error_y": {
             "color": "#f2f5fa"
            },
            "marker": {
             "line": {
              "color": "rgb(17,17,17)",
              "width": 0.5
             },
             "pattern": {
              "fillmode": "overlay",
              "size": 10,
              "solidity": 0.2
             }
            },
            "type": "bar"
           }
          ],
          "barpolar": [
           {
            "marker": {
             "line": {
              "color": "rgb(17,17,17)",
              "width": 0.5
             },
             "pattern": {
              "fillmode": "overlay",
              "size": 10,
              "solidity": 0.2
             }
            },
            "type": "barpolar"
           }
          ],
          "carpet": [
           {
            "aaxis": {
             "endlinecolor": "#A2B1C6",
             "gridcolor": "#506784",
             "linecolor": "#506784",
             "minorgridcolor": "#506784",
             "startlinecolor": "#A2B1C6"
            },
            "baxis": {
             "endlinecolor": "#A2B1C6",
             "gridcolor": "#506784",
             "linecolor": "#506784",
             "minorgridcolor": "#506784",
             "startlinecolor": "#A2B1C6"
            },
            "type": "carpet"
           }
          ],
          "choropleth": [
           {
            "colorbar": {
             "outlinewidth": 0,
             "ticks": ""
            },
            "type": "choropleth"
           }
          ],
          "contour": [
           {
            "colorbar": {
             "outlinewidth": 0,
             "ticks": ""
            },
            "colorscale": [
             [
              0,
              "#0d0887"
             ],
             [
              0.1111111111111111,
              "#46039f"
             ],
             [
              0.2222222222222222,
              "#7201a8"
             ],
             [
              0.3333333333333333,
              "#9c179e"
             ],
             [
              0.4444444444444444,
              "#bd3786"
             ],
             [
              0.5555555555555556,
              "#d8576b"
             ],
             [
              0.6666666666666666,
              "#ed7953"
             ],
             [
              0.7777777777777778,
              "#fb9f3a"
             ],
             [
              0.8888888888888888,
              "#fdca26"
             ],
             [
              1,
              "#f0f921"
             ]
            ],
            "type": "contour"
           }
          ],
          "contourcarpet": [
           {
            "colorbar": {
             "outlinewidth": 0,
             "ticks": ""
            },
            "type": "contourcarpet"
           }
          ],
          "heatmap": [
           {
            "colorbar": {
             "outlinewidth": 0,
             "ticks": ""
            },
            "colorscale": [
             [
              0,
              "#0d0887"
             ],
             [
              0.1111111111111111,
              "#46039f"
             ],
             [
              0.2222222222222222,
              "#7201a8"
             ],
             [
              0.3333333333333333,
              "#9c179e"
             ],
             [
              0.4444444444444444,
              "#bd3786"
             ],
             [
              0.5555555555555556,
              "#d8576b"
             ],
             [
              0.6666666666666666,
              "#ed7953"
             ],
             [
              0.7777777777777778,
              "#fb9f3a"
             ],
             [
              0.8888888888888888,
              "#fdca26"
             ],
             [
              1,
              "#f0f921"
             ]
            ],
            "type": "heatmap"
           }
          ],
          "heatmapgl": [
           {
            "colorbar": {
             "outlinewidth": 0,
             "ticks": ""
            },
            "colorscale": [
             [
              0,
              "#0d0887"
             ],
             [
              0.1111111111111111,
              "#46039f"
             ],
             [
              0.2222222222222222,
              "#7201a8"
             ],
             [
              0.3333333333333333,
              "#9c179e"
             ],
             [
              0.4444444444444444,
              "#bd3786"
             ],
             [
              0.5555555555555556,
              "#d8576b"
             ],
             [
              0.6666666666666666,
              "#ed7953"
             ],
             [
              0.7777777777777778,
              "#fb9f3a"
             ],
             [
              0.8888888888888888,
              "#fdca26"
             ],
             [
              1,
              "#f0f921"
             ]
            ],
            "type": "heatmapgl"
           }
          ],
          "histogram": [
           {
            "marker": {
             "pattern": {
              "fillmode": "overlay",
              "size": 10,
              "solidity": 0.2
             }
            },
            "type": "histogram"
           }
          ],
          "histogram2d": [
           {
            "colorbar": {
             "outlinewidth": 0,
             "ticks": ""
            },
            "colorscale": [
             [
              0,
              "#0d0887"
             ],
             [
              0.1111111111111111,
              "#46039f"
             ],
             [
              0.2222222222222222,
              "#7201a8"
             ],
             [
              0.3333333333333333,
              "#9c179e"
             ],
             [
              0.4444444444444444,
              "#bd3786"
             ],
             [
              0.5555555555555556,
              "#d8576b"
             ],
             [
              0.6666666666666666,
              "#ed7953"
             ],
             [
              0.7777777777777778,
              "#fb9f3a"
             ],
             [
              0.8888888888888888,
              "#fdca26"
             ],
             [
              1,
              "#f0f921"
             ]
            ],
            "type": "histogram2d"
           }
          ],
          "histogram2dcontour": [
           {
            "colorbar": {
             "outlinewidth": 0,
             "ticks": ""
            },
            "colorscale": [
             [
              0,
              "#0d0887"
             ],
             [
              0.1111111111111111,
              "#46039f"
             ],
             [
              0.2222222222222222,
              "#7201a8"
             ],
             [
              0.3333333333333333,
              "#9c179e"
             ],
             [
              0.4444444444444444,
              "#bd3786"
             ],
             [
              0.5555555555555556,
              "#d8576b"
             ],
             [
              0.6666666666666666,
              "#ed7953"
             ],
             [
              0.7777777777777778,
              "#fb9f3a"
             ],
             [
              0.8888888888888888,
              "#fdca26"
             ],
             [
              1,
              "#f0f921"
             ]
            ],
            "type": "histogram2dcontour"
           }
          ],
          "mesh3d": [
           {
            "colorbar": {
             "outlinewidth": 0,
             "ticks": ""
            },
            "type": "mesh3d"
           }
          ],
          "parcoords": [
           {
            "line": {
             "colorbar": {
              "outlinewidth": 0,
              "ticks": ""
             }
            },
            "type": "parcoords"
           }
          ],
          "pie": [
           {
            "automargin": true,
            "type": "pie"
           }
          ],
          "scatter": [
           {
            "marker": {
             "line": {
              "color": "#283442"
             }
            },
            "type": "scatter"
           }
          ],
          "scatter3d": [
           {
            "line": {
             "colorbar": {
              "outlinewidth": 0,
              "ticks": ""
             }
            },
            "marker": {
             "colorbar": {
              "outlinewidth": 0,
              "ticks": ""
             }
            },
            "type": "scatter3d"
           }
          ],
          "scattercarpet": [
           {
            "marker": {
             "colorbar": {
              "outlinewidth": 0,
              "ticks": ""
             }
            },
            "type": "scattercarpet"
           }
          ],
          "scattergeo": [
           {
            "marker": {
             "colorbar": {
              "outlinewidth": 0,
              "ticks": ""
             }
            },
            "type": "scattergeo"
           }
          ],
          "scattergl": [
           {
            "marker": {
             "line": {
              "color": "#283442"
             }
            },
            "type": "scattergl"
           }
          ],
          "scattermapbox": [
           {
            "marker": {
             "colorbar": {
              "outlinewidth": 0,
              "ticks": ""
             }
            },
            "type": "scattermapbox"
           }
          ],
          "scatterpolar": [
           {
            "marker": {
             "colorbar": {
              "outlinewidth": 0,
              "ticks": ""
             }
            },
            "type": "scatterpolar"
           }
          ],
          "scatterpolargl": [
           {
            "marker": {
             "colorbar": {
              "outlinewidth": 0,
              "ticks": ""
             }
            },
            "type": "scatterpolargl"
           }
          ],
          "scatterternary": [
           {
            "marker": {
             "colorbar": {
              "outlinewidth": 0,
              "ticks": ""
             }
            },
            "type": "scatterternary"
           }
          ],
          "surface": [
           {
            "colorbar": {
             "outlinewidth": 0,
             "ticks": ""
            },
            "colorscale": [
             [
              0,
              "#0d0887"
             ],
             [
              0.1111111111111111,
              "#46039f"
             ],
             [
              0.2222222222222222,
              "#7201a8"
             ],
             [
              0.3333333333333333,
              "#9c179e"
             ],
             [
              0.4444444444444444,
              "#bd3786"
             ],
             [
              0.5555555555555556,
              "#d8576b"
             ],
             [
              0.6666666666666666,
              "#ed7953"
             ],
             [
              0.7777777777777778,
              "#fb9f3a"
             ],
             [
              0.8888888888888888,
              "#fdca26"
             ],
             [
              1,
              "#f0f921"
             ]
            ],
            "type": "surface"
           }
          ],
          "table": [
           {
            "cells": {
             "fill": {
              "color": "#506784"
             },
             "line": {
              "color": "rgb(17,17,17)"
             }
            },
            "header": {
             "fill": {
              "color": "#2a3f5f"
             },
             "line": {
              "color": "rgb(17,17,17)"
             }
            },
            "type": "table"
           }
          ]
         },
         "layout": {
          "annotationdefaults": {
           "arrowcolor": "#f2f5fa",
           "arrowhead": 0,
           "arrowwidth": 1
          },
          "autotypenumbers": "strict",
          "coloraxis": {
           "colorbar": {
            "outlinewidth": 0,
            "ticks": ""
           }
          },
          "colorscale": {
           "diverging": [
            [
             0,
             "#8e0152"
            ],
            [
             0.1,
             "#c51b7d"
            ],
            [
             0.2,
             "#de77ae"
            ],
            [
             0.3,
             "#f1b6da"
            ],
            [
             0.4,
             "#fde0ef"
            ],
            [
             0.5,
             "#f7f7f7"
            ],
            [
             0.6,
             "#e6f5d0"
            ],
            [
             0.7,
             "#b8e186"
            ],
            [
             0.8,
             "#7fbc41"
            ],
            [
             0.9,
             "#4d9221"
            ],
            [
             1,
             "#276419"
            ]
           ],
           "sequential": [
            [
             0,
             "#0d0887"
            ],
            [
             0.1111111111111111,
             "#46039f"
            ],
            [
             0.2222222222222222,
             "#7201a8"
            ],
            [
             0.3333333333333333,
             "#9c179e"
            ],
            [
             0.4444444444444444,
             "#bd3786"
            ],
            [
             0.5555555555555556,
             "#d8576b"
            ],
            [
             0.6666666666666666,
             "#ed7953"
            ],
            [
             0.7777777777777778,
             "#fb9f3a"
            ],
            [
             0.8888888888888888,
             "#fdca26"
            ],
            [
             1,
             "#f0f921"
            ]
           ],
           "sequentialminus": [
            [
             0,
             "#0d0887"
            ],
            [
             0.1111111111111111,
             "#46039f"
            ],
            [
             0.2222222222222222,
             "#7201a8"
            ],
            [
             0.3333333333333333,
             "#9c179e"
            ],
            [
             0.4444444444444444,
             "#bd3786"
            ],
            [
             0.5555555555555556,
             "#d8576b"
            ],
            [
             0.6666666666666666,
             "#ed7953"
            ],
            [
             0.7777777777777778,
             "#fb9f3a"
            ],
            [
             0.8888888888888888,
             "#fdca26"
            ],
            [
             1,
             "#f0f921"
            ]
           ]
          },
          "colorway": [
           "#636efa",
           "#EF553B",
           "#00cc96",
           "#ab63fa",
           "#FFA15A",
           "#19d3f3",
           "#FF6692",
           "#B6E880",
           "#FF97FF",
           "#FECB52"
          ],
          "font": {
           "color": "#f2f5fa"
          },
          "geo": {
           "bgcolor": "rgb(17,17,17)",
           "lakecolor": "rgb(17,17,17)",
           "landcolor": "rgb(17,17,17)",
           "showlakes": true,
           "showland": true,
           "subunitcolor": "#506784"
          },
          "hoverlabel": {
           "align": "left"
          },
          "hovermode": "closest",
          "mapbox": {
           "style": "dark"
          },
          "paper_bgcolor": "rgb(17,17,17)",
          "plot_bgcolor": "rgb(17,17,17)",
          "polar": {
           "angularaxis": {
            "gridcolor": "#506784",
            "linecolor": "#506784",
            "ticks": ""
           },
           "bgcolor": "rgb(17,17,17)",
           "radialaxis": {
            "gridcolor": "#506784",
            "linecolor": "#506784",
            "ticks": ""
           }
          },
          "scene": {
           "xaxis": {
            "backgroundcolor": "rgb(17,17,17)",
            "gridcolor": "#506784",
            "gridwidth": 2,
            "linecolor": "#506784",
            "showbackground": true,
            "ticks": "",
            "zerolinecolor": "#C8D4E3"
           },
           "yaxis": {
            "backgroundcolor": "rgb(17,17,17)",
            "gridcolor": "#506784",
            "gridwidth": 2,
            "linecolor": "#506784",
            "showbackground": true,
            "ticks": "",
            "zerolinecolor": "#C8D4E3"
           },
           "zaxis": {
            "backgroundcolor": "rgb(17,17,17)",
            "gridcolor": "#506784",
            "gridwidth": 2,
            "linecolor": "#506784",
            "showbackground": true,
            "ticks": "",
            "zerolinecolor": "#C8D4E3"
           }
          },
          "shapedefaults": {
           "line": {
            "color": "#f2f5fa"
           }
          },
          "sliderdefaults": {
           "bgcolor": "#C8D4E3",
           "bordercolor": "rgb(17,17,17)",
           "borderwidth": 1,
           "tickwidth": 0
          },
          "ternary": {
           "aaxis": {
            "gridcolor": "#506784",
            "linecolor": "#506784",
            "ticks": ""
           },
           "baxis": {
            "gridcolor": "#506784",
            "linecolor": "#506784",
            "ticks": ""
           },
           "bgcolor": "rgb(17,17,17)",
           "caxis": {
            "gridcolor": "#506784",
            "linecolor": "#506784",
            "ticks": ""
           }
          },
          "title": {
           "x": 0.05
          },
          "updatemenudefaults": {
           "bgcolor": "#506784",
           "borderwidth": 0
          },
          "xaxis": {
           "automargin": true,
           "gridcolor": "#283442",
           "linecolor": "#506784",
           "ticks": "",
           "title": {
            "standoff": 15
           },
           "zerolinecolor": "#283442",
           "zerolinewidth": 2
          },
          "yaxis": {
           "automargin": true,
           "gridcolor": "#283442",
           "linecolor": "#506784",
           "ticks": "",
           "title": {
            "standoff": 15
           },
           "zerolinecolor": "#283442",
           "zerolinewidth": 2
          }
         }
        },
        "title": {
         "text": "Coeficientes de los modelos de regresión"
        },
        "width": 800,
        "xaxis": {
         "anchor": "y",
         "domain": [
          0,
          1
         ],
         "matches": "x4",
         "showticklabels": false,
         "title": {
          "text": "Variable predictora"
         }
        },
        "xaxis2": {
         "anchor": "y2",
         "domain": [
          0,
          1
         ],
         "matches": "x4",
         "showticklabels": false,
         "title": {
          "text": "Variable predictora"
         }
        },
        "xaxis3": {
         "anchor": "y3",
         "domain": [
          0,
          1
         ],
         "matches": "x4",
         "showticklabels": false,
         "title": {
          "text": "Variable predictora"
         }
        },
        "xaxis4": {
         "anchor": "y4",
         "domain": [
          0,
          1
         ],
         "title": {
          "text": "Variable predictora"
         }
        },
        "yaxis": {
         "anchor": "x",
         "domain": [
          0.7875,
          1
         ],
         "tickformat": ".3f",
         "title": {
          "text": "Coeficiente"
         }
        },
        "yaxis2": {
         "anchor": "x2",
         "domain": [
          0.525,
          0.7375
         ],
         "tickformat": ".3f",
         "title": {
          "text": "Coeficiente"
         }
        },
        "yaxis3": {
         "anchor": "x3",
         "domain": [
          0.2625,
          0.475
         ],
         "tickformat": ".3f",
         "title": {
          "text": "Coeficiente"
         }
        },
        "yaxis4": {
         "anchor": "x4",
         "domain": [
          0,
          0.2125
         ],
         "tickformat": ".3f",
         "title": {
          "text": "Coeficiente"
         }
        }
       }
      }
     },
     "metadata": {},
     "output_type": "display_data"
    }
   ],
   "source": [
    "# Extraer los coeficientes de cada modelo y crear un DataFrame\n",
    "coef_df = pd.DataFrame({\n",
    "    'Variables': X.columns,\n",
    "    'Linear Regression': lin.coef_,\n",
    "    'Ridge Regression': rid.coef_,\n",
    "    'Lasso Regression': las.coef_,\n",
    "    })\n",
    "\n",
    "coef_df = coef_df.melt(id_vars='Variables', var_name='Model', value_name='Coefficient')\n",
    "\n",
    "# Crear una figura con múltiples subplots, uno para cada modelo\n",
    "fig = make_subplots(rows=4, cols=1, shared_xaxes=True, vertical_spacing=0.05, subplot_titles=(\"Linear Regression\",\"Ridge Regression\", \"Lasso Regression\"))\n",
    "\n",
    "# Iterar sobre cada modelo y agregar una línea para cada variable predictora\n",
    "for i, model in enumerate(coef_df['Model'].unique()):\n",
    "    model_coef_df = coef_df[coef_df['Model'] == model]\n",
    "    fig.add_trace(go.Scatter(x=model_coef_df['Variables'], y=model_coef_df['Coefficient'], name=model), row=i+1, col=1)\n",
    "\n",
    "# Configurar el diseño de la figura\n",
    "fig.update_layout(height=1600, width=800, title='Coeficientes de los modelos de regresión')\n",
    "fig.update_yaxes(title_text='Coeficiente', tickformat='.3f')\n",
    "fig.update_xaxes(title_text='Variable predictora')\n",
    "\n",
    "# Mostrar la figura\n",
    "fig.show()\n",
    "\n"
   ]
  },
  {
   "cell_type": "code",
   "execution_count": 23,
   "metadata": {},
   "outputs": [
    {
     "data": {
      "application/vnd.plotly.v1+json": {
       "config": {
        "plotlyServerURL": "https://plot.ly"
       },
       "data": [
        {
         "marker": {
          "color": "#EF553B"
         },
         "mode": "markers",
         "showlegend": false,
         "type": "scatter",
         "x": [
          55.7,
          76.8,
          71.1,
          52.2,
          58.4,
          75.2,
          57,
          72.8,
          50.3,
          77.6,
          64.7,
          61.4,
          55,
          61.9,
          49.1,
          48.9,
          89.4,
          54,
          68.6,
          38.9,
          61,
          90.2,
          75.9,
          60.76833333333333,
          67,
          53.8,
          48.4,
          68.6,
          75.4,
          63.9,
          65.8,
          5.9,
          74.2,
          69,
          54.6,
          57.3,
          68.7,
          73.5,
          51.1,
          27.8,
          65.5,
          66.4,
          41,
          58.7,
          62.2,
          60.2,
          58.1,
          51.1,
          65.4,
          80.5,
          56.3,
          68.3,
          50.3,
          64.6,
          59.1,
          55.4
         ],
         "xaxis": "x",
         "y": [
          52.44697930905641,
          77.67298778337295,
          66.9620613343846,
          59.130605713185595,
          54.60659569715356,
          75.55690147201337,
          59.72224271433776,
          71.97819335577029,
          46.910693993007946,
          75.73896576270253,
          62.87805151852189,
          64.52119851806555,
          55.71498910766086,
          62.045201995562714,
          45.0569206438942,
          50.21318861747203,
          85.54618616698201,
          54.06214171949139,
          67.09893378121618,
          45.2307139569763,
          69.81550032000743,
          84.80365226287987,
          72.67730735685515,
          46.896309566695194,
          61.75221175859636,
          49.86649942314967,
          48.750908796434366,
          63.59646116229026,
          72.2500878884392,
          62.37293340486749,
          59.71040310296497,
          18.839763218269226,
          72.68871346189314,
          66.78638675195926,
          50.63969241932176,
          53.357212816547495,
          63.710275386283946,
          73.78172195692716,
          46.13070066399993,
          39.25213566158969,
          64.35408428064832,
          73.48464568268,
          44.58709188355965,
          61.732102508197904,
          55.0108585392019,
          60.67499949237203,
          54.002163150920985,
          58.541694473991576,
          65.67797761948337,
          76.13439893809877,
          57.05295786439026,
          64.16160108786852,
          51.94551244196301,
          64.66804551853357,
          59.77897142440504,
          50.05733616626181
         ],
         "yaxis": "y"
        },
        {
         "line": {
          "color": "#636EFA"
         },
         "mode": "lines",
         "showlegend": false,
         "type": "scatter",
         "x": [
          0,
          100
         ],
         "xaxis": "x",
         "y": [
          0,
          100
         ],
         "yaxis": "y"
        },
        {
         "marker": {
          "color": "#EF553B"
         },
         "mode": "markers",
         "showlegend": false,
         "type": "scatter",
         "x": [
          55.7,
          76.8,
          71.1,
          52.2,
          58.4,
          75.2,
          57,
          72.8,
          50.3,
          77.6,
          64.7,
          61.4,
          55,
          61.9,
          49.1,
          48.9,
          89.4,
          54,
          68.6,
          38.9,
          61,
          90.2,
          75.9,
          60.76833333333333,
          67,
          53.8,
          48.4,
          68.6,
          75.4,
          63.9,
          65.8,
          5.9,
          74.2,
          69,
          54.6,
          57.3,
          68.7,
          73.5,
          51.1,
          27.8,
          65.5,
          66.4,
          41,
          58.7,
          62.2,
          60.2,
          58.1,
          51.1,
          65.4,
          80.5,
          56.3,
          68.3,
          50.3,
          64.6,
          59.1,
          55.4
         ],
         "xaxis": "x2",
         "y": [
          52.44724791185747,
          77.6727915038725,
          66.96180447878749,
          59.13063758481888,
          54.606526481608306,
          75.5570868392883,
          59.7223542993033,
          71.97808272403825,
          46.9109402887677,
          75.73840355905027,
          62.878070001913706,
          64.52112125597,
          55.71507415695082,
          62.04486568868689,
          45.05710881333249,
          50.213323471628286,
          85.54568200553416,
          54.06240094662557,
          67.09859036229722,
          45.23037065800712,
          69.81514817451185,
          84.80325976016744,
          72.67714898580752,
          46.89656345009864,
          61.752247317226356,
          49.866646538796736,
          48.75043107231705,
          63.59670364763465,
          72.2499314875909,
          62.3729768843557,
          59.710693660952806,
          18.84139111202799,
          72.68843309039079,
          66.78605887808033,
          50.64008224445057,
          53.357241319357954,
          63.71038257690079,
          73.78173794264717,
          46.13100179004305,
          39.25238219289298,
          64.35431338322638,
          73.48422557914367,
          44.58745287141879,
          61.7321138420346,
          55.01129703522655,
          60.674851944878576,
          54.002349724832115,
          58.541402289855704,
          65.67783922003079,
          76.1343002825619,
          57.05302143834591,
          64.16159233902418,
          51.94573682557199,
          64.66796242198315,
          59.77895010511053,
          50.0576274646162
         ],
         "yaxis": "y2"
        },
        {
         "line": {
          "color": "#636EFA"
         },
         "mode": "lines",
         "showlegend": false,
         "type": "scatter",
         "x": [
          0,
          100
         ],
         "xaxis": "x2",
         "y": [
          0,
          100
         ],
         "yaxis": "y2"
        },
        {
         "marker": {
          "color": "#EF553B"
         },
         "mode": "markers",
         "showlegend": false,
         "type": "scatter",
         "x": [
          55.7,
          76.8,
          71.1,
          52.2,
          58.4,
          75.2,
          57,
          72.8,
          50.3,
          77.6,
          64.7,
          61.4,
          55,
          61.9,
          49.1,
          48.9,
          89.4,
          54,
          68.6,
          38.9,
          61,
          90.2,
          75.9,
          60.76833333333333,
          67,
          53.8,
          48.4,
          68.6,
          75.4,
          63.9,
          65.8,
          5.9,
          74.2,
          69,
          54.6,
          57.3,
          68.7,
          73.5,
          51.1,
          27.8,
          65.5,
          66.4,
          41,
          58.7,
          62.2,
          60.2,
          58.1,
          51.1,
          65.4,
          80.5,
          56.3,
          68.3,
          50.3,
          64.6,
          59.1,
          55.4
         ],
         "xaxis": "x3",
         "y": [
          52.45550960008424,
          77.65193074306683,
          66.9528854227253,
          59.14280913428175,
          54.607629216759776,
          75.56922408212075,
          59.72455059566535,
          71.97843350425265,
          46.927728845676015,
          75.70071866660109,
          62.87929206833492,
          64.52632495985077,
          55.720224496660485,
          62.030428932028826,
          45.08882264222515,
          50.220225869698226,
          85.50134642462332,
          54.06251429257049,
          67.07814185421282,
          45.24916929162844,
          69.78037879932792,
          84.76069861708298,
          72.6498626670656,
          46.933346152177386,
          61.737282704312726,
          49.8809729861129,
          48.74205206347145,
          63.59548525972917,
          72.23178915622921,
          62.364044252291485,
          59.70794620530127,
          19.000913888529425,
          72.66665089144433,
          66.76735106949062,
          50.67209286225713,
          53.363372078565064,
          63.708549108542684,
          73.77775330459568,
          46.14888273753637,
          39.305419774759514,
          64.3681592577218,
          73.45003935778219,
          44.62357082422138,
          61.73242109187433,
          55.023574875988984,
          60.66841851987179,
          54.01372973827644,
          58.528816301166515,
          65.6657656081342,
          76.11771865389355,
          57.06222191549257,
          64.15153193622615,
          51.96093260961068,
          64.66231395849421,
          59.77718627622262,
          50.08040209939419
         ],
         "yaxis": "y3"
        },
        {
         "line": {
          "color": "#636EFA"
         },
         "mode": "lines",
         "showlegend": false,
         "type": "scatter",
         "x": [
          0,
          100
         ],
         "xaxis": "x3",
         "y": [
          0,
          100
         ],
         "yaxis": "y3"
        }
       ],
       "layout": {
        "annotations": [
         {
          "font": {
           "size": 16
          },
          "showarrow": false,
          "text": "Linear Regression",
          "x": 0.5,
          "xanchor": "center",
          "xref": "paper",
          "y": 1,
          "yanchor": "bottom",
          "yref": "paper"
         },
         {
          "font": {
           "size": 16
          },
          "showarrow": false,
          "text": "Ridge Regression",
          "x": 0.5,
          "xanchor": "center",
          "xref": "paper",
          "y": 0.6499999999999999,
          "yanchor": "bottom",
          "yref": "paper"
         },
         {
          "font": {
           "size": 16
          },
          "showarrow": false,
          "text": "Lasso Regression",
          "x": 0.5,
          "xanchor": "center",
          "xref": "paper",
          "y": 0.3,
          "yanchor": "bottom",
          "yref": "paper"
         }
        ],
        "height": 1600,
        "legend": {
         "x": 0.01,
         "y": 0.99
        },
        "template": {
         "data": {
          "bar": [
           {
            "error_x": {
             "color": "#f2f5fa"
            },
            "error_y": {
             "color": "#f2f5fa"
            },
            "marker": {
             "line": {
              "color": "rgb(17,17,17)",
              "width": 0.5
             },
             "pattern": {
              "fillmode": "overlay",
              "size": 10,
              "solidity": 0.2
             }
            },
            "type": "bar"
           }
          ],
          "barpolar": [
           {
            "marker": {
             "line": {
              "color": "rgb(17,17,17)",
              "width": 0.5
             },
             "pattern": {
              "fillmode": "overlay",
              "size": 10,
              "solidity": 0.2
             }
            },
            "type": "barpolar"
           }
          ],
          "carpet": [
           {
            "aaxis": {
             "endlinecolor": "#A2B1C6",
             "gridcolor": "#506784",
             "linecolor": "#506784",
             "minorgridcolor": "#506784",
             "startlinecolor": "#A2B1C6"
            },
            "baxis": {
             "endlinecolor": "#A2B1C6",
             "gridcolor": "#506784",
             "linecolor": "#506784",
             "minorgridcolor": "#506784",
             "startlinecolor": "#A2B1C6"
            },
            "type": "carpet"
           }
          ],
          "choropleth": [
           {
            "colorbar": {
             "outlinewidth": 0,
             "ticks": ""
            },
            "type": "choropleth"
           }
          ],
          "contour": [
           {
            "colorbar": {
             "outlinewidth": 0,
             "ticks": ""
            },
            "colorscale": [
             [
              0,
              "#0d0887"
             ],
             [
              0.1111111111111111,
              "#46039f"
             ],
             [
              0.2222222222222222,
              "#7201a8"
             ],
             [
              0.3333333333333333,
              "#9c179e"
             ],
             [
              0.4444444444444444,
              "#bd3786"
             ],
             [
              0.5555555555555556,
              "#d8576b"
             ],
             [
              0.6666666666666666,
              "#ed7953"
             ],
             [
              0.7777777777777778,
              "#fb9f3a"
             ],
             [
              0.8888888888888888,
              "#fdca26"
             ],
             [
              1,
              "#f0f921"
             ]
            ],
            "type": "contour"
           }
          ],
          "contourcarpet": [
           {
            "colorbar": {
             "outlinewidth": 0,
             "ticks": ""
            },
            "type": "contourcarpet"
           }
          ],
          "heatmap": [
           {
            "colorbar": {
             "outlinewidth": 0,
             "ticks": ""
            },
            "colorscale": [
             [
              0,
              "#0d0887"
             ],
             [
              0.1111111111111111,
              "#46039f"
             ],
             [
              0.2222222222222222,
              "#7201a8"
             ],
             [
              0.3333333333333333,
              "#9c179e"
             ],
             [
              0.4444444444444444,
              "#bd3786"
             ],
             [
              0.5555555555555556,
              "#d8576b"
             ],
             [
              0.6666666666666666,
              "#ed7953"
             ],
             [
              0.7777777777777778,
              "#fb9f3a"
             ],
             [
              0.8888888888888888,
              "#fdca26"
             ],
             [
              1,
              "#f0f921"
             ]
            ],
            "type": "heatmap"
           }
          ],
          "heatmapgl": [
           {
            "colorbar": {
             "outlinewidth": 0,
             "ticks": ""
            },
            "colorscale": [
             [
              0,
              "#0d0887"
             ],
             [
              0.1111111111111111,
              "#46039f"
             ],
             [
              0.2222222222222222,
              "#7201a8"
             ],
             [
              0.3333333333333333,
              "#9c179e"
             ],
             [
              0.4444444444444444,
              "#bd3786"
             ],
             [
              0.5555555555555556,
              "#d8576b"
             ],
             [
              0.6666666666666666,
              "#ed7953"
             ],
             [
              0.7777777777777778,
              "#fb9f3a"
             ],
             [
              0.8888888888888888,
              "#fdca26"
             ],
             [
              1,
              "#f0f921"
             ]
            ],
            "type": "heatmapgl"
           }
          ],
          "histogram": [
           {
            "marker": {
             "pattern": {
              "fillmode": "overlay",
              "size": 10,
              "solidity": 0.2
             }
            },
            "type": "histogram"
           }
          ],
          "histogram2d": [
           {
            "colorbar": {
             "outlinewidth": 0,
             "ticks": ""
            },
            "colorscale": [
             [
              0,
              "#0d0887"
             ],
             [
              0.1111111111111111,
              "#46039f"
             ],
             [
              0.2222222222222222,
              "#7201a8"
             ],
             [
              0.3333333333333333,
              "#9c179e"
             ],
             [
              0.4444444444444444,
              "#bd3786"
             ],
             [
              0.5555555555555556,
              "#d8576b"
             ],
             [
              0.6666666666666666,
              "#ed7953"
             ],
             [
              0.7777777777777778,
              "#fb9f3a"
             ],
             [
              0.8888888888888888,
              "#fdca26"
             ],
             [
              1,
              "#f0f921"
             ]
            ],
            "type": "histogram2d"
           }
          ],
          "histogram2dcontour": [
           {
            "colorbar": {
             "outlinewidth": 0,
             "ticks": ""
            },
            "colorscale": [
             [
              0,
              "#0d0887"
             ],
             [
              0.1111111111111111,
              "#46039f"
             ],
             [
              0.2222222222222222,
              "#7201a8"
             ],
             [
              0.3333333333333333,
              "#9c179e"
             ],
             [
              0.4444444444444444,
              "#bd3786"
             ],
             [
              0.5555555555555556,
              "#d8576b"
             ],
             [
              0.6666666666666666,
              "#ed7953"
             ],
             [
              0.7777777777777778,
              "#fb9f3a"
             ],
             [
              0.8888888888888888,
              "#fdca26"
             ],
             [
              1,
              "#f0f921"
             ]
            ],
            "type": "histogram2dcontour"
           }
          ],
          "mesh3d": [
           {
            "colorbar": {
             "outlinewidth": 0,
             "ticks": ""
            },
            "type": "mesh3d"
           }
          ],
          "parcoords": [
           {
            "line": {
             "colorbar": {
              "outlinewidth": 0,
              "ticks": ""
             }
            },
            "type": "parcoords"
           }
          ],
          "pie": [
           {
            "automargin": true,
            "type": "pie"
           }
          ],
          "scatter": [
           {
            "marker": {
             "line": {
              "color": "#283442"
             }
            },
            "type": "scatter"
           }
          ],
          "scatter3d": [
           {
            "line": {
             "colorbar": {
              "outlinewidth": 0,
              "ticks": ""
             }
            },
            "marker": {
             "colorbar": {
              "outlinewidth": 0,
              "ticks": ""
             }
            },
            "type": "scatter3d"
           }
          ],
          "scattercarpet": [
           {
            "marker": {
             "colorbar": {
              "outlinewidth": 0,
              "ticks": ""
             }
            },
            "type": "scattercarpet"
           }
          ],
          "scattergeo": [
           {
            "marker": {
             "colorbar": {
              "outlinewidth": 0,
              "ticks": ""
             }
            },
            "type": "scattergeo"
           }
          ],
          "scattergl": [
           {
            "marker": {
             "line": {
              "color": "#283442"
             }
            },
            "type": "scattergl"
           }
          ],
          "scattermapbox": [
           {
            "marker": {
             "colorbar": {
              "outlinewidth": 0,
              "ticks": ""
             }
            },
            "type": "scattermapbox"
           }
          ],
          "scatterpolar": [
           {
            "marker": {
             "colorbar": {
              "outlinewidth": 0,
              "ticks": ""
             }
            },
            "type": "scatterpolar"
           }
          ],
          "scatterpolargl": [
           {
            "marker": {
             "colorbar": {
              "outlinewidth": 0,
              "ticks": ""
             }
            },
            "type": "scatterpolargl"
           }
          ],
          "scatterternary": [
           {
            "marker": {
             "colorbar": {
              "outlinewidth": 0,
              "ticks": ""
             }
            },
            "type": "scatterternary"
           }
          ],
          "surface": [
           {
            "colorbar": {
             "outlinewidth": 0,
             "ticks": ""
            },
            "colorscale": [
             [
              0,
              "#0d0887"
             ],
             [
              0.1111111111111111,
              "#46039f"
             ],
             [
              0.2222222222222222,
              "#7201a8"
             ],
             [
              0.3333333333333333,
              "#9c179e"
             ],
             [
              0.4444444444444444,
              "#bd3786"
             ],
             [
              0.5555555555555556,
              "#d8576b"
             ],
             [
              0.6666666666666666,
              "#ed7953"
             ],
             [
              0.7777777777777778,
              "#fb9f3a"
             ],
             [
              0.8888888888888888,
              "#fdca26"
             ],
             [
              1,
              "#f0f921"
             ]
            ],
            "type": "surface"
           }
          ],
          "table": [
           {
            "cells": {
             "fill": {
              "color": "#506784"
             },
             "line": {
              "color": "rgb(17,17,17)"
             }
            },
            "header": {
             "fill": {
              "color": "#2a3f5f"
             },
             "line": {
              "color": "rgb(17,17,17)"
             }
            },
            "type": "table"
           }
          ]
         },
         "layout": {
          "annotationdefaults": {
           "arrowcolor": "#f2f5fa",
           "arrowhead": 0,
           "arrowwidth": 1
          },
          "autotypenumbers": "strict",
          "coloraxis": {
           "colorbar": {
            "outlinewidth": 0,
            "ticks": ""
           }
          },
          "colorscale": {
           "diverging": [
            [
             0,
             "#8e0152"
            ],
            [
             0.1,
             "#c51b7d"
            ],
            [
             0.2,
             "#de77ae"
            ],
            [
             0.3,
             "#f1b6da"
            ],
            [
             0.4,
             "#fde0ef"
            ],
            [
             0.5,
             "#f7f7f7"
            ],
            [
             0.6,
             "#e6f5d0"
            ],
            [
             0.7,
             "#b8e186"
            ],
            [
             0.8,
             "#7fbc41"
            ],
            [
             0.9,
             "#4d9221"
            ],
            [
             1,
             "#276419"
            ]
           ],
           "sequential": [
            [
             0,
             "#0d0887"
            ],
            [
             0.1111111111111111,
             "#46039f"
            ],
            [
             0.2222222222222222,
             "#7201a8"
            ],
            [
             0.3333333333333333,
             "#9c179e"
            ],
            [
             0.4444444444444444,
             "#bd3786"
            ],
            [
             0.5555555555555556,
             "#d8576b"
            ],
            [
             0.6666666666666666,
             "#ed7953"
            ],
            [
             0.7777777777777778,
             "#fb9f3a"
            ],
            [
             0.8888888888888888,
             "#fdca26"
            ],
            [
             1,
             "#f0f921"
            ]
           ],
           "sequentialminus": [
            [
             0,
             "#0d0887"
            ],
            [
             0.1111111111111111,
             "#46039f"
            ],
            [
             0.2222222222222222,
             "#7201a8"
            ],
            [
             0.3333333333333333,
             "#9c179e"
            ],
            [
             0.4444444444444444,
             "#bd3786"
            ],
            [
             0.5555555555555556,
             "#d8576b"
            ],
            [
             0.6666666666666666,
             "#ed7953"
            ],
            [
             0.7777777777777778,
             "#fb9f3a"
            ],
            [
             0.8888888888888888,
             "#fdca26"
            ],
            [
             1,
             "#f0f921"
            ]
           ]
          },
          "colorway": [
           "#636efa",
           "#EF553B",
           "#00cc96",
           "#ab63fa",
           "#FFA15A",
           "#19d3f3",
           "#FF6692",
           "#B6E880",
           "#FF97FF",
           "#FECB52"
          ],
          "font": {
           "color": "#f2f5fa"
          },
          "geo": {
           "bgcolor": "rgb(17,17,17)",
           "lakecolor": "rgb(17,17,17)",
           "landcolor": "rgb(17,17,17)",
           "showlakes": true,
           "showland": true,
           "subunitcolor": "#506784"
          },
          "hoverlabel": {
           "align": "left"
          },
          "hovermode": "closest",
          "mapbox": {
           "style": "dark"
          },
          "paper_bgcolor": "rgb(17,17,17)",
          "plot_bgcolor": "rgb(17,17,17)",
          "polar": {
           "angularaxis": {
            "gridcolor": "#506784",
            "linecolor": "#506784",
            "ticks": ""
           },
           "bgcolor": "rgb(17,17,17)",
           "radialaxis": {
            "gridcolor": "#506784",
            "linecolor": "#506784",
            "ticks": ""
           }
          },
          "scene": {
           "xaxis": {
            "backgroundcolor": "rgb(17,17,17)",
            "gridcolor": "#506784",
            "gridwidth": 2,
            "linecolor": "#506784",
            "showbackground": true,
            "ticks": "",
            "zerolinecolor": "#C8D4E3"
           },
           "yaxis": {
            "backgroundcolor": "rgb(17,17,17)",
            "gridcolor": "#506784",
            "gridwidth": 2,
            "linecolor": "#506784",
            "showbackground": true,
            "ticks": "",
            "zerolinecolor": "#C8D4E3"
           },
           "zaxis": {
            "backgroundcolor": "rgb(17,17,17)",
            "gridcolor": "#506784",
            "gridwidth": 2,
            "linecolor": "#506784",
            "showbackground": true,
            "ticks": "",
            "zerolinecolor": "#C8D4E3"
           }
          },
          "shapedefaults": {
           "line": {
            "color": "#f2f5fa"
           }
          },
          "sliderdefaults": {
           "bgcolor": "#C8D4E3",
           "bordercolor": "rgb(17,17,17)",
           "borderwidth": 1,
           "tickwidth": 0
          },
          "ternary": {
           "aaxis": {
            "gridcolor": "#506784",
            "linecolor": "#506784",
            "ticks": ""
           },
           "baxis": {
            "gridcolor": "#506784",
            "linecolor": "#506784",
            "ticks": ""
           },
           "bgcolor": "rgb(17,17,17)",
           "caxis": {
            "gridcolor": "#506784",
            "linecolor": "#506784",
            "ticks": ""
           }
          },
          "title": {
           "x": 0.05
          },
          "updatemenudefaults": {
           "bgcolor": "#506784",
           "borderwidth": 0
          },
          "xaxis": {
           "automargin": true,
           "gridcolor": "#283442",
           "linecolor": "#506784",
           "ticks": "",
           "title": {
            "standoff": 15
           },
           "zerolinecolor": "#283442",
           "zerolinewidth": 2
          },
          "yaxis": {
           "automargin": true,
           "gridcolor": "#283442",
           "linecolor": "#506784",
           "ticks": "",
           "title": {
            "standoff": 15
           },
           "zerolinecolor": "#283442",
           "zerolinewidth": 2
          }
         }
        },
        "title": {
         "text": "Comportamiento de los modelos de regresión"
        },
        "width": 800,
        "xaxis": {
         "anchor": "y",
         "domain": [
          0,
          1
         ],
         "matches": "x3",
         "showticklabels": false,
         "tickformat": ".2f",
         "title": {
          "text": "Valor real"
         }
        },
        "xaxis2": {
         "anchor": "y2",
         "domain": [
          0,
          1
         ],
         "matches": "x3",
         "showticklabels": false,
         "tickformat": ".2f",
         "title": {
          "text": "Valor real"
         }
        },
        "xaxis3": {
         "anchor": "y3",
         "domain": [
          0,
          1
         ],
         "tickformat": ".2f",
         "title": {
          "text": "Valor real"
         }
        },
        "yaxis": {
         "anchor": "x",
         "domain": [
          0.7,
          1
         ],
         "tickformat": ".2f",
         "title": {
          "text": "Predicción"
         }
        },
        "yaxis2": {
         "anchor": "x2",
         "domain": [
          0.35,
          0.6499999999999999
         ],
         "tickformat": ".2f",
         "title": {
          "text": "Predicción"
         }
        },
        "yaxis3": {
         "anchor": "x3",
         "domain": [
          0,
          0.3
         ],
         "tickformat": ".2f",
         "title": {
          "text": "Predicción"
         }
        }
       }
      }
     },
     "metadata": {},
     "output_type": "display_data"
    }
   ],
   "source": [
    "# Crear una figura con múltiples subplots, uno para cada modelo\n",
    "fig = make_subplots(rows=3, cols=1, shared_xaxes=True, vertical_spacing=0.05, subplot_titles=(\"Linear Regression\",\"Ridge Regression\", \"Lasso Regression\"))\n",
    "\n",
    "# Iterar sobre cada modelo y agregar una línea para cada variable predictora\n",
    "for i, model in enumerate([lin, rid, las]):\n",
    "    # Hacer predicciones en el conjunto de prueba\n",
    "    y_pred = model.predict(X_test)\n",
    "    # Agregar una gráfica de dispersión con las predicciones y los valores reales\n",
    "    fig.add_trace(go.Scatter(x=y_test, y=y_pred, mode='markers', marker=dict(color='#EF553B'), showlegend=False), row=i+1, col=1)\n",
    "    # Agregar una línea diagonal que representa la línea de predicción perfecta\n",
    "    fig.add_trace(go.Scatter(x=[0,100], y=[0,100], mode='lines', line=dict(color='#636EFA'), showlegend=False), row=i+1, col=1)\n",
    "    # Configurar el título de cada subfigura con el nombre del modelo\n",
    "    fig.update_yaxes(title_text='Predicción', tickformat='.2f', row=i+1, col=1)\n",
    "    fig.update_xaxes(title_text='Valor real', tickformat='.2f', row=i+1, col=1)\n",
    "    fig.update_layout(height=1600, width=800, title='Comportamiento de los modelos de regresión')\n",
    "\n",
    "# Agregar una leyenda para cada modelo\n",
    "fig.update_layout(legend=dict(y=0.99, x=0.01))\n",
    "\n",
    "# Mostrar la figura\n",
    "fig.show()\n"
   ]
  },
  {
   "cell_type": "code",
   "execution_count": 24,
   "metadata": {},
   "outputs": [
    {
     "data": {
      "text/html": [
       "<div>\n",
       "<style scoped>\n",
       "    .dataframe tbody tr th:only-of-type {\n",
       "        vertical-align: middle;\n",
       "    }\n",
       "\n",
       "    .dataframe tbody tr th {\n",
       "        vertical-align: top;\n",
       "    }\n",
       "\n",
       "    .dataframe thead th {\n",
       "        text-align: right;\n",
       "    }\n",
       "</style>\n",
       "<table border=\"1\" class=\"dataframe\">\n",
       "  <thead>\n",
       "    <tr style=\"text-align: right;\">\n",
       "      <th></th>\n",
       "      <th>Modelo</th>\n",
       "      <th>MAE</th>\n",
       "      <th>MSE</th>\n",
       "      <th>RMSE</th>\n",
       "      <th>R2</th>\n",
       "      <th>RMSLE</th>\n",
       "      <th>MAPE</th>\n",
       "    </tr>\n",
       "  </thead>\n",
       "  <tbody>\n",
       "    <tr>\n",
       "      <th>0</th>\n",
       "      <td>LinearRegression</td>\n",
       "      <td>3.664994</td>\n",
       "      <td>22.909495</td>\n",
       "      <td>4.786386</td>\n",
       "      <td>0.877984</td>\n",
       "      <td>0.164546</td>\n",
       "      <td>10.049889</td>\n",
       "    </tr>\n",
       "    <tr>\n",
       "      <th>1</th>\n",
       "      <td>Ridge</td>\n",
       "      <td>3.664995</td>\n",
       "      <td>22.909699</td>\n",
       "      <td>4.786408</td>\n",
       "      <td>0.877983</td>\n",
       "      <td>0.164555</td>\n",
       "      <td>10.050318</td>\n",
       "    </tr>\n",
       "    <tr>\n",
       "      <th>2</th>\n",
       "      <td>Lasso</td>\n",
       "      <td>3.669464</td>\n",
       "      <td>22.985577</td>\n",
       "      <td>4.794328</td>\n",
       "      <td>0.877579</td>\n",
       "      <td>0.165490</td>\n",
       "      <td>10.101758</td>\n",
       "    </tr>\n",
       "  </tbody>\n",
       "</table>\n",
       "</div>"
      ],
      "text/plain": [
       "             Modelo       MAE        MSE      RMSE        R2     RMSLE  \\\n",
       "0  LinearRegression  3.664994  22.909495  4.786386  0.877984  0.164546   \n",
       "1             Ridge  3.664995  22.909699  4.786408  0.877983  0.164555   \n",
       "2             Lasso  3.669464  22.985577  4.794328  0.877579  0.165490   \n",
       "\n",
       "        MAPE  \n",
       "0  10.049889  \n",
       "1  10.050318  \n",
       "2  10.101758  "
      ]
     },
     "execution_count": 24,
     "metadata": {},
     "output_type": "execute_result"
    }
   ],
   "source": [
    "# Crear una lista para almacenar las métricas de error de cada modelo\n",
    "metrics = []\n",
    "\n",
    "# Iterar sobre cada modelo y calcular sus métricas de error\n",
    "for model in [lin, rid, las]:\n",
    "    # Hacer predicciones en el conjunto de prueba\n",
    "    y_pred = model.predict(X_test)\n",
    "    # Calcular las métricas de error\n",
    "    mae = mean_absolute_error(y_test, y_pred)\n",
    "    mse = mean_squared_error(y_test, y_pred)\n",
    "    rmse = np.sqrt(mse)\n",
    "    r2 = r2_score(y_test, y_pred)\n",
    "    rmsle = np.sqrt(mean_squared_log_error(y_test, y_pred))\n",
    "    mape = np.mean(np.abs((y_test - y_pred) / y_test)) * 100\n",
    "    # Agregar las métricas de error a la lista\n",
    "    metrics.append({'Modelo': str(model).split('(')[0], 'MAE': mae, 'MSE': mse, 'RMSE': rmse, 'R2': r2, 'RMSLE': rmsle, 'MAPE': mape})\n",
    "\n",
    "# Convertir la lista de métricas de error en un DataFrame de pandas\n",
    "df_metrics = pd.DataFrame(metrics)\n",
    "\n",
    "# Mostrar el DataFrame de métricas de error\n",
    "df_metrics\n"
   ]
  },
  {
   "cell_type": "code",
   "execution_count": 25,
   "metadata": {},
   "outputs": [
    {
     "data": {
      "application/vnd.plotly.v1+json": {
       "config": {
        "plotlyServerURL": "https://plot.ly"
       },
       "data": [
        {
         "marker": {
          "color": [
           "#636EFA",
           "#EF553B",
           "#00CC96",
           "#AB63FA",
           "#FFA15A",
           "#19D3F3"
          ],
          "size": 14
         },
         "mode": "markers",
         "name": "Regresión lineal múltiple",
         "type": "scatter",
         "x": [
          "MAE",
          "MSE",
          "RMSE",
          "R2",
          "RMSLE",
          "MAPE"
         ],
         "y": [
          3.664993975747188,
          22.909495289023333,
          4.786386454207739,
          0.8779837644865568,
          0.16454588674799847,
          10.049888760308505
         ]
        },
        {
         "marker": {
          "color": [
           "#17BECF",
           "#FF7F0E",
           "#2CA02C",
           "#D62728",
           "#9467BD",
           "#8C564B"
          ],
          "size": 14
         },
         "mode": "markers",
         "name": "Ridge Regression",
         "type": "scatter",
         "x": [
          "MAE",
          "MSE",
          "RMSE",
          "R2",
          "RMSLE",
          "MAPE"
         ],
         "y": [
          3.664994612191556,
          22.90969874523868,
          4.786407707794926,
          0.8779826808764127,
          0.16455475233729577,
          10.050317933386578
         ]
        },
        {
         "marker": {
          "color": [
           "#990099",
           "#0099C6",
           "#DD4477",
           "#66AA00",
           "#B82E2E",
           "#316395"
          ],
          "size": 14
         },
         "mode": "markers",
         "name": "Lasso Regression",
         "type": "scatter",
         "x": [
          "MAE",
          "MSE",
          "RMSE",
          "R2",
          "RMSLE",
          "MAPE"
         ],
         "y": [
          3.6694640798093636,
          22.985576649861525,
          4.794327549287963,
          0.8775785542833157,
          0.1654898533440724,
          10.101758012291954
         ]
        }
       ],
       "layout": {
        "template": {
         "data": {
          "bar": [
           {
            "error_x": {
             "color": "#f2f5fa"
            },
            "error_y": {
             "color": "#f2f5fa"
            },
            "marker": {
             "line": {
              "color": "rgb(17,17,17)",
              "width": 0.5
             },
             "pattern": {
              "fillmode": "overlay",
              "size": 10,
              "solidity": 0.2
             }
            },
            "type": "bar"
           }
          ],
          "barpolar": [
           {
            "marker": {
             "line": {
              "color": "rgb(17,17,17)",
              "width": 0.5
             },
             "pattern": {
              "fillmode": "overlay",
              "size": 10,
              "solidity": 0.2
             }
            },
            "type": "barpolar"
           }
          ],
          "carpet": [
           {
            "aaxis": {
             "endlinecolor": "#A2B1C6",
             "gridcolor": "#506784",
             "linecolor": "#506784",
             "minorgridcolor": "#506784",
             "startlinecolor": "#A2B1C6"
            },
            "baxis": {
             "endlinecolor": "#A2B1C6",
             "gridcolor": "#506784",
             "linecolor": "#506784",
             "minorgridcolor": "#506784",
             "startlinecolor": "#A2B1C6"
            },
            "type": "carpet"
           }
          ],
          "choropleth": [
           {
            "colorbar": {
             "outlinewidth": 0,
             "ticks": ""
            },
            "type": "choropleth"
           }
          ],
          "contour": [
           {
            "colorbar": {
             "outlinewidth": 0,
             "ticks": ""
            },
            "colorscale": [
             [
              0,
              "#0d0887"
             ],
             [
              0.1111111111111111,
              "#46039f"
             ],
             [
              0.2222222222222222,
              "#7201a8"
             ],
             [
              0.3333333333333333,
              "#9c179e"
             ],
             [
              0.4444444444444444,
              "#bd3786"
             ],
             [
              0.5555555555555556,
              "#d8576b"
             ],
             [
              0.6666666666666666,
              "#ed7953"
             ],
             [
              0.7777777777777778,
              "#fb9f3a"
             ],
             [
              0.8888888888888888,
              "#fdca26"
             ],
             [
              1,
              "#f0f921"
             ]
            ],
            "type": "contour"
           }
          ],
          "contourcarpet": [
           {
            "colorbar": {
             "outlinewidth": 0,
             "ticks": ""
            },
            "type": "contourcarpet"
           }
          ],
          "heatmap": [
           {
            "colorbar": {
             "outlinewidth": 0,
             "ticks": ""
            },
            "colorscale": [
             [
              0,
              "#0d0887"
             ],
             [
              0.1111111111111111,
              "#46039f"
             ],
             [
              0.2222222222222222,
              "#7201a8"
             ],
             [
              0.3333333333333333,
              "#9c179e"
             ],
             [
              0.4444444444444444,
              "#bd3786"
             ],
             [
              0.5555555555555556,
              "#d8576b"
             ],
             [
              0.6666666666666666,
              "#ed7953"
             ],
             [
              0.7777777777777778,
              "#fb9f3a"
             ],
             [
              0.8888888888888888,
              "#fdca26"
             ],
             [
              1,
              "#f0f921"
             ]
            ],
            "type": "heatmap"
           }
          ],
          "heatmapgl": [
           {
            "colorbar": {
             "outlinewidth": 0,
             "ticks": ""
            },
            "colorscale": [
             [
              0,
              "#0d0887"
             ],
             [
              0.1111111111111111,
              "#46039f"
             ],
             [
              0.2222222222222222,
              "#7201a8"
             ],
             [
              0.3333333333333333,
              "#9c179e"
             ],
             [
              0.4444444444444444,
              "#bd3786"
             ],
             [
              0.5555555555555556,
              "#d8576b"
             ],
             [
              0.6666666666666666,
              "#ed7953"
             ],
             [
              0.7777777777777778,
              "#fb9f3a"
             ],
             [
              0.8888888888888888,
              "#fdca26"
             ],
             [
              1,
              "#f0f921"
             ]
            ],
            "type": "heatmapgl"
           }
          ],
          "histogram": [
           {
            "marker": {
             "pattern": {
              "fillmode": "overlay",
              "size": 10,
              "solidity": 0.2
             }
            },
            "type": "histogram"
           }
          ],
          "histogram2d": [
           {
            "colorbar": {
             "outlinewidth": 0,
             "ticks": ""
            },
            "colorscale": [
             [
              0,
              "#0d0887"
             ],
             [
              0.1111111111111111,
              "#46039f"
             ],
             [
              0.2222222222222222,
              "#7201a8"
             ],
             [
              0.3333333333333333,
              "#9c179e"
             ],
             [
              0.4444444444444444,
              "#bd3786"
             ],
             [
              0.5555555555555556,
              "#d8576b"
             ],
             [
              0.6666666666666666,
              "#ed7953"
             ],
             [
              0.7777777777777778,
              "#fb9f3a"
             ],
             [
              0.8888888888888888,
              "#fdca26"
             ],
             [
              1,
              "#f0f921"
             ]
            ],
            "type": "histogram2d"
           }
          ],
          "histogram2dcontour": [
           {
            "colorbar": {
             "outlinewidth": 0,
             "ticks": ""
            },
            "colorscale": [
             [
              0,
              "#0d0887"
             ],
             [
              0.1111111111111111,
              "#46039f"
             ],
             [
              0.2222222222222222,
              "#7201a8"
             ],
             [
              0.3333333333333333,
              "#9c179e"
             ],
             [
              0.4444444444444444,
              "#bd3786"
             ],
             [
              0.5555555555555556,
              "#d8576b"
             ],
             [
              0.6666666666666666,
              "#ed7953"
             ],
             [
              0.7777777777777778,
              "#fb9f3a"
             ],
             [
              0.8888888888888888,
              "#fdca26"
             ],
             [
              1,
              "#f0f921"
             ]
            ],
            "type": "histogram2dcontour"
           }
          ],
          "mesh3d": [
           {
            "colorbar": {
             "outlinewidth": 0,
             "ticks": ""
            },
            "type": "mesh3d"
           }
          ],
          "parcoords": [
           {
            "line": {
             "colorbar": {
              "outlinewidth": 0,
              "ticks": ""
             }
            },
            "type": "parcoords"
           }
          ],
          "pie": [
           {
            "automargin": true,
            "type": "pie"
           }
          ],
          "scatter": [
           {
            "marker": {
             "line": {
              "color": "#283442"
             }
            },
            "type": "scatter"
           }
          ],
          "scatter3d": [
           {
            "line": {
             "colorbar": {
              "outlinewidth": 0,
              "ticks": ""
             }
            },
            "marker": {
             "colorbar": {
              "outlinewidth": 0,
              "ticks": ""
             }
            },
            "type": "scatter3d"
           }
          ],
          "scattercarpet": [
           {
            "marker": {
             "colorbar": {
              "outlinewidth": 0,
              "ticks": ""
             }
            },
            "type": "scattercarpet"
           }
          ],
          "scattergeo": [
           {
            "marker": {
             "colorbar": {
              "outlinewidth": 0,
              "ticks": ""
             }
            },
            "type": "scattergeo"
           }
          ],
          "scattergl": [
           {
            "marker": {
             "line": {
              "color": "#283442"
             }
            },
            "type": "scattergl"
           }
          ],
          "scattermapbox": [
           {
            "marker": {
             "colorbar": {
              "outlinewidth": 0,
              "ticks": ""
             }
            },
            "type": "scattermapbox"
           }
          ],
          "scatterpolar": [
           {
            "marker": {
             "colorbar": {
              "outlinewidth": 0,
              "ticks": ""
             }
            },
            "type": "scatterpolar"
           }
          ],
          "scatterpolargl": [
           {
            "marker": {
             "colorbar": {
              "outlinewidth": 0,
              "ticks": ""
             }
            },
            "type": "scatterpolargl"
           }
          ],
          "scatterternary": [
           {
            "marker": {
             "colorbar": {
              "outlinewidth": 0,
              "ticks": ""
             }
            },
            "type": "scatterternary"
           }
          ],
          "surface": [
           {
            "colorbar": {
             "outlinewidth": 0,
             "ticks": ""
            },
            "colorscale": [
             [
              0,
              "#0d0887"
             ],
             [
              0.1111111111111111,
              "#46039f"
             ],
             [
              0.2222222222222222,
              "#7201a8"
             ],
             [
              0.3333333333333333,
              "#9c179e"
             ],
             [
              0.4444444444444444,
              "#bd3786"
             ],
             [
              0.5555555555555556,
              "#d8576b"
             ],
             [
              0.6666666666666666,
              "#ed7953"
             ],
             [
              0.7777777777777778,
              "#fb9f3a"
             ],
             [
              0.8888888888888888,
              "#fdca26"
             ],
             [
              1,
              "#f0f921"
             ]
            ],
            "type": "surface"
           }
          ],
          "table": [
           {
            "cells": {
             "fill": {
              "color": "#506784"
             },
             "line": {
              "color": "rgb(17,17,17)"
             }
            },
            "header": {
             "fill": {
              "color": "#2a3f5f"
             },
             "line": {
              "color": "rgb(17,17,17)"
             }
            },
            "type": "table"
           }
          ]
         },
         "layout": {
          "annotationdefaults": {
           "arrowcolor": "#f2f5fa",
           "arrowhead": 0,
           "arrowwidth": 1
          },
          "autotypenumbers": "strict",
          "coloraxis": {
           "colorbar": {
            "outlinewidth": 0,
            "ticks": ""
           }
          },
          "colorscale": {
           "diverging": [
            [
             0,
             "#8e0152"
            ],
            [
             0.1,
             "#c51b7d"
            ],
            [
             0.2,
             "#de77ae"
            ],
            [
             0.3,
             "#f1b6da"
            ],
            [
             0.4,
             "#fde0ef"
            ],
            [
             0.5,
             "#f7f7f7"
            ],
            [
             0.6,
             "#e6f5d0"
            ],
            [
             0.7,
             "#b8e186"
            ],
            [
             0.8,
             "#7fbc41"
            ],
            [
             0.9,
             "#4d9221"
            ],
            [
             1,
             "#276419"
            ]
           ],
           "sequential": [
            [
             0,
             "#0d0887"
            ],
            [
             0.1111111111111111,
             "#46039f"
            ],
            [
             0.2222222222222222,
             "#7201a8"
            ],
            [
             0.3333333333333333,
             "#9c179e"
            ],
            [
             0.4444444444444444,
             "#bd3786"
            ],
            [
             0.5555555555555556,
             "#d8576b"
            ],
            [
             0.6666666666666666,
             "#ed7953"
            ],
            [
             0.7777777777777778,
             "#fb9f3a"
            ],
            [
             0.8888888888888888,
             "#fdca26"
            ],
            [
             1,
             "#f0f921"
            ]
           ],
           "sequentialminus": [
            [
             0,
             "#0d0887"
            ],
            [
             0.1111111111111111,
             "#46039f"
            ],
            [
             0.2222222222222222,
             "#7201a8"
            ],
            [
             0.3333333333333333,
             "#9c179e"
            ],
            [
             0.4444444444444444,
             "#bd3786"
            ],
            [
             0.5555555555555556,
             "#d8576b"
            ],
            [
             0.6666666666666666,
             "#ed7953"
            ],
            [
             0.7777777777777778,
             "#fb9f3a"
            ],
            [
             0.8888888888888888,
             "#fdca26"
            ],
            [
             1,
             "#f0f921"
            ]
           ]
          },
          "colorway": [
           "#636efa",
           "#EF553B",
           "#00cc96",
           "#ab63fa",
           "#FFA15A",
           "#19d3f3",
           "#FF6692",
           "#B6E880",
           "#FF97FF",
           "#FECB52"
          ],
          "font": {
           "color": "#f2f5fa"
          },
          "geo": {
           "bgcolor": "rgb(17,17,17)",
           "lakecolor": "rgb(17,17,17)",
           "landcolor": "rgb(17,17,17)",
           "showlakes": true,
           "showland": true,
           "subunitcolor": "#506784"
          },
          "hoverlabel": {
           "align": "left"
          },
          "hovermode": "closest",
          "mapbox": {
           "style": "dark"
          },
          "paper_bgcolor": "rgb(17,17,17)",
          "plot_bgcolor": "rgb(17,17,17)",
          "polar": {
           "angularaxis": {
            "gridcolor": "#506784",
            "linecolor": "#506784",
            "ticks": ""
           },
           "bgcolor": "rgb(17,17,17)",
           "radialaxis": {
            "gridcolor": "#506784",
            "linecolor": "#506784",
            "ticks": ""
           }
          },
          "scene": {
           "xaxis": {
            "backgroundcolor": "rgb(17,17,17)",
            "gridcolor": "#506784",
            "gridwidth": 2,
            "linecolor": "#506784",
            "showbackground": true,
            "ticks": "",
            "zerolinecolor": "#C8D4E3"
           },
           "yaxis": {
            "backgroundcolor": "rgb(17,17,17)",
            "gridcolor": "#506784",
            "gridwidth": 2,
            "linecolor": "#506784",
            "showbackground": true,
            "ticks": "",
            "zerolinecolor": "#C8D4E3"
           },
           "zaxis": {
            "backgroundcolor": "rgb(17,17,17)",
            "gridcolor": "#506784",
            "gridwidth": 2,
            "linecolor": "#506784",
            "showbackground": true,
            "ticks": "",
            "zerolinecolor": "#C8D4E3"
           }
          },
          "shapedefaults": {
           "line": {
            "color": "#f2f5fa"
           }
          },
          "sliderdefaults": {
           "bgcolor": "#C8D4E3",
           "bordercolor": "rgb(17,17,17)",
           "borderwidth": 1,
           "tickwidth": 0
          },
          "ternary": {
           "aaxis": {
            "gridcolor": "#506784",
            "linecolor": "#506784",
            "ticks": ""
           },
           "baxis": {
            "gridcolor": "#506784",
            "linecolor": "#506784",
            "ticks": ""
           },
           "bgcolor": "rgb(17,17,17)",
           "caxis": {
            "gridcolor": "#506784",
            "linecolor": "#506784",
            "ticks": ""
           }
          },
          "title": {
           "x": 0.05
          },
          "updatemenudefaults": {
           "bgcolor": "#506784",
           "borderwidth": 0
          },
          "xaxis": {
           "automargin": true,
           "gridcolor": "#283442",
           "linecolor": "#506784",
           "ticks": "",
           "title": {
            "standoff": 15
           },
           "zerolinecolor": "#283442",
           "zerolinewidth": 2
          },
          "yaxis": {
           "automargin": true,
           "gridcolor": "#283442",
           "linecolor": "#506784",
           "ticks": "",
           "title": {
            "standoff": 15
           },
           "zerolinecolor": "#283442",
           "zerolinewidth": 2
          }
         }
        },
        "title": {
         "text": "Métricas de error por modelo de regresión"
        },
        "width": 800,
        "xaxis": {
         "title": {
          "text": "Métrica"
         }
        },
        "yaxis": {
         "title": {
          "text": "Valor"
         }
        }
       }
      }
     },
     "metadata": {},
     "output_type": "display_data"
    }
   ],
   "source": [
    "import plotly.graph_objs as go\n",
    "\n",
    "# Crear las trazas de datos para cada modelo de regresión\n",
    "traces = [\n",
    "    go.Scatter(\n",
    "        x=['MAE', 'MSE', 'RMSE', 'R2', 'RMSLE', 'MAPE'],\n",
    "        y=[mae_lin, mse_lin, rmse_lin, r2_lin, rmsle_lin, mape_lin],\n",
    "        mode='markers',\n",
    "        marker=dict(size=14, color=['#636EFA', '#EF553B', '#00CC96', '#AB63FA', '#FFA15A', '#19D3F3']),\n",
    "        name='Regresión lineal múltiple'\n",
    "    ),\n",
    "    go.Scatter(\n",
    "        x=['MAE', 'MSE', 'RMSE', 'R2', 'RMSLE', 'MAPE'],\n",
    "        y=[mae_rid, mse_rid, rmse_rid, r2_rid, rmsle_rid, mape_rid],\n",
    "        mode='markers',\n",
    "        marker=dict(size=14, color=['#17BECF', '#FF7F0E', '#2CA02C', '#D62728', '#9467BD', '#8C564B']),\n",
    "        name='Ridge Regression'\n",
    "    ),\n",
    "    go.Scatter(\n",
    "        x=['MAE', 'MSE', 'RMSE', 'R2', 'RMSLE', 'MAPE'],\n",
    "        y=[mae_las, mse_las, rmse_las, r2_las, rmsle_las, mape_las],\n",
    "        mode='markers',\n",
    "        marker=dict(size=14, color=['#990099', '#0099C6', '#DD4477', '#66AA00', '#B82E2E', '#316395']),\n",
    "        name='Lasso Regression'\n",
    "    ),]\n",
    "\n",
    "# Crear una figura con las trazas de datos\n",
    "fig = go.Figure(data=traces)\n",
    "\n",
    "# Agregar títulos y etiquetas de ejes\n",
    "fig.update_layout(\n",
    "    title=\"Métricas de error por modelo de regresión\",\n",
    "    xaxis_title=\"Métrica\",\n",
    "    yaxis_title=\"Valor\",\n",
    "    width = 800)\n",
    "\n",
    "# Mostrar el gráfico\n",
    "fig.show()\n",
    "\n"
   ]
  },
  {
   "attachments": {},
   "cell_type": "markdown",
   "metadata": {},
   "source": [
    "<p style=\"color:white; font-size:20px;\">APPLY DE MODEL</p>"
   ]
  },
  {
   "cell_type": "code",
   "execution_count": 29,
   "metadata": {},
   "outputs": [
    {
     "name": "stdout",
     "output_type": "stream",
     "text": [
      "For Linear Regression the Freedom Index Score prediction for Portugal is 72.25 and the actual value in the Heritage Economic index score is 70.8\n",
      "For Ridge Regression Freedom Index Score prediction for Portugal is 72.25 and the actual value in the Heritage Economic index score is 70.8\n",
      "For Lasso Regression the Freedom Index Score prediction for Portugal is 72.25 and the actual value in the Heritage Economic index score is 70.8\n"
     ]
    }
   ],
   "source": [
    "# leemos el dataframe con los datos de 2022\n",
    "values = pd.read_excel('index2022.xls')\n",
    "\n",
    "# creamos un input para introducir el nombrel pais\n",
    "country = input(\"Write the name of the country: \")\n",
    "\n",
    "# iteramos sobre las columna country buscando que el nombre exista\n",
    "if country in values['Country'].unique():\n",
    "    # si existe extraemos los valores de las distintas columnas\n",
    "    country_data = values[values['Country'] == country][['Property Rights', 'Judical Effectiveness',\n",
    "        'Government Integrity', 'Tax Burden', 'Business Freedom',\n",
    "        'Trade Freedom', 'Investment Freedom ', 'Financial Freedom']]\n",
    "    actual_value = values[values['Country'] == country]['2022 Score'].values[0]\n",
    "\n",
    "# usamos estos valores para crear nuestra predicción\n",
    "predictionlin = lin.predict(country_data)\n",
    "predictionrid = rid.predict(country_data)\n",
    "predictionlas = las.predict(country_data)\n",
    "\n",
    "# mostramos por consola nuestra predicción y la comparamos con el valor real\n",
    "print(\"For Linear Regression the Freedom Index Score prediction for {} is {} and the actual value in the Heritage Economic index score is {}\".format(country, round(predictionlin[0], 2), actual_value))\n",
    "print(\"For Ridge Regression Freedom Index Score prediction for {} is {} and the actual value in the Heritage Economic index score is {}\".format(country, round(predictionrid[0], 2), actual_value))\n",
    "print(\"For Lasso Regression the Freedom Index Score prediction for {} is {} and the actual value in the Heritage Economic index score is {}\".format(country, round(predictionlas[0], 2), actual_value))\n"
   ]
  },
  {
   "cell_type": "code",
   "execution_count": 31,
   "metadata": {},
   "outputs": [
    {
     "data": {
      "text/html": [
       "<div style=\"width:100%;\"><div style=\"position:relative;width:100%;height:0;padding-bottom:60%;\"><span style=\"color:#565656\">Make this Notebook Trusted to load map: File -> Trust Notebook</span><iframe srcdoc=\"&lt;!DOCTYPE html&gt;\n",
       "&lt;html&gt;\n",
       "&lt;head&gt;\n",
       "    \n",
       "    &lt;meta http-equiv=&quot;content-type&quot; content=&quot;text/html; charset=UTF-8&quot; /&gt;\n",
       "    \n",
       "        &lt;script&gt;\n",
       "            L_NO_TOUCH = false;\n",
       "            L_DISABLE_3D = false;\n",
       "        &lt;/script&gt;\n",
       "    \n",
       "    &lt;style&gt;html, body {width: 100%;height: 100%;margin: 0;padding: 0;}&lt;/style&gt;\n",
       "    &lt;style&gt;#map {position:absolute;top:0;bottom:0;right:0;left:0;}&lt;/style&gt;\n",
       "    &lt;script src=&quot;https://cdn.jsdelivr.net/npm/leaflet@1.9.3/dist/leaflet.js&quot;&gt;&lt;/script&gt;\n",
       "    &lt;script src=&quot;https://code.jquery.com/jquery-1.12.4.min.js&quot;&gt;&lt;/script&gt;\n",
       "    &lt;script src=&quot;https://cdn.jsdelivr.net/npm/bootstrap@5.2.2/dist/js/bootstrap.bundle.min.js&quot;&gt;&lt;/script&gt;\n",
       "    &lt;script src=&quot;https://cdnjs.cloudflare.com/ajax/libs/Leaflet.awesome-markers/2.0.2/leaflet.awesome-markers.js&quot;&gt;&lt;/script&gt;\n",
       "    &lt;link rel=&quot;stylesheet&quot; href=&quot;https://cdn.jsdelivr.net/npm/leaflet@1.9.3/dist/leaflet.css&quot;/&gt;\n",
       "    &lt;link rel=&quot;stylesheet&quot; href=&quot;https://cdn.jsdelivr.net/npm/bootstrap@5.2.2/dist/css/bootstrap.min.css&quot;/&gt;\n",
       "    &lt;link rel=&quot;stylesheet&quot; href=&quot;https://netdna.bootstrapcdn.com/bootstrap/3.0.0/css/bootstrap.min.css&quot;/&gt;\n",
       "    &lt;link rel=&quot;stylesheet&quot; href=&quot;https://cdn.jsdelivr.net/npm/@fortawesome/fontawesome-free@6.2.0/css/all.min.css&quot;/&gt;\n",
       "    &lt;link rel=&quot;stylesheet&quot; href=&quot;https://cdnjs.cloudflare.com/ajax/libs/Leaflet.awesome-markers/2.0.2/leaflet.awesome-markers.css&quot;/&gt;\n",
       "    &lt;link rel=&quot;stylesheet&quot; href=&quot;https://cdn.jsdelivr.net/gh/python-visualization/folium/folium/templates/leaflet.awesome.rotate.min.css&quot;/&gt;\n",
       "    \n",
       "            &lt;meta name=&quot;viewport&quot; content=&quot;width=device-width,\n",
       "                initial-scale=1.0, maximum-scale=1.0, user-scalable=no&quot; /&gt;\n",
       "            &lt;style&gt;\n",
       "                #map_ba0effca806ad772e9b194eab4d44f3b {\n",
       "                    position: relative;\n",
       "                    width: 100.0%;\n",
       "                    height: 100.0%;\n",
       "                    left: 0.0%;\n",
       "                    top: 0.0%;\n",
       "                }\n",
       "                .leaflet-container { font-size: 1rem; }\n",
       "            &lt;/style&gt;\n",
       "        \n",
       "&lt;/head&gt;\n",
       "&lt;body&gt;\n",
       "    \n",
       "    \n",
       "            &lt;div class=&quot;folium-map&quot; id=&quot;map_ba0effca806ad772e9b194eab4d44f3b&quot; &gt;&lt;/div&gt;\n",
       "        \n",
       "&lt;/body&gt;\n",
       "&lt;script&gt;\n",
       "    \n",
       "    \n",
       "            var map_ba0effca806ad772e9b194eab4d44f3b = L.map(\n",
       "                &quot;map_ba0effca806ad772e9b194eab4d44f3b&quot;,\n",
       "                {\n",
       "                    center: [39.6621648, -8.1353519],\n",
       "                    crs: L.CRS.EPSG3857,\n",
       "                    zoom: 5,\n",
       "                    zoomControl: true,\n",
       "                    preferCanvas: false,\n",
       "                }\n",
       "            );\n",
       "\n",
       "            \n",
       "\n",
       "        \n",
       "    \n",
       "            var tile_layer_ca75d4c373d66b1e2eba83f5f8036ee9 = L.tileLayer(\n",
       "                &quot;https://{s}.tile.openstreetmap.org/{z}/{x}/{y}.png&quot;,\n",
       "                {&quot;attribution&quot;: &quot;Data by \\u0026copy; \\u003ca target=\\&quot;_blank\\&quot; href=\\&quot;http://openstreetmap.org\\&quot;\\u003eOpenStreetMap\\u003c/a\\u003e, under \\u003ca target=\\&quot;_blank\\&quot; href=\\&quot;http://www.openstreetmap.org/copyright\\&quot;\\u003eODbL\\u003c/a\\u003e.&quot;, &quot;detectRetina&quot;: false, &quot;maxNativeZoom&quot;: 18, &quot;maxZoom&quot;: 18, &quot;minZoom&quot;: 0, &quot;noWrap&quot;: false, &quot;opacity&quot;: 1, &quot;subdomains&quot;: &quot;abc&quot;, &quot;tms&quot;: false}\n",
       "            ).addTo(map_ba0effca806ad772e9b194eab4d44f3b);\n",
       "        \n",
       "    \n",
       "            var marker_affe97fdf6e453c5e4bec3c243836241 = L.marker(\n",
       "                [39.6621648, -8.1353519],\n",
       "                {}\n",
       "            ).addTo(map_ba0effca806ad772e9b194eab4d44f3b);\n",
       "        \n",
       "    \n",
       "        var popup_4b182457ee0e17da249eaf7fdafc88da = L.popup({&quot;maxWidth&quot;: &quot;100%&quot;});\n",
       "\n",
       "        \n",
       "            \n",
       "                var html_c2c20d1f63698f86c25337a264770008 = $(`&lt;div id=&quot;html_c2c20d1f63698f86c25337a264770008&quot; style=&quot;width: 100.0%; height: 100.0%;&quot;&gt;Portugal&lt;/div&gt;`)[0];\n",
       "                popup_4b182457ee0e17da249eaf7fdafc88da.setContent(html_c2c20d1f63698f86c25337a264770008);\n",
       "            \n",
       "        \n",
       "\n",
       "        marker_affe97fdf6e453c5e4bec3c243836241.bindPopup(popup_4b182457ee0e17da249eaf7fdafc88da)\n",
       "        ;\n",
       "\n",
       "        \n",
       "    \n",
       "&lt;/script&gt;\n",
       "&lt;/html&gt;\" style=\"position:absolute;width:100%;height:100%;left:0;top:0;border:none !important;\" allowfullscreen webkitallowfullscreen mozallowfullscreen></iframe></div></div>"
      ],
      "text/plain": [
       "<folium.folium.Map at 0x19df2addd60>"
      ]
     },
     "execution_count": 31,
     "metadata": {},
     "output_type": "execute_result"
    }
   ],
   "source": [
    "# Obtener las coordenadas del país\n",
    "geolocator = Nominatim(user_agent=\"myapp\")\n",
    "location = geolocator.geocode(country)\n",
    "latitude = location.latitude\n",
    "longitude = location.longitude\n",
    "# Crear un mapa con la ubicación del país\n",
    "map = folium.Map(location=[latitude, longitude], zoom_start=5)\n",
    "folium.Marker(location=[latitude, longitude], popup=country).add_to(map)\n",
    "map.save(\"map1.html\")\n",
    "map\n"
   ]
  }
 ],
 "metadata": {
  "kernelspec": {
   "display_name": "venv_analytics",
   "language": "python",
   "name": "python3"
  },
  "language_info": {
   "codemirror_mode": {
    "name": "ipython",
    "version": 3
   },
   "file_extension": ".py",
   "mimetype": "text/x-python",
   "name": "python",
   "nbconvert_exporter": "python",
   "pygments_lexer": "ipython3",
   "version": "3.9.13"
  },
  "orig_nbformat": 4,
  "vscode": {
   "interpreter": {
    "hash": "c42c148c92dad5bebfdc2b48c1563fb28ec608767a5dfadb06d58c80b49c2fbf"
   }
  }
 },
 "nbformat": 4,
 "nbformat_minor": 2
}
